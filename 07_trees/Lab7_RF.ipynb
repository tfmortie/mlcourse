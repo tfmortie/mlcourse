{
  "cells": [
    {
      "cell_type": "markdown",
      "metadata": {
        "id": "rq7yRzHx5ayg"
      },
      "source": [
        "# PC Lab 7: Tree-based Methods\n",
        "---"
      ]
    },
    {
      "cell_type": "markdown",
      "metadata": {
        "id": "KzlB6TTg5ayi"
      },
      "source": [
        "Decision trees are very popular in machine learning. They contain a number of favourable properties, amongst which:\n",
        "- Interpretability,\n",
        "- Visualization,\n",
        "- Able to handle missing values and 'mixed' data (e.g. a dataset consisting of a mix of categorical and continuous features),\n",
        "- Able to deal with non-linearity,\n",
        "- No need to normalize the data,\n",
        "- Naturally extendable to a multi-class setting.\n",
        "\n",
        "When many randomized decision trees are bagged in a single model, we obtain the powerful _Random Forest_ classifier (check out [this paper](http://jmlr.org/papers/volume15/delgado14a/delgado14a.pdf), where 179 classifiers from 17 families have been evaluated on 121 datasets). The Random Forest classifier is among the most popular machine learning methods available due to its high performance on most problems, not needing much or any tuning and the possibility of providing variable importance insights. The training of a random forest model can easily be done in parallel (e.g. fitting multiple trees on separate CPUs), making it a suitable method for large-scale data applications. Furthermore, it inherits the favourable properties of decision trees listed above."
      ]
    },
    {
      "cell_type": "markdown",
      "metadata": {
        "id": "yD7UfKR_5ayj"
      },
      "source": [
        "In this PC lab, we will use the [Breast Cancer Wisconsin (Diagnostic) Data Set](https://archive.ics.uci.edu/ml/datasets/breast+cancer+wisconsin+(diagnostic)). Run the following codeblock to download the dataset."
      ]
    },
    {
      "cell_type": "code",
      "execution_count": 1,
      "metadata": {
        "id": "xi0WX2phcSp_"
      },
      "outputs": [
        {
          "name": "stdout",
          "output_type": "stream",
          "text": [
            "--2024-02-01 12:28:45--  https://raw.githubusercontent.com/tfmortie/mlmust/main/07_trees/wdbc.data\n",
            "Resolving raw.githubusercontent.com (raw.githubusercontent.com)... failed: nodename nor servname provided, or not known.\n",
            "wget: unable to resolve host address ‘raw.githubusercontent.com’\n"
          ]
        }
      ],
      "source": [
        "!wget https://raw.githubusercontent.com/tfmortie/mlmust/main/07_trees/wdbc.data"
      ]
    },
    {
      "cell_type": "markdown",
      "metadata": {
        "id": "okGFrS0j5ayj"
      },
      "source": [
        "## 1. Decision trees"
      ]
    },
    {
      "cell_type": "markdown",
      "metadata": {
        "id": "JQ27GL1m5ayj"
      },
      "source": [
        "When a decision tree is fitted to the data, the feature space is recursively splitted. Decision trees make use of a purity measure in order to choose a feature to make a split. Such a purity measure assesses the homogeneity of the labels within the leaf of a decision tree. You have seen two such measures during the theory lecture, the entropy and gini-index measures. In a $K$-class classification setting, having class labels $1, ..., K$, the purity of a set of instances $\\{(x_1,y_1), ..., (x_n,y_n)\\}$ in a leaf can be defined using the proportions $p_1, ..., p_K$ (where $I$ is defined as the identity-function):\n",
        "\n",
        "$$p_k = \\frac{\\sum_{i=1}^{n}I(y_i = k)}{n}, \\qquad k = 1, ..., K,$$\n",
        "\n",
        "$$\\text{entropy} = -\\sum_{k=1}^{K}p_k \\ln{p_k}, \\qquad \\text{gini-index} = \\sum_{k=1}^{K} p_k(1-p_k).$$\n",
        "\n",
        "These purity measures can be used to split the feature space until a certain leaf is pure. Decision trees are called a _greedy_ approach, as they will choose that feature which will result in the greatest drop for a purity measure at a certain split, not taking the effect of future splits into account.  "
      ]
    },
    {
      "cell_type": "markdown",
      "metadata": {
        "id": "kazxkIs8cSqC"
      },
      "source": [
        "To start of, let's investigate whether the decision tree can handle the XOR problem, a classic toy dataset for which a model needs to be able to handle non-linearities. For this we will use a helper function:"
      ]
    },
    {
      "cell_type": "code",
      "execution_count": 2,
      "metadata": {
        "id": "UxTr5SyjcSqC"
      },
      "outputs": [],
      "source": [
        "import matplotlib.pyplot as plt\n",
        "import pandas as pd\n",
        "import numpy as np\n",
        "\n",
        "''' Function to plot the decision boundary '''\n",
        "''' X_train: Training dataset to visualize. Needs to be a numpy array of two dimensions.\n",
        "The first two components are visualized '''\n",
        "''' clf: Fitted classifier (also to two dimensions) '''\n",
        "\n",
        "def plot_decision_boundary(X_train, y_train, clf):\n",
        "    plot_step = 0.02\n",
        "    x1_min, x1_max = X_train[:, 0].min() - 1, X_train[:, 0].max() + 1\n",
        "    x2_min, x2_max = X_train[:, 1].min() - 1, X_train[:, 1].max() + 1\n",
        "    x1, x2 = np.meshgrid(np.arange(x1_min, x1_max, plot_step),np.arange(x2_min, x2_max, plot_step))\n",
        "    Z = clf.predict(np.c_[x1.ravel(), x2.ravel()])\n",
        "    Z = Z.reshape(x1.shape)\n",
        "\n",
        "    blues = y_train == 0\n",
        "    reds = y_train == 1\n",
        "\n",
        "    fig, ax = plt.subplots()\n",
        "    ax.contourf(x1, x2, Z, cmap=plt.cm.Paired)\n",
        "    ax.scatter(X_train[reds,0],X_train[reds,1], c='red');\n",
        "    ax.scatter(X_train[blues,0],X_train[blues,1], c='blue');\n",
        "    ax.set_xlabel(r'$x_1$', size=18)\n",
        "    ax.set_ylabel(r'$x_2$', size=18)\n",
        "    plt.show()"
      ]
    },
    {
      "cell_type": "markdown",
      "metadata": {
        "id": "TO-Z2GZ3cSqE"
      },
      "source": [
        "Generate the dataset:"
      ]
    },
    {
      "cell_type": "code",
      "execution_count": 3,
      "metadata": {
        "id": "oDHvqX9FcSqF"
      },
      "outputs": [
        {
          "data": {
            "image/png": "[encoded data removed]",
            "text/plain": [
              "<Figure size 432x288 with 1 Axes>"
            ]
          },
          "metadata": {
            "needs_background": "light"
          },
          "output_type": "display_data"
        }
      ],
      "source": [
        "X_train = np.random.randn(400, 2)\n",
        "y_train = np.logical_xor(X_train[:, 0] > 0, X_train[:, 1] > 0)\n",
        "\n",
        "blues = y_train == 0\n",
        "reds = y_train == 1\n",
        "\n",
        "fig, ax = plt.subplots()\n",
        "ax.scatter(X_train[reds,0],X_train[reds,1], c='red');\n",
        "ax.scatter(X_train[blues,0],X_train[blues,1], c='blue');\n",
        "ax.set_xlabel(r'$x_1$', size=18)\n",
        "ax.set_ylabel(r'$x_2$', size=18)\n",
        "plt.show()"
      ]
    },
    {
      "cell_type": "markdown",
      "metadata": {
        "id": "2gvTacbZcSqF"
      },
      "source": [
        "We can fit decision trees using the already-familiar sklearn interface ([link to docs](https://scikit-learn.org/stable/modules/generated/sklearn.tree.DecisionTreeClassifier.html))."
      ]
    },
    {
      "cell_type": "code",
      "execution_count": 4,
      "metadata": {
        "id": "Os90Ty0scSqG"
      },
      "outputs": [
        {
          "data": {
            "image/png": "[encoded data removed]",
            "text/plain": [
              "<Figure size 432x288 with 1 Axes>"
            ]
          },
          "metadata": {
            "needs_background": "light"
          },
          "output_type": "display_data"
        }
      ],
      "source": [
        "from sklearn.tree import DecisionTreeClassifier\n",
        "\n",
        "clf = DecisionTreeClassifier()\n",
        "clf.fit(X_train, y_train)\n",
        "\n",
        "plot_decision_boundary(X_train, y_train, clf)"
      ]
    },
    {
      "cell_type": "markdown",
      "metadata": {
        "id": "-wWca3Cq5ayk"
      },
      "source": [
        "<div class=\"alert alert-success\">\n",
        "<b>WARM-UP EXERCISE:\n",
        "<br>\n",
        "Think about some other classifiers we have already discussed during this course. How will they square up against the XOR problem? What kind of decision boundary do you expect in the case of e.g. logistic regression? Try plugging some classifiers into the code above and test if the results confirm your intuition.\n",
        "</b>\n",
        "</div>"
      ]
    },
    {
      "cell_type": "markdown",
      "metadata": {
        "id": "t4w76rcncSqI"
      },
      "source": [
        "Let's apply a decision tree on a practical dataset. For this we will load the previously-mentioned wisconsin breast cancer dataset:"
      ]
    },
    {
      "cell_type": "code",
      "execution_count": 5,
      "metadata": {
        "id": "sNN9c_qkcSqI"
      },
      "outputs": [
        {
          "data": {
            "text/html": [
              "<div>\n",
              "<style scoped>\n",
              "    .dataframe tbody tr th:only-of-type {\n",
              "        vertical-align: middle;\n",
              "    }\n",
              "\n",
              "    .dataframe tbody tr th {\n",
              "        vertical-align: top;\n",
              "    }\n",
              "\n",
              "    .dataframe thead th {\n",
              "        text-align: right;\n",
              "    }\n",
              "</style>\n",
              "<table border=\"1\" class=\"dataframe\">\n",
              "  <thead>\n",
              "    <tr style=\"text-align: right;\">\n",
              "      <th></th>\n",
              "      <th>status</th>\n",
              "      <th>radius_mean</th>\n",
              "      <th>texture_mean</th>\n",
              "      <th>perimeter_mean</th>\n",
              "      <th>area_mean</th>\n",
              "      <th>smoothness_mean</th>\n",
              "      <th>compactness_mean</th>\n",
              "      <th>concavity_mean</th>\n",
              "      <th>concave points_mean</th>\n",
              "      <th>symmetry_mean</th>\n",
              "      <th>...</th>\n",
              "      <th>radius_worst</th>\n",
              "      <th>texture_worst</th>\n",
              "      <th>perimeter_worst</th>\n",
              "      <th>area_worst</th>\n",
              "      <th>smoothness_worst</th>\n",
              "      <th>compactness_worst</th>\n",
              "      <th>concavity_worst</th>\n",
              "      <th>concave points_worst</th>\n",
              "      <th>symmetry_worst</th>\n",
              "      <th>fractal_dimension_worst</th>\n",
              "    </tr>\n",
              "    <tr>\n",
              "      <th>id</th>\n",
              "      <th></th>\n",
              "      <th></th>\n",
              "      <th></th>\n",
              "      <th></th>\n",
              "      <th></th>\n",
              "      <th></th>\n",
              "      <th></th>\n",
              "      <th></th>\n",
              "      <th></th>\n",
              "      <th></th>\n",
              "      <th></th>\n",
              "      <th></th>\n",
              "      <th></th>\n",
              "      <th></th>\n",
              "      <th></th>\n",
              "      <th></th>\n",
              "      <th></th>\n",
              "      <th></th>\n",
              "      <th></th>\n",
              "      <th></th>\n",
              "      <th></th>\n",
              "    </tr>\n",
              "  </thead>\n",
              "  <tbody>\n",
              "    <tr>\n",
              "      <th>842302</th>\n",
              "      <td>M</td>\n",
              "      <td>17.99</td>\n",
              "      <td>10.38</td>\n",
              "      <td>122.80</td>\n",
              "      <td>1001.0</td>\n",
              "      <td>0.11840</td>\n",
              "      <td>0.27760</td>\n",
              "      <td>0.3001</td>\n",
              "      <td>0.14710</td>\n",
              "      <td>0.2419</td>\n",
              "      <td>...</td>\n",
              "      <td>25.38</td>\n",
              "      <td>17.33</td>\n",
              "      <td>184.60</td>\n",
              "      <td>2019.0</td>\n",
              "      <td>0.1622</td>\n",
              "      <td>0.6656</td>\n",
              "      <td>0.7119</td>\n",
              "      <td>0.2654</td>\n",
              "      <td>0.4601</td>\n",
              "      <td>0.11890</td>\n",
              "    </tr>\n",
              "    <tr>\n",
              "      <th>842517</th>\n",
              "      <td>M</td>\n",
              "      <td>20.57</td>\n",
              "      <td>17.77</td>\n",
              "      <td>132.90</td>\n",
              "      <td>1326.0</td>\n",
              "      <td>0.08474</td>\n",
              "      <td>0.07864</td>\n",
              "      <td>0.0869</td>\n",
              "      <td>0.07017</td>\n",
              "      <td>0.1812</td>\n",
              "      <td>...</td>\n",
              "      <td>24.99</td>\n",
              "      <td>23.41</td>\n",
              "      <td>158.80</td>\n",
              "      <td>1956.0</td>\n",
              "      <td>0.1238</td>\n",
              "      <td>0.1866</td>\n",
              "      <td>0.2416</td>\n",
              "      <td>0.1860</td>\n",
              "      <td>0.2750</td>\n",
              "      <td>0.08902</td>\n",
              "    </tr>\n",
              "    <tr>\n",
              "      <th>84300903</th>\n",
              "      <td>M</td>\n",
              "      <td>19.69</td>\n",
              "      <td>21.25</td>\n",
              "      <td>130.00</td>\n",
              "      <td>1203.0</td>\n",
              "      <td>0.10960</td>\n",
              "      <td>0.15990</td>\n",
              "      <td>0.1974</td>\n",
              "      <td>0.12790</td>\n",
              "      <td>0.2069</td>\n",
              "      <td>...</td>\n",
              "      <td>23.57</td>\n",
              "      <td>25.53</td>\n",
              "      <td>152.50</td>\n",
              "      <td>1709.0</td>\n",
              "      <td>0.1444</td>\n",
              "      <td>0.4245</td>\n",
              "      <td>0.4504</td>\n",
              "      <td>0.2430</td>\n",
              "      <td>0.3613</td>\n",
              "      <td>0.08758</td>\n",
              "    </tr>\n",
              "    <tr>\n",
              "      <th>84348301</th>\n",
              "      <td>M</td>\n",
              "      <td>11.42</td>\n",
              "      <td>20.38</td>\n",
              "      <td>77.58</td>\n",
              "      <td>386.1</td>\n",
              "      <td>0.14250</td>\n",
              "      <td>0.28390</td>\n",
              "      <td>0.2414</td>\n",
              "      <td>0.10520</td>\n",
              "      <td>0.2597</td>\n",
              "      <td>...</td>\n",
              "      <td>14.91</td>\n",
              "      <td>26.50</td>\n",
              "      <td>98.87</td>\n",
              "      <td>567.7</td>\n",
              "      <td>0.2098</td>\n",
              "      <td>0.8663</td>\n",
              "      <td>0.6869</td>\n",
              "      <td>0.2575</td>\n",
              "      <td>0.6638</td>\n",
              "      <td>0.17300</td>\n",
              "    </tr>\n",
              "    <tr>\n",
              "      <th>84358402</th>\n",
              "      <td>M</td>\n",
              "      <td>20.29</td>\n",
              "      <td>14.34</td>\n",
              "      <td>135.10</td>\n",
              "      <td>1297.0</td>\n",
              "      <td>0.10030</td>\n",
              "      <td>0.13280</td>\n",
              "      <td>0.1980</td>\n",
              "      <td>0.10430</td>\n",
              "      <td>0.1809</td>\n",
              "      <td>...</td>\n",
              "      <td>22.54</td>\n",
              "      <td>16.67</td>\n",
              "      <td>152.20</td>\n",
              "      <td>1575.0</td>\n",
              "      <td>0.1374</td>\n",
              "      <td>0.2050</td>\n",
              "      <td>0.4000</td>\n",
              "      <td>0.1625</td>\n",
              "      <td>0.2364</td>\n",
              "      <td>0.07678</td>\n",
              "    </tr>\n",
              "  </tbody>\n",
              "</table>\n",
              "<p>5 rows × 31 columns</p>\n",
              "</div>"
            ],
            "text/plain": [
              "         status  radius_mean  texture_mean  perimeter_mean  area_mean  \\\n",
              "id                                                                      \n",
              "842302        M        17.99         10.38          122.80     1001.0   \n",
              "842517        M        20.57         17.77          132.90     1326.0   \n",
              "84300903      M        19.69         21.25          130.00     1203.0   \n",
              "84348301      M        11.42         20.38           77.58      386.1   \n",
              "84358402      M        20.29         14.34          135.10     1297.0   \n",
              "\n",
              "          smoothness_mean  compactness_mean  concavity_mean  \\\n",
              "id                                                            \n",
              "842302            0.11840           0.27760          0.3001   \n",
              "842517            0.08474           0.07864          0.0869   \n",
              "84300903          0.10960           0.15990          0.1974   \n",
              "84348301          0.14250           0.28390          0.2414   \n",
              "84358402          0.10030           0.13280          0.1980   \n",
              "\n",
              "          concave points_mean  symmetry_mean  ...  radius_worst  \\\n",
              "id                                            ...                 \n",
              "842302                0.14710         0.2419  ...         25.38   \n",
              "842517                0.07017         0.1812  ...         24.99   \n",
              "84300903              0.12790         0.2069  ...         23.57   \n",
              "84348301              0.10520         0.2597  ...         14.91   \n",
              "84358402              0.10430         0.1809  ...         22.54   \n",
              "\n",
              "          texture_worst  perimeter_worst  area_worst  smoothness_worst  \\\n",
              "id                                                                       \n",
              "842302            17.33           184.60      2019.0            0.1622   \n",
              "842517            23.41           158.80      1956.0            0.1238   \n",
              "84300903          25.53           152.50      1709.0            0.1444   \n",
              "84348301          26.50            98.87       567.7            0.2098   \n",
              "84358402          16.67           152.20      1575.0            0.1374   \n",
              "\n",
              "          compactness_worst  concavity_worst  concave points_worst  \\\n",
              "id                                                                   \n",
              "842302               0.6656           0.7119                0.2654   \n",
              "842517               0.1866           0.2416                0.1860   \n",
              "84300903             0.4245           0.4504                0.2430   \n",
              "84348301             0.8663           0.6869                0.2575   \n",
              "84358402             0.2050           0.4000                0.1625   \n",
              "\n",
              "          symmetry_worst  fractal_dimension_worst  \n",
              "id                                                 \n",
              "842302            0.4601                  0.11890  \n",
              "842517            0.2750                  0.08902  \n",
              "84300903          0.3613                  0.08758  \n",
              "84348301          0.6638                  0.17300  \n",
              "84358402          0.2364                  0.07678  \n",
              "\n",
              "[5 rows x 31 columns]"
            ]
          },
          "metadata": {},
          "output_type": "display_data"
        },
        {
          "name": "stdout",
          "output_type": "stream",
          "text": [
            "Number of benign cases: 357\n",
            "Total number of cases: 569\n"
          ]
        }
      ],
      "source": [
        "data = pd.read_csv(\n",
        "    './wdbc.data',\n",
        "    index_col=0)\n",
        "status = data['status']\n",
        "display(data.head(5))\n",
        "print('Number of benign cases: ' + str(data[data.loc[:,'status']=='B'].shape[0]))\n",
        "print('Total number of cases: ' + str(data.shape[0]))"
      ]
    },
    {
      "cell_type": "markdown",
      "metadata": {
        "id": "ZoGWtyMO5ayn"
      },
      "source": [
        "<div class=\"alert alert-success\">\n",
        "\n",
        "<b>EXERCISE 1.1</b>: **Fit a decision tree classifier that predicts whether a tumor is malign or bening. Evaluate the classifier on both the training and test set. Investigate the [Scikit-learn documentation](https://scikit-learn.org/stable/modules/generated/sklearn.tree.DecisionTreeClassifier.html) in order to tune your model appropriately.**\n",
        "</div>"
      ]
    },
    {
      "cell_type": "code",
      "execution_count": null,
      "metadata": {
        "id": "dd35PdficSqJ"
      },
      "outputs": [],
      "source": []
    },
    {
      "cell_type": "markdown",
      "metadata": {
        "id": "5UKCaYOD5ayp"
      },
      "source": [
        "## 2. Random Forests"
      ]
    },
    {
      "cell_type": "markdown",
      "metadata": {
        "id": "Xrs8n_Yu5ayp"
      },
      "source": [
        "Random Forests are a very popular method used in various fields, ranging from bioinformatics to data competitions (have a look at [this introduction](http://onlinelibrary.wiley.com/doi/10.1002/widm.1072/abstract)  for computational biologists and bioinformaticians). This is because they are known for their high performance, yet they are easy to implement. Random Forests make use of two kinds of randomization:\n",
        "- The method aggregates the result of individual unpruned trees, grown on bootstrap (sub)samples of the dataset; this is called _bagging_ (**b**ootstrap **agg**regat**ing**).\n",
        "- Whenever a decision tree makes a split, only a random subset of the present features are offered to the decision tree.\n",
        "\n",
        "Random Forests are part of a larger class of models which are called _ensemble models_. The power of ensemble methods can be attributed to some kind of [\"wisdom of the crowd\"](https://en.wikipedia.org/wiki/Wisdom_of_the_crowd) phenomenon: averaging the results of many \"simple\" models is often better than relying on one \"advanced\" model, just as the collective judgement of a large group of \"average\" persons may be more reliable than that from one \"expert\". For random forests, the two kinds of randomization (+ optionally other kinds of regularization) aid in making the individual trees \"simple\".\n",
        "\n",
        "After model fitting, for classification, a majority vote of all trees is taken to make a prediction for a new sample. For regression problems, the average prediction across trees is calculated.\n",
        "\n",
        "The [Scikit-learn implementation](https://scikit-learn.org/stable/modules/generated/sklearn.ensemble.RandomForestClassifier.html) of Random Rorests works similarly to that of decision trees, albeit with some differences in terms of the hyperparameters. The two most important hyperparameters are the number of trees that is grown and the number of subsetted features that is offered when making a split. **Important: the default values of these parameters usually lead to a good performance, however, model selection is of course recommended.**"
      ]
    },
    {
      "cell_type": "markdown",
      "metadata": {
        "id": "Qm4dVVkC5ayq"
      },
      "source": [
        "<div class=\"alert alert-success\">\n",
        "\n",
        "<b>EXERCISE 2.1</b>: **Repeat the previous exercise, however, this time by using the [RandomForestClassifier](https://scikit-learn.org/stable/modules/generated/sklearn.ensemble.RandomForestClassifier.html) class in Scikit-learn. Use the same data split as in the previous exercise and compare your results. Investigate what features are important for the downtask at hand (hint: have a look at the attributes of the class in the provided documentation).** \n",
        "</div>"
      ]
    },
    {
      "cell_type": "code",
      "execution_count": null,
      "metadata": {
        "id": "JEe9fSIScWev"
      },
      "outputs": [],
      "source": []
    },
    {
      "cell_type": "markdown",
      "metadata": {
        "id": "_LuG4CbWcSqK"
      },
      "source": [
        "## 3. OPTIONAL: XGBoost\n",
        "\n",
        "Boosting is a subclass of ensembling in which (similarly) many simpler models team up to create a performant model. The difference is that in boosting, subsequent trees try to correct the mistakes of the previous one(s). The most famous example, XGBoost or eXtreme Gradient Boosting is a decision-tree-based algorithm that uses a gradient boosting framework. The algorithm was developed by Tianqi Chen and Carlos Guestrin and more details can be found [here](https://arxiv.org/pdf/1603.02754.pdf). The technique has managed to win numerous kaggle competitions and is currently tied to an active open source [project](https://github.com/dmlc/xgboost/).\n",
        "\n",
        "**Informally, performant boosting implementations such as XGBoost, [CatBoost](https://catboost.ai/) and [LightGBM](https://lightgbm.readthedocs.io/en/v3.3.2/), have been crowned as kings of machine learning on tabular, structured datasets. In contrast, for unstructured data such as language, vision or audio, neural networks – which will be the topic of the last two practicals -- have been informally crowned as kings of \"perceptual\".**\n",
        "\n",
        "Some of the main characteristics that make XGboost an appealing choice include:\n",
        "- Can be used to solve different type of prediction problems (regression, classification, ranking)\n",
        "- Runs on every popular OS (Windows, Linux, and OS X)\n",
        "- Supports all major programming languages (C++, Python, R, Java, Scala, and Julia)\n",
        "\n",
        "\n",
        "The library we are going to use is quite flexible as it supports the following cases:\n",
        "\n",
        "- Trees are constructed in parallel using all of available CPU cores during training.\n",
        "- Very large models can use a cluster of machines in a distributed fashion.\n",
        "- Very large datasets that don’t fit into memory are handled with out-of-Core Computing.\n",
        "\n",
        "There is no additional exercise linked to XGBoost. It suffices to say that the XGBoost Python package can be installed with the cell below and that the package uses a similar API as in Scikit-learn: `.fit()`, `.predict()`, ... More information about the packages can be found here: [XGBRegressor](https://xgboost.readthedocs.io/en/stable/python/python_api.html#xgboost.XGBRegressor) and [XGBClassifier](https://xgboost.readthedocs.io/en/stable/python/python_api.html#xgboost.XGBClassifier). We invite you to play around with the model by plugging XGBoost in the above exercise."
      ]
    },
    {
      "cell_type": "code",
      "execution_count": 6,
      "metadata": {
        "id": "uzVZ85QocSqL"
      },
      "outputs": [
        {
          "name": "stdout",
          "output_type": "stream",
          "text": [
            "Requirement already satisfied: xgboost in /Users/thomasmortier/anaconda3/envs/predmod/lib/python3.9/site-packages (2.0.3)\n",
            "Requirement already satisfied: scipy in /Users/thomasmortier/anaconda3/envs/predmod/lib/python3.9/site-packages (from xgboost) (1.11.4)\n",
            "Requirement already satisfied: numpy in /Users/thomasmortier/anaconda3/envs/predmod/lib/python3.9/site-packages (from xgboost) (1.26.3)\n"
          ]
        }
      ],
      "source": [
        "!pip install xgboost"
      ]
    }
  ],
  "metadata": {
    "colab": {
      "provenance": []
    },
    "kernelspec": {
      "display_name": "predmod",
      "language": "python",
      "name": "python3"
    },
    "language_info": {
      "codemirror_mode": {
        "name": "ipython",
        "version": 3
      },
      "file_extension": ".py",
      "mimetype": "text/x-python",
      "name": "python",
      "nbconvert_exporter": "python",
      "pygments_lexer": "ipython3",
      "version": "3.9.1"
    }
  },
  "nbformat": 4,
  "nbformat_minor": 0
}
