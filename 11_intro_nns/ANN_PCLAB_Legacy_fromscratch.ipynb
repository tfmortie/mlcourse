{
 "cells": [
  {
   "cell_type": "markdown",
   "metadata": {},
   "source": [
    "# PC lab 10: Artificial Neural Networks\n",
    "---"
   ]
  },
  {
   "cell_type": "markdown",
   "metadata": {},
   "source": [
    "<img src=\"img/neural_nets_art.jpg\">"
   ]
  },
  {
   "cell_type": "markdown",
   "metadata": {},
   "source": [
    "## Introduction"
   ]
  },
  {
   "cell_type": "markdown",
   "metadata": {},
   "source": [
    "Although artificial neural networks enjoy a lot of progress today, they were first described by [Warren McCulloch and Walter Pitts](https://link.springer.com/article/10.1007%2FBF02478259) in 1943. Early progress in training competitive neural networks was stalled by a multitude of reasons, such as the limited computer resources, sub-optimal network architectures and the use of smaller datasets. In this PC-lab we will implement a custom neural network on a step-by-step basis, allowing an in-depth comprehension of the essential elements of deep learning\n"
   ]
  },
  {
   "cell_type": "markdown",
   "metadata": {},
   "source": [
    "### Artificial Neuron"
   ]
  },
  {
   "cell_type": "markdown",
   "metadata": {},
   "source": [
    "The core unit of every (artificial) neural network is considered the neuron. The neuron can be observed as a switch. It receives **one or more inputs** $\\mathbf{x}$, processes a **weighted sum** $z$ (adding **bias** $b$) that is sent through the **sigmoid activation function $\\sigma()$**, outputing a **single response**  $a$:\n",
    "\n",
    "$$ \n",
    "z = \\sum\\limits_{i=1}^{n}(w_ix_i) + b = \\sum\\limits_{i=0}^{n}(w_ix_i)$$ with $$ x_0 = 1 \\tag{1}\\\\\n",
    "$$\n",
    "\n",
    "$$ a = \\sigma(z) $$"
   ]
  },
  {
   "cell_type": "markdown",
   "metadata": {},
   "source": [
    "<img src=\"img/neuron_bishop.jpg\" style=\"width:40%\">"
   ]
  },
  {
   "cell_type": "markdown",
   "metadata": {},
   "source": [
    "The default recommended activation function is the **Rectified Linear Unit**, or **ReLU**. \n",
    "\n",
    "$$ ReLU(z) = max\\{0,z\\} $$\n",
    "\n",
    "<img src=\"img/relu.png\" style=\"width:30%\">\n",
    "\n",
    "The ReLU function has many properties that make optimization easy using gradient-based methods. It can be seen as a switch giving no response for $z < 0$ and giving a response $z$ for $z > 0$.\n",
    "\n"
   ]
  },
  {
   "cell_type": "markdown",
   "metadata": {},
   "source": [
    "### Artificial Neural Networks"
   ]
  },
  {
   "cell_type": "markdown",
   "metadata": {},
   "source": [
    "The most basic artificial neural network is the **feedforward neural network**. There are no feedback connections such as can be found in **recurrent neural networks**. A feedforward neural network is called a network as it is composed out of many inheriting functions making up the model, e.g. $f(\\textbf{x})= f^{(3)}(f^{(2)}(f^{(1)}(\\textbf{x})))$. Neural networks typically are constructed in different layers of neurons in which every neuron is connected with all the neurons of the previous layer, eventually resulting in a set of **output neurons** $\\mathbf{\\hat{\\textbf{y}}}$."
   ]
  },
  {
   "cell_type": "markdown",
   "metadata": {},
   "source": [
    "<img src=\"img/nn_bishop_adapted.png\" style=\"width:70%\">\n"
   ]
  },
  {
   "cell_type": "markdown",
   "metadata": {},
   "source": [
    "To train the network, samples are processed in batches. This allows for faster training and improved convergence of the loss during gradient descent. Advantages of stochastic gradient descent or other optimization algorithms for loss calculation are not discussed in this PC-lab, but have been [extensively discussed](https://ruder.io/optimizing-gradient-descent/) before.\n",
    "Practically, the first fully-connected layer of the network using batch size $B$ is computed by matrix combination of the input $X \\in \\mathbb{R}^{B, D}$ with a set of weights $W^{(12)} \\in \\mathbb{R}^{D, M}$.\n",
    "\n",
    "\\begin{equation}\n",
    "XW^{(12)} =\n",
    "\\begin{bmatrix}\n",
    "1 & x_{0,1} & ...  & x_{0,D-1} & x_{0,D} \\\\\n",
    "1 & x_{1,1} & ... & x_{1,D-1} & x_{1,D} \\\\\n",
    "... & ... & ... & ... & ...\\\\\n",
    "1 & x_{B-1,1} & ... & x_{B-1,D-1} & x_{B-1,D} \\\\\n",
    "1 & x_{B,1} & ...  & x_{B,D-1} & x_{B,D} \\\\\n",
    "\\end{bmatrix}\n",
    "\\begin{bmatrix}\n",
    "W_{0,0} & W_{0,1} & ...  & W_{0,M-1} & W_{0,M} \\\\\n",
    "W_{1,0} & W_{1,1} & ... & W_{1,M-1} & W_{1,M} \\\\\n",
    "... & ... & ... & ... & ...\\\\\n",
    "W_{D-1,0} & W_{D-1,1} & ... & W_{D-1,M-1} & W_{D-1,M} \\\\\n",
    "W_{D,0} & W_{D,1} & ...  & W_{D,M-1} & W_{D,M} \\\\\n",
    "\\end{bmatrix}\n",
    "\\end{equation}"
   ]
  },
  {
   "cell_type": "markdown",
   "metadata": {},
   "source": [
    "<div class=\"alert alert-warning\">\n",
    "    <h2>Structure of the exercise</h2>\n",
    "    <p>The idea of this PC-Lab will be to construct our very own neural network from scratch. Every exercize will introduce a new feature necessary to train a working model.</p>\n",
    "    <p>We define the class <code>Neural_Network</code> for which the structural architecture is given at initialization. Let's start by creating a neural network with one hidden layer. To include the bias term, we add a scalar to the weights vector for every layer.</p> \n",
    "    \n",
    "<code>\n",
    "    class Neural_Network(object):\n",
    "    def __init__(self, input_nodes, output_nodes, hlayer_nodes):\n",
    "        self.input_nodes = input_nodes\n",
    "        self.output_nodes = output_nodes\n",
    "        self.hlayer_nodes = hlayer_nodes\n",
    "        # initialize weights + bias in the first layer\n",
    "        self.W_12 = np.random.randn(self.input_nodes+1, self.hlayer_nodes)) \n",
    "        # initialize weights + bias in the second layer\n",
    "        self.W_23 = append(np.random.randn(self.hlayer_nodes+1, self.output_nodes))\n",
    "</code>\n",
    "\n",
    "\n",
    "\n",
    "</div>"
   ]
  },
  {
   "cell_type": "markdown",
   "metadata": {},
   "source": [
    "<div class=\"alert alert-success\">\n",
    "\n",
    "<h3>EXERCISE</h3> <p><b>Complete</b> the attribute function <code>Neural_Net.forward()</code> and <code>Neural_Net.relu()</code></p>\n",
    "</div>"
   ]
  },
  {
   "cell_type": "markdown",
   "metadata": {},
   "source": [
    "|Code Symbol | Math Symbol | Definition | Dimensions\n",
    "| :-: | :-: | :-: | :-: |\n",
    "|X|$$X$$|Input Data| (batch_size, input_nodes) |\n",
    "|y|$$y$$|label| (batch_size, output_nodes) |\n",
    "|y_hat| $$\\hat{y}$$| Output Data | (batch_size, output_nodes) |\n",
    "|W_12 | $$W^{(12)}$$ | Layer 1 weights | (input_nodes + 1, hlayer_nodes) |\n",
    "|W_23 | $$W^{(23)}$$ | Layer 2 weights | (hlayer_nodes + 1, output_nodes) |\n",
    "|a_1 | $$a^{(1)}$$ | Layer 1 activity (inputs) | (batch_size, input_nodes + 1) |\n",
    "|z_2 | $$z^{(2)}$$ | Layer 2 linear combination | (batch_size, hlayer_nodes) |\n",
    "|a_2 | $$a^{(2)}$$ | Layer 2 activity | (batch_size, hlayer_nodes + 1) |\n",
    "| y_hat | $\\hat{y}$ | Layer 3 linear combination | (batch_size, output_nodes) |"
   ]
  },
  {
   "cell_type": "markdown",
   "metadata": {},
   "source": [
    "$$\n",
    "\\textbf{z}^{(2)} = \\textbf{a}^{(1)}\\textbf{W}^{(12)}  \\tag{2}\\\\\n",
    "$$\n",
    "$$\n",
    "\\textbf{a}^{(2)} = ReLU(\\textbf{z}^{(2)}) \\tag{3}\\\\\n",
    "$$\n",
    "$$\n",
    "\\hat{\\textbf{y}} = \\textbf{a}^{(2)}\\textbf{W}^{(23)} \\tag{4}\\\\\n",
    "$$\n"
   ]
  },
  {
   "cell_type": "code",
   "execution_count": 93,
   "metadata": {},
   "outputs": [],
   "source": [
    "import numpy as np"
   ]
  },
  {
   "cell_type": "code",
   "execution_count": 94,
   "metadata": {},
   "outputs": [],
   "source": [
    "class Neural_Network(object):\n",
    "    def __init__(self, input_nodes, output_nodes, hlayer_nodes):\n",
    "        self.input_nodes = input_nodes\n",
    "        self.output_nodes = output_nodes\n",
    "        self.hlayer_nodes = hlayer_nodes\n",
    "        \n",
    "        # initialize weights + bias in the first layer\n",
    "        self.W_12 = np.random.randn(self.input_nodes+1, self.hlayer_nodes)\n",
    "        # initialize weights + bias in the second layer\n",
    "        self.W_23 = np.random.randn(self.hlayer_nodes+1, self.output_nodes)\n",
    "\n",
    "    def forward(self, X):\n",
    "        # add bias to input samples\n",
    "        self.a_1 = np.hstack((np.ones((len(X),1)), X))\n",
    "        \n",
    "        self.z_2 = \"\"\"...\"\"\"\n",
    "        self.a_2 = \"\"\"...\"\"\"\n",
    "        self.y_hat = \"\"\"...\"\"\"\n",
    "        \n",
    "        \n",
    "        return np.clip(self.y_hat, -10e6, 10e6)\n",
    "    \n",
    "    def relu(self, z):\n",
    "        \"\"\"...\"\"\"\n"
   ]
  },
  {
   "cell_type": "code",
   "execution_count": 112,
   "metadata": {},
   "outputs": [
    {
     "data": {
      "text/plain": [
       "array([[2.10183529],\n",
       "       [2.37793415]])"
      ]
     },
     "execution_count": 112,
     "metadata": {},
     "output_type": "execute_result"
    }
   ],
   "source": [
    "np.random.seed(1)\n",
    "# Initialize neural network with 1 input, 1 output and 2 nodes in hidden layer\n",
    "NN = Neural_Network(1,1,3)\n",
    "# Input two samples, each with one input\n",
    "NN.forward([[2],[3]])"
   ]
  },
  {
   "cell_type": "markdown",
   "metadata": {},
   "source": [
    "## Backpropagation"
   ]
  },
  {
   "cell_type": "markdown",
   "metadata": {},
   "source": [
    "Let's construct a dataset that follows the function $\\mathbf{y = sin(x)}$. To train the neural network we have to evaluate how the prediction $\\hat{y}$ compares to the true label $y$. This is done through the loss function $L$. The formula used for L is dependent upon the problem we are trying to solve. In line with previous methods fitting a **regression** problem, we consider the **MSE** :\n",
    "\n",
    "$$\n",
    "L = \\frac{1}{n}\\sum_{i=1}^{n}{(y_i-\\hat{y_i})^2}\\tag{6}\n",
    "$$ "
   ]
  },
  {
   "cell_type": "code",
   "execution_count": 113,
   "metadata": {},
   "outputs": [
    {
     "data": {
      "text/plain": [
       "<matplotlib.collections.PathCollection at 0x7efbbde50860>"
      ]
     },
     "execution_count": 113,
     "metadata": {},
     "output_type": "execute_result"
    },
    {
     "data": {
      "image/png": "[encoded data removed]",
      "text/plain": [
       "<Figure size 1080x288 with 3 Axes>"
      ]
     },
     "metadata": {
      "needs_background": "light"
     },
     "output_type": "display_data"
    }
   ],
   "source": [
    "import matplotlib.pyplot as plt\n",
    "%matplotlib inline\n",
    "\n",
    "def squared_error(y, y_hat):\n",
    "    return (y-y_hat)**2\n",
    "\n",
    "X = np.random.uniform(-3, 3, size=(1000,1)) # sample random points for x=[0, pi]\n",
    "y = -26*X + 145*X**2 + 28*X**3 - 26*X**4 - 2*X**5 + X**6 - 80\n",
    "#y = np.sum(np.sin(X),axis=1).reshape(-1,1) # sinus transform\n",
    "NN = Neural_Network(1,1,40)\n",
    "y_hat = NN.forward(X) # predict values\n",
    "loss = squared_error(y, y_hat)\n",
    "\n",
    "fig, (ax_1, ax_2, ax_3) = plt.subplots(1,3, figsize=(15,4))\n",
    "ax_1.set_title(\"sample data\")\n",
    "ax_1.scatter(X, y)\n",
    "ax_2.set_title(\"predictions on sample data\")\n",
    "ax_2.scatter(X, y_hat)\n",
    "ax_3.set_title(\"loss function at each sample\")\n",
    "ax_3.scatter(X, loss)"
   ]
  },
  {
   "cell_type": "markdown",
   "metadata": {},
   "source": [
    "To train our model, we must find a set of weights that minimizes the overall loss function. An exhaustive method would be to try all possible combinations of weights, a solution that blows up with increasing dimensionality. In order to reduce processing times to obtain the optimal set of weights, we evaluate the influence of each weight on the loss function. If we consider the different equations to obtain our loss: "
   ]
  },
  {
   "cell_type": "markdown",
   "metadata": {},
   "source": [
    "$$\n",
    "\\textbf{z}^{(2)} = \\textbf{a}^{(1)}\\textbf{W}^{(12)} \\tag{2}\\\\\n",
    "$$\n",
    "$$\n",
    "\\textbf{a}^{(2)} = ReLU(\\textbf{z}^{(2)}) \\tag{3}\\\\\n",
    "$$\n",
    "$$\n",
    "\\hat{\\textbf{y}} = \\textbf{a}^{(2)}\\textbf{W}^{(23)} \\tag{4}\\\\\n",
    "$$\n",
    "$$\n",
    "L = \\frac{1}{n} \\sum_{i=0}^{n}{(y_{i}-\\hat{y_{i}})^2} \\tag{6}\\\\\n",
    "$$"
   ]
  },
  {
   "cell_type": "markdown",
   "metadata": {},
   "source": [
    "To evaluate the influence of $W^{(23)}$ on the loss $L$, we can find the **partial derivative** of the loss in function of $W^{(23)}$. Using the **chain rule**, this can be calculated using a step-by-step approach.\n",
    "$$ \\frac{\\delta L}{\\delta W^{(23)}} = \\frac{\\delta \\textbf{L}}{\\delta \\hat{\\textbf{y}}} \\cdot \\frac{\\delta \\hat{\\textbf{y}}}{\\delta \\textbf{W}^{(23)}} = \\delta_{1} \\cdot \\frac{\\delta \\hat{\\textbf{y}}}{\\delta \\textbf{W}^{(23)}}  \\tag{7}$$\n",
    "\n",
    "\n"
   ]
  },
  {
   "cell_type": "markdown",
   "metadata": {},
   "source": [
    "Backpropagation is the step-by-step evaluation of the partial derivatives of the loss in function of the network weights, performed by backward iteration over the different transformations performed by the network. The values obtained when iterating down from the loss function are recyclable when calculating the derivative of weights further down in the chain rule, making **a substantial difference** in the amount of processing power needed to obtain all derivatives. The use of backpropagation is a major element in making training of deep neural networks possible. For example, to obtain the derivatives of the weights in the first layer ($\\textbf{W}^{(12)}$) we apply:\n",
    "\n",
    "$$ \\frac{\\delta L}{\\delta W^{(12)}} = \\delta_{1} \\cdot \\frac{\\delta \\hat{\\textbf{y}}}{\\delta \\textbf{a}^{(2)}} \\cdot \\frac{\\delta \\textbf{a}^{(2)}}{\\delta \\textbf{z}^{(2)}} \\cdot \\frac{\\delta \\textbf{z}^{(2)}}{\\delta \\textbf{W}^{(12)}} = \\delta_{2} \\cdot \\frac{\\delta \\textbf{z}^{(2)}}{\\delta \\textbf{W}^{(12)}} \\tag{8} $$\n",
    "\n",
    "\n",
    "$\\delta_{1}$ and $\\delta_{2}$ are solely introduced as variables to which the intermediate values can be assigned. Using these variables when implementing backpropagation into the neural network will make things easier. \n"
   ]
  },
  {
   "cell_type": "markdown",
   "metadata": {},
   "source": [
    "<div class=\"alert alert-success\">\n",
    "\n",
    "<b>EXERCISE:</b> \n",
    "<p><b>Write out</b> the following partial derivatives as found in the chain rule.</p>\n",
    "\n",
    "$$\\frac{\\delta L}{\\delta \\hat{y}}$$\n",
    "<hr>\n",
    "$$\\frac{\\delta \\hat{y}}{\\delta W^{(23)}}$$\n",
    "<hr>\n",
    "$$\\frac{\\delta \\hat{y}}{\\delta a^{(2)}}$$\n",
    "<hr>\n",
    "$$\\frac{\\delta a^{(2)}}{\\delta z^{(2)}}$$\n",
    "<hr>\n",
    "$$\\frac{\\delta z^{(2)}}{\\delta W^{(12)}}$$\n",
    "\n",
    "</div>"
   ]
  },
  {
   "cell_type": "markdown",
   "metadata": {},
   "source": [
    "<hr>\n",
    "<div class=\"alert alert-success\">\n",
    "\n",
    "<h3>EXERCISE</h3>\n",
    "<p><b>Complete</b> the attribute functions <code>NN.backpropagate()</code> and <code>NN.relu_prime()</code>, and the function <code>loss_prime</code>. Use the partial derivatives of the previous exercise to get an overview of the sequential steps executed in backpropagation.</p>\n",
    "</div>\n",
    "</div>"
   ]
  },
  {
   "cell_type": "code",
   "execution_count": 105,
   "metadata": {},
   "outputs": [],
   "source": [
    "# Replace with solution of NN here\n",
    "\n",
    "class Neural_Network(object):\n",
    "    def __init__(self, input_nodes, output_nodes, hlayer_nodes):\n",
    "        self.input_nodes = input_nodes\n",
    "        self.output_nodes = output_nodes\n",
    "        self.hlayer_nodes = hlayer_nodes\n",
    "        \n",
    "        # initialize weights + bias in the first layer\n",
    "        self.W_12 = np.random.randn(self.input_nodes+1, self.hlayer_nodes)\n",
    "        # initialize weights + bias in the second layer\n",
    "        self.W_23 = np.random.randn(self.hlayer_nodes+1, self.output_nodes)\n",
    "\n",
    "    def forward(self, X):\n",
    "        # add bias to input samples\n",
    "        self.a_1 = np.hstack((np.ones((len(X),1)), X))\n",
    "        \n",
    "        \"\"\"...\"\"\"\n",
    "        \n",
    "        return np.clip(self.y_hat, -10e6, 10e6)\n",
    "    \n",
    "    def relu(self, z):\n",
    "        \n",
    "        \"\"\"...\"\"\"\n",
    "\n",
    "    def relu_prime(self, z):\n",
    "\n",
    "        \"\"\"...\"\"\"\n",
    "\n",
    "    def backpropagate(self, X, y, get_loss_prime):\n",
    "        self.y_hat = \"\"\"...\"\"\"\n",
    "        \n",
    "        self.delta_1 = \"\"\"...\"\"\"\n",
    "        self.dLdW_23 = \"\"\"...\"\"\"\n",
    "        self.dLda_2 = \"\"\"...\"\"\"\n",
    "        self.delta_2 = \"\"\"...\"\"\"\n",
    "        self.dLdW_12 = \"\"\"...\"\"\"\n",
    "\n",
    "        # join two flattened arrays in one vector\n",
    "        return np.concatenate((self.dLdW_12.ravel(), self.dLdW_23.ravel())) \n",
    "    "
   ]
  },
  {
   "cell_type": "code",
   "execution_count": 104,
   "metadata": {
    "scrolled": true
   },
   "outputs": [
    {
     "name": "stdout",
     "output_type": "stream",
     "text": [
      "> <ipython-input-101-460f4000b56d>(36)backpropagate()\n",
      "-> self.y_hat = self.forward(X)\n",
      "(Pdb) c\n"
     ]
    },
    {
     "data": {
      "text/plain": [
       "array([  387.7926547 , -1248.30602047, -1414.45232628,  3539.78947657,\n",
       "         448.10403971,  1591.13799986,  1318.43267606])"
      ]
     },
     "execution_count": 104,
     "metadata": {},
     "output_type": "execute_result"
    }
   ],
   "source": [
    "def get_loss_prime(y_hat, y): \n",
    "    \"\"\"...\"\"\" # Cost function over all batches, divided by # batches\n",
    "\n",
    "np.random.seed(1)\n",
    "NN = Neural_Network(1,1,2)\n",
    "NN.backpropagate(X[:2], y[:2], get_loss_prime)"
   ]
  },
  {
   "cell_type": "markdown",
   "metadata": {},
   "source": [
    "<div class=\"alert alert-success\">\n",
    "\n",
    "<b>EXERCISE:</b> \n",
    "<p><b>Evaluate</b> the values and shapes of <i>dLdW_12</i> and <i>dLdW_23</i> separately, and compare the size of vectors. Can you differentiate the updates for weights from the updates for the biases? Can you predict the shapes of these values after changing the amount of nodes of the different layers within the neural network? Don't forget to run <code>NN.backpropagation()</code> with updated arguments when changing the hyperparameters of the network!</p>\n",
    "</div>\n"
   ]
  },
  {
   "cell_type": "code",
   "execution_count": 111,
   "metadata": {},
   "outputs": [
    {
     "name": "stdout",
     "output_type": "stream",
     "text": [
      "dCdW_12:\n",
      " [[0. 0.]\n",
      " [0. 0.]]\n",
      "dCdW_23:\n",
      " [[-3.55219522]\n",
      " [ 0.        ]\n",
      " [ 0.        ]]\n"
     ]
    }
   ],
   "source": [
    "NN = Neural_Network(1,1,2)\n",
    "NN.backpropagate([[1],[2]], [[np.sin(1)],[np.sin(2)]], get_loss_prime)\n",
    "print(\"dLdW_12:\\n {}\".format(NN.dLdW_12))\n",
    "print(\"dLdW_23:\\n {}\".format(NN.dLdW_23))\n"
   ]
  },
  {
   "cell_type": "markdown",
   "metadata": {
    "collapsed": true
   },
   "source": [
    "## Gradient Descent"
   ]
  },
  {
   "cell_type": "markdown",
   "metadata": {},
   "source": [
    "Our simple neural network is close to completion now. One more important element is the ability to train this network. To adjust the weights based on the partial derivatives we need to apply the obtained gradient to perform an update to the actual weights. As we are dealing with a **non-convex** and **non-linear optimization problem**, updates are performed using the well-known **gradient descent** algorithm. Small variations on the gradient descent method have shown to drastically increase the speed at which deep neural networks can be trained (i.e. [momentum, adam, ...](http://ruder.io/optimizing-gradient-descent/index.html))."
   ]
  },
  {
   "cell_type": "markdown",
   "metadata": {},
   "source": [
    "### A brief recap: Gradient Descent\n",
    "\n",
    "\n",
    "\n",
    "$$W_{t+1} = W_{t} - \\eta \\nabla L(\\theta)$$\n",
    "\n",
    "\n",
    "where\n",
    "\n",
    "$\\eta$: learning rate (default: 1e-4)\n",
    "\n"
   ]
  },
  {
   "cell_type": "markdown",
   "metadata": {},
   "source": [
    ">**input** starting point $\\textbf{x}\\in$ **dom** $f$.\n",
    ">\n",
    ">**repeat** \n",
    ">\n",
    ">>    1. $\\Delta \\textbf{x} := -\\nabla f(\\textbf{x})$.\n",
    ">>    3. *Update*. $\\textbf{x}:=\\textbf{x}+\\eta\\Delta \\textbf{x}$.\n",
    ">\n",
    ">**until** stopping criterion is satisfied.\n",
    "\n",
    ">**output** $x$\n",
    "\n",
    "The stopping criterion is usually expressed as the amount of times the dataset is iterated. An **epoch** is one iteration over the whole dataset."
   ]
  },
  {
   "cell_type": "code",
   "execution_count": 74,
   "metadata": {},
   "outputs": [],
   "source": [
    "from sklearn.utils import shuffle"
   ]
  },
  {
   "cell_type": "code",
   "execution_count": 136,
   "metadata": {},
   "outputs": [],
   "source": [
    "# Replace with solution of NN here\n",
    "\n",
    "class Neural_Network(object):\n",
    "    def __init__(self, input_nodes, output_nodes, hlayer_nodes):\n",
    "        self.input_nodes = input_nodes\n",
    "        self.output_nodes = output_nodes\n",
    "        self.hlayer_nodes = hlayer_nodes\n",
    "        \n",
    "        # initialize weights + bias in the first layer\n",
    "        self.W_12 = np.random.randn(self.input_nodes+1, self.hlayer_nodes)\n",
    "        # initialize weights + bias in the second layer\n",
    "        self.W_23 = np.random.randn(self.hlayer_nodes+1, self.output_nodes)\n",
    "\n",
    "    def forward(self, X):\n",
    "        # add bias to input samples\n",
    "        self.a_1 = np.hstack((np.ones((len(X),1)), X))\n",
    "        \n",
    "        \"\"\"...\"\"\"\n",
    "        \n",
    "        return np.clip(self.y_hat, -10e6, 10e6)\n",
    "    \n",
    "    def relu(self, z):\n",
    "        \n",
    "        \"\"\"...\"\"\"\n",
    "\n",
    "    def relu_prime(self, z):\n",
    "\n",
    "        \"\"\"...\"\"\"\n",
    "\n",
    "    def backpropagate(self, X, y, get_loss_prime):\n",
    "        self.y_hat = \"\"\"...\"\"\"\n",
    "        \n",
    "        self.dLdW_23 = \"\"\"...\"\"\"\n",
    "        self.dLda_2 = \"\"\"...\"\"\"\n",
    "        self.delta_2 = \"\"\"...\"\"\"\n",
    "        self.dLdW_12 = \"\"\"...\"\"\"\n",
    "\n",
    "        # join two flattened arrays in one vector\n",
    "        return np.concatenate((self.dLdW_12.ravel(), self.dLdW_23.ravel())) \n",
    "    \n",
    "    def set_weights(self, weights):\n",
    "        self.W_12 = weights[:len(self.W_12.ravel())].reshape(self.W_12.shape)\n",
    "        self.W_23 = weights[len(self.W_12.ravel()):].reshape(self.W_23.shape)\n",
    "    \n",
    "    def get_weights(self):\n",
    "        return np.concatenate((self.W_12.ravel(), self.W_23.ravel()))\n",
    "    \n",
    "    def compile(self, optimizer_f, loss_f, loss_prime_f):\n",
    "        self.optimizer =  optimizer_f\n",
    "        self.get_loss = loss_f\n",
    "        self.get_loss_prime = loss_prime_f\n",
    "        \n",
    "    def fit(self, X, y, batch_size=8, epochs=50, eta=1e-5):\n",
    "        epoch = 0   # set starting epoch\n",
    "        pool = np.arange(len(X)//batch_size)   # setup batch pool\n",
    "        avg_loss_all = []   # initialize loss vector\n",
    "        while epoch<epochs:\n",
    "            print(\"\\repoch: {}\".format(epoch), end=\"\")\n",
    "            epoch +=1\n",
    "            # shuffle X, y\n",
    "            X_scrambled, y_scrambled = shuffle(X,y) \n",
    "            avg_loss = 0\n",
    "            for i in shuffle(pool):   # select random batch\n",
    "                # select batch data\n",
    "                X_batch = X_scrambled[i*batch_size:(i+1)*batch_size]   \n",
    "                y_batch = y_scrambled[i*batch_size:(i+1)*batch_size]\n",
    "                # get prediction\n",
    "                y_hat = self.forward(X_batch)\n",
    "                # get loss on prediction\n",
    "                avg_loss += self.get_loss(y_hat, y_batch)\n",
    "                # get gradients on weights\n",
    "                dLdW = self.backpropagate(X_batch, y_batch, self.get_loss_prime)\n",
    "                # get update values with weight gradients\n",
    "                dLdW_update = self.optimizer(dLdW, eta)\n",
    "                self.set_weights(self.get_weights()+dLdW_update)   # set new weights with update values\n",
    "            avg_loss_all.append(avg_loss)\n",
    "            \n",
    "        return avg_loss_all"
   ]
  },
  {
   "cell_type": "markdown",
   "metadata": {},
   "source": [
    "<div class=\"alert alert-success\">\n",
    "\n",
    "<h3>EXERCISE</h3> \n",
    "    <p><b>Complete</b> the function <code>gradient_descent()</code>. The different steps as explained above have already been partially implemented in the <code>Neural_Network.fit()</code> function, make sure to analyze it before completing the code for the <code>gradient_descent</code> function. <code>gradient_descent</code> is one way to optimize your weights given a loss, and is stored in <code>Neural_Network.optimizer</code> when running <code>Neural_Network.compile()</code></p>\n",
    "</div>"
   ]
  },
  {
   "cell_type": "code",
   "execution_count": 137,
   "metadata": {},
   "outputs": [],
   "source": [
    "def MSE_loss(y_hat, y):\n",
    "    return \"\"\"...\"\"\"\n",
    "\n",
    "def MSE_loss_prime(y_hat, y):\n",
    "    return \"\"\"...\"\"\"\n",
    "\n",
    "def gradient_descent(dLdW, eta):\n",
    "    return \"\"\"...\"\"\""
   ]
  },
  {
   "cell_type": "markdown",
   "metadata": {},
   "source": [
    "<div class=\"alert alert-success\">\n",
    "\n",
    "<h3>EXERCISE</h3> \n",
    "    <p><b>Run</b> the code below and <b>evaluate</b> how the network trains when tweaking with specific functions such as the amount of hidden nodes, epochs and step size of the gradient update.</p>\n",
    "</div>"
   ]
  },
  {
   "cell_type": "code",
   "execution_count": null,
   "metadata": {},
   "outputs": [],
   "source": [
    "np.random.seed(1)\n",
    "NN = Neural_Network(1,1,320)\n",
    "NN.compile(gradient_descent, MSE_loss, MSE_loss_prime)\n",
    "\n",
    "fig, ax = plt.subplots(2,2, figsize=(10,10))\n",
    "ax_1, ax_2, ax_3, ax_4 = ax.ravel()\n",
    "ax_1.scatter(X , NN.forward(X))\n",
    "ax_1.set_title(\"Predicted y values BEFORE GD\")\n",
    "loss = NN.fit(X, y, epochs=200, batch_size=5, eta=1e-5)\n",
    "ax_2.scatter(X, NN.forward(X))\n",
    "ax_2.set_title(\"Predicted y values AFTER GD\")\n",
    "ax_3.scatter(X,y)\n",
    "ax_3.set_title(\"True y values\")\n",
    "ax_4.set_title(\"Loss function throughout training\")\n",
    "ax_4.plot(range(len(loss)),loss, 'r')\n"
   ]
  },
  {
   "cell_type": "markdown",
   "metadata": {},
   "source": [
    "<div class=\"alert alert-success\">\n",
    "\n",
    "<h3>Optional EXERCISE</h3> \n",
    "    <p>Tweak the network to allow for classification purposes. For this, a sigmoid layer has to be added as the final step in\n",
    "    <code>NN.forward()</code>. Make sure to adjust the backpropagate step and the loss function accordingly.</p>\n",
    "</div>"
   ]
  },
  {
   "cell_type": "code",
   "execution_count": null,
   "metadata": {},
   "outputs": [],
   "source": []
  }
 ],
 "metadata": {
  "kernelspec": {
   "display_name": "Python 3",
   "language": "python",
   "name": "python3"
  },
  "language_info": {
   "codemirror_mode": {
    "name": "ipython",
    "version": 3
   },
   "file_extension": ".py",
   "mimetype": "text/x-python",
   "name": "python",
   "nbconvert_exporter": "python",
   "pygments_lexer": "ipython3",
   "version": "3.7.2"
  },
  "varInspector": {
   "cols": {
    "lenName": 16,
    "lenType": 16,
    "lenVar": 40
   },
   "kernels_config": {
    "python": {
     "delete_cmd_postfix": "",
     "delete_cmd_prefix": "del ",
     "library": "var_list.py",
     "varRefreshCmd": "print(var_dic_list())"
    },
    "r": {
     "delete_cmd_postfix": ") ",
     "delete_cmd_prefix": "rm(",
     "library": "var_list.r",
     "varRefreshCmd": "cat(var_dic_list()) "
    }
   },
   "position": {
    "height": "145.083px",
    "left": "1614px",
    "right": "20px",
    "top": "182px",
    "width": "350px"
   },
   "types_to_exclude": [
    "module",
    "function",
    "builtin_function_or_method",
    "instance",
    "_Feature"
   ],
   "window_display": true
  }
 },
 "nbformat": 4,
 "nbformat_minor": 2
}
