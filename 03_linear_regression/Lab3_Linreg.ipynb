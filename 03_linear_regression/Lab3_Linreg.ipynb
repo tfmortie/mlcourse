{
  "cells": [
    {
      "cell_type": "markdown",
      "metadata": {
        "id": "Yqd-E7gdqZBs"
      },
      "source": [
        "# PC Lab 3: Linear Regression\n",
        "---"
      ]
    },
    {
      "cell_type": "code",
      "execution_count": null,
      "metadata": {
        "id": "N8xRJtLhQq6d"
      },
      "outputs": [],
      "source": [
        "!wget -c https://raw.githubusercontent.com/tfmortie/mlmust/main/03_linear_regression/pc3.py -O pc3.py"
      ]
    },
    {
      "cell_type": "markdown",
      "metadata": {
        "id": "wqz2SRIbqZBx"
      },
      "source": [
        "## 1. Introduction"
      ]
    },
    {
      "cell_type": "markdown",
      "metadata": {
        "id": "J0ANrT8zqZBy"
      },
      "source": [
        "The goal of linear regression is to model the relationship between one or more features *x* and a **continuous** variable *y*. When there is only one feature $x_1$ (univariate linear regression), the equation of the regression line is:\n",
        "\n",
        "$$\\hat{y} = w_{0} + w_{1}x_{1},$$\n",
        "\n",
        "where $w_{0}$ is the intercept or bias. In case of multiple features, we talk about multiple linear regression, and $y$ is modelled as a linear combination of the features, weighted by some set of weights $\\mathbf{w}$:\n",
        "\n",
        "$$\\hat{y} = w_{0}x_{0} + w_{1}x_{1} + ... + w_{p}x_{p} = \\sum\\limits_{i=0}^{p}w_{i}x_{i},$$\n",
        "\n",
        "In this notation, we introduced an additional feature $x_{0}$ which always equals 1. This notation allows to formulate linear regression as a matrix multiplication:\n",
        "\n",
        "$$\\mathbf{\\hat{y}} = \\mathbf{X}\\mathbf{w},$$\n",
        "\n",
        "where $\\mathbf{\\hat{y}}$ (a vector of dimension $n \\times 1$) contains the predicted target variable for the $n$ instances, $\\mathbf{w}$ is a $p \\times 1$ vector containing the weights and $\\mathbf{X}$ is a $n \\times (p+1)$ matrix with the features. Note that the first column of $\\mathbf{X}$ is a column of ones, because it represents the feature $x_{0}$. We will stick to this matrix notation for the rest of this lab, as this notation is common practice in machine learning. Also, this notation makes it much easier to translate an algorithm into Python code.\n",
        "\n",
        "Fitting this model to a dataset comes down to finding the weight vector $\\mathbf{w}$ that minimizes the discrepancy between the true target values $\\mathbf{y}$ and the predictions $\\hat{\\mathbf{y}}$. As is often the case in regression problems, this discrepancy between true values and predicted values is expressed by the **residual sum of squares (RSS)**:\n",
        "\n",
        "$$RSS = \\sum\\limits_{i=1}^{n}(\\hat{y}_{i} - y_{i})^2,$$\n",
        "\n",
        "or, equivalently:\n",
        "\n",
        "$$RSS = (\\mathbf{y} - \\mathbf{Xw})^{T}(\\mathbf{y} - \\mathbf{Xw}).$$\n",
        "\n",
        "Note that the _mean squared error_ (MSE), as seen in the previous practical, is similar to RSS.\n",
        "\n",
        "For most machine learning algorithms we need an optimization algorithm such as gradient descent to find the set of weights that minimize the discrepancy between true and predicted values. However, for linear regression there is a convenient analytical solution to find the optimal weight vector $\\mathbf{w}$ that minimizes the RSS. This solution is obtained by solving the so-called normal equations, leading to the following expression:\n",
        "\n",
        "$$\\mathbf{w_{OLS}} = (\\mathbf{X}^{T}\\mathbf{X})^{-1}\\mathbf{X}^{T}\\mathbf{y}.$$\n",
        "\n",
        "This solution is called the ordinary least squares or OLS solution. With this equation in our toolbox, we can fit a linear regression model to a toy dataset. Let's illustrate this by means of a simple simulated dataset that consists of one feature $x$."
      ]
    },
    {
      "cell_type": "code",
      "execution_count": 2,
      "metadata": {
        "colab": {
          "base_uri": "https://localhost:8080/",
          "height": 500
        },
        "id": "mBIDPn2CqZB0",
        "outputId": "2cc70812-0dc5-41c8-9ae2-c72850c41f94"
      },
      "outputs": [
        {
          "name": "stderr",
          "output_type": "stream",
          "text": [
            "<ipython-input-2-0fac6056a117>:4: MatplotlibDeprecationWarning: The seaborn styles shipped by Matplotlib are deprecated since 3.6, as they no longer correspond to the styles shipped by seaborn. However, they will remain available as 'seaborn-v0_8-<style>'. Alternatively, directly use the seaborn API instead.\n",
            "  plt.style.use('seaborn-white')\n"
          ]
        },
        {
          "data": {
            "image/png": "[encoded data removed]",
            "text/plain": [
              "<Figure size 640x480 with 1 Axes>"
            ]
          },
          "metadata": {},
          "output_type": "display_data"
        }
      ],
      "source": [
        "import numpy as np\n",
        "import matplotlib.pyplot as plt\n",
        "%matplotlib inline\n",
        "plt.style.use('seaborn-white')\n",
        "from sklearn.metrics import mean_squared_error\n",
        "\n",
        "import pc3 as pc3 # some custom functions for this PC lab\n",
        "\n",
        "n=50 # number of data points\n",
        "x, y = pc3.simulate_linear_data(n=n, eps=6) # you can change the standard deviation of the noise\n",
        "\n",
        "fig, ax = plt.subplots()\n",
        "ax.scatter(x,y);\n",
        "ax.set_xlabel('x');\n",
        "ax.set_ylabel('y');"
      ]
    },
    {
      "cell_type": "markdown",
      "metadata": {
        "id": "5JjMNziEqZB2"
      },
      "source": [
        "Now, let's use linear regression to model $y$ as a function of $x$. We can use the analytic result from the normal equations to find the optimal weight vector $\\mathbf{w_{OLS}}$. For this, we will need the [np.linalg.inv()](https://numpy.org/doc/stable/reference/generated/numpy.linalg.inv.html) and [np.matmul()](https://numpy.org/doc/stable/reference/generated/numpy.matmul.html) functions in NumPy:"
      ]
    },
    {
      "cell_type": "code",
      "execution_count": null,
      "metadata": {
        "id": "Zp-qRbgdqZB3"
      },
      "outputs": [],
      "source": [
        "# Put the features in a matrix, with a column of ones for the intercept\n",
        "X = np.ones((n,2))\n",
        "X[:,1] = x\n",
        "\n",
        "w = np.matmul(np.matmul(np.linalg.inv(np.matmul(X.T, X)),X.T),y)"
      ]
    },
    {
      "cell_type": "markdown",
      "metadata": {
        "id": "yiIBNXW4npTk"
      },
      "source": [
        "We find the weight vector that minimizes the MSE between observations and predictions. With this weight matrix, we can estimate $y$ for the $x$'s in our dataset (or for any future value of $x$):"
      ]
    },
    {
      "cell_type": "code",
      "execution_count": null,
      "metadata": {
        "id": "LGwc3cqCqZB5"
      },
      "outputs": [],
      "source": [
        "y_hat = np.matmul(X, w)"
      ]
    },
    {
      "cell_type": "markdown",
      "metadata": {
        "id": "lhTJpIbQqZB5"
      },
      "source": [
        "Now, let's visualize the regression line. "
      ]
    },
    {
      "cell_type": "code",
      "execution_count": null,
      "metadata": {
        "colab": {
          "base_uri": "https://localhost:8080/",
          "height": 276
        },
        "id": "BfREh2yPqZB5",
        "outputId": "1063c680-de89-4bda-a914-059a0688500a"
      },
      "outputs": [
        {
          "data": {
            "image/png": "[encoded data removed]",
            "text/plain": [
              "<Figure size 432x288 with 1 Axes>"
            ]
          },
          "metadata": {},
          "output_type": "display_data"
        }
      ],
      "source": [
        "fig, ax = plt.subplots()\n",
        "ax.scatter(x,y);\n",
        "ax.set_xlabel('x');\n",
        "ax.set_ylabel('y');\n",
        "ax.plot(x, y_hat, color='orange');"
      ]
    },
    {
      "cell_type": "markdown",
      "metadata": {
        "id": "H6RGpAHWnzLV"
      },
      "source": [
        "We can evaluate the performance of our model by computing the MSE:"
      ]
    },
    {
      "cell_type": "code",
      "execution_count": null,
      "metadata": {
        "colab": {
          "base_uri": "https://localhost:8080/"
        },
        "id": "e4iU6EjGn2Oc",
        "outputId": "bed23edf-f7f0-4087-e2d8-a3c5882a6a76"
      },
      "outputs": [
        {
          "name": "stdout",
          "output_type": "stream",
          "text": [
            "Mean squared error: 28.31699171537876\n"
          ]
        }
      ],
      "source": [
        "# Function to compute MSE\n",
        "def compute_MSE(y_true, y_predicted):\n",
        "    \"\"\"Obtain MSE between true y's and predicted y's\"\"\"\n",
        "    return(np.mean((y_true-y_predicted)**2))\n",
        "\n",
        "MSE = compute_MSE(y, y_hat)\n",
        "print('Mean squared error: {}'.format(MSE))\n",
        "\n",
        "#Note that the vectorized notation would give the same result: MSE = np.dot(np.transpose(y_hat-y),(y_hat-y))/n"
      ]
    },
    {
      "cell_type": "markdown",
      "metadata": {
        "id": "4Ks8U773n90q"
      },
      "source": [
        "Obviously, this just reflects the performance of our model on the training data and we could get an arbitrarily low MSE by making our model more complex. In reality, we are more interested in the performance of our model on new, unseen data that was not used to train the model. We will illustrate this on a practical example."
      ]
    },
    {
      "cell_type": "markdown",
      "metadata": {
        "id": "a9AHHlp-qZB7"
      },
      "source": [
        "## 2. Application: predicting house prices"
      ]
    },
    {
      "cell_type": "markdown",
      "metadata": {
        "id": "DBmNcQxJqZB7"
      },
      "source": [
        "We will use a [housing dataset](https://www.kaggle.com/harlfoxem/housesalesprediction) hosted on Kaggle for a practical illustration, slightly modified for the purpose of this PC lab. You can find the data in the file pc3_housingdata_modified.csv. The dataset contains the price of 21613 houses in US dollars, together with the following features:\n",
        "1. **Categorical features** (take on one of a limited, and usually fixed, number of possible values): waterfront yes/no, color (yellow, blue, white or 'other').\n",
        "2. **Ordinal features** (similar as categorical features, yet, equipped with a natural ordering): number of bedrooms, bathrooms, floors, yr_built.\n",
        "3. **Continuous features**: surface areas: sqft_living, sqft_lot, sqft_above, sqft_basement, and latitude, longitude.\n",
        "\n",
        "We would like to build a model that can predict the price of a house based on these features. First, let's read in the data:"
      ]
    },
    {
      "cell_type": "code",
      "execution_count": null,
      "metadata": {
        "id": "uIPobbwhqZB7"
      },
      "outputs": [],
      "source": [
        "import pandas as pd\n",
        "data = pd.read_csv('https://raw.githubusercontent.com/tfmortie/mlmust/main/03_linear_regression/pc3_housingdata_modified.csv')\n",
        "data.head()"
      ]
    },
    {
      "cell_type": "markdown",
      "metadata": {
        "id": "KtUWYyNFqZB7"
      },
      "source": [
        "Let's visualize some features to get an idea of what this data looks like:"
      ]
    },
    {
      "cell_type": "code",
      "execution_count": null,
      "metadata": {
        "id": "7xdPEC6fqZB7"
      },
      "outputs": [],
      "source": [
        "import seaborn as sns\n",
        "sns.pairplot(data.loc[:,['price', 'sqft_living', 'sqft_basement', 'lat', 'long']])"
      ]
    },
    {
      "cell_type": "code",
      "execution_count": null,
      "metadata": {
        "id": "6sFT5T3cqZB8"
      },
      "outputs": [],
      "source": [
        "sns.pairplot(data.loc[:,['price','color', 'waterfront', 'bathrooms', 'bedrooms']])"
      ]
    },
    {
      "cell_type": "markdown",
      "metadata": {
        "id": "p-5C6BiuqZB8"
      },
      "source": [
        "There are different types of features here. How can we use the color attribute in a linear regression model? As seen in the previous practical, dummy variables can be used to encode categorical features. In machine learning, this is called **one-hot encoding**. As seen in the previous practical, both [Scikit-learn](http://scikit-learn.org/stable/modules/generated/sklearn.preprocessing.OneHotEncoder.html) and [Pandas](https://pandas.pydata.org/pandas-docs/stable/generated/pandas.get_dummies.html) provide functions of that kind. Let's use Pandas, since it can handle text features:"
      ]
    },
    {
      "cell_type": "code",
      "execution_count": null,
      "metadata": {
        "id": "HGC-lxuvqZB8"
      },
      "outputs": [],
      "source": [
        "dummies = pd.get_dummies(data.color)\n",
        "dummies.head()"
      ]
    },
    {
      "cell_type": "markdown",
      "metadata": {
        "id": "_e1BgNzLqZB9"
      },
      "source": [
        "Let's add these encoded features to the dataframe:"
      ]
    },
    {
      "cell_type": "code",
      "execution_count": null,
      "metadata": {
        "id": "7Z5aGwuTqZB9"
      },
      "outputs": [],
      "source": [
        "data_onehot = pd.concat([data, dummies], axis=1)\n",
        "data_onehot = data_onehot.drop(['color'], axis=1) # remove the original color column\n",
        "data_onehot.head()"
      ]
    },
    {
      "cell_type": "markdown",
      "metadata": {
        "id": "KDkhvS4GqZB9"
      },
      "source": [
        "We can use these dummy variables in a linear regression model. First, it's good to extract the data from the Pandas dataframe into NumPy arrays, since most machine learning APIs are compatible with NumPy."
      ]
    },
    {
      "cell_type": "code",
      "execution_count": null,
      "metadata": {
        "id": "F3r6Yq8dqZB9"
      },
      "outputs": [],
      "source": [
        "# Put data in numpy arrays\n",
        "y = data_onehot.price.values\n",
        "X = data_onehot.drop('price', axis=1).values"
      ]
    },
    {
      "cell_type": "markdown",
      "metadata": {
        "id": "d_2zvs4uqZB9"
      },
      "source": [
        "Finally, we would like to evaluate the performance of our data on new, unseen data, that was not used to train the model. Therefore, we split up our dataset into a training and a test dataset:"
      ]
    },
    {
      "cell_type": "code",
      "execution_count": null,
      "metadata": {
        "id": "2_pDKvBhqZB9"
      },
      "outputs": [],
      "source": [
        "from sklearn.model_selection import train_test_split\n",
        "\n",
        "X_train, X_test, y_train, y_test = train_test_split(X, y, train_size=0.7) # Use 70% of data for training"
      ]
    },
    {
      "cell_type": "markdown",
      "metadata": {
        "id": "SSpXx-tmqZB-"
      },
      "source": [
        "<div class=\"alert alert-success\">\n",
        "\n",
        "<b>EXERCISE 2.1</b>: **Use the Scikit-learn Linear Regression implementation to fit a model on the housing dataset. Use the training data to fit the model. Compare the MSE of the model obtained on the training and on the test data, respectively. Finally, compute the coefficient of determination ($R^2$) on the test data. The relevant documentation page contains all the information that you need. Convenient methods that are defined in almost all Scikit-learn models are _fit()_, _predict()_ and _score()_.**     \n",
        "</div>  "
      ]
    },
    {
      "cell_type": "code",
      "execution_count": null,
      "metadata": {
        "id": "LZZMQMPFqZB-"
      },
      "outputs": [],
      "source": [
        "from sklearn.linear_model import LinearRegression\n",
        "\n",
        "# call an instance of the class LinearRegression\n",
        "linreg = \"...\"\n",
        "\n",
        "# fit the model on the training data\n",
        "\"...\"\n",
        "\n",
        "# predict training data\n",
        "y_hat_train = \"...\"\n",
        "\n",
        "# Compute training set MSE\n",
        "train_MSE = \"...\"\n",
        "\n",
        "# predict test data\n",
        "y_hat_test = \"...\"\n",
        "\n",
        "# Test set MSE\n",
        "test_MSE = \"...\"\n",
        "\n",
        "R2_train = linreg.score(X_train, y_train)\n",
        "R2_test = linreg.score(X_test, y_test)\n",
        "\n",
        "print('Training set MSE: {}'.format(train_MSE))\n",
        "print('Test set MSE: {}'.format(test_MSE))\n",
        "print('Training set R2: {}'.format(R2_train))\n",
        "print('Test set R2: {}'.format(R2_test))"
      ]
    },
    {
      "cell_type": "markdown",
      "metadata": {
        "id": "xcEQRfNbqZB-"
      },
      "source": [
        "## 3. Adding model flexibility: polynomial feature expansion"
      ]
    },
    {
      "cell_type": "markdown",
      "metadata": {
        "id": "pHxg7FpsqZB-"
      },
      "source": [
        "We can model non-linear relations by performing some non-linear transformation $\\phi(\\mathbf{x})$ on the original features $\\mathbf{x}$. This is known as a **basis function expansion**. An example of such a transformation are polynomial basis functions, where we consider higher-order powers of the original features:\n",
        "\n",
        "$$\\phi(x) = [1, x, x^2, x^3,...,x^d].$$\n",
        "\n",
        "It is important to note here that, although we use non-linear transformations, the model linear regression model $y = f(\\phi(x)$ will still be linear in the parameters:\n",
        "\n",
        "$$\\hat{y} = w_{10}x_{0} + w_{11}x_{1} + w_{12}x_{1}^2 ... + w_{md}x_{m}^d.$$\n",
        "\n",
        "This means that the solution will still be a line, be it in a transformed and typically higher-dimensional space instead of in the original feature space. This also means that we obtain the least-squares solutions just as we did earlier on.\n",
        "\n",
        "With different feature expansions, we can strongly improve the performance of linear regression by taking into account interaction effects, quadratic or cubic effects... However, the risk of overfitting also increases! Let's go back to the simulation example. Instead of doing a simple linear regression, we will perform a polynomial feature expansion of the single feature:"
      ]
    },
    {
      "cell_type": "code",
      "execution_count": null,
      "metadata": {
        "id": "Zp_hRfbtqZB-"
      },
      "outputs": [],
      "source": [
        "import pc3 as pc3 # some custom functions for this PC lab\n",
        "import numpy as np\n",
        "import pandas as pd\n",
        "from sklearn.metrics import mean_squared_error\n",
        "\n",
        "n=100 # number of data points 5000\n",
        "eps=10 # amount of noise 20\n",
        "\n",
        "x, y = pc3.simulate_linear_data(n=n, eps=eps) # you can change the standard deviation of the noise"
      ]
    },
    {
      "cell_type": "code",
      "execution_count": null,
      "metadata": {
        "id": "VGF8MhhwqZB-"
      },
      "outputs": [],
      "source": [
        "# Put the features in a matrix, with a column of ones for the intercept. Add polynomial expansions.\n",
        "\n",
        "# add x up to the 10th power\n",
        "n_polynomials=20\n",
        "\n",
        "X = np.ones((n,n_polynomials))\n",
        "X[:,1] = x\n",
        "\n",
        "for i in np.arange(2, n_polynomials):\n",
        "    X[:,i] = x**i"
      ]
    },
    {
      "cell_type": "markdown",
      "metadata": {
        "id": "sq13UySzqZB_"
      },
      "source": [
        "<div class=\"alert alert-success\">\n",
        "\n",
        "<b>EXERCISE 3.1</b>: **Create the polynomial expansions of the original dataset using the [PolynomialFeatures()](https://scikit-learn.org/stable/modules/generated/sklearn.preprocessing.PolynomialFeatures.html) function from Scikit-learn. Use the fit and predict functions you used in the previous exercise to obtain the predictions $\\hat{y}$.**     \n",
        "</div>  "
      ]
    },
    {
      "cell_type": "code",
      "execution_count": null,
      "metadata": {
        "id": "52HDud5opO9J"
      },
      "outputs": [],
      "source": [
        "from sklearn.preprocessing import PolynomialFeatures\n",
        "from sklearn.linear_model import LinearRegression\n",
        "\n",
        "poly = PolynomialFeatures(degree=20)\n",
        "\"...\"\n",
        "\n",
        "LinReg = \"...\" # call an instance of the class LinearRegression\n",
        "\n",
        "# fit the model on the training data\n",
        "\"...\"\n",
        "\n",
        "y_hat = \"...\" # predict training data"
      ]
    },
    {
      "cell_type": "markdown",
      "metadata": {
        "id": "z_f3EmLSqZB_"
      },
      "source": [
        "Again, let's visualize the regression line:"
      ]
    },
    {
      "cell_type": "code",
      "execution_count": null,
      "metadata": {
        "id": "Z8A9BmtBqZCA"
      },
      "outputs": [],
      "source": [
        "fig, ax = plt.subplots()\n",
        "ax.scatter(x,y);\n",
        "ax.set_xlabel('x');\n",
        "ax.set_ylabel('y');\n",
        "ax.plot(np.sort(x), y_hat[np.argsort(x)] , '--', color=\"orange\");\n",
        "ax.legend(['Observation', 'Predicted']);\n",
        "ax.set_title('MSE: {}'.format(mean_squared_error(y, y_hat))).set_fontsize(20);"
      ]
    },
    {
      "cell_type": "markdown",
      "metadata": {
        "id": "T7p3gTtrqZCA"
      },
      "source": [
        "As can be seen above, expanding the polynomial up to the 20th power leads to a too complex model. **Remember that we simulated the data from an underlying linear relation between x and y!** This is a clear example of overfitting: by performing the polynomial expansion, our model becomes too flexible and fits to patterns in the data that, in reality, are just noise."
      ]
    },
    {
      "cell_type": "markdown",
      "metadata": {
        "id": "fRKEnghXy2mw"
      },
      "source": [
        "<div class=\"alert alert-success\">\n",
        "\n",
        "<b>OPTIONAL EXERCISE: Play with the parameters in the code above. Change the number of simulated data points from 50 to 100, 200, 500. What happens with the overfitting? Change the amount of noise.  Increase the size of the polynomial up to degree 12. Compare the MSE's. Try to understand the influence of each of these factors on the behavior of the model.</b>\n",
        "</div>"
      ]
    },
    {
      "cell_type": "markdown",
      "metadata": {
        "id": "W245ttFIqZCA"
      },
      "source": [
        "By evaluating the performance of our model on a test set, we can check if we are overfitting or not. The following code simulates n data points from a linear model with noise. 50% of them are used to fit a linear regression model, with an increasing number of polynomial features. The other 50% data points are held out as a test set. For each model, the MSE on both the training and test data is evaluated. The plot shows the training and test MSE for increasing degrees of the polynomial expansion."
      ]
    },
    {
      "cell_type": "code",
      "execution_count": null,
      "metadata": {
        "id": "7a2dx-r2qZCA"
      },
      "outputs": [],
      "source": [
        "from sklearn.preprocessing import PolynomialFeatures\n",
        "from sklearn.linear_model import LinearRegression\n",
        "\n",
        "n=100\n",
        "eps= 20\n",
        "x, y = pc3.simulate_linear_data(n=n, eps=eps) # you can change the standard deviation of the noise\n",
        "\n",
        "x_test, x_train = x[:n//4].reshape(-1, 1), x[n//4:].reshape(-1, 1)\n",
        "\n",
        "y_test, y_train = y[:n//4].reshape(-1, 1), y[n//4:].reshape(-1, 1)\n",
        "\n",
        "LinReg = LinearRegression()\n",
        "\n",
        "MSE_train = []\n",
        "MSE_test = []\n",
        "\n",
        "for i in np.arange(1, 15):\n",
        "    poly = PolynomialFeatures(degree=i)\n",
        "    poly.fit(x_train)\n",
        "    X_train = poly.transform(x_train)\n",
        "    X_test = poly.transform(x_test)\n",
        "\n",
        "    LinReg.fit(X_train,y_train.reshape(-1,1))\n",
        "    pred_train = LinReg.predict(X_train)\n",
        "    pred_test = LinReg.predict(X_test)\n",
        "    MSE_train.append(mean_squared_error(y_train, pred_train))\n",
        "    MSE_test.append(mean_squared_error(y_test, pred_test))\n",
        "\n",
        "\n",
        "fig, ax = plt.subplots(figsize=(10,5))\n",
        "pd.Series(MSE_train).plot(ax=ax, marker='o');\n",
        "pd.Series(MSE_test).plot(ax=ax, marker='o', color='orange');\n",
        "ax.legend(['Train MSE', 'Test MSE']);\n",
        "ax.set_xlabel('size of polynomial');\n",
        "ax.set_ylabel('MSE');"
      ]
    },
    {
      "cell_type": "markdown",
      "metadata": {
        "id": "p-4rhvqjypOo"
      },
      "source": [
        "<div class=\"alert alert-success\">\n",
        "\n",
        "<b>OPTIONAL EXERCISE: Describe what you see. What happens with the training MSE as you increase the number of features? What happens with the test MSE? How can you explain this?</b>\n",
        "</div>"
      ]
    },
    {
      "cell_type": "markdown",
      "metadata": {
        "id": "JWltJxMvqZCB"
      },
      "source": [
        "<div class=\"alert alert-success\">\n",
        "\n",
        "<b>OPTIONAL EXERCISE: Try to improve the performance of the linear model for the housing dataset by expanding the feature space. Scikit-learn has a method to expand a NumPy array with polynomial features. Keep an eye on overfitting!</b>\n",
        "</div>"
      ]
    }
  ],
  "metadata": {
    "colab": {
      "provenance": []
    },
    "kernelspec": {
      "display_name": "Python 3",
      "language": "python",
      "name": "python3"
    },
    "language_info": {
      "codemirror_mode": {
        "name": "ipython",
        "version": 3
      },
      "file_extension": ".py",
      "mimetype": "text/x-python",
      "name": "python",
      "nbconvert_exporter": "python",
      "pygments_lexer": "ipython3",
      "version": "3.7.4"
    },
    "varInspector": {
      "cols": {
        "lenName": 16,
        "lenType": 16,
        "lenVar": 40
      },
      "kernels_config": {
        "python": {
          "delete_cmd_postfix": "",
          "delete_cmd_prefix": "del ",
          "library": "var_list.py",
          "varRefreshCmd": "print(var_dic_list())"
        },
        "r": {
          "delete_cmd_postfix": ") ",
          "delete_cmd_prefix": "rm(",
          "library": "var_list.r",
          "varRefreshCmd": "cat(var_dic_list()) "
        }
      },
      "types_to_exclude": [
        "module",
        "function",
        "builtin_function_or_method",
        "instance",
        "_Feature"
      ],
      "window_display": false
    }
  },
  "nbformat": 4,
  "nbformat_minor": 0
}
