{
  "cells": [
    {
      "cell_type": "markdown",
      "metadata": {
        "toc-hr-collapsed": false,
        "id": "0LkOzLqR2kOF"
      },
      "source": [
        "# PC Lab 1: Introduction to python\n",
        "\n"
      ]
    },
    {
      "cell_type": "markdown",
      "metadata": {
        "id": "c4lKm9J72kOJ"
      },
      "source": [
        "### Python:\n",
        "   * an open source programming language\n",
        "   * a pool of functionalities are easily called (packages)\n",
        "   * commonly used by data scientists\n",
        "   * easy to learn, easy to use\n",
        "   \n",
        "    "
      ]
    },
    {
      "cell_type": "markdown",
      "metadata": {
        "id": "kbnso9kP2kOJ"
      },
      "source": [
        "### How to install it:\n",
        "   * Go to the website of [Anaconda](https://www.anaconda.com/distribution/)\n",
        "   * Download the latest version (Anaconda 2020.11, with Python 3.8)\n",
        "   \n",
        "    What is **Anaconda**: a python platform which includes the most important packages used in data science.\n",
        "\n",
        "   \n",
        "    "
      ]
    },
    {
      "cell_type": "markdown",
      "metadata": {
        "id": "bGJEyPIZ2kOK"
      },
      "source": [
        "### Create a working environment\n",
        "\n",
        "In conda you can create different isolated environments in which you can work. Environments are \"directories\", each containing a collection of conda packages that you have installed. For instance, you can create environments for specific projects, requiring a different version of python or\n",
        "collection of packages.\n",
        "\n",
        "For this course, you can create an environment, with name *predmod*, by using the command line:\n",
        "\n",
        "```conda create --name predmod```\n",
        "\n",
        "We then activate the environment by running:\n",
        "\n",
        "```conda activate predmod```\n",
        "\n",
        "After finishing your work, or if you would like to change environment,\n",
        "simply run:\n",
        "\n",
        "```conda deactivate```\n"
      ]
    },
    {
      "cell_type": "markdown",
      "metadata": {
        "id": "DqbXv7hl2kOK"
      },
      "source": [
        "### Installing packages\n",
        "You can easily install a package using the command line:\n",
        "\n",
        "```conda install package```"
      ]
    },
    {
      "cell_type": "markdown",
      "metadata": {
        "id": "RxaO8rWp2kOL"
      },
      "source": [
        "You can check the available packages by typing:\n",
        "\n",
        "```conda list```"
      ]
    },
    {
      "cell_type": "markdown",
      "metadata": {
        "id": "EkzsP3-42kOL"
      },
      "source": [
        "### Tools:\n",
        " * an IPython console: Execute python commands one-by-one\n",
        " * Spyder: IDE  - python environment, similar to eclipse or matlab\n",
        " * Jupyter Notebook: The Jupyter Notebook is an open-source web application that allows you to create and share documents that contain live code, equations, visualizations and narrative text. **We highly recommend this tool and will use this during the practicals!**"
      ]
    },
    {
      "cell_type": "markdown",
      "metadata": {
        "id": "2FUiBv4U2kOM"
      },
      "source": [
        "### Getting started with notebooks\n",
        "In order to work with notebooks, we will use [JupyterLab](https://jupyterlab.readthedocs.io/en/latest/), a next generation open-source web application primarily designed to provide an easy-to-use rich user interface on top of Jupyter Notebook. It includes tons of useful features such as an integrated terminal, data view, file explorer, extension manager, etc.  \n",
        "\n",
        "To install JupyterLab in conda, run the following:\n",
        "\n",
        "```conda install -c conda-forge jupyterlab```\n",
        "\n",
        "After installation, you can open JupyterLab by typing the following command on the command line:\n",
        "\n",
        "```jupyter lab```\n",
        "\n",
        "In the JupyterLab interface, a new notebook can by created by clicking on __File > New > Notebook__."
      ]
    },
    {
      "cell_type": "markdown",
      "metadata": {
        "id": "VfluhGr62kOM"
      },
      "source": [
        "### Basics for notebook\n",
        "How to **run a cell**: Press the ▶ button above to run it\n"
      ]
    },
    {
      "cell_type": "code",
      "execution_count": null,
      "metadata": {
        "jupyter": {
          "outputs_hidden": false
        },
        "id": "l_eB47Bf2kON",
        "colab": {
          "base_uri": "https://localhost:8080/"
        },
        "outputId": "b9b908c6-f9ff-49af-e442-faca1f70698d"
      },
      "outputs": [
        {
          "output_type": "stream",
          "name": "stdout",
          "text": [
            "Hello world\n"
          ]
        }
      ],
      "source": [
        "print('Hello world')"
      ]
    },
    {
      "cell_type": "markdown",
      "source": [
        "You can also use the Alt-Enter keyboard shortcut to run the current cell and insert a new one below."
      ],
      "metadata": {
        "id": "DUOYh7weM5h3"
      }
    },
    {
      "cell_type": "markdown",
      "metadata": {
        "id": "oooKiRyq2kOO"
      },
      "source": [
        "**Autocompletion**: Press **TAB** to a semifinalized command\n",
        "\n",
        "Example      \n",
        "Type ```ma``` in the following cell and then **TAB**"
      ]
    },
    {
      "cell_type": "code",
      "execution_count": null,
      "metadata": {
        "id": "D6OpEqed2kOP"
      },
      "outputs": [],
      "source": []
    },
    {
      "cell_type": "markdown",
      "metadata": {
        "id": "miBSiIhx2kOP"
      },
      "source": [
        "So you can see that by pressing the **TAB**, the notebook helps you by giving several options.\n",
        "\n",
        "Now you can fill in the following cell with the command ```max``` and then press **SHIFT+TAB**.\n",
        "What do you observe?"
      ]
    },
    {
      "cell_type": "code",
      "execution_count": null,
      "metadata": {
        "jupyter": {
          "outputs_hidden": false
        },
        "id": "4vsMJ8An2kOQ"
      },
      "outputs": [],
      "source": []
    },
    {
      "cell_type": "markdown",
      "metadata": {
        "toc-hr-collapsed": true,
        "id": "sMKU0HbV2kOQ"
      },
      "source": [
        "## 1. Basics in python   \n",
        "In jupyter notebook we can type simple commands (such as assignments, summations etc.) in the cells and execute them in the way we saw above.   \n",
        "Try to execute the following commands:"
      ]
    },
    {
      "cell_type": "code",
      "execution_count": null,
      "metadata": {
        "id": "pdGCOgLG2kOQ"
      },
      "outputs": [],
      "source": [
        "a = 8"
      ]
    },
    {
      "cell_type": "code",
      "execution_count": null,
      "metadata": {
        "jupyter": {
          "outputs_hidden": false
        },
        "id": "R5o-f-kO2kOR"
      },
      "outputs": [],
      "source": [
        "a"
      ]
    },
    {
      "cell_type": "code",
      "execution_count": null,
      "metadata": {
        "jupyter": {
          "outputs_hidden": false
        },
        "id": "LOjYMVOP2kOR"
      },
      "outputs": [],
      "source": [
        "a + 4"
      ]
    },
    {
      "cell_type": "code",
      "execution_count": null,
      "metadata": {
        "jupyter": {
          "outputs_hidden": false
        },
        "id": "9_AloPM92kOR"
      },
      "outputs": [],
      "source": [
        "a / 3"
      ]
    },
    {
      "cell_type": "markdown",
      "metadata": {
        "id": "gGHmQ6EH2kOR"
      },
      "source": [
        "In python there are 4 types of scalars:\n",
        "* Integer\n",
        "* Float\n",
        "* Complex number\n",
        "* Boolean   \n",
        "You can change the type of a variable by using casting:\n"
      ]
    },
    {
      "cell_type": "code",
      "execution_count": null,
      "metadata": {
        "jupyter": {
          "outputs_hidden": false
        },
        "id": "SkC_Poz_2kOR"
      },
      "outputs": [],
      "source": [
        "float(a)"
      ]
    },
    {
      "cell_type": "markdown",
      "metadata": {
        "id": "Yb_Fn0jk2kOS"
      },
      "source": [
        "There are also different operators. The basic ones are the following:   \n",
        "summation (+), subtraction (-), division (/), multiplication (\\*) , modulo (%), exponentiation (\\*\\*)   \n",
        "Try to execute the following cells to see examples:"
      ]
    },
    {
      "cell_type": "code",
      "execution_count": null,
      "metadata": {
        "jupyter": {
          "outputs_hidden": false
        },
        "id": "sYPNHhfR2kOS"
      },
      "outputs": [],
      "source": [
        "a%2"
      ]
    },
    {
      "cell_type": "code",
      "execution_count": null,
      "metadata": {
        "jupyter": {
          "outputs_hidden": false
        },
        "id": "bUPi6Cfu2kOS"
      },
      "outputs": [],
      "source": [
        "a**2"
      ]
    },
    {
      "cell_type": "code",
      "execution_count": null,
      "metadata": {
        "jupyter": {
          "outputs_hidden": false
        },
        "id": "wI7-h-bV2kOS"
      },
      "outputs": [],
      "source": [
        "print(a-2)\n",
        "print(a+a)"
      ]
    },
    {
      "cell_type": "markdown",
      "metadata": {
        "id": "ENgYYaN12kOS"
      },
      "source": [
        "### Lists   \n",
        "List in python is an ordered collection of objects. These objects can be scalars, strings, other lists etc."
      ]
    },
    {
      "cell_type": "code",
      "execution_count": null,
      "metadata": {
        "jupyter": {
          "outputs_hidden": false
        },
        "id": "pODBrZMh2kOT",
        "colab": {
          "base_uri": "https://localhost:8080/"
        },
        "outputId": "393ee568-179b-4012-cd3f-1efb300e515a"
      },
      "outputs": [
        {
          "output_type": "stream",
          "name": "stdout",
          "text": [
            "[1, 2, 3, 4, 'x', [1, 2, 3], 100, 200]\n"
          ]
        }
      ],
      "source": [
        "list = [1, 2, 3, 4, 'x', [1,2,3], 100, 200]\n",
        "print (list)"
      ]
    },
    {
      "cell_type": "markdown",
      "metadata": {
        "id": "LARLhm3s2kOT"
      },
      "source": [
        "We can access the elements of a list by using indices starting from 0."
      ]
    },
    {
      "cell_type": "code",
      "execution_count": null,
      "metadata": {
        "jupyter": {
          "outputs_hidden": false
        },
        "id": "cjc53xaT2kOT"
      },
      "outputs": [],
      "source": [
        "print(list[0])\n",
        "print(list[1])\n"
      ]
    },
    {
      "cell_type": "markdown",
      "metadata": {
        "id": "P-Og7I6A2kOT"
      },
      "source": [
        "Negative indices count from the back."
      ]
    },
    {
      "cell_type": "code",
      "execution_count": null,
      "metadata": {
        "jupyter": {
          "outputs_hidden": false
        },
        "id": "EdEQroAE2kOT"
      },
      "outputs": [],
      "source": [
        "print(list[-1])\n",
        "print(list[-2])"
      ]
    },
    {
      "cell_type": "markdown",
      "metadata": {
        "id": "a5TojWd-2kOT"
      },
      "source": [
        "**Slicing**: take sublists of a list    \n",
        "You can use a starting and an ending index with a \":\" symbol in between for this purpose.   \n",
        "Example syntax: `list[start:stop]`"
      ]
    },
    {
      "cell_type": "code",
      "execution_count": null,
      "metadata": {
        "jupyter": {
          "outputs_hidden": false
        },
        "id": "4h4zRaM_2kOT"
      },
      "outputs": [],
      "source": [
        "#take the first 4 elements of the list\n",
        "list[0:4]"
      ]
    },
    {
      "cell_type": "markdown",
      "metadata": {
        "id": "HY6jjwmz2kOU"
      },
      "source": [
        "We can see that the indices of the printed elements satisfy the condition start <= index < stop, i.e., the last printed element has the index stop-1    \n",
        "\n",
        "**Functions**: List is a data structure on which basic functions can be applied.\n"
      ]
    },
    {
      "cell_type": "code",
      "execution_count": null,
      "metadata": {
        "jupyter": {
          "outputs_hidden": false
        },
        "id": "VoSrLWVJ2kOU"
      },
      "outputs": [],
      "source": [
        "#Insert an element to a list:\n",
        "list.append(1000)\n",
        "print(list)"
      ]
    },
    {
      "cell_type": "code",
      "execution_count": null,
      "metadata": {
        "jupyter": {
          "outputs_hidden": false
        },
        "id": "lWnUGX6E2kOU"
      },
      "outputs": [],
      "source": [
        "#Pop an element from a list (return the last element and remove it from the list)\n",
        "list.pop()\n",
        "print(list)"
      ]
    },
    {
      "cell_type": "code",
      "execution_count": null,
      "metadata": {
        "jupyter": {
          "outputs_hidden": false
        },
        "id": "lQ9aqf6v2kOU"
      },
      "outputs": [],
      "source": [
        "#extend a list\n",
        "list2 = [2,3,4]\n",
        "list.extend(list2)\n",
        "print(list)"
      ]
    },
    {
      "cell_type": "markdown",
      "metadata": {
        "id": "8PpKdRyj2kOU"
      },
      "source": [
        "### Strings   \n",
        "String is a sequence of characters.\n"
      ]
    },
    {
      "cell_type": "code",
      "execution_count": null,
      "metadata": {
        "jupyter": {
          "outputs_hidden": false
        },
        "id": "jBvbaNgU2kOU"
      },
      "outputs": [],
      "source": [
        "string = 'New string blah'\n",
        "print(string)"
      ]
    },
    {
      "cell_type": "markdown",
      "metadata": {
        "id": "MHyD-ddW2kOV"
      },
      "source": [
        "We can use slicing as in lists."
      ]
    },
    {
      "cell_type": "code",
      "execution_count": null,
      "metadata": {
        "jupyter": {
          "outputs_hidden": false
        },
        "id": "J6cBv2ut2kOV"
      },
      "outputs": [],
      "source": [
        "string[1:3]"
      ]
    },
    {
      "cell_type": "markdown",
      "metadata": {
        "id": "x0ak0btf2kOV"
      },
      "source": [
        "**Functions**: There are several functions for handling them."
      ]
    },
    {
      "cell_type": "code",
      "execution_count": null,
      "metadata": {
        "jupyter": {
          "outputs_hidden": false
        },
        "id": "4eo-1t_P2kOV"
      },
      "outputs": [],
      "source": [
        "string.upper()"
      ]
    },
    {
      "cell_type": "code",
      "execution_count": null,
      "metadata": {
        "jupyter": {
          "outputs_hidden": false
        },
        "id": "ZbrgX6rs2kOV"
      },
      "outputs": [],
      "source": [
        "string.replace('New', 'Old', )"
      ]
    },
    {
      "cell_type": "code",
      "execution_count": null,
      "metadata": {
        "jupyter": {
          "outputs_hidden": false
        },
        "id": "4VCxiqgI2kOV"
      },
      "outputs": [],
      "source": [
        "# concatenation of strings using the + operator\n",
        "string + ' blah blah'"
      ]
    },
    {
      "cell_type": "markdown",
      "metadata": {
        "id": "cbcIicW82kOV"
      },
      "source": [
        "### Dictionaries\n",
        "A dictionary is an unordered collection of key-value pairs."
      ]
    },
    {
      "cell_type": "code",
      "execution_count": null,
      "metadata": {
        "id": "2ItpCIXH2kOW"
      },
      "outputs": [],
      "source": [
        "#key: name, value: number of kids\n",
        "dict = {'Emmy':3, 'Frank':2, 'Josef':1}"
      ]
    },
    {
      "cell_type": "code",
      "execution_count": null,
      "metadata": {
        "jupyter": {
          "outputs_hidden": false
        },
        "id": "JQIWd5P-2kOW"
      },
      "outputs": [],
      "source": [
        "#How many kids does Frank have?\n",
        "dict['Frank']"
      ]
    },
    {
      "cell_type": "code",
      "execution_count": null,
      "metadata": {
        "jupyter": {
          "outputs_hidden": false
        },
        "id": "9J4e68vD2kOW"
      },
      "outputs": [],
      "source": [
        "# add elements\n",
        "dict['Ian'] = 2\n",
        "print(dict)"
      ]
    },
    {
      "cell_type": "code",
      "execution_count": null,
      "metadata": {
        "jupyter": {
          "outputs_hidden": false
        },
        "id": "5RqlnUGK2kOW"
      },
      "outputs": [],
      "source": [
        "#delete elements\n",
        "del dict['Frank']\n",
        "print(dict)"
      ]
    },
    {
      "cell_type": "code",
      "execution_count": null,
      "metadata": {
        "jupyter": {
          "outputs_hidden": false
        },
        "id": "s57r5cl_2kOW"
      },
      "outputs": [],
      "source": [
        "#concatenate dictionaries\n",
        "dict2 = {'Peter':3, 'Josef':4}\n",
        "dict.update(dict2)\n",
        "dict"
      ]
    },
    {
      "cell_type": "code",
      "execution_count": null,
      "metadata": {
        "jupyter": {
          "outputs_hidden": false
        },
        "id": "1tRPLhyT2kOW"
      },
      "outputs": [],
      "source": [
        "#return keys and values separately\n",
        "print(dict.keys())\n",
        "print(dict.values())"
      ]
    },
    {
      "cell_type": "markdown",
      "metadata": {
        "id": "0kI7_NLd2kOW"
      },
      "source": [
        "### Control structures\n",
        "As in all programming languages, in python, we can encode control structures i.e. blocks of code which are executed if specific conditions are satisfied."
      ]
    },
    {
      "cell_type": "code",
      "execution_count": null,
      "metadata": {
        "jupyter": {
          "outputs_hidden": false
        },
        "id": "dxeLhlxx2kOX"
      },
      "outputs": [],
      "source": [
        "# if-else statement\n",
        "x =  5\n",
        "if x < 5:\n",
        "    print('x < 5')\n",
        "else:\n",
        "    print('x >= 5')\n"
      ]
    },
    {
      "cell_type": "code",
      "execution_count": null,
      "metadata": {
        "jupyter": {
          "outputs_hidden": false
        },
        "id": "rYskR41v2kOX"
      },
      "outputs": [],
      "source": [
        "#if-else if\n",
        "x =  5\n",
        "if x < 5:\n",
        "    print('x < 5')\n",
        "elif x == 5:\n",
        "    print('x = 5')\n",
        "else:\n",
        "    print('x > 5')"
      ]
    },
    {
      "cell_type": "code",
      "execution_count": null,
      "metadata": {
        "jupyter": {
          "outputs_hidden": false
        },
        "id": "ICEoucvH2kOX"
      },
      "outputs": [],
      "source": [
        "# while loops\n",
        "x = 5\n",
        "while (x < 10):\n",
        "    print(x)\n",
        "    x+=1 #!! we should always change the value of the variable which appears in the while condition"
      ]
    },
    {
      "cell_type": "code",
      "execution_count": null,
      "metadata": {
        "jupyter": {
          "outputs_hidden": false
        },
        "id": "i2VEOG0i2kOX"
      },
      "outputs": [],
      "source": [
        "#for loops (when we know the number of times that a block should be executed)\n",
        "for i in range(5):\n",
        "    print(i)"
      ]
    },
    {
      "cell_type": "code",
      "execution_count": null,
      "metadata": {
        "jupyter": {
          "outputs_hidden": false
        },
        "id": "oNeMeUSr2kOX"
      },
      "outputs": [],
      "source": [
        "#combination of the previous structures\n",
        "[i for i in range(10) if i % 2 == 0]"
      ]
    },
    {
      "cell_type": "markdown",
      "metadata": {
        "id": "2r36odjg2kOX"
      },
      "source": [
        "### Functions\n",
        "\n",
        "In python, as in other programming languages, it is very useful to organize the code into subroutines called functions. Functions usually are implemented for a specific job, they take an input (arguments) and they return their output which is the result of their job. See the following example with a function which returns the squared sum of two numbers."
      ]
    },
    {
      "cell_type": "code",
      "execution_count": null,
      "metadata": {
        "jupyter": {
          "outputs_hidden": false
        },
        "id": "OzJnS42e2kOX"
      },
      "outputs": [],
      "source": [
        "#function\n",
        "def squared_sum(num1, num2=0):\n",
        "    #input: two numbers\n",
        "    #output: squared sum of two numbers\n",
        "    return((num1+num2)**2)\n",
        "\n",
        "#function call\n",
        "squared_sum(3)"
      ]
    },
    {
      "cell_type": "markdown",
      "metadata": {
        "id": "pPSaD-uH2kOX"
      },
      "source": [
        "### Importing packages  \n",
        "The power of python is the plenty of packages which actually implement functionalities that facilitate the users. There are packages for storing and handing data, for running machine learing algorithms, for plotting etc.   \n",
        "Next, we will discuss two packages that are very helpful in handling data.\n",
        "\n",
        "Firstly, let's see how we can import a package:\n",
        "\n",
        "* `import package-name`\n",
        "* `from package-name import function-name` , imports a specific function from a package\n",
        "* `from package-name import *` , imports subset of a package\n",
        "* `import package-name as shortcut-of-package-name`\n"
      ]
    },
    {
      "cell_type": "markdown",
      "metadata": {
        "toc-hr-collapsed": true,
        "id": "iuJ5ufKz2kOY"
      },
      "source": [
        "## 2. Numpy\n",
        "\n",
        "NumPy is the fundamental package for scientific computing with Python. It contains a powerful N-dimensional array/vector/matrix object and useful functions for linear algebra, Fourier transforms, and random number capabilities. In the numpy package the terminology used for vectors, matrices and higher-dimensional data sets is array.\n",
        "\n",
        "The recommended convention to import numpy is:"
      ]
    },
    {
      "cell_type": "code",
      "execution_count": null,
      "metadata": {
        "id": "SSPOLBAE2kOY"
      },
      "outputs": [],
      "source": [
        "import numpy as np"
      ]
    },
    {
      "cell_type": "markdown",
      "metadata": {
        "id": "cuQ1Obfx2kOY"
      },
      "source": [
        "### Basics"
      ]
    },
    {
      "cell_type": "code",
      "execution_count": null,
      "metadata": {
        "jupyter": {
          "outputs_hidden": false
        },
        "id": "Wn9vRucD2kOY",
        "colab": {
          "base_uri": "https://localhost:8080/"
        },
        "outputId": "0141134f-0cd8-477a-b597-c10aaad35e6d"
      },
      "outputs": [
        {
          "output_type": "execute_result",
          "data": {
            "text/plain": [
              "array([1, 2, 3, 4])"
            ]
          },
          "metadata": {},
          "execution_count": 8
        }
      ],
      "source": [
        "# vector\n",
        "V = np.array([1, 2, 3, 4])\n",
        "V"
      ]
    },
    {
      "cell_type": "code",
      "execution_count": null,
      "metadata": {
        "jupyter": {
          "outputs_hidden": false
        },
        "id": "beA4fJCl2kOY"
      },
      "outputs": [],
      "source": [
        "#2-D array\n",
        "N = np.array([[1,2], [3,4]])\n",
        "N"
      ]
    },
    {
      "cell_type": "markdown",
      "metadata": {
        "id": "i3BHNe0t2kOY"
      },
      "source": [
        "The `V` and `M` objects are both of the type `ndarray` that the `numpy` module provides.\n",
        "You can obtain shape information from an `ndarray` by using the `shape` property."
      ]
    },
    {
      "cell_type": "code",
      "execution_count": null,
      "metadata": {
        "jupyter": {
          "outputs_hidden": false
        },
        "id": "fAJ417N32kOY"
      },
      "outputs": [],
      "source": [
        "print(V.shape)\n",
        "print(N.shape)"
      ]
    },
    {
      "cell_type": "markdown",
      "metadata": {
        "id": "nfNEGypM2kOZ"
      },
      "source": [
        "You can define explicitely the type of an array by using the `dtype` argument. Common types that can be used with `dtype` are: int, float, complex, bool, object, etc."
      ]
    },
    {
      "cell_type": "code",
      "execution_count": null,
      "metadata": {
        "jupyter": {
          "outputs_hidden": false
        },
        "id": "EFk5LYp82kOZ"
      },
      "outputs": [],
      "source": [
        "N = np.array([[1,2], [3,4]], dtype=float)\n",
        "N"
      ]
    },
    {
      "cell_type": "markdown",
      "metadata": {
        "id": "PQalcyFR2kOZ"
      },
      "source": [
        "If you want to change the type of an array try the function `astype()` of the numpy package."
      ]
    },
    {
      "cell_type": "code",
      "execution_count": null,
      "metadata": {
        "jupyter": {
          "outputs_hidden": false
        },
        "id": "JPoJCizY2kOZ"
      },
      "outputs": [],
      "source": [
        "N_int = N.astype(int)\n",
        "N_int"
      ]
    },
    {
      "cell_type": "markdown",
      "metadata": {
        "id": "sWMUtRDG2kOZ"
      },
      "source": [
        "### Function-generated arrays\n",
        "For larger arrays it is inpractical to initialize the data manually, using explicit python lists. Instead we can use one of the many functions in numpy that generates arrays of different forms. Some of the more common are:\n",
        "   * `arange` , creates an array of consecutive values or by using a specific step-ahead\n",
        "   * `linspace` , numbers over a specified interval\n",
        "   * `random` , array of random numbers\n",
        "   * `zeros` or `ones`, array full of zeros or ones   \n",
        "   \n",
        "Example: Create a vector with values ranging from 2 to 10 with a step of 2"
      ]
    },
    {
      "cell_type": "code",
      "execution_count": null,
      "metadata": {
        "jupyter": {
          "outputs_hidden": false
        },
        "id": "SGwG7kxy2kOZ",
        "colab": {
          "base_uri": "https://localhost:8080/"
        },
        "outputId": "d57af4bd-e968-4a6a-dfdb-d2762a9bd577"
      },
      "outputs": [
        {
          "output_type": "execute_result",
          "data": {
            "text/plain": [
              "array([ 2,  4,  6,  8, 10])"
            ]
          },
          "metadata": {},
          "execution_count": 10
        }
      ],
      "source": [
        "#arange\n",
        "array_a = np.arange(2,11,2)\n",
        "array_a"
      ]
    },
    {
      "cell_type": "code",
      "execution_count": null,
      "metadata": {
        "jupyter": {
          "outputs_hidden": false
        },
        "id": "meV5okKs2kOZ",
        "colab": {
          "base_uri": "https://localhost:8080/"
        },
        "outputId": "eec98a21-141d-4de1-fe72-220a2b0a52f4"
      },
      "outputs": [
        {
          "output_type": "execute_result",
          "data": {
            "text/plain": [
              "array([ 2.  ,  4.25,  6.5 ,  8.75, 11.  ])"
            ]
          },
          "metadata": {},
          "execution_count": 11
        }
      ],
      "source": [
        "#linspace\n",
        "array_b = np.linspace(2, 11, 5)\n",
        "array_b"
      ]
    },
    {
      "cell_type": "code",
      "execution_count": null,
      "metadata": {
        "jupyter": {
          "outputs_hidden": false
        },
        "id": "0XNaiTtR2kOZ",
        "colab": {
          "base_uri": "https://localhost:8080/"
        },
        "outputId": "4946db87-3aab-4d6d-f7bf-79e924467395"
      },
      "outputs": [
        {
          "output_type": "execute_result",
          "data": {
            "text/plain": [
              "array([0.33826436, 0.65386473, 0.91649277])"
            ]
          },
          "metadata": {},
          "execution_count": 12
        }
      ],
      "source": [
        "#random\n",
        "array_c = np.random.random(3)\n",
        "array_c"
      ]
    },
    {
      "cell_type": "code",
      "execution_count": null,
      "metadata": {
        "jupyter": {
          "outputs_hidden": false
        },
        "id": "WYLfWPxs2kOa",
        "colab": {
          "base_uri": "https://localhost:8080/"
        },
        "outputId": "a1bd0fa1-5c87-4ec1-e506-e480fb5a2aa9"
      },
      "outputs": [
        {
          "output_type": "execute_result",
          "data": {
            "text/plain": [
              "array([0., 0., 0., 0., 0.])"
            ]
          },
          "metadata": {},
          "execution_count": 13
        }
      ],
      "source": [
        "#initialization with zeros\n",
        "array_d = np.zeros(5)\n",
        "array_d"
      ]
    },
    {
      "cell_type": "markdown",
      "metadata": {
        "id": "VnUUkaP92kOa"
      },
      "source": [
        "<div class=\"alert alert-success\">\n",
        "\n",
        "<b>EXERCISE</b>: **Create a vector with values ranging from 4 to 19 with steps of 1**\n",
        "</div>"
      ]
    },
    {
      "cell_type": "code",
      "execution_count": null,
      "metadata": {
        "id": "VjWvxkHS2kOa"
      },
      "outputs": [],
      "source": []
    },
    {
      "cell_type": "markdown",
      "metadata": {
        "id": "hnUmaSuv2kOa"
      },
      "source": [
        "<div class=\"alert alert-success\">\n",
        "\n",
        "<b>EXERCISE</b>: **Create a 5x5 identity matrix (look into docs!)**\n",
        "</div>\n"
      ]
    },
    {
      "cell_type": "code",
      "execution_count": null,
      "metadata": {
        "id": "w6TjlOyF2kOa"
      },
      "outputs": [],
      "source": []
    },
    {
      "cell_type": "markdown",
      "metadata": {
        "id": "GpLUNecs2kOa"
      },
      "source": [
        "### Indexing and slicing\n",
        "Indexing and slicing are following the same rationale as in `python lists` (see above). **Remember that the indexing starts from 0.**"
      ]
    },
    {
      "cell_type": "code",
      "execution_count": null,
      "metadata": {
        "jupyter": {
          "outputs_hidden": false
        },
        "id": "4DZf6bku2kOa"
      },
      "outputs": [],
      "source": [
        "# take the 5th element of an array\n",
        "array_e = np.arange(1,11)\n",
        "array_e[4]"
      ]
    },
    {
      "cell_type": "markdown",
      "metadata": {
        "id": "3tIqH_Tz2kOa"
      },
      "source": [
        "For 2D-arrays the first index indicates the index of the row (starting from 0) and the second one the index of the column (again starting from 0). See the example below."
      ]
    },
    {
      "cell_type": "code",
      "execution_count": null,
      "metadata": {
        "jupyter": {
          "outputs_hidden": false
        },
        "id": "9HL0dvE92kOa"
      },
      "outputs": [],
      "source": [
        "#indices of a 2d-array\n",
        "array_f = np.random.random((3,3))\n",
        "print(array_f)\n",
        "element_0_2 = array_f[0,2]\n",
        "print(element_0_2)"
      ]
    },
    {
      "cell_type": "markdown",
      "metadata": {
        "id": "4LDbfms32kOb"
      },
      "source": [
        "We can select an entire row or column by substituting an index with the : symbol"
      ]
    },
    {
      "cell_type": "code",
      "execution_count": null,
      "metadata": {
        "jupyter": {
          "outputs_hidden": false
        },
        "id": "s4DtkhaO2kOb"
      },
      "outputs": [],
      "source": [
        "array_f[:,2] #3rd column"
      ]
    },
    {
      "cell_type": "code",
      "execution_count": null,
      "metadata": {
        "jupyter": {
          "outputs_hidden": false
        },
        "id": "mglTTQsA2kOb"
      },
      "outputs": [],
      "source": [
        "array_f[0,:] #1st row"
      ]
    },
    {
      "cell_type": "markdown",
      "metadata": {
        "id": "bQDMZCiu2kOb"
      },
      "source": [
        "For slicing, we use the same syntax as in lists, i.e., if M is an ndarray we can write `M[start:stop:step]`."
      ]
    },
    {
      "cell_type": "code",
      "execution_count": null,
      "metadata": {
        "jupyter": {
          "outputs_hidden": false
        },
        "id": "y1CeGEau2kOb"
      },
      "outputs": [],
      "source": [
        "array_g = np.arange(10)\n",
        "array_g[1:3]"
      ]
    },
    {
      "cell_type": "markdown",
      "metadata": {
        "id": "61_2pwuM2kOb"
      },
      "source": [
        "We can omit any of the 3 parameters (`start`, `stop`, `step`) selecting the rest of the elements."
      ]
    },
    {
      "cell_type": "code",
      "execution_count": null,
      "metadata": {
        "jupyter": {
          "outputs_hidden": false
        },
        "id": "b5IUwkZS2kOb"
      },
      "outputs": [],
      "source": [
        "#take the values after the index 5 (including the elemenent in the 5th position)\n",
        "array_g[5:]"
      ]
    },
    {
      "cell_type": "code",
      "execution_count": null,
      "metadata": {
        "jupyter": {
          "outputs_hidden": false
        },
        "id": "mYXljDiJ2kOb"
      },
      "outputs": [],
      "source": [
        "#take the values before the index 5 (without the elemenent in the 5th position)\n",
        "array_g[:5]"
      ]
    },
    {
      "cell_type": "markdown",
      "metadata": {
        "id": "UbOrBPaZ2kOb"
      },
      "source": [
        "<div class=\"alert alert-success\">\n",
        "\n",
        "<b>EXERCISE</b>: **Create a null vector of size 10 except for the fifth value which should be equal to 1.**\n",
        "</div>"
      ]
    },
    {
      "cell_type": "code",
      "execution_count": null,
      "metadata": {
        "id": "Xn8yIeof2kOc"
      },
      "outputs": [],
      "source": []
    },
    {
      "cell_type": "markdown",
      "metadata": {
        "id": "_SfONFw02kOc"
      },
      "source": [
        "**Fancy indexing**: when an array or a list is used instead of an index. See the example"
      ]
    },
    {
      "cell_type": "code",
      "execution_count": null,
      "metadata": {
        "jupyter": {
          "outputs_hidden": false
        },
        "id": "_HgwNOG82kOc"
      },
      "outputs": [],
      "source": [
        "ind = [2,4,6]\n",
        "array_i = np.zeros(10) #initialization\n",
        "array_i[ind] = 1 # put 1 in the positions specified by the list \"ind\"\n",
        "array_i"
      ]
    },
    {
      "cell_type": "markdown",
      "metadata": {
        "id": "K8ilFCWl2kOc"
      },
      "source": [
        "**Boolean indexing**: mask out specific elements using as a mask a boolean numpy array.    \n",
        "Example:"
      ]
    },
    {
      "cell_type": "code",
      "execution_count": null,
      "metadata": {
        "jupyter": {
          "outputs_hidden": false
        },
        "id": "X8BEf4Jq2kOc"
      },
      "outputs": [],
      "source": [
        "A = np.arange(1,6)\n",
        "print(A)\n",
        "mask = np.array([True, False, False, True, False])\n",
        "A[mask]"
      ]
    },
    {
      "cell_type": "markdown",
      "metadata": {
        "id": "OqRH1zhn2kOc"
      },
      "source": [
        "We can use this feature to select elements that satisfy specific conditions.   \n",
        "Example:"
      ]
    },
    {
      "cell_type": "code",
      "execution_count": null,
      "metadata": {
        "jupyter": {
          "outputs_hidden": false
        },
        "id": "bb6WiZ5m2kOd"
      },
      "outputs": [],
      "source": [
        "A = np.random.random((3,3))\n",
        "print(A)\n",
        "mask = A > 0.5\n",
        "print(mask)\n",
        "A_masked = A[mask]\n",
        "A_masked"
      ]
    },
    {
      "cell_type": "markdown",
      "metadata": {
        "id": "lqN2sFpJ2kOd"
      },
      "source": [
        "<div class=\"alert alert-success\">\n",
        "\n",
        "<b>EXERCISE</b>: **Change all even numbers into zero-values**\n",
        "</div>\n"
      ]
    },
    {
      "cell_type": "code",
      "execution_count": null,
      "metadata": {
        "jupyter": {
          "outputs_hidden": false
        },
        "id": "GlDdcv922kOd"
      },
      "outputs": [],
      "source": [
        "#start by creating an array randomly\n"
      ]
    },
    {
      "cell_type": "markdown",
      "metadata": {
        "id": "ua_p9Ulp2kOd"
      },
      "source": [
        "### Linear algebra   \n",
        "Vectorizing code is the key to writing efficient numerical calculation with Python/Numpy. That means that as much as possible of a program should be formulated in terms of matrix and vector operations."
      ]
    },
    {
      "cell_type": "code",
      "execution_count": null,
      "metadata": {
        "jupyter": {
          "outputs_hidden": false
        },
        "id": "b7aNPfof2kOd"
      },
      "outputs": [],
      "source": [
        "A = np.arange(25).reshape(5,5)\n",
        "A"
      ]
    },
    {
      "cell_type": "code",
      "execution_count": null,
      "metadata": {
        "jupyter": {
          "outputs_hidden": false
        },
        "id": "dwtT8vKf2kOd"
      },
      "outputs": [],
      "source": [
        "A + 1 + A*2"
      ]
    },
    {
      "cell_type": "markdown",
      "metadata": {
        "id": "M7YXA-DO2kOd"
      },
      "source": [
        "When we add, subtract, multiply and divide arrays with each other, the default behaviour is the element-wise mode:"
      ]
    },
    {
      "cell_type": "code",
      "execution_count": null,
      "metadata": {
        "jupyter": {
          "outputs_hidden": false
        },
        "id": "NmjO715N2kOd"
      },
      "outputs": [],
      "source": [
        "A*A"
      ]
    },
    {
      "cell_type": "markdown",
      "metadata": {
        "id": "bEf_aWg22kOe"
      },
      "source": [
        "Basic operations on numpy arrays (addition, etc.) are elementwise. Nevertheless, It’s also possible to do operations on arrays of different sizes if Numpy can transform these arrays so that they all have the same size: this conversion is called broadcasting."
      ]
    },
    {
      "cell_type": "code",
      "execution_count": null,
      "metadata": {
        "jupyter": {
          "outputs_hidden": false
        },
        "id": "jn8YdO2Z2kOe",
        "colab": {
          "base_uri": "https://localhost:8080/",
          "height": 287
        },
        "outputId": "0b450c7b-d51f-4e1d-dee7-8bfdb5446e79"
      },
      "outputs": [
        {
          "output_type": "execute_result",
          "data": {
            "text/plain": [
              "<matplotlib.colorbar.Colorbar at 0x7f90a1b16c90>"
            ]
          },
          "metadata": {},
          "execution_count": 21
        },
        {
          "output_type": "display_data",
          "data": {
            "image/png": "[encoded data removed]",
            "text/plain": [
              "<Figure size 432x288 with 2 Axes>"
            ]
          },
          "metadata": {
            "needs_background": "light"
          }
        }
      ],
      "source": [
        "x, y = np.arange(5), np.arange(5).reshape((5, 1))\n",
        "import matplotlib.pyplot as plt\n",
        "%matplotlib inline\n",
        "distance = np.sqrt(x ** 2 + y ** 2)\n",
        "distance\n",
        "plt.pcolor(distance)\n",
        "plt.colorbar()"
      ]
    },
    {
      "cell_type": "markdown",
      "metadata": {
        "id": "BSMZ42qj2kOe"
      },
      "source": [
        "**Matrix algebra**: We can perform matrix multiplication by using two functions: the `matmul()` or the `dot()`.\n",
        "You can see the [docs](https://docs.scipy.org/doc/numpy-1.13.0/reference/generated/numpy.matmul.html) for their difference."
      ]
    },
    {
      "cell_type": "code",
      "execution_count": null,
      "metadata": {
        "jupyter": {
          "outputs_hidden": false
        },
        "id": "aINwVH_C2kOe"
      },
      "outputs": [],
      "source": [
        "np.dot(A,A)"
      ]
    },
    {
      "cell_type": "markdown",
      "metadata": {
        "id": "ybF1GIfa2kOe"
      },
      "source": [
        "**Statistics**: Often it is useful to store datasets in Numpy arrays. Numpy provides a number of functions to calculate statistics of datasets in arrays."
      ]
    },
    {
      "cell_type": "code",
      "execution_count": null,
      "metadata": {
        "jupyter": {
          "outputs_hidden": false
        },
        "id": "EAGgv2Kh2kOe"
      },
      "outputs": [],
      "source": [
        "a = np.random.random(40)\n",
        "print('Mean value is', np.mean(a))\n",
        "print('Median value is',  np.median(a))\n",
        "print('Std is', np.std(a))\n",
        "print('Variance is', np.var(a))\n",
        "print('Min is', a.min())\n",
        "print('Element of minimum value is', a.argmin())\n",
        "print('Max is', a.max())\n",
        "print('Sum is', np.sum(a))\n",
        "print('Prod', np.prod(a))\n",
        "print('Cumsum is', np.cumsum(a)[-1])\n",
        "print('CumProd of 5 first elements is', np.cumprod(a)[4])\n",
        "print('Unique values in this array are:', np.unique(np.random.randint(1,6,10)))\n",
        "print('85% Percentile value is: ', np.percentile(a, 85))"
      ]
    },
    {
      "cell_type": "markdown",
      "metadata": {
        "id": "-tlkcYnG2kOe"
      },
      "source": [
        "**Sorting**"
      ]
    },
    {
      "cell_type": "code",
      "execution_count": null,
      "metadata": {
        "jupyter": {
          "outputs_hidden": false
        },
        "id": "y3Uwi0qn2kOe"
      },
      "outputs": [],
      "source": [
        "a = np.random.random(40)\n",
        "print(a.argsort()) # Returns the indices that would sort an array.\n",
        "a.sort() #sorts in place!\n",
        "print(a.argsort())"
      ]
    },
    {
      "cell_type": "markdown",
      "metadata": {
        "id": "y8W3ZoWW2kOf"
      },
      "source": [
        "**Concatenating arrays**"
      ]
    },
    {
      "cell_type": "code",
      "execution_count": null,
      "metadata": {
        "jupyter": {
          "outputs_hidden": false
        },
        "id": "xtD5X4EN2kOf"
      },
      "outputs": [],
      "source": [
        "a = np.array([[1,2], [2,4]])\n",
        "b = np.array([[5,6]])\n",
        "print(np.concatenate((a, b), axis = 0))\n",
        "print(np.concatenate((a, b.T), axis = 1)) # use .T to transpose a matrix"
      ]
    },
    {
      "cell_type": "markdown",
      "metadata": {
        "id": "LrSQBfsm2kOf"
      },
      "source": [
        "### View and copy\n",
        "As mentioned before in the introduction to basic Python, assignments in Python usually do not copy the underlaying objects, but keep the same memory space attached to an object. This increases the performance, and is important for example when objects are passed between functions, to avoid an excessive amount of memory copying when it is not necessary (technical term: pass by reference). To circumvent this, the copy-function can be used."
      ]
    },
    {
      "cell_type": "code",
      "execution_count": null,
      "metadata": {
        "jupyter": {
          "outputs_hidden": false
        },
        "id": "_pobxL132kOf"
      },
      "outputs": [],
      "source": [
        "A = np.array([[1, 2], [3, 4]])\n",
        "B = A # Same memory space as A; changing B will change A!\n",
        "C = A.copy() # New object, new memory space.\n",
        "B[0,0] = 5\n",
        "print(A)\n",
        "C[0,0] = 10\n",
        "print(A)\n",
        "print(C)"
      ]
    },
    {
      "cell_type": "markdown",
      "metadata": {
        "toc-hr-collapsed": true,
        "id": "QeD9lAsI2kOf"
      },
      "source": [
        "## 3. Pandas data structures\n",
        "For data-intensive work in Python the Pandas library has become essential. Pandas is designed to work with tabular or structured data (like R dataframe, SQL table, Excel spreadsheet, etc.).  \n",
        "What is pandas?\n",
        "* Pandas can be thought of as special arrays where columns represent variables and rows observations. In contrast to NumPy arrays, it gives better support for heterogeneous data types.\n",
        "\n",
        "* Powerful for working with missing data, working with time series data, for reading and writing your data, for reshaping, grouping, merging your data, etc."
      ]
    },
    {
      "cell_type": "code",
      "execution_count": 4,
      "metadata": {
        "id": "qdyRbDoG2kOf"
      },
      "outputs": [],
      "source": [
        "# import pandas package\n",
        "import pandas as pd"
      ]
    },
    {
      "cell_type": "markdown",
      "metadata": {
        "id": "itkFIF1x2kOf"
      },
      "source": [
        "### Data structures    \n",
        "Pandas consists of two fundamental object types, both built upon NumPy arrays: the Series object, and the DataFrame object.    \n",
        "\n",
        "**Series**   \n",
        "A Series is a basic holder for one-dimensional labeled data. It can be created much as a NumPy array is created:"
      ]
    },
    {
      "cell_type": "code",
      "execution_count": null,
      "metadata": {
        "jupyter": {
          "outputs_hidden": false
        },
        "id": "YYaTWdDy2kOg"
      },
      "outputs": [],
      "source": [
        "s = pd.Series([0.1, 0.2, 0.3, 0.4])\n",
        "s"
      ]
    },
    {
      "cell_type": "markdown",
      "metadata": {
        "id": "46xoxg5O2kOg"
      },
      "source": [
        "The difference with the numpy arrays is that in series we can use various indexing ways.  \n",
        "We can take the indices and the values of the data structure `s` by using the following properties.\n"
      ]
    },
    {
      "cell_type": "code",
      "execution_count": null,
      "metadata": {
        "jupyter": {
          "outputs_hidden": false
        },
        "id": "vpP1hh-02kOg"
      },
      "outputs": [],
      "source": [
        "print(s.index)\n",
        "print(s.values)"
      ]
    },
    {
      "cell_type": "markdown",
      "metadata": {
        "id": "wU69aYfC2kOg"
      },
      "source": [
        "We can also define explicitely the indexing of a series:"
      ]
    },
    {
      "cell_type": "code",
      "execution_count": null,
      "metadata": {
        "jupyter": {
          "outputs_hidden": false
        },
        "id": "gCqRAzeM2kOg"
      },
      "outputs": [],
      "source": [
        "s2 = pd.Series(np.arange(4), index=['a', 'b', 'c', 'd'])\n",
        "print(s2)\n",
        "print(s2['d']) #print the value of the series in the position 'd'"
      ]
    },
    {
      "cell_type": "markdown",
      "metadata": {
        "id": "c5VluFgG2kOg"
      },
      "source": [
        "A Series object is similar to an **ordered** dictionary in which each key is mapped to a specific value.   \n",
        "In fact, it's possible to construct a series directly from a Python dictionary:"
      ]
    },
    {
      "cell_type": "code",
      "execution_count": null,
      "metadata": {
        "jupyter": {
          "outputs_hidden": false
        },
        "id": "0hexomDg2kOg"
      },
      "outputs": [],
      "source": [
        "pop_dict = {'Germany': 81.3,\n",
        "            'Belgium': 11.3,\n",
        "            'France': 64.3,\n",
        "            'United Kingdom': 64.9,\n",
        "            'Netherlands': 16.9}\n",
        "population = pd.Series(pop_dict)\n",
        "population"
      ]
    },
    {
      "cell_type": "markdown",
      "metadata": {
        "id": "5mLVQlKK2kOg"
      },
      "source": [
        "Slicing and indexing works as expected:"
      ]
    },
    {
      "cell_type": "code",
      "execution_count": null,
      "metadata": {
        "jupyter": {
          "outputs_hidden": false
        },
        "id": "EO_njlI22kOh"
      },
      "outputs": [],
      "source": [
        "print(population['Germany'])\n",
        "print(population[population > 60]) #remember boolean indexing\n",
        "print(population['France':'Netherlands'])"
      ]
    },
    {
      "cell_type": "markdown",
      "metadata": {
        "id": "0POo_XKz2kOh"
      },
      "source": [
        "Element-wise operations:"
      ]
    },
    {
      "cell_type": "code",
      "execution_count": null,
      "metadata": {
        "jupyter": {
          "outputs_hidden": false
        },
        "id": "z_m1JUm-2kOh"
      },
      "outputs": [],
      "source": [
        "population / 100"
      ]
    },
    {
      "cell_type": "markdown",
      "metadata": {
        "id": "-UQBmD-C2kOh"
      },
      "source": [
        "Useful functions:"
      ]
    },
    {
      "cell_type": "code",
      "execution_count": null,
      "metadata": {
        "jupyter": {
          "outputs_hidden": false
        },
        "id": "V9IUxGTZ2kOh"
      },
      "outputs": [],
      "source": [
        "print(population.mean())\n",
        "print(population.max())"
      ]
    },
    {
      "cell_type": "markdown",
      "metadata": {
        "id": "ET1Cb_ef2kOh"
      },
      "source": [
        "**DataFrames: Multi-dimensional Data**   \n",
        "A DataFrame is a tablular data structure (multi-dimensional object to hold labeled data) comprised of rows and columns, akin to a spreadsheet, database table, or R's data.frame object. You can think of it as multiple Series objects that share the same index.   \n",
        "\n",
        "One of the most common ways of creating a dataframe is from a dictionary of arrays or lists."
      ]
    },
    {
      "cell_type": "code",
      "execution_count": null,
      "metadata": {
        "jupyter": {
          "outputs_hidden": false
        },
        "id": "2kADghfG2kOh"
      },
      "outputs": [],
      "source": [
        "data = {'country': ['Belgium', 'France', 'Germany', 'Netherlands', 'United Kingdom'],\n",
        "        'population': [11.3, 64.3, 81.3, 16.9, 64.9],\n",
        "        'area': [30510, 671308, 357050, 41526, 244820],\n",
        "        'capital': ['Brussels', 'Paris', 'Berlin', 'Amsterdam', 'London']}\n",
        "countries = pd.DataFrame(data)\n",
        "countries"
      ]
    },
    {
      "cell_type": "markdown",
      "metadata": {
        "id": "6eJjKW_G2kOh"
      },
      "source": [
        "A DataFrame has besides an index attribute, also a columns attribute:"
      ]
    },
    {
      "cell_type": "code",
      "execution_count": null,
      "metadata": {
        "jupyter": {
          "outputs_hidden": false
        },
        "id": "gbbnpzQ52kOh"
      },
      "outputs": [],
      "source": [
        "countries.columns"
      ]
    },
    {
      "cell_type": "markdown",
      "metadata": {
        "id": "z5u2xB0Y2kOh"
      },
      "source": [
        "An overview of that information can be given with the info() method:"
      ]
    },
    {
      "cell_type": "code",
      "execution_count": null,
      "metadata": {
        "jupyter": {
          "outputs_hidden": false
        },
        "id": "ZyOhRxlP2kOi"
      },
      "outputs": [],
      "source": [
        "countries.info()"
      ]
    },
    {
      "cell_type": "markdown",
      "metadata": {
        "id": "4z_SEc2b2kOi"
      },
      "source": [
        "To access a Series representing a column in the data, use typical indexing syntax:"
      ]
    },
    {
      "cell_type": "code",
      "execution_count": null,
      "metadata": {
        "jupyter": {
          "outputs_hidden": false
        },
        "id": "LXc9A_Ra2kOi"
      },
      "outputs": [],
      "source": [
        "countries['capital']"
      ]
    },
    {
      "cell_type": "markdown",
      "metadata": {
        "id": "2jDRlxk42kOi"
      },
      "source": [
        "If we don't like what the index looks like, we can reset it and set one of our columns:\n"
      ]
    },
    {
      "cell_type": "code",
      "execution_count": null,
      "metadata": {
        "jupyter": {
          "outputs_hidden": false
        },
        "id": "BC8914kf2kOi"
      },
      "outputs": [],
      "source": [
        "countries = countries.set_index('country')\n",
        "countries"
      ]
    },
    {
      "cell_type": "markdown",
      "metadata": {
        "id": "MbIuT5JB2kOi"
      },
      "source": [
        "Adding a new column to the dataframe is very simple:"
      ]
    },
    {
      "cell_type": "code",
      "execution_count": null,
      "metadata": {
        "jupyter": {
          "outputs_hidden": false
        },
        "id": "aYsc3hK12kOi"
      },
      "outputs": [],
      "source": [
        "countries['density'] = countries['population']*1000000 / countries['area']\n",
        "countries"
      ]
    },
    {
      "cell_type": "markdown",
      "metadata": {
        "id": "U4Q5icmY2kOi"
      },
      "source": [
        "Masking is also working as expected:"
      ]
    },
    {
      "cell_type": "code",
      "execution_count": null,
      "metadata": {
        "jupyter": {
          "outputs_hidden": false
        },
        "id": "2FgkxYSr2kOi"
      },
      "outputs": [],
      "source": [
        "countries[countries['density'] > 300]"
      ]
    },
    {
      "cell_type": "markdown",
      "metadata": {
        "id": "zHgdLQSd2kOj"
      },
      "source": [
        "One useful method to use is the describe method, which computes summary statistics for each column:"
      ]
    },
    {
      "cell_type": "code",
      "execution_count": null,
      "metadata": {
        "jupyter": {
          "outputs_hidden": false
        },
        "id": "8lS_cPp42kOj"
      },
      "outputs": [],
      "source": [
        "countries.describe()"
      ]
    },
    {
      "cell_type": "markdown",
      "metadata": {
        "id": "artTD5xA2kOj"
      },
      "source": [
        "For more advanced indexing, you have some extra attributes:   \n",
        "* loc: selection by label   \n",
        "* iloc: selection by position"
      ]
    },
    {
      "cell_type": "code",
      "execution_count": null,
      "metadata": {
        "jupyter": {
          "outputs_hidden": false
        },
        "id": "Bg3oFium2kOj"
      },
      "outputs": [],
      "source": [
        "countries.loc['Germany', 'area']"
      ]
    },
    {
      "cell_type": "markdown",
      "metadata": {
        "id": "BOsKIgHu2kOj"
      },
      "source": [
        "Similar to numpy indexing by using `iloc`:"
      ]
    },
    {
      "cell_type": "code",
      "execution_count": null,
      "metadata": {
        "jupyter": {
          "outputs_hidden": false
        },
        "id": "OAi_wunQ2kOj"
      },
      "outputs": [],
      "source": [
        "countries.iloc[2, 0]"
      ]
    },
    {
      "cell_type": "markdown",
      "metadata": {
        "id": "VB-VuH_92kOj"
      },
      "source": [
        "### Plotting\n",
        "We can visualize the data by using the packages matplotlib and seaborn:"
      ]
    },
    {
      "cell_type": "code",
      "execution_count": null,
      "metadata": {
        "id": "0M5XO4fX2kOj"
      },
      "outputs": [],
      "source": [
        "%matplotlib inline\n",
        "import matplotlib.pyplot as plt\n",
        "import seaborn\n",
        "%matplotlib inline\n",
        "plt.style.use('seaborn-white')"
      ]
    },
    {
      "cell_type": "code",
      "execution_count": null,
      "metadata": {
        "jupyter": {
          "outputs_hidden": false
        },
        "id": "T1YWIG762kOk"
      },
      "outputs": [],
      "source": [
        "countries.plot()"
      ]
    },
    {
      "cell_type": "markdown",
      "metadata": {
        "id": "uxSwEpW52kOk"
      },
      "source": [
        "This plot is not so informative though, but we can visualise the data of each column separately.   \n",
        "You can also  play with the different keywords: 'line', 'bar', 'hist', 'density', 'area', 'pie', 'scatter', 'hexbin'   \n",
        "See the examples below."
      ]
    },
    {
      "cell_type": "code",
      "execution_count": null,
      "metadata": {
        "jupyter": {
          "outputs_hidden": false
        },
        "id": "mc61gjG12kOk"
      },
      "outputs": [],
      "source": [
        "countries['population'].plot(kind='bar')"
      ]
    },
    {
      "cell_type": "code",
      "execution_count": null,
      "metadata": {
        "jupyter": {
          "outputs_hidden": false
        },
        "id": "5zWC3ffc2kOk"
      },
      "outputs": [],
      "source": [
        "countries['population'].plot(kind='pie')"
      ]
    },
    {
      "cell_type": "markdown",
      "metadata": {
        "id": "OWu5sBGZ2kOk"
      },
      "source": [
        "For examining possible correlations, a scatter plot is usually quite useful:"
      ]
    },
    {
      "cell_type": "code",
      "execution_count": null,
      "metadata": {
        "jupyter": {
          "outputs_hidden": false
        },
        "id": "lukYE2VF2kOl"
      },
      "outputs": [],
      "source": [
        "countries.plot.scatter('population', 'area')"
      ]
    },
    {
      "cell_type": "markdown",
      "metadata": {
        "id": "p5r4yMn72kOl"
      },
      "source": [
        "**Reading from file**     \n",
        "A wide range of input/output formats are natively supported by pandas:   \n",
        "* CSV, text\n",
        "* SQL database\n",
        "* Excel\n",
        "* HDF5\n",
        "* json\n",
        "* html\n",
        "* pickle   \n",
        "etc.\n",
        "\n"
      ]
    },
    {
      "cell_type": "markdown",
      "metadata": {
        "id": "f05wzQkA2kOl"
      },
      "source": [
        "## 4. The iris example\n",
        "For the rest of our first lab we will explore the *iris* dataset, which is stored as a .csv file. This famous (Fisher’s or Anderson’s) iris dataset contains measurements (in centimeters) of the sepal length and width and petal length and width,\n",
        "respectively, of 120 iris flowers. Each of these flowers belongs to one of 3 species of iris. These species\n",
        "are Iris setosa, I. versicolor, and I. virginica.\n",
        "To do it so, we should firstly load the data as:"
      ]
    },
    {
      "cell_type": "code",
      "source": [
        "!wget https://raw.githubusercontent.com/BioML-UGent/MLLS/main/01_python_intro/iris.csv"
      ],
      "metadata": {
        "id": "39IUPDww6z7L"
      },
      "execution_count": null,
      "outputs": []
    },
    {
      "cell_type": "code",
      "source": [
        "iris = pd.read_csv('iris.csv')"
      ],
      "metadata": {
        "id": "77KCbUxMNsyy"
      },
      "execution_count": 5,
      "outputs": []
    },
    {
      "cell_type": "code",
      "execution_count": null,
      "metadata": {
        "jupyter": {
          "outputs_hidden": false
        },
        "id": "F2ynk1Sf2kOl"
      },
      "outputs": [],
      "source": [
        "iris.head()"
      ]
    },
    {
      "cell_type": "markdown",
      "metadata": {
        "id": "gSvKU-jb2kOl"
      },
      "source": [
        "<div class=\"alert alert-success\">\n",
        "\n",
        "<b>EXERCISE</b>: **Calculate the basic statistics for the dataset**\n",
        "</div>\n"
      ]
    },
    {
      "cell_type": "code",
      "execution_count": null,
      "metadata": {
        "jupyter": {
          "outputs_hidden": false
        },
        "id": "ji6Ihj8-2kOl"
      },
      "outputs": [],
      "source": []
    },
    {
      "cell_type": "markdown",
      "metadata": {
        "id": "3N1KJm6M2kOl"
      },
      "source": [
        "<div class=\"alert alert-success\">\n",
        "\n",
        "<b>EXERCISE</b>: **Create a scatter plot of the “sepal length” versus the “sepal width”.**\n",
        "</div>  "
      ]
    },
    {
      "cell_type": "code",
      "execution_count": null,
      "metadata": {
        "jupyter": {
          "outputs_hidden": false
        },
        "id": "gi7b97m22kOl"
      },
      "outputs": [],
      "source": []
    },
    {
      "cell_type": "markdown",
      "metadata": {
        "id": "pHkKF9Vx2kOl"
      },
      "source": [
        "<div class=\"alert alert-success\">\n",
        "\n",
        "<b>EXERCISE</b>: **Create a frequency histogram of the variable “sepal length”.**\n",
        "</div>      "
      ]
    },
    {
      "cell_type": "code",
      "execution_count": null,
      "metadata": {
        "jupyter": {
          "outputs_hidden": false
        },
        "id": "4Qa_Dydz2kOm"
      },
      "outputs": [],
      "source": []
    },
    {
      "cell_type": "markdown",
      "metadata": {
        "id": "v0IYlvFg2kOm"
      },
      "source": [
        "<div class=\"alert alert-success\">\n",
        "\n",
        "<b>EXERCISE</b>: **Create a scatter plot of the \"petal length\" versus the \"petal width\" incorporating the species information as well.**     \n",
        "Hint! You can use 'replace' functions or 'cat.codes', see docs, to transform categorical data to numeric values\n",
        "</div>  \n",
        "\n"
      ]
    },
    {
      "cell_type": "code",
      "execution_count": null,
      "metadata": {
        "jupyter": {
          "outputs_hidden": false
        },
        "id": "zh-Pa4h12kOm"
      },
      "outputs": [],
      "source": []
    },
    {
      "cell_type": "markdown",
      "source": [
        "## 5. Python classes\n",
        "Python is an object-oriented programming language. With this philosophy, creating and using classes and instances becomes really easy."
      ],
      "metadata": {
        "id": "joRAg_MyjiDl"
      }
    },
    {
      "cell_type": "markdown",
      "source": [
        "### Create a class\n",
        "Classes work like a blueprint for the creation of objects."
      ],
      "metadata": {
        "id": "LOtOtHqIkXV7"
      }
    },
    {
      "cell_type": "code",
      "source": [
        "class Student:\n",
        "    pass"
      ],
      "metadata": {
        "id": "YtYnP9vrkW14"
      },
      "execution_count": null,
      "outputs": []
    },
    {
      "cell_type": "markdown",
      "source": [
        "### Define what happens when a user creates an instance of the class\n",
        "This is done by defining a method called .__init__(). For every new Student object we create, .__init__() sets the initial state of the instance's attributes."
      ],
      "metadata": {
        "id": "LuR99IM6lHyE"
      }
    },
    {
      "cell_type": "code",
      "source": [
        "class Student:\n",
        "    def __init__(self, name, surname, age, gender, courses):\n",
        "        self.name = name\n",
        "        self.surname = surname\n",
        "        self.age = age\n",
        "        self.gender = gender\n",
        "        self.courses = courses"
      ],
      "metadata": {
        "id": "2pDOVgnflHHJ"
      },
      "execution_count": null,
      "outputs": []
    },
    {
      "cell_type": "markdown",
      "source": [
        "\n",
        "### Instantiate an Object\n"
      ],
      "metadata": {
        "id": "W8QJ_uH6nR4v"
      }
    },
    {
      "cell_type": "code",
      "source": [
        "Student()"
      ],
      "metadata": {
        "id": "M5dyqO7mnaCD"
      },
      "execution_count": null,
      "outputs": []
    },
    {
      "cell_type": "code",
      "source": [
        "std1 = Student(\"John\", \"Doe\", 20, \"M\", [\"Biology\", \"Linear Algebra\", \"Predictive Modeling\"])"
      ],
      "metadata": {
        "id": "a_xCXDZ5ndSQ"
      },
      "execution_count": null,
      "outputs": []
    },
    {
      "cell_type": "markdown",
      "source": [
        "### Accessing the instance's attributes\n",
        "This can be easily done using dot notation."
      ],
      "metadata": {
        "id": "hxUISjlqoO41"
      }
    },
    {
      "cell_type": "code",
      "source": [
        "std1"
      ],
      "metadata": {
        "id": "txAwGw6Zoqwj"
      },
      "execution_count": null,
      "outputs": []
    },
    {
      "cell_type": "code",
      "source": [
        "std1.age"
      ],
      "metadata": {
        "id": "zYD3Gj7RoAbD"
      },
      "execution_count": null,
      "outputs": []
    },
    {
      "cell_type": "markdown",
      "source": [
        "### Modifying the attribute of an instance\n",
        "You can change the .age attribute of the Student object really easily.\n",
        "\n",
        "Custom objects are mutable. An object is mutable if it can be dynamically updated. Objects like lists and dictionaries are mutable, but strings and tuples are not."
      ],
      "metadata": {
        "id": "ziSqZyc6pH4w"
      }
    },
    {
      "cell_type": "code",
      "source": [
        "std1.age = 21"
      ],
      "metadata": {
        "id": "xQv0mK6oooiY"
      },
      "execution_count": null,
      "outputs": []
    },
    {
      "cell_type": "code",
      "source": [
        "std1.age"
      ],
      "metadata": {
        "id": "3UANuAmOp675"
      },
      "execution_count": null,
      "outputs": []
    },
    {
      "cell_type": "markdown",
      "source": [
        "### Instance Methods\n",
        "Instance methods are functions defined in a class and can only be called from an instance of that class."
      ],
      "metadata": {
        "id": "Mln2m42JqEdy"
      }
    },
    {
      "cell_type": "code",
      "source": [
        "class Student:\n",
        "    def __init__(self, name, surname, age, gender, courses):\n",
        "        self.name = name\n",
        "        self.surname = surname\n",
        "        self.age = age\n",
        "        self.gender = gender\n",
        "        self.courses = courses\n",
        "\n",
        "    # Instance method\n",
        "    def get_num_courses(self):\n",
        "        return len(self.courses)\n",
        "\n",
        "    # Another instance method\n",
        "    def get_full_name(self):\n",
        "        return self.name +' '+self.surname"
      ],
      "metadata": {
        "id": "ksDU7KY2p-fu"
      },
      "execution_count": null,
      "outputs": []
    },
    {
      "cell_type": "code",
      "source": [
        "std1 = Student(\"John\", \"Doe\", 20, \"M\", [\"Biology\", \"Linear Algebra\", \"Predictive Modeling\"])"
      ],
      "metadata": {
        "id": "9hDa4TI8stFo"
      },
      "execution_count": null,
      "outputs": []
    },
    {
      "cell_type": "code",
      "source": [
        "std1.get_full_name()"
      ],
      "metadata": {
        "id": "oN_-UzF-stwQ"
      },
      "execution_count": null,
      "outputs": []
    }
  ],
  "metadata": {
    "kernelspec": {
      "display_name": "Python 3",
      "language": "python",
      "name": "python3"
    },
    "language_info": {
      "codemirror_mode": {
        "name": "ipython",
        "version": 3
      },
      "file_extension": ".py",
      "mimetype": "text/x-python",
      "name": "python",
      "nbconvert_exporter": "python",
      "pygments_lexer": "ipython3",
      "version": "3.8.5"
    },
    "toc-autonumbering": false,
    "colab": {
      "provenance": [],
      "collapsed_sections": [
        "pPSaD-uH2kOX"
      ]
    }
  },
  "nbformat": 4,
  "nbformat_minor": 0
}