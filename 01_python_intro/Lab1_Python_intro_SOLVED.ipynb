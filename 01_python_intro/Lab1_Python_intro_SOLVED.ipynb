{
  "cells": [
    {
      "cell_type": "markdown",
      "metadata": {
        "id": "0LkOzLqR2kOF",
        "toc-hr-collapsed": false
      },
      "source": [
        "# PC Lab 1: Introduction to Python\n",
        "---\n",
        "\n",
        "Python is a versatile and beginner-friendly open source programming language that has gained immense popularity for its simplicity and readability. Whether you are a seasoned developer or just starting your coding journey, Python's clean syntax and extensive libraries (also called packages) make it an ideal choice for a wide range of applications, from web development to data science and artificial intelligence. In this Jupyter Notebook, we'll explore the fundamentals of Python, covering essential concepts like variables, data types, control flow, and functions. Next, we'll explore essential packages for data science, such as NumPy, Pandas and Matplotlib. NumPy is a powerful library for numerical operations, providing support for large, multi-dimensional arrays and matrices. Pandas, another crucial package, simplifies data manipulation and analysis through its DataFrame structure, making it easy to work with structured data. Matplotlib is a versatile plotting library, enabling the creation of a wide array of visualizations to better understand and communicate your data. Together, these packages form the backbone of Python's data science ecosystem, allowing you to efficiently handle and analyze data while visualizing your insights in a clear and impactful manner."
      ]
    },
    {
      "cell_type": "markdown",
      "metadata": {
        "id": "sMKU0HbV2kOQ",
        "toc-hr-collapsed": true
      },
      "source": [
        "## 1. Basics in Python   \n",
        "\n",
        "In Jupyter Notebook we can type simple commands (such as assignments, summations etc.) in the cells and execute them in the way we saw above.   \n",
        "Try to execute the following commands:"
      ]
    },
    {
      "cell_type": "code",
      "execution_count": 1,
      "metadata": {
        "id": "pdGCOgLG2kOQ"
      },
      "outputs": [],
      "source": [
        "a = 8"
      ]
    },
    {
      "cell_type": "code",
      "execution_count": 2,
      "metadata": {
        "colab": {
          "base_uri": "https://localhost:8080/"
        },
        "id": "R5o-f-kO2kOR",
        "jupyter": {
          "outputs_hidden": false
        },
        "outputId": "cae2c720-9f0b-4066-8f3b-b42fd24b52c8"
      },
      "outputs": [
        {
          "data": {
            "text/plain": [
              "8"
            ]
          },
          "execution_count": 2,
          "metadata": {},
          "output_type": "execute_result"
        }
      ],
      "source": [
        "a"
      ]
    },
    {
      "cell_type": "code",
      "execution_count": 3,
      "metadata": {
        "colab": {
          "base_uri": "https://localhost:8080/"
        },
        "id": "LOjYMVOP2kOR",
        "jupyter": {
          "outputs_hidden": false
        },
        "outputId": "16c839a1-3fb1-477c-c6a3-e7ac3d8973af"
      },
      "outputs": [],
      "source": [
        "a = a + 4"
      ]
    },
    {
      "cell_type": "code",
      "execution_count": 4,
      "metadata": {
        "colab": {
          "base_uri": "https://localhost:8080/"
        },
        "id": "9_AloPM92kOR",
        "jupyter": {
          "outputs_hidden": false
        },
        "outputId": "a8dcf28d-986c-49bb-c77f-2adfcaf9b8eb"
      },
      "outputs": [
        {
          "data": {
            "text/plain": [
              "4.0"
            ]
          },
          "execution_count": 4,
          "metadata": {},
          "output_type": "execute_result"
        }
      ],
      "source": [
        "a / 3"
      ]
    },
    {
      "cell_type": "markdown",
      "metadata": {
        "id": "gGHmQ6EH2kOR"
      },
      "source": [
        "In Python there are 4 types of scalars:\n",
        "* Integer\n",
        "* Float\n",
        "* Complex number\n",
        "* Boolean   \n",
        "You can change the type of a variable by using casting:\n"
      ]
    },
    {
      "cell_type": "code",
      "execution_count": 5,
      "metadata": {
        "colab": {
          "base_uri": "https://localhost:8080/"
        },
        "id": "SkC_Poz_2kOR",
        "jupyter": {
          "outputs_hidden": false
        },
        "outputId": "a8e3b75e-af84-4dd0-9bac-37dba0355d01"
      },
      "outputs": [
        {
          "data": {
            "text/plain": [
              "12.0"
            ]
          },
          "execution_count": 5,
          "metadata": {},
          "output_type": "execute_result"
        }
      ],
      "source": [
        "float(a)"
      ]
    },
    {
      "cell_type": "markdown",
      "metadata": {
        "id": "Yb_Fn0jk2kOS"
      },
      "source": [
        "There are also different operators. The basic ones are the following:   \n",
        "summation (+), subtraction (-), division (/), multiplication (\\*) , modulo (%), exponentiation (\\*\\*)   \n",
        "Try to execute the following cells to see examples:"
      ]
    },
    {
      "cell_type": "code",
      "execution_count": 6,
      "metadata": {
        "colab": {
          "base_uri": "https://localhost:8080/"
        },
        "id": "sYPNHhfR2kOS",
        "jupyter": {
          "outputs_hidden": false
        },
        "outputId": "44eface0-9e9b-43c0-cfc4-075cc999dfee"
      },
      "outputs": [
        {
          "data": {
            "text/plain": [
              "0"
            ]
          },
          "execution_count": 6,
          "metadata": {},
          "output_type": "execute_result"
        }
      ],
      "source": [
        "a%2"
      ]
    },
    {
      "cell_type": "code",
      "execution_count": 7,
      "metadata": {
        "colab": {
          "base_uri": "https://localhost:8080/"
        },
        "id": "bUPi6Cfu2kOS",
        "jupyter": {
          "outputs_hidden": false
        },
        "outputId": "74adc61a-2f27-464e-fe6e-c21db41d32a1"
      },
      "outputs": [
        {
          "data": {
            "text/plain": [
              "144"
            ]
          },
          "execution_count": 7,
          "metadata": {},
          "output_type": "execute_result"
        }
      ],
      "source": [
        "a**2"
      ]
    },
    {
      "cell_type": "code",
      "execution_count": 8,
      "metadata": {
        "colab": {
          "base_uri": "https://localhost:8080/"
        },
        "id": "wI7-h-bV2kOS",
        "jupyter": {
          "outputs_hidden": false
        },
        "outputId": "a45e0676-46ea-4ff5-b7d5-d7a6f3c82d7c"
      },
      "outputs": [
        {
          "name": "stdout",
          "output_type": "stream",
          "text": [
            "10\n",
            "24\n"
          ]
        }
      ],
      "source": [
        "print(a-2)\n",
        "print(a+a)"
      ]
    },
    {
      "cell_type": "markdown",
      "metadata": {
        "id": "ENgYYaN12kOS"
      },
      "source": [
        "### Lists   \n",
        "List in Python is an ordered collection of objects. These objects can be scalars, strings, other lists etc."
      ]
    },
    {
      "cell_type": "code",
      "execution_count": 9,
      "metadata": {
        "colab": {
          "base_uri": "https://localhost:8080/"
        },
        "id": "pODBrZMh2kOT",
        "jupyter": {
          "outputs_hidden": false
        },
        "outputId": "5c1a8b19-ce6e-4b90-c1ad-fc3dcb394ace"
      },
      "outputs": [
        {
          "name": "stdout",
          "output_type": "stream",
          "text": [
            "[1, 2, 3, 4, 'x', [1, 2, 3], 100, 200]\n"
          ]
        }
      ],
      "source": [
        "list = [1, 2, 3, 4, 'x', [1,2,3], 100, 200]\n",
        "print (list)"
      ]
    },
    {
      "cell_type": "markdown",
      "metadata": {
        "id": "LARLhm3s2kOT"
      },
      "source": [
        "We can access the elements of a list by using indices starting from 0."
      ]
    },
    {
      "cell_type": "code",
      "execution_count": 10,
      "metadata": {
        "id": "cjc53xaT2kOT",
        "jupyter": {
          "outputs_hidden": false
        }
      },
      "outputs": [
        {
          "name": "stdout",
          "output_type": "stream",
          "text": [
            "1\n",
            "2\n"
          ]
        }
      ],
      "source": [
        "print(list[0])\n",
        "print(list[1])\n"
      ]
    },
    {
      "cell_type": "markdown",
      "metadata": {
        "id": "P-Og7I6A2kOT"
      },
      "source": [
        "Negative indices count from the back."
      ]
    },
    {
      "cell_type": "code",
      "execution_count": 11,
      "metadata": {
        "id": "EdEQroAE2kOT",
        "jupyter": {
          "outputs_hidden": false
        }
      },
      "outputs": [
        {
          "name": "stdout",
          "output_type": "stream",
          "text": [
            "200\n",
            "100\n"
          ]
        }
      ],
      "source": [
        "print(list[-1])\n",
        "print(list[-2])"
      ]
    },
    {
      "cell_type": "markdown",
      "metadata": {
        "id": "a5TojWd-2kOT"
      },
      "source": [
        "**Slicing**: take sublists of a list    \n",
        "You can use a starting and an ending index with a \":\" symbol in between for this purpose.   \n",
        "Example syntax: `list[start:stop]`"
      ]
    },
    {
      "cell_type": "code",
      "execution_count": 12,
      "metadata": {
        "colab": {
          "base_uri": "https://localhost:8080/"
        },
        "id": "4h4zRaM_2kOT",
        "jupyter": {
          "outputs_hidden": false
        },
        "outputId": "7a035bbf-b003-4450-f65d-475d29e81d97"
      },
      "outputs": [
        {
          "data": {
            "text/plain": [
              "[1, 2, 3, 4]"
            ]
          },
          "execution_count": 12,
          "metadata": {},
          "output_type": "execute_result"
        }
      ],
      "source": [
        "#take the first 4 elements of the list\n",
        "list[0:4]"
      ]
    },
    {
      "cell_type": "markdown",
      "metadata": {
        "id": "HY6jjwmz2kOU"
      },
      "source": [
        "We can see that the indices of the printed elements satisfy the condition start <= index < stop, i.e., the last printed element has the index stop-1    \n",
        "\n",
        "**Functions**: List is a data structure on which basic functions can be applied.\n"
      ]
    },
    {
      "cell_type": "code",
      "execution_count": 13,
      "metadata": {
        "id": "VoSrLWVJ2kOU",
        "jupyter": {
          "outputs_hidden": false
        }
      },
      "outputs": [
        {
          "name": "stdout",
          "output_type": "stream",
          "text": [
            "[1, 2, 3, 4, 'x', [1, 2, 3], 100, 200, 1000]\n"
          ]
        }
      ],
      "source": [
        "#Insert an element to a list:\n",
        "list.append(1000)\n",
        "print(list)"
      ]
    },
    {
      "cell_type": "code",
      "execution_count": 14,
      "metadata": {
        "id": "lWnUGX6E2kOU",
        "jupyter": {
          "outputs_hidden": false
        }
      },
      "outputs": [
        {
          "name": "stdout",
          "output_type": "stream",
          "text": [
            "[1, 2, 3, 4, 'x', [1, 2, 3], 100, 200]\n"
          ]
        }
      ],
      "source": [
        "#Pop an element from a list (return the last element and remove it from the list)\n",
        "list.pop()\n",
        "print(list)"
      ]
    },
    {
      "cell_type": "code",
      "execution_count": 15,
      "metadata": {
        "id": "lQ9aqf6v2kOU",
        "jupyter": {
          "outputs_hidden": false
        }
      },
      "outputs": [
        {
          "name": "stdout",
          "output_type": "stream",
          "text": [
            "[1, 2, 3, 4, 'x', [1, 2, 3], 100, 200, 2, 3, 4]\n"
          ]
        }
      ],
      "source": [
        "#extend a list\n",
        "list2 = [2,3,4]\n",
        "list.extend(list2)\n",
        "print(list)"
      ]
    },
    {
      "cell_type": "markdown",
      "metadata": {
        "id": "8PpKdRyj2kOU"
      },
      "source": [
        "### Strings   \n",
        "String is a sequence of characters.\n"
      ]
    },
    {
      "cell_type": "code",
      "execution_count": 16,
      "metadata": {
        "id": "jBvbaNgU2kOU",
        "jupyter": {
          "outputs_hidden": false
        }
      },
      "outputs": [
        {
          "name": "stdout",
          "output_type": "stream",
          "text": [
            "New string blah\n"
          ]
        }
      ],
      "source": [
        "string = 'New string blah'\n",
        "print(string)"
      ]
    },
    {
      "cell_type": "markdown",
      "metadata": {
        "id": "MHyD-ddW2kOV"
      },
      "source": [
        "We can use slicing as in lists."
      ]
    },
    {
      "cell_type": "code",
      "execution_count": 17,
      "metadata": {
        "id": "J6cBv2ut2kOV",
        "jupyter": {
          "outputs_hidden": false
        }
      },
      "outputs": [
        {
          "data": {
            "text/plain": [
              "'ew'"
            ]
          },
          "execution_count": 17,
          "metadata": {},
          "output_type": "execute_result"
        }
      ],
      "source": [
        "string[1:3]"
      ]
    },
    {
      "cell_type": "markdown",
      "metadata": {
        "id": "x0ak0btf2kOV"
      },
      "source": [
        "**Functions**: There are several functions for handling them."
      ]
    },
    {
      "cell_type": "code",
      "execution_count": 18,
      "metadata": {
        "id": "4eo-1t_P2kOV",
        "jupyter": {
          "outputs_hidden": false
        }
      },
      "outputs": [
        {
          "data": {
            "text/plain": [
              "'NEW STRING BLAH'"
            ]
          },
          "execution_count": 18,
          "metadata": {},
          "output_type": "execute_result"
        }
      ],
      "source": [
        "string.upper()"
      ]
    },
    {
      "cell_type": "code",
      "execution_count": 19,
      "metadata": {
        "id": "ZbrgX6rs2kOV",
        "jupyter": {
          "outputs_hidden": false
        }
      },
      "outputs": [
        {
          "data": {
            "text/plain": [
              "'Old string blah'"
            ]
          },
          "execution_count": 19,
          "metadata": {},
          "output_type": "execute_result"
        }
      ],
      "source": [
        "string.replace('New', 'Old')"
      ]
    },
    {
      "cell_type": "code",
      "execution_count": 20,
      "metadata": {
        "id": "4VCxiqgI2kOV",
        "jupyter": {
          "outputs_hidden": false
        }
      },
      "outputs": [
        {
          "data": {
            "text/plain": [
              "'New string blah blah blah'"
            ]
          },
          "execution_count": 20,
          "metadata": {},
          "output_type": "execute_result"
        }
      ],
      "source": [
        "# concatenation of strings using the + operator\n",
        "string + ' blah blah'"
      ]
    },
    {
      "cell_type": "markdown",
      "metadata": {
        "id": "cbcIicW82kOV"
      },
      "source": [
        "### Dictionaries\n",
        "A dictionary is an unordered collection of key-value pairs."
      ]
    },
    {
      "cell_type": "code",
      "execution_count": 21,
      "metadata": {
        "id": "2ItpCIXH2kOW"
      },
      "outputs": [],
      "source": [
        "#key: name, value: number of kids\n",
        "dict = {'Emmy':3, 'Frank':2, 'Josef':1}"
      ]
    },
    {
      "cell_type": "code",
      "execution_count": 22,
      "metadata": {
        "id": "JQIWd5P-2kOW",
        "jupyter": {
          "outputs_hidden": false
        }
      },
      "outputs": [
        {
          "data": {
            "text/plain": [
              "2"
            ]
          },
          "execution_count": 22,
          "metadata": {},
          "output_type": "execute_result"
        }
      ],
      "source": [
        "#How many kids does Frank have?\n",
        "dict['Frank']"
      ]
    },
    {
      "cell_type": "code",
      "execution_count": 23,
      "metadata": {
        "id": "9J4e68vD2kOW",
        "jupyter": {
          "outputs_hidden": false
        }
      },
      "outputs": [
        {
          "name": "stdout",
          "output_type": "stream",
          "text": [
            "{'Emmy': 3, 'Frank': 2, 'Josef': 1, 'Ian': 2}\n"
          ]
        }
      ],
      "source": [
        "# add elements\n",
        "dict['Ian'] = 2\n",
        "print(dict)"
      ]
    },
    {
      "cell_type": "code",
      "execution_count": 24,
      "metadata": {
        "id": "5RqlnUGK2kOW",
        "jupyter": {
          "outputs_hidden": false
        }
      },
      "outputs": [
        {
          "name": "stdout",
          "output_type": "stream",
          "text": [
            "{'Emmy': 3, 'Josef': 1, 'Ian': 2}\n"
          ]
        }
      ],
      "source": [
        "#delete elements\n",
        "del dict['Frank']\n",
        "print(dict)"
      ]
    },
    {
      "cell_type": "code",
      "execution_count": 25,
      "metadata": {
        "id": "s57r5cl_2kOW",
        "jupyter": {
          "outputs_hidden": false
        }
      },
      "outputs": [
        {
          "data": {
            "text/plain": [
              "{'Emmy': 3, 'Josef': 1, 'Ian': 2, 'Peter': 3, 'Betty': 4}"
            ]
          },
          "execution_count": 25,
          "metadata": {},
          "output_type": "execute_result"
        }
      ],
      "source": [
        "#concatenate dictionaries\n",
        "dict2 = {'Peter':3, 'Betty':4}\n",
        "dict.update(dict2)\n",
        "dict"
      ]
    },
    {
      "cell_type": "code",
      "execution_count": 26,
      "metadata": {
        "id": "1tRPLhyT2kOW",
        "jupyter": {
          "outputs_hidden": false
        }
      },
      "outputs": [
        {
          "name": "stdout",
          "output_type": "stream",
          "text": [
            "dict_keys(['Emmy', 'Josef', 'Ian', 'Peter', 'Betty'])\n",
            "dict_values([3, 1, 2, 3, 4])\n"
          ]
        }
      ],
      "source": [
        "#return keys and values separately\n",
        "print(dict.keys())\n",
        "print(dict.values())"
      ]
    },
    {
      "cell_type": "markdown",
      "metadata": {
        "id": "0kI7_NLd2kOW"
      },
      "source": [
        "### Control structures\n",
        "As in all programming languages, in Python, we can encode control structures i.e. blocks of code which are executed if specific conditions are satisfied."
      ]
    },
    {
      "cell_type": "code",
      "execution_count": 27,
      "metadata": {
        "id": "dxeLhlxx2kOX",
        "jupyter": {
          "outputs_hidden": false
        }
      },
      "outputs": [
        {
          "name": "stdout",
          "output_type": "stream",
          "text": [
            "x >= 5\n"
          ]
        }
      ],
      "source": [
        "# if-else statement\n",
        "x =  5\n",
        "if x < 5:\n",
        "    print('x < 5')\n",
        "else:\n",
        "    print('x >= 5')\n"
      ]
    },
    {
      "cell_type": "code",
      "execution_count": 28,
      "metadata": {
        "id": "rYskR41v2kOX",
        "jupyter": {
          "outputs_hidden": false
        }
      },
      "outputs": [
        {
          "name": "stdout",
          "output_type": "stream",
          "text": [
            "x = 5\n"
          ]
        }
      ],
      "source": [
        "#if-else if\n",
        "x =  5\n",
        "if x < 5:\n",
        "    print('x < 5')\n",
        "elif x == 5:\n",
        "    print('x = 5')\n",
        "else:\n",
        "    print('x > 5')"
      ]
    },
    {
      "cell_type": "code",
      "execution_count": 29,
      "metadata": {
        "id": "ICEoucvH2kOX",
        "jupyter": {
          "outputs_hidden": false
        }
      },
      "outputs": [
        {
          "name": "stdout",
          "output_type": "stream",
          "text": [
            "5\n",
            "6\n",
            "7\n",
            "8\n",
            "9\n"
          ]
        }
      ],
      "source": [
        "# while loops\n",
        "x = 5\n",
        "while (x < 10):\n",
        "    print(x)\n",
        "    x+=1 #!! we should always change the value of the variable which appears in the while condition"
      ]
    },
    {
      "cell_type": "code",
      "execution_count": 30,
      "metadata": {
        "id": "i2VEOG0i2kOX",
        "jupyter": {
          "outputs_hidden": false
        }
      },
      "outputs": [
        {
          "name": "stdout",
          "output_type": "stream",
          "text": [
            "0\n",
            "1\n",
            "2\n",
            "3\n",
            "4\n"
          ]
        }
      ],
      "source": [
        "#for loops (when we know the number of times that a block should be executed)\n",
        "for i in range(5):\n",
        "    print(i)"
      ]
    },
    {
      "cell_type": "code",
      "execution_count": 31,
      "metadata": {
        "id": "oNeMeUSr2kOX",
        "jupyter": {
          "outputs_hidden": false
        }
      },
      "outputs": [
        {
          "data": {
            "text/plain": [
              "[0, 2, 4, 6, 8]"
            ]
          },
          "execution_count": 31,
          "metadata": {},
          "output_type": "execute_result"
        }
      ],
      "source": [
        "#combination of the previous structures\n",
        "[i for i in range(10) if i % 2 == 0]"
      ]
    },
    {
      "cell_type": "markdown",
      "metadata": {
        "id": "2r36odjg2kOX"
      },
      "source": [
        "### Functions\n",
        "\n",
        "In Python, as in other programming languages, it is very useful to organize the code into subroutines called functions. Functions usually are implemented for a specific job, they take an input (arguments) and they return their output which is the result of their job. See the following example with a function which returns the squared sum of two numbers."
      ]
    },
    {
      "cell_type": "code",
      "execution_count": 32,
      "metadata": {
        "id": "OzJnS42e2kOX",
        "jupyter": {
          "outputs_hidden": false
        }
      },
      "outputs": [
        {
          "data": {
            "text/plain": [
              "49"
            ]
          },
          "execution_count": 32,
          "metadata": {},
          "output_type": "execute_result"
        }
      ],
      "source": [
        "#function\n",
        "def squared_sum(num1, num2):\n",
        "    #input: two numbers\n",
        "    #output: squared sum of two numbers\n",
        "    return((num1+num2)**2)\n",
        "\n",
        "#function call\n",
        "squared_sum(3,4)"
      ]
    },
    {
      "cell_type": "markdown",
      "metadata": {
        "id": "pPSaD-uH2kOX"
      },
      "source": [
        "### Importing packages  \n",
        "The power of Python is the plenty of packages which actually implement functionalities that facilitate the users. There are packages for storing and handing data, for running machine learing algorithms, for plotting etc.   \n",
        "Next, we will discuss two packages that are very helpful in handling data.\n",
        "\n",
        "Firstly, let's see how we can import a package:\n",
        "\n",
        "* `import package-name`\n",
        "* `from package-name import function-name` , imports a specific function from a package\n",
        "* `from package-name import *` , imports subset of a package\n",
        "* `import package-name as shortcut-of-package-name`\n"
      ]
    },
    {
      "cell_type": "markdown",
      "metadata": {
        "id": "iuJ5ufKz2kOY",
        "toc-hr-collapsed": true
      },
      "source": [
        "## 2. NumPy\n",
        "\n",
        "NumPy is the fundamental package for scientific computing with Python. It contains a powerful N-dimensional array/vector/matrix object and useful functions for linear algebra, Fourier transforms, and random number capabilities. In the numpy package the terminology used for vectors, matrices and higher-dimensional data sets is array.\n",
        "\n",
        "The recommended convention to import NumPy is:"
      ]
    },
    {
      "cell_type": "code",
      "execution_count": 33,
      "metadata": {
        "id": "SSPOLBAE2kOY"
      },
      "outputs": [],
      "source": [
        "import numpy as np"
      ]
    },
    {
      "cell_type": "markdown",
      "metadata": {
        "id": "cuQ1Obfx2kOY"
      },
      "source": [
        "### Basics"
      ]
    },
    {
      "cell_type": "code",
      "execution_count": 34,
      "metadata": {
        "id": "Wn9vRucD2kOY",
        "jupyter": {
          "outputs_hidden": false
        }
      },
      "outputs": [
        {
          "data": {
            "text/plain": [
              "array([1, 2, 3, 4])"
            ]
          },
          "execution_count": 34,
          "metadata": {},
          "output_type": "execute_result"
        }
      ],
      "source": [
        "# vector\n",
        "V = np.array([1, 2, 3, 4])\n",
        "V"
      ]
    },
    {
      "cell_type": "code",
      "execution_count": 35,
      "metadata": {
        "id": "beA4fJCl2kOY",
        "jupyter": {
          "outputs_hidden": false
        }
      },
      "outputs": [
        {
          "data": {
            "text/plain": [
              "array([[1, 2],\n",
              "       [3, 4]])"
            ]
          },
          "execution_count": 35,
          "metadata": {},
          "output_type": "execute_result"
        }
      ],
      "source": [
        "#2-D array\n",
        "N = np.array([[1,2], [3,4]])\n",
        "N"
      ]
    },
    {
      "cell_type": "markdown",
      "metadata": {
        "id": "i3BHNe0t2kOY"
      },
      "source": [
        "The `V` and `M` objects are both of the type `ndarray` that the `numpy` module provides.\n",
        "You can obtain shape information from an `ndarray` by using the `shape` property."
      ]
    },
    {
      "cell_type": "code",
      "execution_count": 36,
      "metadata": {
        "id": "fAJ417N32kOY",
        "jupyter": {
          "outputs_hidden": false
        }
      },
      "outputs": [
        {
          "name": "stdout",
          "output_type": "stream",
          "text": [
            "(4,)\n",
            "(2, 2)\n"
          ]
        }
      ],
      "source": [
        "print(V.shape)\n",
        "print(N.shape)"
      ]
    },
    {
      "cell_type": "markdown",
      "metadata": {
        "id": "BUm6HJsG2kOY"
      },
      "source": [
        "You can also check the number of the elements of an array by using the property `size`. You can try it for the arrays `V` and `N` in the following cell."
      ]
    },
    {
      "cell_type": "code",
      "execution_count": 37,
      "metadata": {
        "id": "bOLFONs42kOZ"
      },
      "outputs": [
        {
          "data": {
            "text/plain": [
              "4"
            ]
          },
          "execution_count": 37,
          "metadata": {},
          "output_type": "execute_result"
        }
      ],
      "source": [
        "V.size"
      ]
    },
    {
      "cell_type": "markdown",
      "metadata": {
        "id": "nfNEGypM2kOZ"
      },
      "source": [
        "You can define explicitely the type of an array by using the `dtype` argument. Common types that can be used with `dtype` are: int, float, complex, bool, object, etc."
      ]
    },
    {
      "cell_type": "code",
      "execution_count": 38,
      "metadata": {
        "id": "EFk5LYp82kOZ",
        "jupyter": {
          "outputs_hidden": false
        }
      },
      "outputs": [
        {
          "data": {
            "text/plain": [
              "array([[1., 2.],\n",
              "       [3., 4.]])"
            ]
          },
          "execution_count": 38,
          "metadata": {},
          "output_type": "execute_result"
        }
      ],
      "source": [
        "N = np.array([[1,2], [3,4]], dtype=float)\n",
        "N"
      ]
    },
    {
      "cell_type": "markdown",
      "metadata": {
        "id": "PQalcyFR2kOZ"
      },
      "source": [
        "If you want to change the type of an array try the function `astype()` of the NumPy package."
      ]
    },
    {
      "cell_type": "code",
      "execution_count": 39,
      "metadata": {
        "id": "JPoJCizY2kOZ",
        "jupyter": {
          "outputs_hidden": false
        }
      },
      "outputs": [
        {
          "data": {
            "text/plain": [
              "array([[1, 2],\n",
              "       [3, 4]])"
            ]
          },
          "execution_count": 39,
          "metadata": {},
          "output_type": "execute_result"
        }
      ],
      "source": [
        "N_int = N.astype(int)\n",
        "N_int"
      ]
    },
    {
      "cell_type": "markdown",
      "metadata": {
        "id": "sWMUtRDG2kOZ"
      },
      "source": [
        "### Function-generated arrays\n",
        "For larger arrays it is inpractical to initialize the data manually, using explicit Python lists. Instead we can use one of the many functions in numpy that generates arrays of different forms. Some of the more common are:\n",
        "   * `arange` , creates an array of consecutive values or by using a specific step-ahead\n",
        "   * `linspace` , numbers over a specified interval\n",
        "   * `random` , array of random numbers\n",
        "   * `zeros` or `ones`, array full of zeros or ones   \n",
        "   \n",
        "Example: Create a vector with values ranging from 2 to 10 with a step of 2"
      ]
    },
    {
      "cell_type": "code",
      "execution_count": 40,
      "metadata": {
        "id": "SGwG7kxy2kOZ",
        "jupyter": {
          "outputs_hidden": false
        }
      },
      "outputs": [
        {
          "data": {
            "text/plain": [
              "array([ 2,  4,  6,  8, 10])"
            ]
          },
          "execution_count": 40,
          "metadata": {},
          "output_type": "execute_result"
        }
      ],
      "source": [
        "#arange\n",
        "array_a = np.arange(2,11,2)\n",
        "array_a"
      ]
    },
    {
      "cell_type": "code",
      "execution_count": 41,
      "metadata": {
        "id": "meV5okKs2kOZ",
        "jupyter": {
          "outputs_hidden": false
        }
      },
      "outputs": [
        {
          "data": {
            "text/plain": [
              "array([ 2.  ,  4.25,  6.5 ,  8.75, 11.  ])"
            ]
          },
          "execution_count": 41,
          "metadata": {},
          "output_type": "execute_result"
        }
      ],
      "source": [
        "#linspace\n",
        "array_b = np.linspace(2, 11, 5)\n",
        "array_b"
      ]
    },
    {
      "cell_type": "code",
      "execution_count": 42,
      "metadata": {
        "id": "0XNaiTtR2kOZ",
        "jupyter": {
          "outputs_hidden": false
        }
      },
      "outputs": [
        {
          "data": {
            "text/plain": [
              "array([0.03859389, 0.20783345, 0.14683234])"
            ]
          },
          "execution_count": 42,
          "metadata": {},
          "output_type": "execute_result"
        }
      ],
      "source": [
        "#random\n",
        "array_c = np.random.random(3)\n",
        "array_c"
      ]
    },
    {
      "cell_type": "code",
      "execution_count": 43,
      "metadata": {
        "id": "WYLfWPxs2kOa",
        "jupyter": {
          "outputs_hidden": false
        }
      },
      "outputs": [
        {
          "data": {
            "text/plain": [
              "array([0., 0., 0., 0., 0.])"
            ]
          },
          "execution_count": 43,
          "metadata": {},
          "output_type": "execute_result"
        }
      ],
      "source": [
        "#initialization with zeros\n",
        "array_d = np.zeros(5)\n",
        "array_d"
      ]
    },
    {
      "cell_type": "markdown",
      "metadata": {
        "id": "VnUUkaP92kOa"
      },
      "source": [
        "<div class=\"alert alert-success\">\n",
        "\n",
        "<b>EXERCISE 2.1</b>: **Create a vector with values ranging from 4 to 19 with steps of 1**\n",
        "</div>"
      ]
    },
    {
      "cell_type": "code",
      "execution_count": 44,
      "metadata": {
        "id": "VjWvxkHS2kOa"
      },
      "outputs": [
        {
          "data": {
            "text/plain": [
              "array([ 4,  5,  6,  7,  8,  9, 10, 11, 12, 13, 14, 15, 16, 17, 18, 19])"
            ]
          },
          "execution_count": 44,
          "metadata": {},
          "output_type": "execute_result"
        }
      ],
      "source": [
        "vector1 = np.arange(4,20,1)\n",
        "vector1"
      ]
    },
    {
      "cell_type": "markdown",
      "metadata": {
        "id": "hnUmaSuv2kOa"
      },
      "source": [
        "<div class=\"alert alert-success\">\n",
        "\n",
        "<b>EXERCISE 2.2</b>: **Create a 5x5 identity matrix (look into docs!)**\n",
        "</div>\n"
      ]
    },
    {
      "cell_type": "code",
      "execution_count": 45,
      "metadata": {
        "id": "w6TjlOyF2kOa"
      },
      "outputs": [
        {
          "data": {
            "text/plain": [
              "array([[1., 0., 0., 0., 0.],\n",
              "       [0., 1., 0., 0., 0.],\n",
              "       [0., 0., 1., 0., 0.],\n",
              "       [0., 0., 0., 1., 0.],\n",
              "       [0., 0., 0., 0., 1.]])"
            ]
          },
          "execution_count": 45,
          "metadata": {},
          "output_type": "execute_result"
        }
      ],
      "source": [
        "id_array = np.identity(5)\n",
        "id_array"
      ]
    },
    {
      "cell_type": "markdown",
      "metadata": {
        "id": "GpLUNecs2kOa"
      },
      "source": [
        "### Indexing and slicing\n",
        "Indexing and slicing are following the same rationale as in `python lists` (see above). **Remember that the indexing starts from 0.**"
      ]
    },
    {
      "cell_type": "code",
      "execution_count": 46,
      "metadata": {
        "colab": {
          "base_uri": "https://localhost:8080/"
        },
        "id": "4DZf6bku2kOa",
        "jupyter": {
          "outputs_hidden": false
        },
        "outputId": "1d25e66c-9c40-4a1e-c5a6-5e975d340866"
      },
      "outputs": [
        {
          "data": {
            "text/plain": [
              "5"
            ]
          },
          "execution_count": 46,
          "metadata": {},
          "output_type": "execute_result"
        }
      ],
      "source": [
        "# take the 5th element of an array\n",
        "array_e = np.arange(1,11)\n",
        "array_e[4]"
      ]
    },
    {
      "cell_type": "markdown",
      "metadata": {
        "id": "3tIqH_Tz2kOa"
      },
      "source": [
        "For 2D-arrays the first index indicates the index of the row (starting from 0) and the second one the index of the column (again starting from 0). See the example below."
      ]
    },
    {
      "cell_type": "code",
      "execution_count": 47,
      "metadata": {
        "colab": {
          "base_uri": "https://localhost:8080/"
        },
        "id": "9HL0dvE92kOa",
        "jupyter": {
          "outputs_hidden": false
        },
        "outputId": "b9c06036-e99f-4f22-9b0f-33e957286ee6"
      },
      "outputs": [
        {
          "name": "stdout",
          "output_type": "stream",
          "text": [
            "[[0.79392013 0.02923936 0.96337564]\n",
            " [0.6779151  0.42383064 0.96041752]\n",
            " [0.12230383 0.0467749  0.87904771]]\n",
            "0.9633756389820899\n"
          ]
        }
      ],
      "source": [
        "#indices of a 2d-array\n",
        "array_f = np.random.random((3,3))\n",
        "print(array_f)\n",
        "element_0_2 = array_f[0,2]\n",
        "print(element_0_2)"
      ]
    },
    {
      "cell_type": "markdown",
      "metadata": {
        "id": "4LDbfms32kOb"
      },
      "source": [
        "We can select an entire row or column by substituting an index with the : symbol"
      ]
    },
    {
      "cell_type": "code",
      "execution_count": 48,
      "metadata": {
        "id": "s4DtkhaO2kOb",
        "jupyter": {
          "outputs_hidden": false
        }
      },
      "outputs": [
        {
          "data": {
            "text/plain": [
              "array([0.96337564, 0.96041752, 0.87904771])"
            ]
          },
          "execution_count": 48,
          "metadata": {},
          "output_type": "execute_result"
        }
      ],
      "source": [
        "array_f[:,2] #3rd column"
      ]
    },
    {
      "cell_type": "code",
      "execution_count": 49,
      "metadata": {
        "id": "mglTTQsA2kOb",
        "jupyter": {
          "outputs_hidden": false
        }
      },
      "outputs": [
        {
          "data": {
            "text/plain": [
              "array([0.79392013, 0.02923936, 0.96337564])"
            ]
          },
          "execution_count": 49,
          "metadata": {},
          "output_type": "execute_result"
        }
      ],
      "source": [
        "array_f[0,:] #1st row"
      ]
    },
    {
      "cell_type": "markdown",
      "metadata": {
        "id": "bQDMZCiu2kOb"
      },
      "source": [
        "For slicing, we use the same syntax as in lists, i.e., if M is an ndarray we can write `M[start:stop:step]`."
      ]
    },
    {
      "cell_type": "code",
      "execution_count": 50,
      "metadata": {
        "colab": {
          "base_uri": "https://localhost:8080/"
        },
        "id": "y1CeGEau2kOb",
        "jupyter": {
          "outputs_hidden": false
        },
        "outputId": "2d56aab8-9f7c-45e8-d200-925ae3841022"
      },
      "outputs": [
        {
          "data": {
            "text/plain": [
              "array([1, 2])"
            ]
          },
          "execution_count": 50,
          "metadata": {},
          "output_type": "execute_result"
        }
      ],
      "source": [
        "array_g = np.arange(10)\n",
        "array_g[1:3]"
      ]
    },
    {
      "cell_type": "markdown",
      "metadata": {
        "id": "61_2pwuM2kOb"
      },
      "source": [
        "We can omit any of the 3 parameters (`start`, `stop`, `step`) selecting the rest of the elements."
      ]
    },
    {
      "cell_type": "code",
      "execution_count": 51,
      "metadata": {
        "id": "b5IUwkZS2kOb",
        "jupyter": {
          "outputs_hidden": false
        }
      },
      "outputs": [
        {
          "data": {
            "text/plain": [
              "array([5, 6, 7, 8, 9])"
            ]
          },
          "execution_count": 51,
          "metadata": {},
          "output_type": "execute_result"
        }
      ],
      "source": [
        "#take the values after the index 5 (including the elemenent in the 5th position)\n",
        "array_g[5:]"
      ]
    },
    {
      "cell_type": "code",
      "execution_count": 52,
      "metadata": {
        "id": "mYXljDiJ2kOb",
        "jupyter": {
          "outputs_hidden": false
        }
      },
      "outputs": [
        {
          "data": {
            "text/plain": [
              "array([0, 1, 2, 3, 4])"
            ]
          },
          "execution_count": 52,
          "metadata": {},
          "output_type": "execute_result"
        }
      ],
      "source": [
        "#take the values before the index 5 (without the elemenent in the 5th position)\n",
        "array_g[:5]"
      ]
    },
    {
      "cell_type": "markdown",
      "metadata": {
        "id": "UbOrBPaZ2kOb"
      },
      "source": [
        "<div class=\"alert alert-success\">\n",
        "\n",
        "<b>EXERCISE 2.3</b>: **Create a null vector of size 10 except for the fifth value which should be equal to 1.**\n",
        "</div>"
      ]
    },
    {
      "cell_type": "code",
      "execution_count": 53,
      "metadata": {
        "id": "Xn8yIeof2kOc"
      },
      "outputs": [
        {
          "data": {
            "text/plain": [
              "array([0., 0., 0., 0., 1., 0., 0., 0., 0., 0.])"
            ]
          },
          "execution_count": 53,
          "metadata": {},
          "output_type": "execute_result"
        }
      ],
      "source": [
        "vector2 = np.zeros(10)\n",
        "vector2[4] = 1\n",
        "vector2"
      ]
    },
    {
      "cell_type": "markdown",
      "metadata": {
        "id": "_SfONFw02kOc"
      },
      "source": [
        "**Fancy indexing**: when an array or a list is used instead of an index. See the example"
      ]
    },
    {
      "cell_type": "code",
      "execution_count": 54,
      "metadata": {
        "colab": {
          "base_uri": "https://localhost:8080/"
        },
        "id": "_HgwNOG82kOc",
        "jupyter": {
          "outputs_hidden": false
        },
        "outputId": "1d3b667d-28bd-4e77-eedc-fea8072fc200"
      },
      "outputs": [
        {
          "data": {
            "text/plain": [
              "array([0., 0., 1., 0., 1., 0., 1., 0., 0., 0.])"
            ]
          },
          "execution_count": 54,
          "metadata": {},
          "output_type": "execute_result"
        }
      ],
      "source": [
        "ind = [2,4,6]\n",
        "array_i = np.zeros(10) #initialization\n",
        "array_i[ind] = 1 # put 1 in the positions specified by the list \"ind\"\n",
        "array_i"
      ]
    },
    {
      "cell_type": "markdown",
      "metadata": {
        "id": "K8ilFCWl2kOc"
      },
      "source": [
        "**Boolean indexing**: mask out specific elements using as a mask a boolean NumPy array.    \n",
        "Example:"
      ]
    },
    {
      "cell_type": "code",
      "execution_count": 55,
      "metadata": {
        "colab": {
          "base_uri": "https://localhost:8080/"
        },
        "id": "X8BEf4Jq2kOc",
        "jupyter": {
          "outputs_hidden": false
        },
        "outputId": "ffd70c58-1ce0-43bf-bd5a-8e2192767db3"
      },
      "outputs": [
        {
          "name": "stdout",
          "output_type": "stream",
          "text": [
            "[1 2 3 4 5]\n"
          ]
        },
        {
          "data": {
            "text/plain": [
              "array([1, 4])"
            ]
          },
          "execution_count": 55,
          "metadata": {},
          "output_type": "execute_result"
        }
      ],
      "source": [
        "A = np.arange(1,6)\n",
        "print(A)\n",
        "mask = np.array([True, False, False, True, False])\n",
        "A[mask]"
      ]
    },
    {
      "cell_type": "markdown",
      "metadata": {
        "id": "OqRH1zhn2kOc"
      },
      "source": [
        "We can use this feature to select elements that satisfy specific conditions.   \n",
        "Example:"
      ]
    },
    {
      "cell_type": "code",
      "execution_count": 56,
      "metadata": {
        "colab": {
          "base_uri": "https://localhost:8080/"
        },
        "id": "bb6WiZ5m2kOd",
        "jupyter": {
          "outputs_hidden": false
        },
        "outputId": "24f823e0-9b0d-4ac9-aa59-f7839204b35f"
      },
      "outputs": [
        {
          "name": "stdout",
          "output_type": "stream",
          "text": [
            "[[0.02631026 0.20767439 0.73490864]\n",
            " [0.27239499 0.83864492 0.0295641 ]\n",
            " [0.34962029 0.6121137  0.58984323]]\n",
            "[[False False  True]\n",
            " [False  True False]\n",
            " [False  True  True]]\n"
          ]
        },
        {
          "data": {
            "text/plain": [
              "array([0.73490864, 0.83864492, 0.6121137 , 0.58984323])"
            ]
          },
          "execution_count": 56,
          "metadata": {},
          "output_type": "execute_result"
        }
      ],
      "source": [
        "A = np.random.random((3,3))\n",
        "print(A)\n",
        "mask = A > 0.5\n",
        "print(mask)\n",
        "A_masked = A[mask]\n",
        "A_masked"
      ]
    },
    {
      "cell_type": "markdown",
      "metadata": {
        "id": "lqN2sFpJ2kOd"
      },
      "source": [
        "<div class=\"alert alert-success\">\n",
        "\n",
        "<b>EXERCISE 2.4</b>: **Change all even numbers into zero-values**\n",
        "</div>\n"
      ]
    },
    {
      "cell_type": "code",
      "execution_count": 57,
      "metadata": {
        "colab": {
          "base_uri": "https://localhost:8080/"
        },
        "id": "GlDdcv922kOd",
        "jupyter": {
          "outputs_hidden": false
        },
        "outputId": "bd7254df-28df-4f28-8238-2eeafe3a7e89"
      },
      "outputs": [
        {
          "name": "stdout",
          "output_type": "stream",
          "text": [
            "[12  5  4 13 19  1  4  5  3 17  9 14 13 14  4]\n"
          ]
        },
        {
          "data": {
            "text/plain": [
              "array([ 0,  5,  0, 13, 19,  1,  0,  5,  3, 17,  9,  0, 13,  0,  0])"
            ]
          },
          "execution_count": 57,
          "metadata": {},
          "output_type": "execute_result"
        }
      ],
      "source": [
        "#start by creating an array randomly\n",
        "AR = np.random.randint(0, 20, 15)\n",
        "print (AR)\n",
        "AR[AR%2==0] = 0\n",
        "AR"
      ]
    },
    {
      "cell_type": "markdown",
      "metadata": {
        "id": "ua_p9Ulp2kOd"
      },
      "source": [
        "### Linear algebra   \n",
        "Vectorizing code is the key to writing efficient numerical calculation with Python/NumPy. That means that as much as possible of a program should be formulated in terms of matrix and vector operations."
      ]
    },
    {
      "cell_type": "code",
      "execution_count": 58,
      "metadata": {
        "colab": {
          "base_uri": "https://localhost:8080/"
        },
        "id": "b7aNPfof2kOd",
        "jupyter": {
          "outputs_hidden": false
        },
        "outputId": "df051327-d612-4dbe-a71e-e457dfd7c581"
      },
      "outputs": [
        {
          "data": {
            "text/plain": [
              "array([[ 0,  1,  2,  3,  4],\n",
              "       [ 5,  6,  7,  8,  9],\n",
              "       [10, 11, 12, 13, 14],\n",
              "       [15, 16, 17, 18, 19],\n",
              "       [20, 21, 22, 23, 24]])"
            ]
          },
          "execution_count": 58,
          "metadata": {},
          "output_type": "execute_result"
        }
      ],
      "source": [
        "A = np.arange(25).reshape(5,5)\n",
        "A"
      ]
    },
    {
      "cell_type": "code",
      "execution_count": 59,
      "metadata": {
        "colab": {
          "base_uri": "https://localhost:8080/"
        },
        "id": "dwtT8vKf2kOd",
        "jupyter": {
          "outputs_hidden": false
        },
        "outputId": "8ef112f6-3692-4bb7-8ea0-d06d5ca2d893"
      },
      "outputs": [
        {
          "data": {
            "text/plain": [
              "array([[ 1,  4,  7, 10, 13],\n",
              "       [16, 19, 22, 25, 28],\n",
              "       [31, 34, 37, 40, 43],\n",
              "       [46, 49, 52, 55, 58],\n",
              "       [61, 64, 67, 70, 73]])"
            ]
          },
          "execution_count": 59,
          "metadata": {},
          "output_type": "execute_result"
        }
      ],
      "source": [
        "A + 1 + A*2"
      ]
    },
    {
      "cell_type": "markdown",
      "metadata": {
        "id": "M7YXA-DO2kOd"
      },
      "source": [
        "When we add, subtract, multiply and divide arrays with each other, the default behaviour is the element-wise mode:"
      ]
    },
    {
      "cell_type": "code",
      "execution_count": 60,
      "metadata": {
        "colab": {
          "base_uri": "https://localhost:8080/"
        },
        "id": "NmjO715N2kOd",
        "jupyter": {
          "outputs_hidden": false
        },
        "outputId": "c7cb9a0f-47fe-4aa9-8473-ab5eb927eca3"
      },
      "outputs": [
        {
          "data": {
            "text/plain": [
              "array([[  0,   1,   4,   9,  16],\n",
              "       [ 25,  36,  49,  64,  81],\n",
              "       [100, 121, 144, 169, 196],\n",
              "       [225, 256, 289, 324, 361],\n",
              "       [400, 441, 484, 529, 576]])"
            ]
          },
          "execution_count": 60,
          "metadata": {},
          "output_type": "execute_result"
        }
      ],
      "source": [
        "A*A"
      ]
    },
    {
      "cell_type": "markdown",
      "metadata": {
        "id": "bEf_aWg22kOe"
      },
      "source": [
        "Basic operations on NumPy arrays (addition, etc.) are elementwise. Nevertheless, It’s also possible to do operations on arrays of different sizes if NumPy can transform these arrays so that they all have the same size: this conversion is called broadcasting."
      ]
    },
    {
      "cell_type": "code",
      "execution_count": 61,
      "metadata": {
        "colab": {
          "base_uri": "https://localhost:8080/",
          "height": 286
        },
        "id": "jn8YdO2Z2kOe",
        "jupyter": {
          "outputs_hidden": false
        },
        "outputId": "85c6ae61-5e56-4806-d8b2-b10bb0d379ff"
      },
      "outputs": [
        {
          "data": {
            "text/plain": [
              "<matplotlib.colorbar.Colorbar at 0x109fba460>"
            ]
          },
          "execution_count": 61,
          "metadata": {},
          "output_type": "execute_result"
        },
        {
          "data": {
            "image/png": "[encoded data removed]",
            "text/plain": [
              "<Figure size 432x288 with 2 Axes>"
            ]
          },
          "metadata": {
            "needs_background": "light"
          },
          "output_type": "display_data"
        }
      ],
      "source": [
        "x, y = np.arange(5), np.arange(5).reshape((5, 1))\n",
        "import matplotlib.pyplot as plt\n",
        "%matplotlib inline\n",
        "distance = np.sqrt(x ** 2 + y ** 2)\n",
        "distance\n",
        "plt.pcolor(distance)\n",
        "plt.colorbar()"
      ]
    },
    {
      "cell_type": "markdown",
      "metadata": {
        "id": "BSMZ42qj2kOe"
      },
      "source": [
        "**Matrix algebra**: We can perform matrix multiplication by using two functions: the `matmul()` or the `dot()`.\n",
        "You can see the [docs](https://docs.scipy.org/doc/numpy-1.13.0/reference/generated/numpy.matmul.html) for their difference."
      ]
    },
    {
      "cell_type": "code",
      "execution_count": 62,
      "metadata": {
        "id": "aINwVH_C2kOe",
        "jupyter": {
          "outputs_hidden": false
        }
      },
      "outputs": [
        {
          "data": {
            "text/plain": [
              "array([[ 150,  160,  170,  180,  190],\n",
              "       [ 400,  435,  470,  505,  540],\n",
              "       [ 650,  710,  770,  830,  890],\n",
              "       [ 900,  985, 1070, 1155, 1240],\n",
              "       [1150, 1260, 1370, 1480, 1590]])"
            ]
          },
          "execution_count": 62,
          "metadata": {},
          "output_type": "execute_result"
        }
      ],
      "source": [
        "np.dot(A,A)"
      ]
    },
    {
      "cell_type": "markdown",
      "metadata": {
        "id": "ybF1GIfa2kOe"
      },
      "source": [
        "**Statistics**: Often it is useful to store datasets in NumPy arrays. NumPy provides a number of functions to calculate statistics of datasets in arrays."
      ]
    },
    {
      "cell_type": "code",
      "execution_count": 63,
      "metadata": {
        "id": "EAGgv2Kh2kOe",
        "jupyter": {
          "outputs_hidden": false
        }
      },
      "outputs": [
        {
          "name": "stdout",
          "output_type": "stream",
          "text": [
            "Mean value is 0.4431554355819838\n",
            "Median value is 0.4027602040004283\n",
            "Std is 0.2761116369765942\n",
            "Variance is 0.07623763607389453\n",
            "Min is 0.07543299543505122\n",
            "Element of minimum value is 1\n",
            "Max is 0.9817681353213523\n",
            "Sum is 17.72621742327935\n",
            "Prod 4.347525289031888e-19\n",
            "Cumsum is 17.726217423279355\n",
            "CumProd of 5 first elements is 0.0015357186631645445\n",
            "Unique values in this array are: [2 3 4 5]\n",
            "85% Percentile value is:  0.7657374943708538\n"
          ]
        }
      ],
      "source": [
        "a = np.random.random(40)\n",
        "print('Mean value is', np.mean(a))\n",
        "print('Median value is',  np.median(a))\n",
        "print('Std is', np.std(a))\n",
        "print('Variance is', np.var(a))\n",
        "print('Min is', a.min())\n",
        "print('Element of minimum value is', a.argmin())\n",
        "print('Max is', a.max())\n",
        "print('Sum is', np.sum(a))\n",
        "print('Prod', np.prod(a))\n",
        "print('Cumsum is', np.cumsum(a)[-1])\n",
        "print('CumProd of 5 first elements is', np.cumprod(a)[4])\n",
        "print('Unique values in this array are:', np.unique(np.random.randint(1,6,10)))\n",
        "print('85% Percentile value is: ', np.percentile(a, 85))"
      ]
    },
    {
      "cell_type": "markdown",
      "metadata": {
        "id": "-tlkcYnG2kOe"
      },
      "source": [
        "**Sorting**"
      ]
    },
    {
      "cell_type": "code",
      "execution_count": 64,
      "metadata": {
        "id": "y3Uwi0qn2kOe",
        "jupyter": {
          "outputs_hidden": false
        }
      },
      "outputs": [
        {
          "name": "stdout",
          "output_type": "stream",
          "text": [
            "[38 24 34 27 25 14 21  6 26 29  0 16 13  9 12  5  4 31 36  8 20 15 30 37\n",
            "  2 32 39 33  1  3 35 17 22 10 11 19 28  7 23 18]\n",
            "[ 0  1  2  3  4  5  6  7  8  9 10 11 12 13 14 15 16 17 18 19 20 21 22 23\n",
            " 24 25 26 27 28 29 30 31 32 33 34 35 36 37 38 39]\n"
          ]
        }
      ],
      "source": [
        "a = np.random.random(40)\n",
        "print(a.argsort()) # Returns the indices that would sort an array.\n",
        "a.sort() #sorts in place!\n",
        "print(a.argsort())"
      ]
    },
    {
      "cell_type": "markdown",
      "metadata": {
        "id": "y8W3ZoWW2kOf"
      },
      "source": [
        "**Concatenating arrays**"
      ]
    },
    {
      "cell_type": "code",
      "execution_count": 65,
      "metadata": {
        "id": "xtD5X4EN2kOf",
        "jupyter": {
          "outputs_hidden": false
        }
      },
      "outputs": [
        {
          "name": "stdout",
          "output_type": "stream",
          "text": [
            "[[1 2]\n",
            " [2 4]\n",
            " [5 6]]\n",
            "[[1 2 5]\n",
            " [2 4 6]]\n"
          ]
        }
      ],
      "source": [
        "a = np.array([[1,2], [2,4]])\n",
        "b = np.array([[5,6]])\n",
        "print(np.concatenate((a, b), axis = 0))\n",
        "print(np.concatenate((a, b.T), axis = 1)) # use .T to transpose a matrix"
      ]
    },
    {
      "cell_type": "markdown",
      "metadata": {
        "id": "LrSQBfsm2kOf"
      },
      "source": [
        "### View and copy\n",
        "As mentioned before in the introduction to basic Python, assignments in Python usually do not copy the underlaying objects, but keep the same memory space attached to an object. This increases the performance, and is important for example when objects are passed between functions, to avoid an excessive amount of memory copying when it is not necessary (technical term: pass by reference). To circumvent this, the copy-function can be used."
      ]
    },
    {
      "cell_type": "code",
      "execution_count": 66,
      "metadata": {
        "id": "_pobxL132kOf",
        "jupyter": {
          "outputs_hidden": false
        }
      },
      "outputs": [
        {
          "name": "stdout",
          "output_type": "stream",
          "text": [
            "[[5 2]\n",
            " [3 4]]\n",
            "[[5 2]\n",
            " [3 4]]\n",
            "[[10  2]\n",
            " [ 3  4]]\n"
          ]
        }
      ],
      "source": [
        "A = np.array([[1, 2], [3, 4]])\n",
        "B = A # Same memory space as A; changing B will change A!\n",
        "C = A.copy() # New object, new memory space.\n",
        "B[0,0] = 5\n",
        "print(A)\n",
        "C[0,0] = 10\n",
        "print(A)\n",
        "print(C)"
      ]
    },
    {
      "cell_type": "markdown",
      "metadata": {
        "id": "QeD9lAsI2kOf",
        "toc-hr-collapsed": true
      },
      "source": [
        "## 3. Pandas data structures\n",
        "For data-intensive work in Python the Pandas library has become essential. Pandas is designed to work with tabular or structured data (like R dataframe, SQL table, Excel spreadsheet, etc.).  \n",
        "What is Pandas?\n",
        "* Pandas can be thought of as special arrays where columns represent variables and rows observations. In contrast to NumPy arrays, it gives better support for heterogeneous data types.\n",
        "\n",
        "* Powerful for working with missing data, working with time series data, for reading and writing your data, for reshaping, grouping, merging your data, etc."
      ]
    },
    {
      "cell_type": "code",
      "execution_count": 67,
      "metadata": {
        "id": "qdyRbDoG2kOf"
      },
      "outputs": [],
      "source": [
        "# import pandas package\n",
        "import pandas as pd"
      ]
    },
    {
      "cell_type": "markdown",
      "metadata": {
        "id": "itkFIF1x2kOf"
      },
      "source": [
        "### Data structures    \n",
        "Pandas consists of two fundamental object types, both built upon NumPy arrays: the Series object, and the DataFrame object.    \n",
        "\n",
        "**Series**   \n",
        "A Series is a basic holder for one-dimensional labeled data. It can be created much as a NumPy array is created:"
      ]
    },
    {
      "cell_type": "code",
      "execution_count": 68,
      "metadata": {
        "id": "YYaTWdDy2kOg",
        "jupyter": {
          "outputs_hidden": false
        }
      },
      "outputs": [
        {
          "data": {
            "text/plain": [
              "0    0.1\n",
              "1    0.2\n",
              "2    0.3\n",
              "3    0.4\n",
              "dtype: float64"
            ]
          },
          "execution_count": 68,
          "metadata": {},
          "output_type": "execute_result"
        }
      ],
      "source": [
        "s = pd.Series([0.1, 0.2, 0.3, 0.4])\n",
        "s"
      ]
    },
    {
      "cell_type": "markdown",
      "metadata": {
        "id": "46xoxg5O2kOg"
      },
      "source": [
        "The difference with the NumPy arrays is that in series we can use various indexing ways.  \n",
        "We can take the indices and the values of the data structure `s` by using the following properties.\n"
      ]
    },
    {
      "cell_type": "code",
      "execution_count": 69,
      "metadata": {
        "id": "vpP1hh-02kOg",
        "jupyter": {
          "outputs_hidden": false
        }
      },
      "outputs": [
        {
          "name": "stdout",
          "output_type": "stream",
          "text": [
            "RangeIndex(start=0, stop=4, step=1)\n",
            "[0.1 0.2 0.3 0.4]\n"
          ]
        }
      ],
      "source": [
        "print(s.index)\n",
        "print(s.values)"
      ]
    },
    {
      "cell_type": "markdown",
      "metadata": {
        "id": "wU69aYfC2kOg"
      },
      "source": [
        "We can also define explicitely the indexing of a series:"
      ]
    },
    {
      "cell_type": "code",
      "execution_count": 70,
      "metadata": {
        "id": "gCqRAzeM2kOg",
        "jupyter": {
          "outputs_hidden": false
        }
      },
      "outputs": [
        {
          "name": "stdout",
          "output_type": "stream",
          "text": [
            "a    0\n",
            "b    1\n",
            "c    2\n",
            "d    3\n",
            "dtype: int64\n",
            "3\n"
          ]
        }
      ],
      "source": [
        "s2 = pd.Series(np.arange(4), index=['a', 'b', 'c', 'd'])\n",
        "print(s2)\n",
        "print(s2['d']) #print the value of the series in the position 'd'"
      ]
    },
    {
      "cell_type": "markdown",
      "metadata": {
        "id": "c5VluFgG2kOg"
      },
      "source": [
        "A Series object is similar to an **ordered** dictionary in which each key is mapped to a specific value.   \n",
        "In fact, it's possible to construct a series directly from a Python dictionary:"
      ]
    },
    {
      "cell_type": "code",
      "execution_count": 71,
      "metadata": {
        "colab": {
          "base_uri": "https://localhost:8080/"
        },
        "id": "0hexomDg2kOg",
        "jupyter": {
          "outputs_hidden": false
        },
        "outputId": "2d29b2c2-b598-4422-c74f-682a8b6952fb"
      },
      "outputs": [
        {
          "data": {
            "text/plain": [
              "Germany           81.3\n",
              "Belgium           11.3\n",
              "France            64.3\n",
              "United Kingdom    64.9\n",
              "Netherlands       16.9\n",
              "dtype: float64"
            ]
          },
          "execution_count": 71,
          "metadata": {},
          "output_type": "execute_result"
        }
      ],
      "source": [
        "pop_dict = {'Germany': 81.3,\n",
        "            'Belgium': 11.3,\n",
        "            'France': 64.3,\n",
        "            'United Kingdom': 64.9,\n",
        "            'Netherlands': 16.9}\n",
        "population = pd.Series(pop_dict)\n",
        "population"
      ]
    },
    {
      "cell_type": "markdown",
      "metadata": {
        "id": "5mLVQlKK2kOg"
      },
      "source": [
        "Slicing and indexing works as expected:"
      ]
    },
    {
      "cell_type": "code",
      "execution_count": 72,
      "metadata": {
        "colab": {
          "base_uri": "https://localhost:8080/"
        },
        "id": "EO_njlI22kOh",
        "jupyter": {
          "outputs_hidden": false
        },
        "outputId": "aab0e4ed-37b4-466f-d92c-107d784ff197"
      },
      "outputs": [
        {
          "name": "stdout",
          "output_type": "stream",
          "text": [
            "81.3\n",
            "Germany           81.3\n",
            "France            64.3\n",
            "United Kingdom    64.9\n",
            "dtype: float64\n",
            "France            64.3\n",
            "United Kingdom    64.9\n",
            "Netherlands       16.9\n",
            "dtype: float64\n"
          ]
        }
      ],
      "source": [
        "print(population['Germany'])\n",
        "print(population[population > 60]) #remember boolean indexing\n",
        "print(population['France':'Netherlands'])"
      ]
    },
    {
      "cell_type": "markdown",
      "metadata": {
        "id": "0POo_XKz2kOh"
      },
      "source": [
        "Element-wise operations:"
      ]
    },
    {
      "cell_type": "code",
      "execution_count": 73,
      "metadata": {
        "id": "z_m1JUm-2kOh",
        "jupyter": {
          "outputs_hidden": false
        }
      },
      "outputs": [
        {
          "data": {
            "text/plain": [
              "Germany           0.813\n",
              "Belgium           0.113\n",
              "France            0.643\n",
              "United Kingdom    0.649\n",
              "Netherlands       0.169\n",
              "dtype: float64"
            ]
          },
          "execution_count": 73,
          "metadata": {},
          "output_type": "execute_result"
        }
      ],
      "source": [
        "population / 100"
      ]
    },
    {
      "cell_type": "markdown",
      "metadata": {
        "id": "-UQBmD-C2kOh"
      },
      "source": [
        "Useful functions:"
      ]
    },
    {
      "cell_type": "code",
      "execution_count": 74,
      "metadata": {
        "id": "V9IUxGTZ2kOh",
        "jupyter": {
          "outputs_hidden": false
        }
      },
      "outputs": [
        {
          "name": "stdout",
          "output_type": "stream",
          "text": [
            "47.739999999999995\n",
            "81.3\n"
          ]
        }
      ],
      "source": [
        "print(population.mean())\n",
        "print(population.max())"
      ]
    },
    {
      "cell_type": "markdown",
      "metadata": {
        "id": "ET1Cb_ef2kOh"
      },
      "source": [
        "**DataFrames: Multi-dimensional Data**   \n",
        "A DataFrame is a tabular data structure (multi-dimensional object to hold labeled data) comprised of rows and columns, akin to a spreadsheet, database table, or R's data.frame object. You can think of it as multiple Series objects that share the same index.   \n",
        "\n",
        "One of the most common ways of creating a dataframe is from a dictionary of arrays or lists."
      ]
    },
    {
      "cell_type": "code",
      "execution_count": 75,
      "metadata": {
        "colab": {
          "base_uri": "https://localhost:8080/",
          "height": 206
        },
        "id": "2kADghfG2kOh",
        "jupyter": {
          "outputs_hidden": false
        },
        "outputId": "c25650da-ced1-488a-dba8-1ba4dce1e898"
      },
      "outputs": [
        {
          "data": {
            "text/html": [
              "<div>\n",
              "<style scoped>\n",
              "    .dataframe tbody tr th:only-of-type {\n",
              "        vertical-align: middle;\n",
              "    }\n",
              "\n",
              "    .dataframe tbody tr th {\n",
              "        vertical-align: top;\n",
              "    }\n",
              "\n",
              "    .dataframe thead th {\n",
              "        text-align: right;\n",
              "    }\n",
              "</style>\n",
              "<table border=\"1\" class=\"dataframe\">\n",
              "  <thead>\n",
              "    <tr style=\"text-align: right;\">\n",
              "      <th></th>\n",
              "      <th>country</th>\n",
              "      <th>population</th>\n",
              "      <th>area</th>\n",
              "      <th>capital</th>\n",
              "    </tr>\n",
              "  </thead>\n",
              "  <tbody>\n",
              "    <tr>\n",
              "      <th>0</th>\n",
              "      <td>Belgium</td>\n",
              "      <td>11.3</td>\n",
              "      <td>30510</td>\n",
              "      <td>Brussels</td>\n",
              "    </tr>\n",
              "    <tr>\n",
              "      <th>1</th>\n",
              "      <td>France</td>\n",
              "      <td>64.3</td>\n",
              "      <td>671308</td>\n",
              "      <td>Paris</td>\n",
              "    </tr>\n",
              "    <tr>\n",
              "      <th>2</th>\n",
              "      <td>Germany</td>\n",
              "      <td>81.3</td>\n",
              "      <td>357050</td>\n",
              "      <td>Berlin</td>\n",
              "    </tr>\n",
              "    <tr>\n",
              "      <th>3</th>\n",
              "      <td>Netherlands</td>\n",
              "      <td>16.9</td>\n",
              "      <td>41526</td>\n",
              "      <td>Amsterdam</td>\n",
              "    </tr>\n",
              "    <tr>\n",
              "      <th>4</th>\n",
              "      <td>United Kingdom</td>\n",
              "      <td>64.9</td>\n",
              "      <td>244820</td>\n",
              "      <td>London</td>\n",
              "    </tr>\n",
              "  </tbody>\n",
              "</table>\n",
              "</div>"
            ],
            "text/plain": [
              "          country  population    area    capital\n",
              "0         Belgium        11.3   30510   Brussels\n",
              "1          France        64.3  671308      Paris\n",
              "2         Germany        81.3  357050     Berlin\n",
              "3     Netherlands        16.9   41526  Amsterdam\n",
              "4  United Kingdom        64.9  244820     London"
            ]
          },
          "execution_count": 75,
          "metadata": {},
          "output_type": "execute_result"
        }
      ],
      "source": [
        "data = {'country': ['Belgium', 'France', 'Germany', 'Netherlands', 'United Kingdom'],\n",
        "        'population': [11.3, 64.3, 81.3, 16.9, 64.9],\n",
        "        'area': [30510, 671308, 357050, 41526, 244820],\n",
        "        'capital': ['Brussels', 'Paris', 'Berlin', 'Amsterdam', 'London']}\n",
        "countries = pd.DataFrame(data)\n",
        "countries"
      ]
    },
    {
      "cell_type": "markdown",
      "metadata": {
        "id": "6eJjKW_G2kOh"
      },
      "source": [
        "A DataFrame has besides an index attribute, also a columns attribute:"
      ]
    },
    {
      "cell_type": "code",
      "execution_count": 76,
      "metadata": {
        "colab": {
          "base_uri": "https://localhost:8080/"
        },
        "id": "gbbnpzQ52kOh",
        "jupyter": {
          "outputs_hidden": false
        },
        "outputId": "71b15da6-e189-4e59-cfb4-2e7fb42f0f60"
      },
      "outputs": [
        {
          "data": {
            "text/plain": [
              "Index(['country', 'population', 'area', 'capital'], dtype='object')"
            ]
          },
          "execution_count": 76,
          "metadata": {},
          "output_type": "execute_result"
        }
      ],
      "source": [
        "countries.columns"
      ]
    },
    {
      "cell_type": "markdown",
      "metadata": {
        "id": "z5u2xB0Y2kOh"
      },
      "source": [
        "An overview of that information can be given with the info() method:"
      ]
    },
    {
      "cell_type": "code",
      "execution_count": 77,
      "metadata": {
        "colab": {
          "base_uri": "https://localhost:8080/"
        },
        "id": "ZyOhRxlP2kOi",
        "jupyter": {
          "outputs_hidden": false
        },
        "outputId": "50941bcc-f3a1-46c5-b3ab-03635cf68779"
      },
      "outputs": [
        {
          "name": "stdout",
          "output_type": "stream",
          "text": [
            "<class 'pandas.core.frame.DataFrame'>\n",
            "RangeIndex: 5 entries, 0 to 4\n",
            "Data columns (total 4 columns):\n",
            " #   Column      Non-Null Count  Dtype  \n",
            "---  ------      --------------  -----  \n",
            " 0   country     5 non-null      object \n",
            " 1   population  5 non-null      float64\n",
            " 2   area        5 non-null      int64  \n",
            " 3   capital     5 non-null      object \n",
            "dtypes: float64(1), int64(1), object(2)\n",
            "memory usage: 288.0+ bytes\n"
          ]
        }
      ],
      "source": [
        "countries.info()"
      ]
    },
    {
      "cell_type": "markdown",
      "metadata": {
        "id": "4z_SEc2b2kOi"
      },
      "source": [
        "To access a Series representing a column in the data, use typical indexing syntax:"
      ]
    },
    {
      "cell_type": "code",
      "execution_count": 78,
      "metadata": {
        "colab": {
          "base_uri": "https://localhost:8080/"
        },
        "id": "LXc9A_Ra2kOi",
        "jupyter": {
          "outputs_hidden": false
        },
        "outputId": "4a0daa6e-2791-4bc4-bbd1-7de3af3af761"
      },
      "outputs": [
        {
          "data": {
            "text/plain": [
              "0     Brussels\n",
              "1        Paris\n",
              "2       Berlin\n",
              "3    Amsterdam\n",
              "4       London\n",
              "Name: capital, dtype: object"
            ]
          },
          "execution_count": 78,
          "metadata": {},
          "output_type": "execute_result"
        }
      ],
      "source": [
        "countries['capital']"
      ]
    },
    {
      "cell_type": "markdown",
      "metadata": {
        "id": "2jDRlxk42kOi"
      },
      "source": [
        "If we don't like what the index looks like, we can reset it and set one of our columns:\n"
      ]
    },
    {
      "cell_type": "code",
      "execution_count": 79,
      "metadata": {
        "colab": {
          "base_uri": "https://localhost:8080/",
          "height": 238
        },
        "id": "BC8914kf2kOi",
        "jupyter": {
          "outputs_hidden": false
        },
        "outputId": "a6d7e4be-f88f-4fd2-e6a2-941cfe287b5e"
      },
      "outputs": [
        {
          "data": {
            "text/html": [
              "<div>\n",
              "<style scoped>\n",
              "    .dataframe tbody tr th:only-of-type {\n",
              "        vertical-align: middle;\n",
              "    }\n",
              "\n",
              "    .dataframe tbody tr th {\n",
              "        vertical-align: top;\n",
              "    }\n",
              "\n",
              "    .dataframe thead th {\n",
              "        text-align: right;\n",
              "    }\n",
              "</style>\n",
              "<table border=\"1\" class=\"dataframe\">\n",
              "  <thead>\n",
              "    <tr style=\"text-align: right;\">\n",
              "      <th></th>\n",
              "      <th>population</th>\n",
              "      <th>area</th>\n",
              "      <th>capital</th>\n",
              "    </tr>\n",
              "    <tr>\n",
              "      <th>country</th>\n",
              "      <th></th>\n",
              "      <th></th>\n",
              "      <th></th>\n",
              "    </tr>\n",
              "  </thead>\n",
              "  <tbody>\n",
              "    <tr>\n",
              "      <th>Belgium</th>\n",
              "      <td>11.3</td>\n",
              "      <td>30510</td>\n",
              "      <td>Brussels</td>\n",
              "    </tr>\n",
              "    <tr>\n",
              "      <th>France</th>\n",
              "      <td>64.3</td>\n",
              "      <td>671308</td>\n",
              "      <td>Paris</td>\n",
              "    </tr>\n",
              "    <tr>\n",
              "      <th>Germany</th>\n",
              "      <td>81.3</td>\n",
              "      <td>357050</td>\n",
              "      <td>Berlin</td>\n",
              "    </tr>\n",
              "    <tr>\n",
              "      <th>Netherlands</th>\n",
              "      <td>16.9</td>\n",
              "      <td>41526</td>\n",
              "      <td>Amsterdam</td>\n",
              "    </tr>\n",
              "    <tr>\n",
              "      <th>United Kingdom</th>\n",
              "      <td>64.9</td>\n",
              "      <td>244820</td>\n",
              "      <td>London</td>\n",
              "    </tr>\n",
              "  </tbody>\n",
              "</table>\n",
              "</div>"
            ],
            "text/plain": [
              "                population    area    capital\n",
              "country                                      \n",
              "Belgium               11.3   30510   Brussels\n",
              "France                64.3  671308      Paris\n",
              "Germany               81.3  357050     Berlin\n",
              "Netherlands           16.9   41526  Amsterdam\n",
              "United Kingdom        64.9  244820     London"
            ]
          },
          "execution_count": 79,
          "metadata": {},
          "output_type": "execute_result"
        }
      ],
      "source": [
        "countries = countries.set_index('country')\n",
        "countries"
      ]
    },
    {
      "cell_type": "markdown",
      "metadata": {
        "id": "MbIuT5JB2kOi"
      },
      "source": [
        "Adding a new column to the dataframe is very simple:"
      ]
    },
    {
      "cell_type": "code",
      "execution_count": 80,
      "metadata": {
        "colab": {
          "base_uri": "https://localhost:8080/",
          "height": 238
        },
        "id": "aYsc3hK12kOi",
        "jupyter": {
          "outputs_hidden": false
        },
        "outputId": "54fac7c6-4a89-4b29-ca39-c252603fcf33"
      },
      "outputs": [
        {
          "data": {
            "text/html": [
              "<div>\n",
              "<style scoped>\n",
              "    .dataframe tbody tr th:only-of-type {\n",
              "        vertical-align: middle;\n",
              "    }\n",
              "\n",
              "    .dataframe tbody tr th {\n",
              "        vertical-align: top;\n",
              "    }\n",
              "\n",
              "    .dataframe thead th {\n",
              "        text-align: right;\n",
              "    }\n",
              "</style>\n",
              "<table border=\"1\" class=\"dataframe\">\n",
              "  <thead>\n",
              "    <tr style=\"text-align: right;\">\n",
              "      <th></th>\n",
              "      <th>population</th>\n",
              "      <th>area</th>\n",
              "      <th>capital</th>\n",
              "      <th>density</th>\n",
              "    </tr>\n",
              "    <tr>\n",
              "      <th>country</th>\n",
              "      <th></th>\n",
              "      <th></th>\n",
              "      <th></th>\n",
              "      <th></th>\n",
              "    </tr>\n",
              "  </thead>\n",
              "  <tbody>\n",
              "    <tr>\n",
              "      <th>Belgium</th>\n",
              "      <td>11.3</td>\n",
              "      <td>30510</td>\n",
              "      <td>Brussels</td>\n",
              "      <td>370.370370</td>\n",
              "    </tr>\n",
              "    <tr>\n",
              "      <th>France</th>\n",
              "      <td>64.3</td>\n",
              "      <td>671308</td>\n",
              "      <td>Paris</td>\n",
              "      <td>95.783158</td>\n",
              "    </tr>\n",
              "    <tr>\n",
              "      <th>Germany</th>\n",
              "      <td>81.3</td>\n",
              "      <td>357050</td>\n",
              "      <td>Berlin</td>\n",
              "      <td>227.699202</td>\n",
              "    </tr>\n",
              "    <tr>\n",
              "      <th>Netherlands</th>\n",
              "      <td>16.9</td>\n",
              "      <td>41526</td>\n",
              "      <td>Amsterdam</td>\n",
              "      <td>406.973944</td>\n",
              "    </tr>\n",
              "    <tr>\n",
              "      <th>United Kingdom</th>\n",
              "      <td>64.9</td>\n",
              "      <td>244820</td>\n",
              "      <td>London</td>\n",
              "      <td>265.092721</td>\n",
              "    </tr>\n",
              "  </tbody>\n",
              "</table>\n",
              "</div>"
            ],
            "text/plain": [
              "                population    area    capital     density\n",
              "country                                                  \n",
              "Belgium               11.3   30510   Brussels  370.370370\n",
              "France                64.3  671308      Paris   95.783158\n",
              "Germany               81.3  357050     Berlin  227.699202\n",
              "Netherlands           16.9   41526  Amsterdam  406.973944\n",
              "United Kingdom        64.9  244820     London  265.092721"
            ]
          },
          "execution_count": 80,
          "metadata": {},
          "output_type": "execute_result"
        }
      ],
      "source": [
        "countries['density'] = countries['population']*1000000 / countries['area']\n",
        "countries"
      ]
    },
    {
      "cell_type": "markdown",
      "metadata": {
        "id": "U4Q5icmY2kOi"
      },
      "source": [
        "Masking is also working as expected:"
      ]
    },
    {
      "cell_type": "code",
      "execution_count": 81,
      "metadata": {
        "colab": {
          "base_uri": "https://localhost:8080/",
          "height": 143
        },
        "id": "2FgkxYSr2kOi",
        "jupyter": {
          "outputs_hidden": false
        },
        "outputId": "eb29c5f0-d2e2-4793-90a2-e90796928451"
      },
      "outputs": [
        {
          "data": {
            "text/html": [
              "<div>\n",
              "<style scoped>\n",
              "    .dataframe tbody tr th:only-of-type {\n",
              "        vertical-align: middle;\n",
              "    }\n",
              "\n",
              "    .dataframe tbody tr th {\n",
              "        vertical-align: top;\n",
              "    }\n",
              "\n",
              "    .dataframe thead th {\n",
              "        text-align: right;\n",
              "    }\n",
              "</style>\n",
              "<table border=\"1\" class=\"dataframe\">\n",
              "  <thead>\n",
              "    <tr style=\"text-align: right;\">\n",
              "      <th></th>\n",
              "      <th>population</th>\n",
              "      <th>area</th>\n",
              "      <th>capital</th>\n",
              "      <th>density</th>\n",
              "    </tr>\n",
              "    <tr>\n",
              "      <th>country</th>\n",
              "      <th></th>\n",
              "      <th></th>\n",
              "      <th></th>\n",
              "      <th></th>\n",
              "    </tr>\n",
              "  </thead>\n",
              "  <tbody>\n",
              "    <tr>\n",
              "      <th>Belgium</th>\n",
              "      <td>11.3</td>\n",
              "      <td>30510</td>\n",
              "      <td>Brussels</td>\n",
              "      <td>370.370370</td>\n",
              "    </tr>\n",
              "    <tr>\n",
              "      <th>Netherlands</th>\n",
              "      <td>16.9</td>\n",
              "      <td>41526</td>\n",
              "      <td>Amsterdam</td>\n",
              "      <td>406.973944</td>\n",
              "    </tr>\n",
              "  </tbody>\n",
              "</table>\n",
              "</div>"
            ],
            "text/plain": [
              "             population   area    capital     density\n",
              "country                                              \n",
              "Belgium            11.3  30510   Brussels  370.370370\n",
              "Netherlands        16.9  41526  Amsterdam  406.973944"
            ]
          },
          "execution_count": 81,
          "metadata": {},
          "output_type": "execute_result"
        }
      ],
      "source": [
        "countries[countries['density'] > 300]"
      ]
    },
    {
      "cell_type": "markdown",
      "metadata": {
        "id": "zHgdLQSd2kOj"
      },
      "source": [
        "One useful method to use is the describe method, which computes summary statistics for each column:"
      ]
    },
    {
      "cell_type": "code",
      "execution_count": 82,
      "metadata": {
        "colab": {
          "base_uri": "https://localhost:8080/",
          "height": 300
        },
        "id": "8lS_cPp42kOj",
        "jupyter": {
          "outputs_hidden": false
        },
        "outputId": "f54d4fc7-4c09-49ce-b7a1-4edbe8a948de"
      },
      "outputs": [
        {
          "data": {
            "text/html": [
              "<div>\n",
              "<style scoped>\n",
              "    .dataframe tbody tr th:only-of-type {\n",
              "        vertical-align: middle;\n",
              "    }\n",
              "\n",
              "    .dataframe tbody tr th {\n",
              "        vertical-align: top;\n",
              "    }\n",
              "\n",
              "    .dataframe thead th {\n",
              "        text-align: right;\n",
              "    }\n",
              "</style>\n",
              "<table border=\"1\" class=\"dataframe\">\n",
              "  <thead>\n",
              "    <tr style=\"text-align: right;\">\n",
              "      <th></th>\n",
              "      <th>population</th>\n",
              "      <th>area</th>\n",
              "      <th>density</th>\n",
              "    </tr>\n",
              "  </thead>\n",
              "  <tbody>\n",
              "    <tr>\n",
              "      <th>count</th>\n",
              "      <td>5.000000</td>\n",
              "      <td>5.000000</td>\n",
              "      <td>5.000000</td>\n",
              "    </tr>\n",
              "    <tr>\n",
              "      <th>mean</th>\n",
              "      <td>47.740000</td>\n",
              "      <td>269042.800000</td>\n",
              "      <td>273.183879</td>\n",
              "    </tr>\n",
              "    <tr>\n",
              "      <th>std</th>\n",
              "      <td>31.519645</td>\n",
              "      <td>264012.827994</td>\n",
              "      <td>123.440607</td>\n",
              "    </tr>\n",
              "    <tr>\n",
              "      <th>min</th>\n",
              "      <td>11.300000</td>\n",
              "      <td>30510.000000</td>\n",
              "      <td>95.783158</td>\n",
              "    </tr>\n",
              "    <tr>\n",
              "      <th>25%</th>\n",
              "      <td>16.900000</td>\n",
              "      <td>41526.000000</td>\n",
              "      <td>227.699202</td>\n",
              "    </tr>\n",
              "    <tr>\n",
              "      <th>50%</th>\n",
              "      <td>64.300000</td>\n",
              "      <td>244820.000000</td>\n",
              "      <td>265.092721</td>\n",
              "    </tr>\n",
              "    <tr>\n",
              "      <th>75%</th>\n",
              "      <td>64.900000</td>\n",
              "      <td>357050.000000</td>\n",
              "      <td>370.370370</td>\n",
              "    </tr>\n",
              "    <tr>\n",
              "      <th>max</th>\n",
              "      <td>81.300000</td>\n",
              "      <td>671308.000000</td>\n",
              "      <td>406.973944</td>\n",
              "    </tr>\n",
              "  </tbody>\n",
              "</table>\n",
              "</div>"
            ],
            "text/plain": [
              "       population           area     density\n",
              "count    5.000000       5.000000    5.000000\n",
              "mean    47.740000  269042.800000  273.183879\n",
              "std     31.519645  264012.827994  123.440607\n",
              "min     11.300000   30510.000000   95.783158\n",
              "25%     16.900000   41526.000000  227.699202\n",
              "50%     64.300000  244820.000000  265.092721\n",
              "75%     64.900000  357050.000000  370.370370\n",
              "max     81.300000  671308.000000  406.973944"
            ]
          },
          "execution_count": 82,
          "metadata": {},
          "output_type": "execute_result"
        }
      ],
      "source": [
        "countries.describe()"
      ]
    },
    {
      "cell_type": "markdown",
      "metadata": {
        "id": "artTD5xA2kOj"
      },
      "source": [
        "For more advanced indexing, you have some extra attributes:   \n",
        "* loc: selection by label   \n",
        "* iloc: selection by position"
      ]
    },
    {
      "cell_type": "code",
      "execution_count": 83,
      "metadata": {
        "id": "Bg3oFium2kOj",
        "jupyter": {
          "outputs_hidden": false
        }
      },
      "outputs": [
        {
          "data": {
            "text/plain": [
              "357050"
            ]
          },
          "execution_count": 83,
          "metadata": {},
          "output_type": "execute_result"
        }
      ],
      "source": [
        "countries.loc['Germany', 'area']"
      ]
    },
    {
      "cell_type": "markdown",
      "metadata": {
        "id": "BOsKIgHu2kOj"
      },
      "source": [
        "Similar to NumPy indexing by using `iloc`:"
      ]
    },
    {
      "cell_type": "code",
      "execution_count": 84,
      "metadata": {
        "id": "OAi_wunQ2kOj",
        "jupyter": {
          "outputs_hidden": false
        }
      },
      "outputs": [
        {
          "data": {
            "text/plain": [
              "81.3"
            ]
          },
          "execution_count": 84,
          "metadata": {},
          "output_type": "execute_result"
        }
      ],
      "source": [
        "countries.iloc[2, 0]"
      ]
    },
    {
      "cell_type": "markdown",
      "metadata": {
        "id": "VB-VuH_92kOj"
      },
      "source": [
        "### Plotting\n",
        "We can visualize the data by using the packages Matplotlib and Seaborn:"
      ]
    },
    {
      "cell_type": "code",
      "execution_count": 85,
      "metadata": {
        "id": "0M5XO4fX2kOj"
      },
      "outputs": [],
      "source": [
        "%matplotlib inline\n",
        "import matplotlib.pyplot as plt\n",
        "import seaborn\n",
        "%matplotlib inline\n",
        "plt.style.use('seaborn-white')"
      ]
    },
    {
      "cell_type": "code",
      "execution_count": 86,
      "metadata": {
        "colab": {
          "base_uri": "https://localhost:8080/",
          "height": 295
        },
        "id": "T1YWIG762kOk",
        "jupyter": {
          "outputs_hidden": false
        },
        "outputId": "98cbd0ec-0ade-4ad0-e165-91fcf68211d4"
      },
      "outputs": [
        {
          "data": {
            "text/plain": [
              "<AxesSubplot:xlabel='country'>"
            ]
          },
          "execution_count": 86,
          "metadata": {},
          "output_type": "execute_result"
        },
        {
          "data": {
            "image/png": "[encoded data removed]",
            "text/plain": [
              "<Figure size 432x288 with 1 Axes>"
            ]
          },
          "metadata": {},
          "output_type": "display_data"
        }
      ],
      "source": [
        "countries.plot()"
      ]
    },
    {
      "cell_type": "markdown",
      "metadata": {
        "id": "uxSwEpW52kOk"
      },
      "source": [
        "This plot is not so informative though, but we can visualise the data of each column separately.   \n",
        "You can also  play with the different keywords: 'line', 'bar', 'hist', 'density', 'area', 'pie', 'scatter', 'hexbin'   \n",
        "See the examples below."
      ]
    },
    {
      "cell_type": "code",
      "execution_count": 87,
      "metadata": {
        "colab": {
          "base_uri": "https://localhost:8080/",
          "height": 354
        },
        "id": "mc61gjG12kOk",
        "jupyter": {
          "outputs_hidden": false
        },
        "outputId": "ecd71a01-7315-4159-b6de-2175003e9fa8"
      },
      "outputs": [
        {
          "data": {
            "text/plain": [
              "<AxesSubplot:xlabel='country'>"
            ]
          },
          "execution_count": 87,
          "metadata": {},
          "output_type": "execute_result"
        },
        {
          "data": {
            "image/png": "[encoded data removed]",
            "text/plain": [
              "<Figure size 432x288 with 1 Axes>"
            ]
          },
          "metadata": {},
          "output_type": "display_data"
        }
      ],
      "source": [
        "countries['population'].plot(kind='bar')"
      ]
    },
    {
      "cell_type": "code",
      "execution_count": 88,
      "metadata": {
        "colab": {
          "base_uri": "https://localhost:8080/",
          "height": 265
        },
        "id": "5zWC3ffc2kOk",
        "jupyter": {
          "outputs_hidden": false
        },
        "outputId": "eddcea18-b5e3-4928-a8b9-8c28d9fdae5c"
      },
      "outputs": [
        {
          "data": {
            "text/plain": [
              "<AxesSubplot:ylabel='population'>"
            ]
          },
          "execution_count": 88,
          "metadata": {},
          "output_type": "execute_result"
        },
        {
          "data": {
            "image/png": "[encoded data removed]",
            "text/plain": [
              "<Figure size 432x288 with 1 Axes>"
            ]
          },
          "metadata": {},
          "output_type": "display_data"
        }
      ],
      "source": [
        "countries['population'].plot(kind='pie')"
      ]
    },
    {
      "cell_type": "markdown",
      "metadata": {
        "id": "OWu5sBGZ2kOk"
      },
      "source": [
        "For examining possible correlations, a scatter plot is usually quite useful:"
      ]
    },
    {
      "cell_type": "code",
      "execution_count": 89,
      "metadata": {
        "colab": {
          "base_uri": "https://localhost:8080/",
          "height": 296
        },
        "id": "lukYE2VF2kOl",
        "jupyter": {
          "outputs_hidden": false
        },
        "outputId": "0c5a6bec-1e2d-404f-c9a8-c00554b2ad1b"
      },
      "outputs": [
        {
          "data": {
            "text/plain": [
              "<AxesSubplot:xlabel='population', ylabel='area'>"
            ]
          },
          "execution_count": 89,
          "metadata": {},
          "output_type": "execute_result"
        },
        {
          "data": {
            "image/png": "[encoded data removed]",
            "text/plain": [
              "<Figure size 432x288 with 1 Axes>"
            ]
          },
          "metadata": {},
          "output_type": "display_data"
        }
      ],
      "source": [
        "countries.plot.scatter('population', 'area')"
      ]
    },
    {
      "cell_type": "markdown",
      "metadata": {
        "id": "p5r4yMn72kOl"
      },
      "source": [
        "**Reading from file**     \n",
        "A wide range of input/output formats are natively supported by Pandas:   \n",
        "* CSV, text\n",
        "* SQL database\n",
        "* Excel\n",
        "* HDF5\n",
        "* json\n",
        "* html\n",
        "* Pickle   \n",
        "etc.\n",
        "\n"
      ]
    },
    {
      "cell_type": "markdown",
      "metadata": {
        "id": "f05wzQkA2kOl"
      },
      "source": [
        "## 4. The Iris example\n",
        "For the rest of our first lab we will explore the *Iris* dataset, which is stored as a .csv file. This famous (Fisher’s or Anderson’s) Iris dataset contains measurements (in centimeters) of the sepal length and width and petal length and width,\n",
        "respectively, of 120 *Iris* flowers. Each of these flowers belongs to one of 3 species of *Iris*. These species\n",
        "are *Iris setosa*, *Iris versicolor*, and *Iris virginica*.\n",
        "To do it so, we should firstly load the data as:"
      ]
    },
    {
      "cell_type": "code",
      "execution_count": 90,
      "metadata": {
        "id": "ooTpdVtf7AS1"
      },
      "outputs": [
        {
          "name": "stdout",
          "output_type": "stream",
          "text": [
            "--2024-01-26 15:33:45--  https://raw.githubusercontent.com/tfmortie/mlmust/main/01_python_intro/iris.csv\n",
            "Resolving raw.githubusercontent.com (raw.githubusercontent.com)... 185.199.108.133, 185.199.109.133, 185.199.110.133, ...\n",
            "Connecting to raw.githubusercontent.com (raw.githubusercontent.com)|185.199.108.133|:443... connected.\n",
            "HTTP request sent, awaiting response... 200 OK\n",
            "Length: 4177 (4,1K) [text/plain]\n",
            "Saving to: ‘iris.csv.1’\n",
            "\n",
            "iris.csv.1          100%[===================>]   4,08K  --.-KB/s    in 0s      \n",
            "\n",
            "2024-01-26 15:33:45 (10,9 MB/s) - ‘iris.csv.1’ saved [4177/4177]\n",
            "\n"
          ]
        }
      ],
      "source": [
        "!wget https://raw.githubusercontent.com/tfmortie/mlmust/main/01_python_intro/iris.csv"
      ]
    },
    {
      "cell_type": "code",
      "execution_count": 91,
      "metadata": {
        "id": "14g3pK6r2kOl",
        "jupyter": {
          "outputs_hidden": false
        },
        "scrolled": true
      },
      "outputs": [],
      "source": [
        "iris = pd.read_csv('iris.csv')"
      ]
    },
    {
      "cell_type": "code",
      "execution_count": 92,
      "metadata": {
        "colab": {
          "base_uri": "https://localhost:8080/",
          "height": 206
        },
        "id": "F2ynk1Sf2kOl",
        "jupyter": {
          "outputs_hidden": false
        },
        "outputId": "4aa88e35-7fa4-4809-9e4c-e371a90a6876"
      },
      "outputs": [
        {
          "data": {
            "text/html": [
              "<div>\n",
              "<style scoped>\n",
              "    .dataframe tbody tr th:only-of-type {\n",
              "        vertical-align: middle;\n",
              "    }\n",
              "\n",
              "    .dataframe tbody tr th {\n",
              "        vertical-align: top;\n",
              "    }\n",
              "\n",
              "    .dataframe thead th {\n",
              "        text-align: right;\n",
              "    }\n",
              "</style>\n",
              "<table border=\"1\" class=\"dataframe\">\n",
              "  <thead>\n",
              "    <tr style=\"text-align: right;\">\n",
              "      <th></th>\n",
              "      <th>Sepal.Length</th>\n",
              "      <th>Sepal.Width</th>\n",
              "      <th>Petal.Length</th>\n",
              "      <th>Petal.Width</th>\n",
              "      <th>Species</th>\n",
              "    </tr>\n",
              "  </thead>\n",
              "  <tbody>\n",
              "    <tr>\n",
              "      <th>0</th>\n",
              "      <td>5.1</td>\n",
              "      <td>3.5</td>\n",
              "      <td>1.4</td>\n",
              "      <td>0.2</td>\n",
              "      <td>setosa</td>\n",
              "    </tr>\n",
              "    <tr>\n",
              "      <th>1</th>\n",
              "      <td>4.9</td>\n",
              "      <td>3.0</td>\n",
              "      <td>1.4</td>\n",
              "      <td>0.2</td>\n",
              "      <td>setosa</td>\n",
              "    </tr>\n",
              "    <tr>\n",
              "      <th>2</th>\n",
              "      <td>4.7</td>\n",
              "      <td>3.2</td>\n",
              "      <td>1.3</td>\n",
              "      <td>0.2</td>\n",
              "      <td>setosa</td>\n",
              "    </tr>\n",
              "    <tr>\n",
              "      <th>3</th>\n",
              "      <td>4.6</td>\n",
              "      <td>3.1</td>\n",
              "      <td>1.5</td>\n",
              "      <td>0.2</td>\n",
              "      <td>setosa</td>\n",
              "    </tr>\n",
              "    <tr>\n",
              "      <th>4</th>\n",
              "      <td>5.0</td>\n",
              "      <td>3.6</td>\n",
              "      <td>1.4</td>\n",
              "      <td>0.2</td>\n",
              "      <td>setosa</td>\n",
              "    </tr>\n",
              "  </tbody>\n",
              "</table>\n",
              "</div>"
            ],
            "text/plain": [
              "   Sepal.Length  Sepal.Width  Petal.Length  Petal.Width Species\n",
              "0           5.1          3.5           1.4          0.2  setosa\n",
              "1           4.9          3.0           1.4          0.2  setosa\n",
              "2           4.7          3.2           1.3          0.2  setosa\n",
              "3           4.6          3.1           1.5          0.2  setosa\n",
              "4           5.0          3.6           1.4          0.2  setosa"
            ]
          },
          "execution_count": 92,
          "metadata": {},
          "output_type": "execute_result"
        }
      ],
      "source": [
        "iris.head()"
      ]
    },
    {
      "cell_type": "markdown",
      "metadata": {
        "id": "gSvKU-jb2kOl"
      },
      "source": [
        "<div class=\"alert alert-success\">\n",
        "\n",
        "<b>EXERCISE 4.1</b>: **Calculate the basic statistics for the dataset**\n",
        "</div>\n"
      ]
    },
    {
      "cell_type": "code",
      "execution_count": 93,
      "metadata": {
        "colab": {
          "base_uri": "https://localhost:8080/",
          "height": 300
        },
        "id": "ji6Ihj8-2kOl",
        "jupyter": {
          "outputs_hidden": false
        },
        "outputId": "457f3352-fc41-4fe7-fbd6-3eb7f62c7bf8"
      },
      "outputs": [
        {
          "data": {
            "text/html": [
              "<div>\n",
              "<style scoped>\n",
              "    .dataframe tbody tr th:only-of-type {\n",
              "        vertical-align: middle;\n",
              "    }\n",
              "\n",
              "    .dataframe tbody tr th {\n",
              "        vertical-align: top;\n",
              "    }\n",
              "\n",
              "    .dataframe thead th {\n",
              "        text-align: right;\n",
              "    }\n",
              "</style>\n",
              "<table border=\"1\" class=\"dataframe\">\n",
              "  <thead>\n",
              "    <tr style=\"text-align: right;\">\n",
              "      <th></th>\n",
              "      <th>Sepal.Length</th>\n",
              "      <th>Sepal.Width</th>\n",
              "      <th>Petal.Length</th>\n",
              "      <th>Petal.Width</th>\n",
              "    </tr>\n",
              "  </thead>\n",
              "  <tbody>\n",
              "    <tr>\n",
              "      <th>count</th>\n",
              "      <td>150.000000</td>\n",
              "      <td>150.000000</td>\n",
              "      <td>150.000000</td>\n",
              "      <td>150.000000</td>\n",
              "    </tr>\n",
              "    <tr>\n",
              "      <th>mean</th>\n",
              "      <td>5.843333</td>\n",
              "      <td>3.057333</td>\n",
              "      <td>3.758000</td>\n",
              "      <td>1.199333</td>\n",
              "    </tr>\n",
              "    <tr>\n",
              "      <th>std</th>\n",
              "      <td>0.828066</td>\n",
              "      <td>0.435866</td>\n",
              "      <td>1.765298</td>\n",
              "      <td>0.762238</td>\n",
              "    </tr>\n",
              "    <tr>\n",
              "      <th>min</th>\n",
              "      <td>4.300000</td>\n",
              "      <td>2.000000</td>\n",
              "      <td>1.000000</td>\n",
              "      <td>0.100000</td>\n",
              "    </tr>\n",
              "    <tr>\n",
              "      <th>25%</th>\n",
              "      <td>5.100000</td>\n",
              "      <td>2.800000</td>\n",
              "      <td>1.600000</td>\n",
              "      <td>0.300000</td>\n",
              "    </tr>\n",
              "    <tr>\n",
              "      <th>50%</th>\n",
              "      <td>5.800000</td>\n",
              "      <td>3.000000</td>\n",
              "      <td>4.350000</td>\n",
              "      <td>1.300000</td>\n",
              "    </tr>\n",
              "    <tr>\n",
              "      <th>75%</th>\n",
              "      <td>6.400000</td>\n",
              "      <td>3.300000</td>\n",
              "      <td>5.100000</td>\n",
              "      <td>1.800000</td>\n",
              "    </tr>\n",
              "    <tr>\n",
              "      <th>max</th>\n",
              "      <td>7.900000</td>\n",
              "      <td>4.400000</td>\n",
              "      <td>6.900000</td>\n",
              "      <td>2.500000</td>\n",
              "    </tr>\n",
              "  </tbody>\n",
              "</table>\n",
              "</div>"
            ],
            "text/plain": [
              "       Sepal.Length  Sepal.Width  Petal.Length  Petal.Width\n",
              "count    150.000000   150.000000    150.000000   150.000000\n",
              "mean       5.843333     3.057333      3.758000     1.199333\n",
              "std        0.828066     0.435866      1.765298     0.762238\n",
              "min        4.300000     2.000000      1.000000     0.100000\n",
              "25%        5.100000     2.800000      1.600000     0.300000\n",
              "50%        5.800000     3.000000      4.350000     1.300000\n",
              "75%        6.400000     3.300000      5.100000     1.800000\n",
              "max        7.900000     4.400000      6.900000     2.500000"
            ]
          },
          "execution_count": 93,
          "metadata": {},
          "output_type": "execute_result"
        }
      ],
      "source": [
        "iris.describe()"
      ]
    },
    {
      "cell_type": "markdown",
      "metadata": {
        "id": "3N1KJm6M2kOl"
      },
      "source": [
        "<div class=\"alert alert-success\">\n",
        "\n",
        "<b>EXERCISE 4.2</b>: **Create a scatter plot of the “sepal length” versus the “sepal width”.**\n",
        "</div>  "
      ]
    },
    {
      "cell_type": "code",
      "execution_count": 94,
      "metadata": {
        "colab": {
          "base_uri": "https://localhost:8080/",
          "height": 295
        },
        "id": "gi7b97m22kOl",
        "jupyter": {
          "outputs_hidden": false
        },
        "outputId": "b2740558-e8fa-4ffb-bfac-deee7be5dc82"
      },
      "outputs": [
        {
          "data": {
            "text/plain": [
              "<AxesSubplot:xlabel='Sepal.Length', ylabel='Sepal.Width'>"
            ]
          },
          "execution_count": 94,
          "metadata": {},
          "output_type": "execute_result"
        },
        {
          "data": {
            "image/png": "[encoded data removed]",
            "text/plain": [
              "<Figure size 432x288 with 1 Axes>"
            ]
          },
          "metadata": {},
          "output_type": "display_data"
        }
      ],
      "source": [
        "iris.plot.scatter('Sepal.Length', 'Sepal.Width')"
      ]
    },
    {
      "cell_type": "markdown",
      "metadata": {
        "id": "pHkKF9Vx2kOl"
      },
      "source": [
        "<div class=\"alert alert-success\">\n",
        "\n",
        "<b>EXERCISE 4.3</b>: **Create a frequency histogram of the variable “sepal length”.**\n",
        "</div>      "
      ]
    },
    {
      "cell_type": "code",
      "execution_count": 95,
      "metadata": {
        "colab": {
          "base_uri": "https://localhost:8080/",
          "height": 280
        },
        "id": "4Qa_Dydz2kOm",
        "jupyter": {
          "outputs_hidden": false
        },
        "outputId": "091b6291-f2ba-4db9-eb92-fc5b752ea245"
      },
      "outputs": [
        {
          "data": {
            "text/plain": [
              "<AxesSubplot:ylabel='Frequency'>"
            ]
          },
          "execution_count": 95,
          "metadata": {},
          "output_type": "execute_result"
        },
        {
          "data": {
            "image/png": "[encoded data removed]",
            "text/plain": [
              "<Figure size 432x288 with 1 Axes>"
            ]
          },
          "metadata": {},
          "output_type": "display_data"
        }
      ],
      "source": [
        "iris['Sepal.Length'].plot(kind='hist')"
      ]
    },
    {
      "cell_type": "markdown",
      "metadata": {
        "id": "v0IYlvFg2kOm"
      },
      "source": [
        "<div class=\"alert alert-success\">\n",
        "\n",
        "<b>EXERCISE 4.4</b>: **Create a scatter plot of the \"petal length\" versus the \"petal width\" incorporating the species information as well.**     \n",
        "Hint! You can use 'replace' functions or 'cat.codes', see docs, to transform categorical data to numeric values\n",
        "</div>  \n",
        "\n"
      ]
    },
    {
      "cell_type": "code",
      "execution_count": 96,
      "metadata": {
        "colab": {
          "base_uri": "https://localhost:8080/",
          "height": 296
        },
        "id": "zh-Pa4h12kOm",
        "jupyter": {
          "outputs_hidden": false
        },
        "outputId": "f598d1a2-4890-4003-bd8c-8516202fe393"
      },
      "outputs": [
        {
          "data": {
            "text/plain": [
              "<AxesSubplot:xlabel='Sepal.Length', ylabel='Sepal.Width'>"
            ]
          },
          "execution_count": 96,
          "metadata": {},
          "output_type": "execute_result"
        },
        {
          "data": {
            "image/png": "[encoded data removed]",
            "text/plain": [
              "<Figure size 432x288 with 1 Axes>"
            ]
          },
          "metadata": {},
          "output_type": "display_data"
        }
      ],
      "source": [
        "iris[\"Species\"] = iris[\"Species\"].astype('category')\n",
        "iris[\"Species\"] = iris[\"Species\"].cat.codes\n",
        "iris.plot.scatter('Sepal.Length', 'Sepal.Width', c='Species', cmap=plt.cm.Set1, colorbar=False)"
      ]
    },
    {
      "cell_type": "markdown",
      "metadata": {
        "id": "2Ckig1g-wMi9"
      },
      "source": [
        "## 5. EXTRA: Python classes\n",
        "Python is an object-oriented programming language. With this philosophy, creating and using classes and instances becomes really easy."
      ]
    },
    {
      "cell_type": "markdown",
      "metadata": {
        "id": "47CeViRjwOwI"
      },
      "source": [
        "### Create a class\n",
        "Classes work like a blueprint for the creation of objects."
      ]
    },
    {
      "cell_type": "code",
      "execution_count": 97,
      "metadata": {
        "id": "6TfhcT7mwN_H"
      },
      "outputs": [],
      "source": [
        "class Student:\n",
        "    pass"
      ]
    },
    {
      "cell_type": "markdown",
      "metadata": {
        "id": "ho1Y8iynwUH-"
      },
      "source": [
        "### Define what happens when a user creates an instance of the class\n",
        "This is done by defining a method called .__init__(). For every new Student object we create, .__init__() sets the initial state of the instance's attributes."
      ]
    },
    {
      "cell_type": "code",
      "execution_count": 98,
      "metadata": {
        "id": "Gyv-X5QswTR2"
      },
      "outputs": [],
      "source": [
        "class Student:\n",
        "    def __init__(self, name, surname, age, gender, courses):\n",
        "        self.name = name\n",
        "        self.surname = surname\n",
        "        self.age = age\n",
        "        self.gender = gender\n",
        "        self.courses = courses"
      ]
    },
    {
      "cell_type": "markdown",
      "metadata": {
        "id": "G-mPmC61wXca"
      },
      "source": [
        "### Instantiate an Object"
      ]
    },
    {
      "cell_type": "code",
      "execution_count": 99,
      "metadata": {
        "colab": {
          "base_uri": "https://localhost:8080/",
          "height": 166
        },
        "id": "rvECbQ_AwWxE",
        "outputId": "3a2eaa77-4e03-4141-fe5f-d5d4e82fd140"
      },
      "outputs": [
        {
          "ename": "TypeError",
          "evalue": "__init__() missing 5 required positional arguments: 'name', 'surname', 'age', 'gender', and 'courses'",
          "output_type": "error",
          "traceback": [
            "\u001b[0;31m---------------------------------------------------------------------------\u001b[0m",
            "\u001b[0;31mTypeError\u001b[0m                                 Traceback (most recent call last)",
            "\u001b[0;32m<ipython-input-99-13fff8f0a308>\u001b[0m in \u001b[0;36m<module>\u001b[0;34m\u001b[0m\n\u001b[0;32m----> 1\u001b[0;31m \u001b[0mStudent\u001b[0m\u001b[0;34m(\u001b[0m\u001b[0;34m)\u001b[0m\u001b[0;34m\u001b[0m\u001b[0;34m\u001b[0m\u001b[0m\n\u001b[0m",
            "\u001b[0;31mTypeError\u001b[0m: __init__() missing 5 required positional arguments: 'name', 'surname', 'age', 'gender', and 'courses'"
          ]
        }
      ],
      "source": [
        "Student()"
      ]
    },
    {
      "cell_type": "code",
      "execution_count": null,
      "metadata": {
        "id": "IFYbwP-jwdoZ"
      },
      "outputs": [],
      "source": [
        "std1 = Student(\"John\", \"Doe\", 20, \"M\", [\"Biology\", \"Linear Algebra\", \"Predictive Modeling\"])"
      ]
    },
    {
      "cell_type": "markdown",
      "metadata": {
        "id": "KHo4K-8nwgUf"
      },
      "source": [
        "### Accessing the instance's attributes\n",
        "This can be easily done using dot notation."
      ]
    },
    {
      "cell_type": "code",
      "execution_count": null,
      "metadata": {
        "id": "dbRa2BDNwiLU"
      },
      "outputs": [],
      "source": [
        "std1"
      ]
    },
    {
      "cell_type": "code",
      "execution_count": null,
      "metadata": {
        "colab": {
          "base_uri": "https://localhost:8080/"
        },
        "id": "Z-vkvu_LwkzM",
        "outputId": "baba2130-4985-497d-dc7c-d8d6e506a4e8"
      },
      "outputs": [
        {
          "data": {
            "text/plain": [
              "['Biology', 'Linear Algebra', 'Predictive Modeling']"
            ]
          },
          "execution_count": 38,
          "metadata": {},
          "output_type": "execute_result"
        }
      ],
      "source": [
        "std1.courses"
      ]
    },
    {
      "cell_type": "markdown",
      "metadata": {
        "id": "XMG8NemgwoJx"
      },
      "source": [
        "### Modifying the attribute of an instance\n",
        "You can change the .age attribute of the Student object really easily.\n",
        "\n",
        "Custom objects are mutable. An object is mutable if it can be dynamically updated. Objects like lists and dictionaries are mutable, but strings and tuples are not."
      ]
    },
    {
      "cell_type": "code",
      "execution_count": null,
      "metadata": {
        "id": "ME7FU7ThwpTr"
      },
      "outputs": [],
      "source": [
        "std1.age = 21"
      ]
    },
    {
      "cell_type": "code",
      "execution_count": null,
      "metadata": {
        "id": "Tqr80vvawsps"
      },
      "outputs": [],
      "source": [
        "std1.age"
      ]
    },
    {
      "cell_type": "markdown",
      "metadata": {
        "id": "hCqWxHNiwq3U"
      },
      "source": [
        "### Instance Methods\n",
        "Instance methods are functions defined in a class and can only be called from an instance of that class."
      ]
    },
    {
      "cell_type": "code",
      "execution_count": null,
      "metadata": {
        "id": "0c7THbvzwu6c"
      },
      "outputs": [],
      "source": [
        "class Student:\n",
        "    def __init__(self, name, surname, age, gender, courses):\n",
        "        self.name = name\n",
        "        self.surname = surname\n",
        "        self.age = age\n",
        "        self.gender = gender\n",
        "        self.courses = courses\n",
        "\n",
        "    # Instance method\n",
        "    def get_num_courses(self):\n",
        "        return len(self.courses)\n",
        "\n",
        "    # Another instance method\n",
        "    def get_full_name(self):\n",
        "        return self.name + \" \" +self.surname"
      ]
    },
    {
      "cell_type": "code",
      "execution_count": null,
      "metadata": {
        "id": "FbtR2QC0wyCG"
      },
      "outputs": [],
      "source": [
        "std1 = Student(\"John\", \"Doe\", 20, \"M\", [\"Biology\", \"Linear Algebra\", \"Predictive Modeling\"])"
      ]
    },
    {
      "cell_type": "code",
      "execution_count": null,
      "metadata": {
        "colab": {
          "base_uri": "https://localhost:8080/",
          "height": 35
        },
        "id": "A2bsIeRkwz_c",
        "outputId": "29ea6fa7-480d-47c6-d196-78c9e4eea46e"
      },
      "outputs": [
        {
          "data": {
            "application/vnd.google.colaboratory.intrinsic+json": {
              "type": "string"
            },
            "text/plain": [
              "'John Doe'"
            ]
          },
          "execution_count": 41,
          "metadata": {},
          "output_type": "execute_result"
        }
      ],
      "source": [
        "std1.get_full_name()"
      ]
    },
    {
      "cell_type": "markdown",
      "metadata": {},
      "source": [
        "A diverse array of tools that empowers developers to tailor their Python development experience according to their specific requirements and preferences exists:\n",
        "\n",
        " * VS Code: Visual Studio Code, also commonly referred to as VS Code, is a source-code editor developed by Microsoft for Windows, Linux and macOS. Features include support for debugging, syntax highlighting, intelligent code completion, snippets, code refactoring, and embedded Git. VS Code supports a wide range of programming languages and offers a plethora of extensions that enhance its functionality, making it suitable for diverse development environments. **This tool is highly recommended in tandem with the Jupyter extension. The Jupyter extension can be downloaded in VS Code.**\n",
        " * an IPython console: Execute python commands one-by-one\n",
        " * Spyder: IDE  - python environment, similar to eclipse or matlab\n",
        " * Jupyter Notebook: The Jupyter Notebook is an open-source web application that allows you to create and share documents that contain live code, equations, visualizations and narrative text. \n",
        "\n",
        "### Getting started with Python, Visual Studio Code and Jupyter Notebooks\n",
        "\n",
        "#### 1. Install Python by means of Anaconda:\n",
        "\n",
        "Go to the website of [Anaconda](https://www.anaconda.com/download) and download the latest version (Anaconda 2023.09 with Python 3.11). **Anaconda** is a distribution of the Python and R programming languages for scientific computing, that aims to simplify package management and deployment. The distribution includes data-science packages suitable for Windows, Linux, and macOS.\n",
        "\n",
        "In Anaconda you can create different isolated environments in which you can work. Environments are \"directories\", each containing a collection of Python packages that you have installed. For instance, you can create environments for specific projects, requiring a different version of Python or\n",
        "collection of packages.\n",
        "\n",
        "For this course, you can create an environment, with name *mlmust*, by using the command line:\n",
        "\n",
        "```conda create --name mlmust```\n",
        "\n",
        "We then activate the environment by running:\n",
        "\n",
        "```conda activate mlmust```\n",
        "\n",
        "After finishing your work, or if you would like to change environment,\n",
        "simply run:\n",
        "\n",
        "```conda deactivate```\n",
        "\n",
        "You can easily install a package using the command line:\n",
        "\n",
        "```conda install package```\n",
        "\n",
        "You can check the available packages by typing:\n",
        "\n",
        "```conda list```\n",
        "\n",
        "#### 2. Install Visual Studio Code:\n",
        "\n",
        "- Download and install Visual Studio Code from the [official VS Code website](https://code.visualstudio.com/).\n",
        "- Follow the installation instructions for your operating system.\n",
        "\n",
        "#### 3. Open Visual Studio Code:\n",
        "\n",
        "- Launch VS Code after installation.\n",
        "\n",
        "#### 4. Install the Jupyter Extension:\n",
        "\n",
        "- In VS Code, go to the Extensions view by clicking on the Extensions icon in the Activity Bar on the side of the window or press `Ctrl+Shift+X/Shift+CMD+X`.\n",
        "- Search for \"Jupyter\" in the Extensions view search box.\n",
        "- Find the \"Jupyter\" extension published by Microsoft and click \"Install.\"\n",
        "\n",
        "#### 5. Confirm Jupyter Installation:\n",
        "\n",
        "- After installation, confirm that the Jupyter extension is enabled. You should see a Jupyter icon in the Activity Bar.\n",
        "- Restart VS Code if required.\n",
        "\n",
        "#### 6. Open a Jupyter Notebook:\n",
        "\n",
        "- Create a new file with the extension \".ipynb\" to start a Jupyter Notebook.\n",
        "- Use the Jupyter icon in the Activity Bar to manage your notebooks.\n",
        "\n",
        "Now you're set up to start working with Jupyter Notebooks in Visual Studio Code. Happy coding!"
      ]
    }
  ],
  "metadata": {
    "colab": {
      "collapsed_sections": [
        "pPSaD-uH2kOX"
      ],
      "provenance": []
    },
    "kernelspec": {
      "display_name": "Python 3",
      "language": "python",
      "name": "python3"
    },
    "language_info": {
      "codemirror_mode": {
        "name": "ipython",
        "version": 3
      },
      "file_extension": ".py",
      "mimetype": "text/x-python",
      "name": "python",
      "nbconvert_exporter": "python",
      "pygments_lexer": "ipython3",
      "version": "3.9.1"
    },
    "toc-autonumbering": false
  },
  "nbformat": 4,
  "nbformat_minor": 0
}
