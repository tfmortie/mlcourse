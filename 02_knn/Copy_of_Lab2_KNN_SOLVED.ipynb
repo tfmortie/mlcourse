{
  "cells": [
    {
      "cell_type": "markdown",
      "metadata": {
        "id": "ixjoojZvfEhh"
      },
      "source": [
        "# PC Lab 2: Nearest neighbour and data preprocessing\n",
        "Predictive modelling\n"
      ]
    },
    {
      "cell_type": "markdown",
      "metadata": {
        "id": "oH1K-8KXfEhn"
      },
      "source": [
        "## Introduction\n",
        "In our previous lab session, we explored the iris dataset. In this dataset, there are no missing values in the variable \"Species\". But what if there are new observations without a value in the \"Species\" variable? So, imagine the case that for a 'new' iris flower we know the values for the other columns (sepal/petal length and height) but\n",
        "it is unknown to which of the three species it belongs to (dataset irisNA.csv). A natural task would be\n",
        "to try to guess to which species each of the new flowers belongs to. This task\n",
        "(or problem) is called a classification problem in machine learning. In this practical exercise session, a first\n",
        "simple algorithm that provides an answer to this problem is described.\n",
        "### Notations and vocabulary\n",
        "In the iris dataset (iris120.csv), each instance (each flower is an instance) is described by five properties:\n",
        "the species it belongs to, the width of its petals, the length of its petals, the width of its sepals and the\n",
        "length of its sepals. In this PC-lab, for simplicity, only species, sepal length and sepal width will be used.\n",
        "These properties can be seen as variables, and for a given flower, each of these variables takes a specific\n",
        "value. In a classification setting, the aim is to predict the value of one of the variables (here the species),\n",
        "based on the value of the other variables (here petal width and length). The variable of which the values\n",
        "have to be predicted is called the output variable and the variables used to make this prediction are called\n",
        "the input variables or features. A dataset consists of a set of observations of input-output couples $(\\boldsymbol{x}, y)$. In this dataset, the observed values\n",
        "for the features of the $i$-th instance are denoted $\\boldsymbol{x_i}$ $= (x_{i1}, ... , x_{ip})^T$ , where $p$ the number of features, and the observed value of its output\n",
        "is denoted $y_i$. Using this notation, a training dataset $T$ containing $n$ instances can be written as $$T = \\{(\\boldsymbol{x_1}, y_1), ... , (\\boldsymbol{x_n}, y_n)\\}.$$\n",
        "Using this dataset, we will try to build a model (generally denoted $f$) that is able to predict the value of the\n",
        "output variable, based on the value of the input variables. When this output variable is nominal, this process\n",
        "is called a classification problem.    \n",
        "In the iris problem, both input variables take real values $(\\boldsymbol{x_i} \\in \\mathbb{R}^2)$. The output variable, however, is\n",
        "nominal, it takes values from a finite set $\\{setosa, versicolor, virginica\\}$. Because of this, the model $\\textit{f}$ we are\n",
        "looking for is one which performs a mapping $$\\textit{f} : \\mathbb{R}^2 \\rightarrow  \\{setosa, versicolor, virginica\\}.$$   \n",
        "### Nearest neighbour for classification\n",
        "Several techniques exist that are capable of deriving classification models from data. A very simple one is\n",
        "the nearest neighbour model. This model departs from the assumption that instances whose features are\n",
        "highly similar, are likely to have the same labels. The one nearest neighbour (1-NN) model applies this\n",
        "idea in its most extreme form: the label for an instance (with unknown label) is predicted as the label of the\n",
        "closest instance in the training dataset.   \n",
        "To be able to select the ‘closest’ instance in the training dataset, a distance measure has to be defined. In\n",
        "this text, we will use $d(\\boldsymbol{x_i}, \\boldsymbol{x_j})$ to denote the distance between two feature vectors $\\boldsymbol{x_i}$ and $\\boldsymbol{x_j}$. As a simple\n",
        "distance measure, the Euclidean distance can be used\n",
        "$$d_E(\\boldsymbol{x_i}, \\boldsymbol{x_j}) = \\sqrt{\\sum_{k=1}^{p} (x_{i,k} - x_{j,k})^2}$$\n",
        "Using this distance function, the nearest neighbour algorithm performs the following steps:\n",
        "1. For an instance with unknown label and known feature vector $\\boldsymbol{x}$, calculate the distance to each instance in the dataset: $d_E(\\boldsymbol{x}, \\boldsymbol{x_i})$ where $i = 1, ... ,n.$\n",
        "2. Select the closest instance and take its label as the prediction for the unknown label."
      ]
    },
    {
      "cell_type": "markdown",
      "source": [
        "This first codeblock downloads all the necessary data for this pc-lab."
      ],
      "metadata": {
        "id": "RfMArc34t4_m"
      }
    },
    {
      "cell_type": "code",
      "source": [
        "!wget https://raw.githubusercontent.com/BioML-UGent/MLLS/main/02_knn/abalone.csv\n",
        "!wget https://raw.githubusercontent.com/BioML-UGent/MLLS/main/02_knn/iris120.csv\n",
        "!wget https://raw.githubusercontent.com/BioML-UGent/MLLS/main/02_knn/irisNA.csv"
      ],
      "metadata": {
        "colab": {
          "base_uri": "https://localhost:8080/"
        },
        "id": "IE_U9a1Ot4TD",
        "outputId": "fa4d9e21-d7a4-496f-9387-a9821d4a18ed"
      },
      "execution_count": null,
      "outputs": [
        {
          "output_type": "execute_result",
          "data": {
            "text/plain": [
              "('abalone.csv', <http.client.HTTPMessage at 0x7ff79edcbe50>)"
            ]
          },
          "metadata": {},
          "execution_count": 1
        }
      ]
    },
    {
      "cell_type": "markdown",
      "metadata": {
        "id": "hXJNJBhcfEhr"
      },
      "source": [
        "\n",
        "<div class=\"alert alert-success\">\n",
        "\n",
        "<b>EXERCISE</b>: **Load the dataset iris120.csv in to the memory and select the columns 'Sepal.Length', 'Sepal.Width', and 'Species'. Additionally, load the set of unclassified\n",
        "instances (irisNA.csv) and select the same columns. Both datasets should be loaded as data frames. **\n",
        "</div>\n"
      ]
    },
    {
      "cell_type": "code",
      "execution_count": null,
      "metadata": {
        "collapsed": true,
        "id": "7LJ85LnpfEhu"
      },
      "outputs": [],
      "source": [
        "import numpy as np\n",
        "import pandas as pd\n",
        "\n",
        "iris120 = pd.read_csv('iris120.csv') # ... load in dataset iris120.csv\n",
        "iris120 = iris120[['Sepal.Length', 'Sepal.Width', 'Species']] # ... select the right columns\n",
        "\n",
        "irisNA = pd.read_csv('irisNA.csv') # ... repeat for irisNA.csv\n",
        "irisNA = irisNA[['Sepal.Length', 'Sepal.Width', 'Species']] # ... repeat for irisNA.csv"
      ]
    },
    {
      "cell_type": "code",
      "source": [
        "iris120.head()"
      ],
      "metadata": {
        "colab": {
          "base_uri": "https://localhost:8080/",
          "height": 206
        },
        "id": "3G3zeHSb1Dxa",
        "outputId": "44367fd9-1628-47f5-bbc4-bdc5f87b15be"
      },
      "execution_count": null,
      "outputs": [
        {
          "output_type": "execute_result",
          "data": {
            "text/html": [
              "\n",
              "  <div id=\"df-081d35ab-d5d9-4ee7-b1da-f9359bfdb7b0\">\n",
              "    <div class=\"colab-df-container\">\n",
              "      <div>\n",
              "<style scoped>\n",
              "    .dataframe tbody tr th:only-of-type {\n",
              "        vertical-align: middle;\n",
              "    }\n",
              "\n",
              "    .dataframe tbody tr th {\n",
              "        vertical-align: top;\n",
              "    }\n",
              "\n",
              "    .dataframe thead th {\n",
              "        text-align: right;\n",
              "    }\n",
              "</style>\n",
              "<table border=\"1\" class=\"dataframe\">\n",
              "  <thead>\n",
              "    <tr style=\"text-align: right;\">\n",
              "      <th></th>\n",
              "      <th>Sepal.Length</th>\n",
              "      <th>Sepal.Width</th>\n",
              "      <th>Species</th>\n",
              "    </tr>\n",
              "  </thead>\n",
              "  <tbody>\n",
              "    <tr>\n",
              "      <th>0</th>\n",
              "      <td>5.1</td>\n",
              "      <td>3.5</td>\n",
              "      <td>setosa</td>\n",
              "    </tr>\n",
              "    <tr>\n",
              "      <th>1</th>\n",
              "      <td>4.9</td>\n",
              "      <td>3.0</td>\n",
              "      <td>setosa</td>\n",
              "    </tr>\n",
              "    <tr>\n",
              "      <th>2</th>\n",
              "      <td>4.7</td>\n",
              "      <td>3.2</td>\n",
              "      <td>setosa</td>\n",
              "    </tr>\n",
              "    <tr>\n",
              "      <th>3</th>\n",
              "      <td>4.6</td>\n",
              "      <td>3.1</td>\n",
              "      <td>setosa</td>\n",
              "    </tr>\n",
              "    <tr>\n",
              "      <th>4</th>\n",
              "      <td>5.0</td>\n",
              "      <td>3.6</td>\n",
              "      <td>setosa</td>\n",
              "    </tr>\n",
              "  </tbody>\n",
              "</table>\n",
              "</div>\n",
              "      <button class=\"colab-df-convert\" onclick=\"convertToInteractive('df-081d35ab-d5d9-4ee7-b1da-f9359bfdb7b0')\"\n",
              "              title=\"Convert this dataframe to an interactive table.\"\n",
              "              style=\"display:none;\">\n",
              "        \n",
              "  <svg xmlns=\"http://www.w3.org/2000/svg\" height=\"24px\"viewBox=\"0 0 24 24\"\n",
              "       width=\"24px\">\n",
              "    <path d=\"M0 0h24v24H0V0z\" fill=\"none\"/>\n",
              "    <path d=\"M18.56 5.44l.94 2.06.94-2.06 2.06-.94-2.06-.94-.94-2.06-.94 2.06-2.06.94zm-11 1L8.5 8.5l.94-2.06 2.06-.94-2.06-.94L8.5 2.5l-.94 2.06-2.06.94zm10 10l.94 2.06.94-2.06 2.06-.94-2.06-.94-.94-2.06-.94 2.06-2.06.94z\"/><path d=\"M17.41 7.96l-1.37-1.37c-.4-.4-.92-.59-1.43-.59-.52 0-1.04.2-1.43.59L10.3 9.45l-7.72 7.72c-.78.78-.78 2.05 0 2.83L4 21.41c.39.39.9.59 1.41.59.51 0 1.02-.2 1.41-.59l7.78-7.78 2.81-2.81c.8-.78.8-2.07 0-2.86zM5.41 20L4 18.59l7.72-7.72 1.47 1.35L5.41 20z\"/>\n",
              "  </svg>\n",
              "      </button>\n",
              "      \n",
              "  <style>\n",
              "    .colab-df-container {\n",
              "      display:flex;\n",
              "      flex-wrap:wrap;\n",
              "      gap: 12px;\n",
              "    }\n",
              "\n",
              "    .colab-df-convert {\n",
              "      background-color: #E8F0FE;\n",
              "      border: none;\n",
              "      border-radius: 50%;\n",
              "      cursor: pointer;\n",
              "      display: none;\n",
              "      fill: #1967D2;\n",
              "      height: 32px;\n",
              "      padding: 0 0 0 0;\n",
              "      width: 32px;\n",
              "    }\n",
              "\n",
              "    .colab-df-convert:hover {\n",
              "      background-color: #E2EBFA;\n",
              "      box-shadow: 0px 1px 2px rgba(60, 64, 67, 0.3), 0px 1px 3px 1px rgba(60, 64, 67, 0.15);\n",
              "      fill: #174EA6;\n",
              "    }\n",
              "\n",
              "    [theme=dark] .colab-df-convert {\n",
              "      background-color: #3B4455;\n",
              "      fill: #D2E3FC;\n",
              "    }\n",
              "\n",
              "    [theme=dark] .colab-df-convert:hover {\n",
              "      background-color: #434B5C;\n",
              "      box-shadow: 0px 1px 3px 1px rgba(0, 0, 0, 0.15);\n",
              "      filter: drop-shadow(0px 1px 2px rgba(0, 0, 0, 0.3));\n",
              "      fill: #FFFFFF;\n",
              "    }\n",
              "  </style>\n",
              "\n",
              "      <script>\n",
              "        const buttonEl =\n",
              "          document.querySelector('#df-081d35ab-d5d9-4ee7-b1da-f9359bfdb7b0 button.colab-df-convert');\n",
              "        buttonEl.style.display =\n",
              "          google.colab.kernel.accessAllowed ? 'block' : 'none';\n",
              "\n",
              "        async function convertToInteractive(key) {\n",
              "          const element = document.querySelector('#df-081d35ab-d5d9-4ee7-b1da-f9359bfdb7b0');\n",
              "          const dataTable =\n",
              "            await google.colab.kernel.invokeFunction('convertToInteractive',\n",
              "                                                     [key], {});\n",
              "          if (!dataTable) return;\n",
              "\n",
              "          const docLinkHtml = 'Like what you see? Visit the ' +\n",
              "            '<a target=\"_blank\" href=https://colab.research.google.com/notebooks/data_table.ipynb>data table notebook</a>'\n",
              "            + ' to learn more about interactive tables.';\n",
              "          element.innerHTML = '';\n",
              "          dataTable['output_type'] = 'display_data';\n",
              "          await google.colab.output.renderOutput(dataTable, element);\n",
              "          const docLink = document.createElement('div');\n",
              "          docLink.innerHTML = docLinkHtml;\n",
              "          element.appendChild(docLink);\n",
              "        }\n",
              "      </script>\n",
              "    </div>\n",
              "  </div>\n",
              "  "
            ],
            "text/plain": [
              "   Sepal.Length  Sepal.Width Species\n",
              "0           5.1          3.5  setosa\n",
              "1           4.9          3.0  setosa\n",
              "2           4.7          3.2  setosa\n",
              "3           4.6          3.1  setosa\n",
              "4           5.0          3.6  setosa"
            ]
          },
          "metadata": {},
          "execution_count": 3
        }
      ]
    },
    {
      "cell_type": "code",
      "source": [
        "irisNA.head()"
      ],
      "metadata": {
        "colab": {
          "base_uri": "https://localhost:8080/",
          "height": 206
        },
        "id": "pKsIKSYh1EIW",
        "outputId": "fedf6157-fb52-4535-aab4-384de2164694"
      },
      "execution_count": null,
      "outputs": [
        {
          "output_type": "execute_result",
          "data": {
            "text/html": [
              "\n",
              "  <div id=\"df-b3f6f2fa-3d1e-4f9b-99bd-139493ae3337\">\n",
              "    <div class=\"colab-df-container\">\n",
              "      <div>\n",
              "<style scoped>\n",
              "    .dataframe tbody tr th:only-of-type {\n",
              "        vertical-align: middle;\n",
              "    }\n",
              "\n",
              "    .dataframe tbody tr th {\n",
              "        vertical-align: top;\n",
              "    }\n",
              "\n",
              "    .dataframe thead th {\n",
              "        text-align: right;\n",
              "    }\n",
              "</style>\n",
              "<table border=\"1\" class=\"dataframe\">\n",
              "  <thead>\n",
              "    <tr style=\"text-align: right;\">\n",
              "      <th></th>\n",
              "      <th>Sepal.Length</th>\n",
              "      <th>Sepal.Width</th>\n",
              "      <th>Species</th>\n",
              "    </tr>\n",
              "  </thead>\n",
              "  <tbody>\n",
              "    <tr>\n",
              "      <th>0</th>\n",
              "      <td>5.4</td>\n",
              "      <td>3.9</td>\n",
              "      <td>NaN</td>\n",
              "    </tr>\n",
              "    <tr>\n",
              "      <th>1</th>\n",
              "      <td>5.0</td>\n",
              "      <td>3.4</td>\n",
              "      <td>NaN</td>\n",
              "    </tr>\n",
              "    <tr>\n",
              "      <th>2</th>\n",
              "      <td>5.8</td>\n",
              "      <td>4.0</td>\n",
              "      <td>NaN</td>\n",
              "    </tr>\n",
              "    <tr>\n",
              "      <th>3</th>\n",
              "      <td>5.4</td>\n",
              "      <td>3.9</td>\n",
              "      <td>NaN</td>\n",
              "    </tr>\n",
              "    <tr>\n",
              "      <th>4</th>\n",
              "      <td>4.4</td>\n",
              "      <td>3.0</td>\n",
              "      <td>NaN</td>\n",
              "    </tr>\n",
              "  </tbody>\n",
              "</table>\n",
              "</div>\n",
              "      <button class=\"colab-df-convert\" onclick=\"convertToInteractive('df-b3f6f2fa-3d1e-4f9b-99bd-139493ae3337')\"\n",
              "              title=\"Convert this dataframe to an interactive table.\"\n",
              "              style=\"display:none;\">\n",
              "        \n",
              "  <svg xmlns=\"http://www.w3.org/2000/svg\" height=\"24px\"viewBox=\"0 0 24 24\"\n",
              "       width=\"24px\">\n",
              "    <path d=\"M0 0h24v24H0V0z\" fill=\"none\"/>\n",
              "    <path d=\"M18.56 5.44l.94 2.06.94-2.06 2.06-.94-2.06-.94-.94-2.06-.94 2.06-2.06.94zm-11 1L8.5 8.5l.94-2.06 2.06-.94-2.06-.94L8.5 2.5l-.94 2.06-2.06.94zm10 10l.94 2.06.94-2.06 2.06-.94-2.06-.94-.94-2.06-.94 2.06-2.06.94z\"/><path d=\"M17.41 7.96l-1.37-1.37c-.4-.4-.92-.59-1.43-.59-.52 0-1.04.2-1.43.59L10.3 9.45l-7.72 7.72c-.78.78-.78 2.05 0 2.83L4 21.41c.39.39.9.59 1.41.59.51 0 1.02-.2 1.41-.59l7.78-7.78 2.81-2.81c.8-.78.8-2.07 0-2.86zM5.41 20L4 18.59l7.72-7.72 1.47 1.35L5.41 20z\"/>\n",
              "  </svg>\n",
              "      </button>\n",
              "      \n",
              "  <style>\n",
              "    .colab-df-container {\n",
              "      display:flex;\n",
              "      flex-wrap:wrap;\n",
              "      gap: 12px;\n",
              "    }\n",
              "\n",
              "    .colab-df-convert {\n",
              "      background-color: #E8F0FE;\n",
              "      border: none;\n",
              "      border-radius: 50%;\n",
              "      cursor: pointer;\n",
              "      display: none;\n",
              "      fill: #1967D2;\n",
              "      height: 32px;\n",
              "      padding: 0 0 0 0;\n",
              "      width: 32px;\n",
              "    }\n",
              "\n",
              "    .colab-df-convert:hover {\n",
              "      background-color: #E2EBFA;\n",
              "      box-shadow: 0px 1px 2px rgba(60, 64, 67, 0.3), 0px 1px 3px 1px rgba(60, 64, 67, 0.15);\n",
              "      fill: #174EA6;\n",
              "    }\n",
              "\n",
              "    [theme=dark] .colab-df-convert {\n",
              "      background-color: #3B4455;\n",
              "      fill: #D2E3FC;\n",
              "    }\n",
              "\n",
              "    [theme=dark] .colab-df-convert:hover {\n",
              "      background-color: #434B5C;\n",
              "      box-shadow: 0px 1px 3px 1px rgba(0, 0, 0, 0.15);\n",
              "      filter: drop-shadow(0px 1px 2px rgba(0, 0, 0, 0.3));\n",
              "      fill: #FFFFFF;\n",
              "    }\n",
              "  </style>\n",
              "\n",
              "      <script>\n",
              "        const buttonEl =\n",
              "          document.querySelector('#df-b3f6f2fa-3d1e-4f9b-99bd-139493ae3337 button.colab-df-convert');\n",
              "        buttonEl.style.display =\n",
              "          google.colab.kernel.accessAllowed ? 'block' : 'none';\n",
              "\n",
              "        async function convertToInteractive(key) {\n",
              "          const element = document.querySelector('#df-b3f6f2fa-3d1e-4f9b-99bd-139493ae3337');\n",
              "          const dataTable =\n",
              "            await google.colab.kernel.invokeFunction('convertToInteractive',\n",
              "                                                     [key], {});\n",
              "          if (!dataTable) return;\n",
              "\n",
              "          const docLinkHtml = 'Like what you see? Visit the ' +\n",
              "            '<a target=\"_blank\" href=https://colab.research.google.com/notebooks/data_table.ipynb>data table notebook</a>'\n",
              "            + ' to learn more about interactive tables.';\n",
              "          element.innerHTML = '';\n",
              "          dataTable['output_type'] = 'display_data';\n",
              "          await google.colab.output.renderOutput(dataTable, element);\n",
              "          const docLink = document.createElement('div');\n",
              "          docLink.innerHTML = docLinkHtml;\n",
              "          element.appendChild(docLink);\n",
              "        }\n",
              "      </script>\n",
              "    </div>\n",
              "  </div>\n",
              "  "
            ],
            "text/plain": [
              "   Sepal.Length  Sepal.Width  Species\n",
              "0           5.4          3.9      NaN\n",
              "1           5.0          3.4      NaN\n",
              "2           5.8          4.0      NaN\n",
              "3           5.4          3.9      NaN\n",
              "4           4.4          3.0      NaN"
            ]
          },
          "metadata": {},
          "execution_count": 4
        }
      ]
    },
    {
      "cell_type": "markdown",
      "metadata": {
        "id": "7Zczv03YfEhv"
      },
      "source": [
        "\n",
        "<div class=\"alert alert-success\">\n",
        "\n",
        "<b>EXERCISE</b>: **Implement the nearest neighbour algorithm for the iris problem in a function called nnIrisPredict.\n",
        "Use this function to predict the species of unknown flowers irisNA.csv in the dataset. Make sure\n",
        "your function has the following structure:**\n",
        "</div>\n"
      ]
    },
    {
      "cell_type": "code",
      "source": [
        "new_observation_features = irisNA.iloc[0, 0:2] # isolate the first two columns\n",
        "new_observation_features"
      ],
      "metadata": {
        "colab": {
          "base_uri": "https://localhost:8080/"
        },
        "id": "IUv7C6fp1QuE",
        "outputId": "46603203-4ffd-41cb-9e8d-a80d83afef12"
      },
      "execution_count": null,
      "outputs": [
        {
          "output_type": "execute_result",
          "data": {
            "text/plain": [
              "Sepal.Length    5.4\n",
              "Sepal.Width     3.9\n",
              "Name: 0, dtype: float64"
            ]
          },
          "metadata": {},
          "execution_count": 5
        }
      ]
    },
    {
      "cell_type": "code",
      "source": [
        "trainDataset = iris120\n",
        "trainDataset"
      ],
      "metadata": {
        "colab": {
          "base_uri": "https://localhost:8080/",
          "height": 424
        },
        "id": "21wZFkvZ1UyF",
        "outputId": "5dccd690-fa18-4dc1-8b9c-5d14f04486e4"
      },
      "execution_count": null,
      "outputs": [
        {
          "output_type": "execute_result",
          "data": {
            "text/html": [
              "\n",
              "  <div id=\"df-790f6946-7bde-49c7-be47-e8b5380c14f8\">\n",
              "    <div class=\"colab-df-container\">\n",
              "      <div>\n",
              "<style scoped>\n",
              "    .dataframe tbody tr th:only-of-type {\n",
              "        vertical-align: middle;\n",
              "    }\n",
              "\n",
              "    .dataframe tbody tr th {\n",
              "        vertical-align: top;\n",
              "    }\n",
              "\n",
              "    .dataframe thead th {\n",
              "        text-align: right;\n",
              "    }\n",
              "</style>\n",
              "<table border=\"1\" class=\"dataframe\">\n",
              "  <thead>\n",
              "    <tr style=\"text-align: right;\">\n",
              "      <th></th>\n",
              "      <th>Sepal.Length</th>\n",
              "      <th>Sepal.Width</th>\n",
              "      <th>Species</th>\n",
              "    </tr>\n",
              "  </thead>\n",
              "  <tbody>\n",
              "    <tr>\n",
              "      <th>0</th>\n",
              "      <td>5.1</td>\n",
              "      <td>3.5</td>\n",
              "      <td>setosa</td>\n",
              "    </tr>\n",
              "    <tr>\n",
              "      <th>1</th>\n",
              "      <td>4.9</td>\n",
              "      <td>3.0</td>\n",
              "      <td>setosa</td>\n",
              "    </tr>\n",
              "    <tr>\n",
              "      <th>2</th>\n",
              "      <td>4.7</td>\n",
              "      <td>3.2</td>\n",
              "      <td>setosa</td>\n",
              "    </tr>\n",
              "    <tr>\n",
              "      <th>3</th>\n",
              "      <td>4.6</td>\n",
              "      <td>3.1</td>\n",
              "      <td>setosa</td>\n",
              "    </tr>\n",
              "    <tr>\n",
              "      <th>4</th>\n",
              "      <td>5.0</td>\n",
              "      <td>3.6</td>\n",
              "      <td>setosa</td>\n",
              "    </tr>\n",
              "    <tr>\n",
              "      <th>...</th>\n",
              "      <td>...</td>\n",
              "      <td>...</td>\n",
              "      <td>...</td>\n",
              "    </tr>\n",
              "    <tr>\n",
              "      <th>115</th>\n",
              "      <td>6.7</td>\n",
              "      <td>3.3</td>\n",
              "      <td>virginica</td>\n",
              "    </tr>\n",
              "    <tr>\n",
              "      <th>116</th>\n",
              "      <td>6.7</td>\n",
              "      <td>3.0</td>\n",
              "      <td>virginica</td>\n",
              "    </tr>\n",
              "    <tr>\n",
              "      <th>117</th>\n",
              "      <td>6.3</td>\n",
              "      <td>2.5</td>\n",
              "      <td>virginica</td>\n",
              "    </tr>\n",
              "    <tr>\n",
              "      <th>118</th>\n",
              "      <td>6.5</td>\n",
              "      <td>3.0</td>\n",
              "      <td>virginica</td>\n",
              "    </tr>\n",
              "    <tr>\n",
              "      <th>119</th>\n",
              "      <td>5.9</td>\n",
              "      <td>3.0</td>\n",
              "      <td>virginica</td>\n",
              "    </tr>\n",
              "  </tbody>\n",
              "</table>\n",
              "<p>120 rows × 3 columns</p>\n",
              "</div>\n",
              "      <button class=\"colab-df-convert\" onclick=\"convertToInteractive('df-790f6946-7bde-49c7-be47-e8b5380c14f8')\"\n",
              "              title=\"Convert this dataframe to an interactive table.\"\n",
              "              style=\"display:none;\">\n",
              "        \n",
              "  <svg xmlns=\"http://www.w3.org/2000/svg\" height=\"24px\"viewBox=\"0 0 24 24\"\n",
              "       width=\"24px\">\n",
              "    <path d=\"M0 0h24v24H0V0z\" fill=\"none\"/>\n",
              "    <path d=\"M18.56 5.44l.94 2.06.94-2.06 2.06-.94-2.06-.94-.94-2.06-.94 2.06-2.06.94zm-11 1L8.5 8.5l.94-2.06 2.06-.94-2.06-.94L8.5 2.5l-.94 2.06-2.06.94zm10 10l.94 2.06.94-2.06 2.06-.94-2.06-.94-.94-2.06-.94 2.06-2.06.94z\"/><path d=\"M17.41 7.96l-1.37-1.37c-.4-.4-.92-.59-1.43-.59-.52 0-1.04.2-1.43.59L10.3 9.45l-7.72 7.72c-.78.78-.78 2.05 0 2.83L4 21.41c.39.39.9.59 1.41.59.51 0 1.02-.2 1.41-.59l7.78-7.78 2.81-2.81c.8-.78.8-2.07 0-2.86zM5.41 20L4 18.59l7.72-7.72 1.47 1.35L5.41 20z\"/>\n",
              "  </svg>\n",
              "      </button>\n",
              "      \n",
              "  <style>\n",
              "    .colab-df-container {\n",
              "      display:flex;\n",
              "      flex-wrap:wrap;\n",
              "      gap: 12px;\n",
              "    }\n",
              "\n",
              "    .colab-df-convert {\n",
              "      background-color: #E8F0FE;\n",
              "      border: none;\n",
              "      border-radius: 50%;\n",
              "      cursor: pointer;\n",
              "      display: none;\n",
              "      fill: #1967D2;\n",
              "      height: 32px;\n",
              "      padding: 0 0 0 0;\n",
              "      width: 32px;\n",
              "    }\n",
              "\n",
              "    .colab-df-convert:hover {\n",
              "      background-color: #E2EBFA;\n",
              "      box-shadow: 0px 1px 2px rgba(60, 64, 67, 0.3), 0px 1px 3px 1px rgba(60, 64, 67, 0.15);\n",
              "      fill: #174EA6;\n",
              "    }\n",
              "\n",
              "    [theme=dark] .colab-df-convert {\n",
              "      background-color: #3B4455;\n",
              "      fill: #D2E3FC;\n",
              "    }\n",
              "\n",
              "    [theme=dark] .colab-df-convert:hover {\n",
              "      background-color: #434B5C;\n",
              "      box-shadow: 0px 1px 3px 1px rgba(0, 0, 0, 0.15);\n",
              "      filter: drop-shadow(0px 1px 2px rgba(0, 0, 0, 0.3));\n",
              "      fill: #FFFFFF;\n",
              "    }\n",
              "  </style>\n",
              "\n",
              "      <script>\n",
              "        const buttonEl =\n",
              "          document.querySelector('#df-790f6946-7bde-49c7-be47-e8b5380c14f8 button.colab-df-convert');\n",
              "        buttonEl.style.display =\n",
              "          google.colab.kernel.accessAllowed ? 'block' : 'none';\n",
              "\n",
              "        async function convertToInteractive(key) {\n",
              "          const element = document.querySelector('#df-790f6946-7bde-49c7-be47-e8b5380c14f8');\n",
              "          const dataTable =\n",
              "            await google.colab.kernel.invokeFunction('convertToInteractive',\n",
              "                                                     [key], {});\n",
              "          if (!dataTable) return;\n",
              "\n",
              "          const docLinkHtml = 'Like what you see? Visit the ' +\n",
              "            '<a target=\"_blank\" href=https://colab.research.google.com/notebooks/data_table.ipynb>data table notebook</a>'\n",
              "            + ' to learn more about interactive tables.';\n",
              "          element.innerHTML = '';\n",
              "          dataTable['output_type'] = 'display_data';\n",
              "          await google.colab.output.renderOutput(dataTable, element);\n",
              "          const docLink = document.createElement('div');\n",
              "          docLink.innerHTML = docLinkHtml;\n",
              "          element.appendChild(docLink);\n",
              "        }\n",
              "      </script>\n",
              "    </div>\n",
              "  </div>\n",
              "  "
            ],
            "text/plain": [
              "     Sepal.Length  Sepal.Width    Species\n",
              "0             5.1          3.5     setosa\n",
              "1             4.9          3.0     setosa\n",
              "2             4.7          3.2     setosa\n",
              "3             4.6          3.1     setosa\n",
              "4             5.0          3.6     setosa\n",
              "..            ...          ...        ...\n",
              "115           6.7          3.3  virginica\n",
              "116           6.7          3.0  virginica\n",
              "117           6.3          2.5  virginica\n",
              "118           6.5          3.0  virginica\n",
              "119           5.9          3.0  virginica\n",
              "\n",
              "[120 rows x 3 columns]"
            ]
          },
          "metadata": {},
          "execution_count": 6
        }
      ]
    },
    {
      "cell_type": "code",
      "execution_count": null,
      "metadata": {
        "collapsed": true,
        "colab": {
          "base_uri": "https://localhost:8080/",
          "height": 35
        },
        "id": "zP8apShlfEhw",
        "outputId": "c57197a3-f9ea-440b-c2a6-89bb888b237b"
      },
      "outputs": [
        {
          "output_type": "execute_result",
          "data": {
            "application/vnd.google.colaboratory.intrinsic+json": {
              "type": "string"
            },
            "text/plain": [
              "'setosa'"
            ]
          },
          "metadata": {},
          "execution_count": 7
        }
      ],
      "source": [
        "def nnIrisPredict(featuresNewInstance, trainDataset):\n",
        "    # create a variable 'dist' containing the euclidean distance of the\n",
        "    # new instance to all instances (rows) in the training dataset:\n",
        "    dist = ((trainDataset.iloc[:, :2] - new_observation_features) ** 2).sum(1) ** .5 # ...\n",
        "\n",
        "\n",
        "    # what is the index of the nearest neighbor 'nn' in our training dataset:\n",
        "    nn = np.argmin(dist)\n",
        "    # Extract the species label of that nearest neighbor\n",
        "    # and return that as prediction:\n",
        "    label = trainDataset.iloc[nn]['Species']\n",
        "    return label\n",
        "\n",
        "\n",
        "# call the function\n",
        "nnIrisPredict(new_observation_features, trainDataset)\n"
      ]
    },
    {
      "cell_type": "markdown",
      "metadata": {
        "id": "gK-BvbEnfEhx"
      },
      "source": [
        "where trainDataset is a data frame (containing flowers with known species label) with columns\n",
        "\"Sepal.Length\", \"Sepal.Width\" and \"Species\". featuresNewInstance is a vector with the sepal\n",
        "length in the first position and the sepal width in the second position. Label should be one of the\n",
        "strings \"setosa\", \"versicolor\" and \"virginica\"."
      ]
    },
    {
      "cell_type": "markdown",
      "metadata": {
        "id": "TXpRMd6CfEhy"
      },
      "source": [
        "## The nearest neighbour algorithm for regression\n",
        "In the previous section, the output was a nominal variable (no numerical values, specific classes). When the output is real-valued, the prediction problem is called a regression problem. As with nominal outputs, the nearest neighbour algorithm can\n",
        "be used to predict the output variable of unlabeled instances. The algorithm is identical to the one for\n",
        "classification, however, the prediction will be the real-valued label of the closest instance in the training\n",
        "dataset instead of its class label.\n",
        "\n",
        "## Data preprocessing\n",
        "In this section, some elementary data preprocessing steps are described.\n",
        "### Dummy encoding of nominal variables\n",
        "The basic nearest neighbour algorithm implemented in the previous assignment can only be used with\n",
        "numerical features. However, often types of variables such as nominal variables or ordinal variables are\n",
        "present. A simple solution to this problem exists in using a dummy encoding for each nominal variable.\n",
        "When a variable $\\boldsymbol{x^i}$ is nominal with $k$ values, it is replaced by $k$ new binary variables. As an imaginary example,\n",
        "consider a dataset with a feature containing weather status. This feature ($\\boldsymbol{x^1}$) could for example contain three values: Sunny, Overcast and Rainy.\n",
        "Each of these values could be represented by a dummy variable: $\\boldsymbol{x^{1a}}$, $\\boldsymbol{x^{1b}}$ and $\\boldsymbol{x^{1c}}$ with the following values:   \n",
        "  *  $x^{1a} = 1$ if $x^1 = \"Sunny\"$ and  $x^{1a} = 0$ otherwise\n",
        "  * $x^{1b} = 1$ if $x^1 = \"Overcast\"$ and $x^{1b} = 0$ otherwise\n",
        "  * $x^{1c} = 1$ if $x^1 = \"Rainy\"$ and $x^{1c} = 0$ otherwise\n",
        "  \n",
        "See the following example in python. In this example, we use  the Abalone dataset (abaloneTrain700.csv) which contains measurements of physical properties of several abalone (an edible sea snail) specimen. Using these physical properties, the aim is to build a predictive model for the age of these animals (more information concerning this dataset can be found in [abalone.info](https://archive.ics.uci.edu/ml/datasets/Abalone)). In the following example, we replace the nominal variable 'sex' with 3 dummy variables (as many as the values it takes). In python, there are functions such as the [get_dummies()](https://pandas.pydata.org/pandas-docs/stable/generated/pandas.get_dummies.html) function which are used for this purpose. (Another option is scikit-learn's [OneHotEncoder](https://scikit-learn.org/stable/modules/generated/sklearn.preprocessing.OneHotEncoder.html)) So firstly, we create the dummy variables, then we concatenate them with the original dataset and finally we remove the original variable form the dataset."
      ]
    },
    {
      "cell_type": "code",
      "execution_count": null,
      "metadata": {
        "collapsed": true,
        "colab": {
          "base_uri": "https://localhost:8080/"
        },
        "id": "8KcIkTvyfEhz",
        "outputId": "8ea4072a-7917-43de-927b-abb3ae54f373"
      },
      "outputs": [
        {
          "output_type": "stream",
          "name": "stdout",
          "text": [
            "  sex  length  diameter  height  ...  shuckedWeight  visceraWeight  shellWeight  age\n",
            "0   I   0.665     0.500   0.170  ...         0.6035         0.2910       0.3595    9\n",
            "1   F   0.460     0.365   0.115  ...         0.1650         0.0830       0.1700   14\n",
            "2   F   0.560     0.445   0.180  ...         0.3575         0.2045       0.2950    9\n",
            "3   I   0.395     0.300   0.090  ...         0.1340         0.0490       0.0750    8\n",
            "4   I   0.530     0.400   0.145  ...         0.1935         0.1305       0.1950    9\n",
            "\n",
            "[5 rows x 9 columns]\n",
            "   F  I  M\n",
            "0  0  1  0\n",
            "1  1  0  0\n",
            "2  1  0  0\n",
            "3  0  1  0\n",
            "4  0  1  0\n",
            "   length  diameter  height  wholeWeight  ...  age  F  I  M\n",
            "0   0.665     0.500   0.170       1.2975  ...    9  0  1  0\n",
            "1   0.460     0.365   0.115       0.4485  ...   14  1  0  0\n",
            "2   0.560     0.445   0.180       0.9030  ...    9  1  0  0\n",
            "3   0.395     0.300   0.090       0.2790  ...    8  0  1  0\n",
            "4   0.530     0.400   0.145       0.5550  ...    9  0  1  0\n",
            "\n",
            "[5 rows x 11 columns]\n"
          ]
        }
      ],
      "source": [
        "# load dataset\n",
        "abalone = pd.read_csv('abalone.csv')\n",
        "print(abalone.head())\n",
        "# create dummies\n",
        "dummies = pd.get_dummies(abalone.sex)\n",
        "print(dummies.head())\n",
        "# concatenate them with the dataset\n",
        "abalone_with_dummies = pd.concat([abalone, dummies], axis=1)\n",
        "# remove the original sex column\n",
        "abalone_with_dummies = abalone_with_dummies.drop(['sex'], axis=1)\n",
        "print(abalone_with_dummies.head())"
      ]
    },
    {
      "cell_type": "markdown",
      "metadata": {
        "id": "1A8puB8nfEh0"
      },
      "source": [
        "### Missing values\n",
        "Missing values are commonly encountered in data mining studies. Often, missing values are imputed\n",
        "(replaced by a value). Several techniques exist to choose this value. A simple, but often used method\n",
        "is mean imputation. Here, each missing value is replaced by the mean of the observed values for\n",
        "that variable. More advanced methods exist of building separate models to predict the missing\n",
        "values.\n",
        "When implementing the mean imputation, the [Imputer](http://scikit-learn.org/stable/modules/generated/sklearn.preprocessing.Imputer.html) of scikit-learn library might be handy. The PC labs in this practical have no missing values however:"
      ]
    },
    {
      "cell_type": "code",
      "source": [
        "np.isnan(abalone_with_dummies).any()"
      ],
      "metadata": {
        "colab": {
          "base_uri": "https://localhost:8080/"
        },
        "id": "NRrYEy-u6wFf",
        "outputId": "b01a6c11-7061-4d43-8e0a-2343968fa142"
      },
      "execution_count": null,
      "outputs": [
        {
          "output_type": "execute_result",
          "data": {
            "text/plain": [
              "length           False\n",
              "diameter         False\n",
              "height           False\n",
              "wholeWeight      False\n",
              "shuckedWeight    False\n",
              "visceraWeight    False\n",
              "shellWeight      False\n",
              "age              False\n",
              "F                False\n",
              "I                False\n",
              "M                False\n",
              "dtype: bool"
            ]
          },
          "metadata": {},
          "execution_count": 9
        }
      ]
    },
    {
      "cell_type": "markdown",
      "metadata": {
        "id": "h8yR7l-8fEh1"
      },
      "source": [
        "### Standardizing the data\n",
        "In realistic datasets, most features have different means and standard deviations. For the nearest\n",
        "neighbour algorithm, it can easily be seen that features with a high standard deviation will be more\n",
        "influential than features with a lower standard deviation. In most cases, this is unwanted since it\n",
        "is not known in advance which features are most important. To overcome this problem, features\n",
        "are often standardized. The standardized version of $x^i$ can be obtained as   \n",
        "$$\\frac{x^i - \\mu_i}{\\sigma_i}$$    \n",
        "where $\\mu_i$ and $\\sigma_i$ represent the sample mean and standard deviation of $\\boldsymbol{x^i}$.\n",
        "The [Scaler](http://scikit-learn.org/stable/modules/generated/sklearn.preprocessing.scale.html) of scikit-learn can be used to perform this standardizing.\n",
        "\n",
        "Notice that we're doing here (scaling the training and test set together in one operation) is usually considered bad practice as it will leak data from train to test and hence bias model evaluation."
      ]
    },
    {
      "cell_type": "code",
      "execution_count": null,
      "metadata": {
        "collapsed": true,
        "id": "M1gEg0bnfEh2"
      },
      "outputs": [],
      "source": [
        "from sklearn.preprocessing import scale\n",
        "\n",
        "y = abalone_with_dummies['age'].values # keep the target variable\n",
        "X = abalone_with_dummies.drop(['age'], axis=1) # remove it from the feature set\n",
        "X = scale(X)"
      ]
    },
    {
      "cell_type": "code",
      "source": [
        "X"
      ],
      "metadata": {
        "colab": {
          "base_uri": "https://localhost:8080/"
        },
        "id": "E4_M6bMzFqHH",
        "outputId": "c0b9ebd8-8933-4376-9100-75798323be58"
      },
      "execution_count": null,
      "outputs": [
        {
          "output_type": "execute_result",
          "data": {
            "text/plain": [
              "array([[ 1.27945836,  1.01101707,  0.88165536, ..., -0.63466969,\n",
              "         1.39770759, -0.77341678],\n",
              "       [-0.53327082, -0.42969941, -0.61663338, ...,  1.57562275,\n",
              "        -0.71545723, -0.77341678],\n",
              "       [ 0.35098732,  0.4240585 ,  1.15407149, ...,  1.57562275,\n",
              "        -0.71545723, -0.77341678],\n",
              "       ...,\n",
              "       [ 0.57205185,  0.53077824,  0.20061502, ..., -0.63466969,\n",
              "        -0.71545723,  1.29296393],\n",
              "       [-0.09114175, -0.16290006, -0.07180111, ..., -0.63466969,\n",
              "        -0.71545723,  1.29296393],\n",
              "       [-2.16914836, -2.19057509, -1.97871405, ..., -0.63466969,\n",
              "         1.39770759, -0.77341678]])"
            ]
          },
          "metadata": {},
          "execution_count": 11
        }
      ]
    },
    {
      "cell_type": "code",
      "source": [
        "y"
      ],
      "metadata": {
        "colab": {
          "base_uri": "https://localhost:8080/"
        },
        "id": "qZgA0ehRF2D-",
        "outputId": "92f3b341-001c-487d-fe17-83eb61d987e3"
      },
      "execution_count": null,
      "outputs": [
        {
          "output_type": "execute_result",
          "data": {
            "text/plain": [
              "array([ 9, 14,  9,  8,  9,  9, 19,  9, 13, 10, 11, 11, 11, 13,  7,  9, 12,\n",
              "       11, 10, 15, 15,  7, 13, 10, 10, 12, 14, 16, 14,  6,  8, 13,  7,  5,\n",
              "       10,  8,  9, 10,  8,  8, 10,  9, 11, 15,  8,  8, 13,  9, 15, 16, 13,\n",
              "        9,  8,  8, 10,  4,  7, 11, 11,  3, 13, 10, 11, 10, 10,  9, 11, 16,\n",
              "        9,  9, 11,  9, 19,  8, 13,  9,  9, 14, 13,  7, 13,  8, 12,  5,  6,\n",
              "        4,  5,  6,  9, 11,  9,  8,  8, 10,  6,  9,  9,  7, 10,  6, 11, 10,\n",
              "       12, 11, 10,  7, 11, 10,  8, 12,  8,  6,  8,  7, 10,  9, 12,  3,  9,\n",
              "        8,  9, 10,  7, 10,  6, 10, 10, 15,  9, 16,  8,  8, 10, 19,  9,  7,\n",
              "        9, 21,  8,  8, 23,  6, 12, 10, 11, 10, 11,  9, 10,  9, 11, 12,  8,\n",
              "       11,  9,  4, 11, 11,  7,  7,  7, 16, 10, 12, 10, 11, 11, 19,  9, 10,\n",
              "        8, 12, 19,  9, 13,  9,  8, 13,  6, 18, 12, 10, 17, 12, 18, 16, 14,\n",
              "        9,  6, 10,  5,  7,  8,  7,  7,  8,  7, 14,  8, 15, 10, 10, 10,  9,\n",
              "       10,  8, 15, 12,  7, 20, 10, 11, 14,  6,  9, 13, 16, 11,  7, 11, 11,\n",
              "       12,  6, 11,  9, 11,  8, 14,  9, 10, 10, 11, 10, 20, 17, 11,  8,  8,\n",
              "       10, 17,  9, 17,  8, 11, 10,  7, 11,  6, 11,  9, 15,  9,  6,  8, 17,\n",
              "       14, 11, 13, 10, 10,  9, 11,  6, 17, 10,  6,  8,  8,  9,  9,  6,  8,\n",
              "       21,  9, 21, 12,  7,  5, 18,  7, 11,  6,  5, 12,  8, 11,  8,  8,  9,\n",
              "        5,  8, 14,  4,  9, 10,  9,  9, 10, 12, 15, 10, 13, 13,  8, 10, 15,\n",
              "        7, 10, 10,  7, 10, 11,  8,  5,  7,  9, 11, 12, 11, 10, 11,  9,  7,\n",
              "       10,  7, 11, 11,  6,  7,  6,  9,  6, 11,  9,  8, 10,  8, 10,  8,  6,\n",
              "        9,  8,  8, 11,  9, 10,  8,  9,  7,  8, 10,  9, 10,  9, 12, 11, 10,\n",
              "        7, 12,  5, 11,  8,  6, 18, 10,  7,  5,  6,  4,  7,  7, 13,  8, 10,\n",
              "        7, 10, 10, 10, 10,  8,  9,  5, 12, 14, 10,  8,  9,  9,  6,  8, 10,\n",
              "       11,  7,  9,  7, 18, 11, 11,  8, 12,  8,  9, 11,  6,  7, 15,  6, 10,\n",
              "        8,  8,  8,  9, 11, 13, 10, 13, 10,  8, 11,  7, 10, 13, 16, 11,  7,\n",
              "       11,  7,  9, 21,  9,  7, 12, 11,  9, 12,  9, 10,  7,  9, 10, 16, 18,\n",
              "       23,  9,  8,  8,  7,  7,  7, 20,  8,  9,  9,  7,  8, 10,  6,  8,  4,\n",
              "        9, 18,  9,  5, 10, 10, 11, 11,  8, 10, 10,  9,  6,  8, 11, 20,  9,\n",
              "       11,  5,  9, 17,  7,  8, 11,  7, 12, 12, 13, 10,  8,  5, 10, 11,  8,\n",
              "        6, 10, 15, 15,  7, 17,  9,  9, 12,  6,  9,  5,  5, 14,  8, 11, 10,\n",
              "       10, 11,  7,  8, 10,  7, 11, 13, 12, 10,  9,  5, 10,  9,  9, 10, 10,\n",
              "       17,  5,  7,  9,  9,  9,  7,  9,  6, 10,  9, 10, 10, 10, 13,  8, 11,\n",
              "        8, 12, 16, 11,  6, 20, 12, 12,  8, 15, 11,  7, 11, 10,  8, 15,  8,\n",
              "       10,  8,  9, 10,  8, 10,  4,  6, 11, 19,  9, 10, 15,  8,  7,  9, 11,\n",
              "        9,  9, 14,  9,  6,  6,  7,  9,  7,  7, 12,  6,  8, 14, 10,  9, 10,\n",
              "       11,  8,  8, 16,  5,  9, 11, 10, 17, 11,  8, 12,  7,  7,  8,  9, 10,\n",
              "       13,  9,  8, 11, 14,  7,  9, 10, 16, 10, 10, 22, 10,  8, 16, 11, 11,\n",
              "        8,  7,  8, 10, 10,  7,  9, 10, 13, 11, 11, 12,  8,  8,  5, 13, 10,\n",
              "        9, 10,  8,  9,  8,  7,  9,  7,  5,  8,  9, 10, 10, 10,  8,  8,  6,\n",
              "        9,  6, 12,  7, 12,  8,  7,  6, 16,  7, 11,  9, 18,  8, 11,  9, 11,\n",
              "       10, 14,  9, 12, 10, 17, 24,  9,  7, 15, 16,  9, 10,  9, 12, 11,  9,\n",
              "       10,  8,  5])"
            ]
          },
          "metadata": {},
          "execution_count": 12
        }
      ]
    },
    {
      "cell_type": "markdown",
      "metadata": {
        "id": "55n8InUsfEh7"
      },
      "source": [
        "\n",
        "\n",
        "### Data splitting and Prediction quality\n",
        "To test the performance of the nearest neighbour algorithm, an option is to use test data with\n",
        "known labels and to compare the predictions with these labels. In this case, we have two different\n",
        "datasets, a training set T and a test set T$^*$. In case of a regression problem, the mean of squared\n",
        "residuals is commonly used to evaluate the quality of a model. This measure is calculated as follows:   \n",
        "1. Mean of squared residuals on test set:\n",
        "$$Err_{T^*} = \\frac{1}{|T^*|}\\sum_{\\boldsymbol{x_i} \\in T^*} (Y(\\boldsymbol{x_i}) - y_i)^2$$\n",
        "2. Additionally, the error on the training data itself can be computed:   \n",
        "$$Err_{T} = \\frac{1}{|T|}\\sum_{\\boldsymbol{x_i} \\in T} (Y(\\boldsymbol{x_i}) - y_i)^2$$\n",
        "\n",
        "Naturally, it is desirable to keep the mean of squared residuals as small as possible.\n"
      ]
    },
    {
      "cell_type": "markdown",
      "metadata": {
        "id": "Fi0sPwRufEh2"
      },
      "source": [
        "<div class=\"alert alert-success\">\n",
        "\n",
        "<b>EXERCISE</b>: **To prepare the dataset for the following exercise, split the dataset in a portion (80%) we will use to train on, and a portion we will use to predict on (20%) (test set). See the documentation of scikit learn's [train_test_split](https://scikit-learn.org/stable/modules/generated/sklearn.model_selection.train_test_split.html) for more info on how to do this.**\n",
        "</div>"
      ]
    },
    {
      "cell_type": "code",
      "execution_count": null,
      "metadata": {
        "collapsed": true,
        "id": "Cr8fjikmfEh2"
      },
      "outputs": [],
      "source": [
        "# import train_test_split function\n",
        "from sklearn.model_selection import train_test_split\n",
        "\n",
        "# you should get four variables named: X_train, y_train, X_test & y_test\n",
        "# ... = train_test_split( ... )\n",
        "X_train, X_test, y_train, y_test = train_test_split(X, y, test_size = 0.2)"
      ]
    },
    {
      "cell_type": "markdown",
      "metadata": {
        "id": "7GHn7LXLfEh3"
      },
      "source": [
        "## k-nearest-neighbours\n",
        "A simple extension of the nearest neighbour algorithm consists of taking more than only the nearest\n",
        "neighbour into account. Let $N_k(\\boldsymbol{x}) \\subset T$ be the k nearest neighbours of an instance with feature\n",
        "vector $\\boldsymbol{x}$. The k-nearest neighbour prediction $Y(\\boldsymbol{x})$ can be determined as follows\n",
        "1. For classification problems:  $Y(\\boldsymbol{x})$ is set as the label that occurs most often in $N_k(\\boldsymbol{x})$ (the\n",
        "mode).\n",
        "2. For regression problems, the average of the $k$ nearest outputs can be taken $Y(\\boldsymbol{x}) = \\frac{1}{k}\\sum_{\\boldsymbol{x_i} \\in N_k(\\boldsymbol{x})} y_i$    \n",
        "\n",
        "### k-nearest-neighbours in python\n",
        "As with the 1-nearest neighbour algorithm, it is possible to implement a version of the k-nearest neighbours\n",
        "algorithm in python. However, an alternative is to use a pre-implemented version of this\n",
        "algorithm. For most popular machine learning algorithms, these functions are packed in specific python\n",
        "“packages\". An implementation of\n",
        "the k-nearest-neighbours algorithm is available in the [scikit-learn](http://scikit-learn.org/stable/) library (as well).\n",
        "You can load and see more info about the usage of this function by typing: (or by going to the [documentation page](https://scikit-learn.org/stable/modules/generated/sklearn.neighbors.KNeighborsRegressor.html))"
      ]
    },
    {
      "cell_type": "code",
      "execution_count": null,
      "metadata": {
        "collapsed": true,
        "colab": {
          "base_uri": "https://localhost:8080/"
        },
        "id": "iwPa3SamfEh4",
        "outputId": "89b32d8c-92d0-4dbb-d827-993a889bec52"
      },
      "outputs": [
        {
          "output_type": "stream",
          "name": "stdout",
          "text": [
            "Help on class KNeighborsRegressor in module sklearn.neighbors._regression:\n",
            "\n",
            "class KNeighborsRegressor(sklearn.neighbors._base.KNeighborsMixin, sklearn.base.RegressorMixin, sklearn.neighbors._base.NeighborsBase)\n",
            " |  KNeighborsRegressor(n_neighbors=5, *, weights='uniform', algorithm='auto', leaf_size=30, p=2, metric='minkowski', metric_params=None, n_jobs=None)\n",
            " |  \n",
            " |  Regression based on k-nearest neighbors.\n",
            " |  \n",
            " |  The target is predicted by local interpolation of the targets\n",
            " |  associated of the nearest neighbors in the training set.\n",
            " |  \n",
            " |  Read more in the :ref:`User Guide <regression>`.\n",
            " |  \n",
            " |  .. versionadded:: 0.9\n",
            " |  \n",
            " |  Parameters\n",
            " |  ----------\n",
            " |  n_neighbors : int, default=5\n",
            " |      Number of neighbors to use by default for :meth:`kneighbors` queries.\n",
            " |  \n",
            " |  weights : {'uniform', 'distance'} or callable, default='uniform'\n",
            " |      Weight function used in prediction.  Possible values:\n",
            " |  \n",
            " |      - 'uniform' : uniform weights.  All points in each neighborhood\n",
            " |        are weighted equally.\n",
            " |      - 'distance' : weight points by the inverse of their distance.\n",
            " |        in this case, closer neighbors of a query point will have a\n",
            " |        greater influence than neighbors which are further away.\n",
            " |      - [callable] : a user-defined function which accepts an\n",
            " |        array of distances, and returns an array of the same shape\n",
            " |        containing the weights.\n",
            " |  \n",
            " |      Uniform weights are used by default.\n",
            " |  \n",
            " |  algorithm : {'auto', 'ball_tree', 'kd_tree', 'brute'}, default='auto'\n",
            " |      Algorithm used to compute the nearest neighbors:\n",
            " |  \n",
            " |      - 'ball_tree' will use :class:`BallTree`\n",
            " |      - 'kd_tree' will use :class:`KDTree`\n",
            " |      - 'brute' will use a brute-force search.\n",
            " |      - 'auto' will attempt to decide the most appropriate algorithm\n",
            " |        based on the values passed to :meth:`fit` method.\n",
            " |  \n",
            " |      Note: fitting on sparse input will override the setting of\n",
            " |      this parameter, using brute force.\n",
            " |  \n",
            " |  leaf_size : int, default=30\n",
            " |      Leaf size passed to BallTree or KDTree.  This can affect the\n",
            " |      speed of the construction and query, as well as the memory\n",
            " |      required to store the tree.  The optimal value depends on the\n",
            " |      nature of the problem.\n",
            " |  \n",
            " |  p : int, default=2\n",
            " |      Power parameter for the Minkowski metric. When p = 1, this is\n",
            " |      equivalent to using manhattan_distance (l1), and euclidean_distance\n",
            " |      (l2) for p = 2. For arbitrary p, minkowski_distance (l_p) is used.\n",
            " |  \n",
            " |  metric : str or callable, default='minkowski'\n",
            " |      The distance metric to use for the tree.  The default metric is\n",
            " |      minkowski, and with p=2 is equivalent to the standard Euclidean\n",
            " |      metric. See the documentation of :class:`DistanceMetric` for a\n",
            " |      list of available metrics.\n",
            " |      If metric is \"precomputed\", X is assumed to be a distance matrix and\n",
            " |      must be square during fit. X may be a :term:`sparse graph`,\n",
            " |      in which case only \"nonzero\" elements may be considered neighbors.\n",
            " |  \n",
            " |  metric_params : dict, default=None\n",
            " |      Additional keyword arguments for the metric function.\n",
            " |  \n",
            " |  n_jobs : int, default=None\n",
            " |      The number of parallel jobs to run for neighbors search.\n",
            " |      ``None`` means 1 unless in a :obj:`joblib.parallel_backend` context.\n",
            " |      ``-1`` means using all processors. See :term:`Glossary <n_jobs>`\n",
            " |      for more details.\n",
            " |      Doesn't affect :meth:`fit` method.\n",
            " |  \n",
            " |  Attributes\n",
            " |  ----------\n",
            " |  effective_metric_ : str or callable\n",
            " |      The distance metric to use. It will be same as the `metric` parameter\n",
            " |      or a synonym of it, e.g. 'euclidean' if the `metric` parameter set to\n",
            " |      'minkowski' and `p` parameter set to 2.\n",
            " |  \n",
            " |  effective_metric_params_ : dict\n",
            " |      Additional keyword arguments for the metric function. For most metrics\n",
            " |      will be same with `metric_params` parameter, but may also contain the\n",
            " |      `p` parameter value if the `effective_metric_` attribute is set to\n",
            " |      'minkowski'.\n",
            " |  \n",
            " |  n_features_in_ : int\n",
            " |      Number of features seen during :term:`fit`.\n",
            " |  \n",
            " |      .. versionadded:: 0.24\n",
            " |  \n",
            " |  feature_names_in_ : ndarray of shape (`n_features_in_`,)\n",
            " |      Names of features seen during :term:`fit`. Defined only when `X`\n",
            " |      has feature names that are all strings.\n",
            " |  \n",
            " |      .. versionadded:: 1.0\n",
            " |  \n",
            " |  n_samples_fit_ : int\n",
            " |      Number of samples in the fitted data.\n",
            " |  \n",
            " |  See Also\n",
            " |  --------\n",
            " |  NearestNeighbors : Unsupervised learner for implementing neighbor searches.\n",
            " |  RadiusNeighborsRegressor : Regression based on neighbors within a fixed radius.\n",
            " |  KNeighborsClassifier : Classifier implementing the k-nearest neighbors vote.\n",
            " |  RadiusNeighborsClassifier : Classifier implementing\n",
            " |      a vote among neighbors within a given radius.\n",
            " |  \n",
            " |  Notes\n",
            " |  -----\n",
            " |  See :ref:`Nearest Neighbors <neighbors>` in the online documentation\n",
            " |  for a discussion of the choice of ``algorithm`` and ``leaf_size``.\n",
            " |  \n",
            " |  .. warning::\n",
            " |  \n",
            " |     Regarding the Nearest Neighbors algorithms, if it is found that two\n",
            " |     neighbors, neighbor `k+1` and `k`, have identical distances but\n",
            " |     different labels, the results will depend on the ordering of the\n",
            " |     training data.\n",
            " |  \n",
            " |  https://en.wikipedia.org/wiki/K-nearest_neighbors_algorithm\n",
            " |  \n",
            " |  Examples\n",
            " |  --------\n",
            " |  >>> X = [[0], [1], [2], [3]]\n",
            " |  >>> y = [0, 0, 1, 1]\n",
            " |  >>> from sklearn.neighbors import KNeighborsRegressor\n",
            " |  >>> neigh = KNeighborsRegressor(n_neighbors=2)\n",
            " |  >>> neigh.fit(X, y)\n",
            " |  KNeighborsRegressor(...)\n",
            " |  >>> print(neigh.predict([[1.5]]))\n",
            " |  [0.5]\n",
            " |  \n",
            " |  Method resolution order:\n",
            " |      KNeighborsRegressor\n",
            " |      sklearn.neighbors._base.KNeighborsMixin\n",
            " |      sklearn.base.RegressorMixin\n",
            " |      sklearn.neighbors._base.NeighborsBase\n",
            " |      sklearn.base.MultiOutputMixin\n",
            " |      sklearn.base.BaseEstimator\n",
            " |      builtins.object\n",
            " |  \n",
            " |  Methods defined here:\n",
            " |  \n",
            " |  __init__(self, n_neighbors=5, *, weights='uniform', algorithm='auto', leaf_size=30, p=2, metric='minkowski', metric_params=None, n_jobs=None)\n",
            " |      Initialize self.  See help(type(self)) for accurate signature.\n",
            " |  \n",
            " |  fit(self, X, y)\n",
            " |      Fit the k-nearest neighbors regressor from the training dataset.\n",
            " |      \n",
            " |      Parameters\n",
            " |      ----------\n",
            " |      X : {array-like, sparse matrix} of shape (n_samples, n_features) or                 (n_samples, n_samples) if metric='precomputed'\n",
            " |          Training data.\n",
            " |      \n",
            " |      y : {array-like, sparse matrix} of shape (n_samples,) or                 (n_samples, n_outputs)\n",
            " |          Target values.\n",
            " |      \n",
            " |      Returns\n",
            " |      -------\n",
            " |      self : KNeighborsRegressor\n",
            " |          The fitted k-nearest neighbors regressor.\n",
            " |  \n",
            " |  predict(self, X)\n",
            " |      Predict the target for the provided data.\n",
            " |      \n",
            " |      Parameters\n",
            " |      ----------\n",
            " |      X : array-like of shape (n_queries, n_features),                 or (n_queries, n_indexed) if metric == 'precomputed'\n",
            " |          Test samples.\n",
            " |      \n",
            " |      Returns\n",
            " |      -------\n",
            " |      y : ndarray of shape (n_queries,) or (n_queries, n_outputs), dtype=int\n",
            " |          Target values.\n",
            " |  \n",
            " |  ----------------------------------------------------------------------\n",
            " |  Data and other attributes defined here:\n",
            " |  \n",
            " |  __abstractmethods__ = frozenset()\n",
            " |  \n",
            " |  ----------------------------------------------------------------------\n",
            " |  Methods inherited from sklearn.neighbors._base.KNeighborsMixin:\n",
            " |  \n",
            " |  kneighbors(self, X=None, n_neighbors=None, return_distance=True)\n",
            " |      Find the K-neighbors of a point.\n",
            " |      \n",
            " |      Returns indices of and distances to the neighbors of each point.\n",
            " |      \n",
            " |      Parameters\n",
            " |      ----------\n",
            " |      X : array-like, shape (n_queries, n_features),             or (n_queries, n_indexed) if metric == 'precomputed',                 default=None\n",
            " |          The query point or points.\n",
            " |          If not provided, neighbors of each indexed point are returned.\n",
            " |          In this case, the query point is not considered its own neighbor.\n",
            " |      \n",
            " |      n_neighbors : int, default=None\n",
            " |          Number of neighbors required for each sample. The default is the\n",
            " |          value passed to the constructor.\n",
            " |      \n",
            " |      return_distance : bool, default=True\n",
            " |          Whether or not to return the distances.\n",
            " |      \n",
            " |      Returns\n",
            " |      -------\n",
            " |      neigh_dist : ndarray of shape (n_queries, n_neighbors)\n",
            " |          Array representing the lengths to points, only present if\n",
            " |          return_distance=True.\n",
            " |      \n",
            " |      neigh_ind : ndarray of shape (n_queries, n_neighbors)\n",
            " |          Indices of the nearest points in the population matrix.\n",
            " |      \n",
            " |      Examples\n",
            " |      --------\n",
            " |      In the following example, we construct a NearestNeighbors\n",
            " |      class from an array representing our data set and ask who's\n",
            " |      the closest point to [1,1,1]\n",
            " |      \n",
            " |      >>> samples = [[0., 0., 0.], [0., .5, 0.], [1., 1., .5]]\n",
            " |      >>> from sklearn.neighbors import NearestNeighbors\n",
            " |      >>> neigh = NearestNeighbors(n_neighbors=1)\n",
            " |      >>> neigh.fit(samples)\n",
            " |      NearestNeighbors(n_neighbors=1)\n",
            " |      >>> print(neigh.kneighbors([[1., 1., 1.]]))\n",
            " |      (array([[0.5]]), array([[2]]))\n",
            " |      \n",
            " |      As you can see, it returns [[0.5]], and [[2]], which means that the\n",
            " |      element is at distance 0.5 and is the third element of samples\n",
            " |      (indexes start at 0). You can also query for multiple points:\n",
            " |      \n",
            " |      >>> X = [[0., 1., 0.], [1., 0., 1.]]\n",
            " |      >>> neigh.kneighbors(X, return_distance=False)\n",
            " |      array([[1],\n",
            " |             [2]]...)\n",
            " |  \n",
            " |  kneighbors_graph(self, X=None, n_neighbors=None, mode='connectivity')\n",
            " |      Compute the (weighted) graph of k-Neighbors for points in X.\n",
            " |      \n",
            " |      Parameters\n",
            " |      ----------\n",
            " |      X : array-like of shape (n_queries, n_features),                 or (n_queries, n_indexed) if metric == 'precomputed',                 default=None\n",
            " |          The query point or points.\n",
            " |          If not provided, neighbors of each indexed point are returned.\n",
            " |          In this case, the query point is not considered its own neighbor.\n",
            " |          For ``metric='precomputed'`` the shape should be\n",
            " |          (n_queries, n_indexed). Otherwise the shape should be\n",
            " |          (n_queries, n_features).\n",
            " |      \n",
            " |      n_neighbors : int, default=None\n",
            " |          Number of neighbors for each sample. The default is the value\n",
            " |          passed to the constructor.\n",
            " |      \n",
            " |      mode : {'connectivity', 'distance'}, default='connectivity'\n",
            " |          Type of returned matrix: 'connectivity' will return the\n",
            " |          connectivity matrix with ones and zeros, in 'distance' the\n",
            " |          edges are distances between points, type of distance\n",
            " |          depends on the selected metric parameter in\n",
            " |          NearestNeighbors class.\n",
            " |      \n",
            " |      Returns\n",
            " |      -------\n",
            " |      A : sparse-matrix of shape (n_queries, n_samples_fit)\n",
            " |          `n_samples_fit` is the number of samples in the fitted data.\n",
            " |          `A[i, j]` gives the weight of the edge connecting `i` to `j`.\n",
            " |          The matrix is of CSR format.\n",
            " |      \n",
            " |      See Also\n",
            " |      --------\n",
            " |      NearestNeighbors.radius_neighbors_graph : Compute the (weighted) graph\n",
            " |          of Neighbors for points in X.\n",
            " |      \n",
            " |      Examples\n",
            " |      --------\n",
            " |      >>> X = [[0], [3], [1]]\n",
            " |      >>> from sklearn.neighbors import NearestNeighbors\n",
            " |      >>> neigh = NearestNeighbors(n_neighbors=2)\n",
            " |      >>> neigh.fit(X)\n",
            " |      NearestNeighbors(n_neighbors=2)\n",
            " |      >>> A = neigh.kneighbors_graph(X)\n",
            " |      >>> A.toarray()\n",
            " |      array([[1., 0., 1.],\n",
            " |             [0., 1., 1.],\n",
            " |             [1., 0., 1.]])\n",
            " |  \n",
            " |  ----------------------------------------------------------------------\n",
            " |  Data descriptors inherited from sklearn.neighbors._base.KNeighborsMixin:\n",
            " |  \n",
            " |  __dict__\n",
            " |      dictionary for instance variables (if defined)\n",
            " |  \n",
            " |  __weakref__\n",
            " |      list of weak references to the object (if defined)\n",
            " |  \n",
            " |  ----------------------------------------------------------------------\n",
            " |  Methods inherited from sklearn.base.RegressorMixin:\n",
            " |  \n",
            " |  score(self, X, y, sample_weight=None)\n",
            " |      Return the coefficient of determination of the prediction.\n",
            " |      \n",
            " |      The coefficient of determination :math:`R^2` is defined as\n",
            " |      :math:`(1 - \\frac{u}{v})`, where :math:`u` is the residual\n",
            " |      sum of squares ``((y_true - y_pred)** 2).sum()`` and :math:`v`\n",
            " |      is the total sum of squares ``((y_true - y_true.mean()) ** 2).sum()``.\n",
            " |      The best possible score is 1.0 and it can be negative (because the\n",
            " |      model can be arbitrarily worse). A constant model that always predicts\n",
            " |      the expected value of `y`, disregarding the input features, would get\n",
            " |      a :math:`R^2` score of 0.0.\n",
            " |      \n",
            " |      Parameters\n",
            " |      ----------\n",
            " |      X : array-like of shape (n_samples, n_features)\n",
            " |          Test samples. For some estimators this may be a precomputed\n",
            " |          kernel matrix or a list of generic objects instead with shape\n",
            " |          ``(n_samples, n_samples_fitted)``, where ``n_samples_fitted``\n",
            " |          is the number of samples used in the fitting for the estimator.\n",
            " |      \n",
            " |      y : array-like of shape (n_samples,) or (n_samples, n_outputs)\n",
            " |          True values for `X`.\n",
            " |      \n",
            " |      sample_weight : array-like of shape (n_samples,), default=None\n",
            " |          Sample weights.\n",
            " |      \n",
            " |      Returns\n",
            " |      -------\n",
            " |      score : float\n",
            " |          :math:`R^2` of ``self.predict(X)`` wrt. `y`.\n",
            " |      \n",
            " |      Notes\n",
            " |      -----\n",
            " |      The :math:`R^2` score used when calling ``score`` on a regressor uses\n",
            " |      ``multioutput='uniform_average'`` from version 0.23 to keep consistent\n",
            " |      with default value of :func:`~sklearn.metrics.r2_score`.\n",
            " |      This influences the ``score`` method of all the multioutput\n",
            " |      regressors (except for\n",
            " |      :class:`~sklearn.multioutput.MultiOutputRegressor`).\n",
            " |  \n",
            " |  ----------------------------------------------------------------------\n",
            " |  Methods inherited from sklearn.base.BaseEstimator:\n",
            " |  \n",
            " |  __getstate__(self)\n",
            " |  \n",
            " |  __repr__(self, N_CHAR_MAX=700)\n",
            " |      Return repr(self).\n",
            " |  \n",
            " |  __setstate__(self, state)\n",
            " |  \n",
            " |  get_params(self, deep=True)\n",
            " |      Get parameters for this estimator.\n",
            " |      \n",
            " |      Parameters\n",
            " |      ----------\n",
            " |      deep : bool, default=True\n",
            " |          If True, will return the parameters for this estimator and\n",
            " |          contained subobjects that are estimators.\n",
            " |      \n",
            " |      Returns\n",
            " |      -------\n",
            " |      params : dict\n",
            " |          Parameter names mapped to their values.\n",
            " |  \n",
            " |  set_params(self, **params)\n",
            " |      Set the parameters of this estimator.\n",
            " |      \n",
            " |      The method works on simple estimators as well as on nested objects\n",
            " |      (such as :class:`~sklearn.pipeline.Pipeline`). The latter have\n",
            " |      parameters of the form ``<component>__<parameter>`` so that it's\n",
            " |      possible to update each component of a nested object.\n",
            " |      \n",
            " |      Parameters\n",
            " |      ----------\n",
            " |      **params : dict\n",
            " |          Estimator parameters.\n",
            " |      \n",
            " |      Returns\n",
            " |      -------\n",
            " |      self : estimator instance\n",
            " |          Estimator instance.\n",
            "\n"
          ]
        }
      ],
      "source": [
        "from sklearn import neighbors\n",
        "help(neighbors.KNeighborsRegressor)"
      ]
    },
    {
      "cell_type": "markdown",
      "metadata": {
        "id": "_KnzVsnefEh4"
      },
      "source": [
        "As you can see in the help window, in scikit-learn, an estimator for classification/regression is a Python object that implements the methods fit(X, y) and predict(T). The constructor of an estimator takes as arguments the parameters of the model (in our case the basic parameters are the number of neighbours and the distance metric). So the first step is to create a KNN instance:\n"
      ]
    },
    {
      "cell_type": "code",
      "execution_count": null,
      "metadata": {
        "collapsed": true,
        "id": "RnFLYebsfEh5"
      },
      "outputs": [],
      "source": [
        "knn = neighbors.KNeighborsRegressor(n_neighbors = 5, metric = 'euclidean')"
      ]
    },
    {
      "cell_type": "markdown",
      "metadata": {
        "id": "98x8uXcOfEh6"
      },
      "source": [
        "We call our estimator instance `knn`. It now must be fitted to the data, that is, it must learn from the data. This is done by passing our training set to the fit method."
      ]
    },
    {
      "cell_type": "code",
      "execution_count": null,
      "metadata": {
        "collapsed": true,
        "colab": {
          "base_uri": "https://localhost:8080/"
        },
        "id": "gbsJfKqQfEh6",
        "outputId": "247a902d-08ef-4d06-d7a1-e9bad83a7f50"
      },
      "outputs": [
        {
          "output_type": "execute_result",
          "data": {
            "text/plain": [
              "KNeighborsRegressor(metric='euclidean')"
            ]
          },
          "metadata": {},
          "execution_count": 16
        }
      ],
      "source": [
        "knn.fit(X_train, y_train)"
      ]
    },
    {
      "cell_type": "markdown",
      "metadata": {
        "id": "C-S_kM6ifEh6"
      },
      "source": [
        "Now you can predict new values, in particular, we can ask to the estimator which is the age of the first example in our test dataset (remember: by doing this, we are now comparing the features of this example to the features of all training samples, then determining what the closest neighbors are, then averaging the age of those neighbors as predictions)"
      ]
    },
    {
      "cell_type": "code",
      "execution_count": null,
      "metadata": {
        "collapsed": true,
        "id": "_TebEnkJfEh7"
      },
      "outputs": [],
      "source": [
        "y_pred = knn.predict(X_test[0].reshape(1, -1))"
      ]
    },
    {
      "cell_type": "markdown",
      "metadata": {
        "id": "QS5zGDBEfEh7"
      },
      "source": [
        "We can calculate the mean squared error of the prediction we get before (for the first example of the test dataset) by calculating it ourselves or by using the [mean_squared_error()](http://scikit-learn.org/stable/modules/generated/sklearn.metrics.mean_squared_error.html) function of scikit-learn."
      ]
    },
    {
      "cell_type": "code",
      "execution_count": null,
      "metadata": {
        "collapsed": true,
        "colab": {
          "base_uri": "https://localhost:8080/"
        },
        "id": "dMZHjt52fEh8",
        "outputId": "3923e0e5-871c-4dbf-aff5-ac1ddceb609c"
      },
      "outputs": [
        {
          "output_type": "stream",
          "name": "stdout",
          "text": [
            "8 [11.]\n",
            "9.0\n"
          ]
        }
      ],
      "source": [
        "from sklearn.metrics import mean_squared_error\n",
        "print(y_test[0], y_pred)\n",
        "print(mean_squared_error(y_pred, y_test[0].reshape(1, -1)))"
      ]
    },
    {
      "cell_type": "markdown",
      "metadata": {
        "id": "3UhPfQZGfEh8"
      },
      "source": [
        "<div class=\"alert alert-success\">\n",
        "\n",
        "<b>EXERCISE</b>: **Build a 3-nearest-neighbor regressor in a similar manner as before. Predict the age for all training samples and test samples and compute the mean squared error of both prediction sets. Which predictions are better?**\n",
        "</div>"
      ]
    },
    {
      "cell_type": "code",
      "execution_count": null,
      "metadata": {
        "colab": {
          "base_uri": "https://localhost:8080/"
        },
        "id": "M17HY9osfEh8",
        "outputId": "b7d0d717-360f-4ae8-a7ae-1b21e115d657"
      },
      "outputs": [
        {
          "output_type": "stream",
          "name": "stdout",
          "text": [
            "3.711507936507936\n",
            "6.503174603174603\n"
          ]
        }
      ],
      "source": [
        "# Instantiate the knn object\n",
        "knn = neighbors.KNeighborsRegressor(n_neighbors = 3, metric = 'euclidean')\n",
        "# Fit\n",
        "knn.fit(X_train, y_train)\n",
        "# Predict train\n",
        "y_train_pred = knn.predict(X_train)\n",
        "# Predict test\n",
        "y_test_pred = knn.predict(X_test)\n",
        "# MSE train\n",
        "print(mean_squared_error(y_train_pred, y_train))\n",
        "# MSE test\n",
        "print(mean_squared_error(y_test_pred, y_test))"
      ]
    },
    {
      "cell_type": "markdown",
      "metadata": {
        "id": "v7cAMV8ofEh9"
      },
      "source": [
        "<div class=\"alert alert-success\">\n",
        "\n",
        "<b>EXERCISE</b>: **Now do the same but iterate over possible values for 'k' as the number of nearest neighbors taken into account, where k ranges between 1 and 50 (step size equal to 3). Plot the resulting errors of the models as a function of 'k'. 'k' is what we call a hyperparameter: a type of parameter that is (most often) tuned by hand according to the prediction task. For some datasets/tasks we will for example need more or less neighbors (as predictions tasks have varying difficulty).**\n",
        "</div>"
      ]
    },
    {
      "cell_type": "code",
      "execution_count": null,
      "metadata": {
        "colab": {
          "base_uri": "https://localhost:8080/",
          "height": 301
        },
        "id": "Vq3BS2nLfEh9",
        "outputId": "e431ed28-89eb-43d5-e562-111a3a7fe401"
      },
      "outputs": [
        {
          "output_type": "execute_result",
          "data": {
            "text/plain": [
              "<matplotlib.legend.Legend at 0x7ff78ffd6b90>"
            ]
          },
          "metadata": {},
          "execution_count": 20
        },
        {
          "output_type": "display_data",
          "data": {
            "image/png": "[encoded data removed]",
            "text/plain": [
              "<Figure size 432x288 with 1 Axes>"
            ]
          },
          "metadata": {
            "needs_background": "light"
          }
        }
      ],
      "source": [
        "results_train = []\n",
        "results_test = []\n",
        "# for i in range(...):\n",
        "\n",
        "for i in range(1, 50, 3):\n",
        "    knn = neighbors.KNeighborsRegressor(n_neighbors = i, metric = 'euclidean')\n",
        "    # Fit\n",
        "    knn.fit(X_train, y_train)\n",
        "    # Predict train\n",
        "    y_train_pred = knn.predict(X_train)\n",
        "    # Predict test\n",
        "    y_test_pred = knn.predict(X_test)\n",
        "    # MSE train\n",
        "    results_train.append(mean_squared_error(y_train_pred, y_train))\n",
        "    # MSE test\n",
        "    results_test.append(mean_squared_error(y_test_pred, y_test))\n",
        "\n",
        "import matplotlib.pyplot as plt\n",
        "\n",
        "plt.plot(range(1, 50, 3), results_train) # training MSEs\n",
        "plt.plot(range(1, 50, 3), results_test) # test MSEs\n",
        "plt.ylabel('MSE')\n",
        "plt.xlabel('$k$ nearest neighbors')\n",
        "plt.legend(['Train MSE', 'Test MSE'])"
      ]
    },
    {
      "cell_type": "code",
      "source": [],
      "metadata": {
        "id": "bFmhqH_tKM63"
      },
      "execution_count": null,
      "outputs": []
    }
  ],
  "metadata": {
    "kernelspec": {
      "display_name": "Python 3",
      "language": "python",
      "name": "python3"
    },
    "language_info": {
      "codemirror_mode": {
        "name": "ipython",
        "version": 3
      },
      "file_extension": ".py",
      "mimetype": "text/x-python",
      "name": "python",
      "nbconvert_exporter": "python",
      "pygments_lexer": "ipython3",
      "version": "3.6.5"
    },
    "colab": {
      "provenance": []
    }
  },
  "nbformat": 4,
  "nbformat_minor": 0
}