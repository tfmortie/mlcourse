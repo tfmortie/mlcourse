{
  "cells": [
    {
      "cell_type": "markdown",
      "metadata": {
        "id": "nXDEAQB-4GU_"
      },
      "source": [
        "# PC Lab 5: Resampling Methods for Model Evaluation\n",
        "---"
      ]
    },
    {
      "cell_type": "markdown",
      "metadata": {
        "id": "Wek8o13f4GVD"
      },
      "source": [
        "## 1. Introduction\n",
        "\n",
        "<img src=\"https://upload.wikimedia.org/wikipedia/commons/thumb/b/b5/K-fold_cross_validation_EN.svg/2880px-K-fold_cross_validation_EN.svg.png\" width=500>"
      ]
    },
    {
      "cell_type": "markdown",
      "metadata": {
        "id": "nqSQ6kUj4GVE"
      },
      "source": [
        "This tutorial is about an important tool for evaluating how accurate your model will perform in practice: _Resampling methods_ are an dispensable tool in modern statistics and involve repeatedly drawing samples from a training set and refitting a model of interest on each sample in order to obtain additional information about\n",
        "the fitted model. \n",
        "\n",
        "For example, in order to estimate the variability of a linear regression fit, we can repeatedly draw different samples from the training data, fit a linear regression to each new sample, and then examine the\n",
        "extent to which the resulting fits differ. Such an approach may allow us to obtain information that would not be available from fitting the model only once using the original training sample. \n",
        "\n",
        "Resampling approaches can be computationally expensive, because they involve fitting the same statistical method multiple times using different subsets of the training data. However, due to recent advances in computing\n",
        "power, the computational requirements of resampling methods generally are not prohibitive. In this PC lab, we discuss two of the most commonly used resampling methods, _cross-validation_ and nested cross-validation.\n"
      ]
    },
    {
      "cell_type": "markdown",
      "metadata": {},
      "source": [
        "We again first load the necessary files for this PC-lab:"
      ]
    },
    {
      "cell_type": "code",
      "execution_count": 2,
      "metadata": {},
      "outputs": [
        {
          "name": "stdout",
          "output_type": "stream",
          "text": [
            "--2024-01-26 15:39:28--  https://raw.githubusercontent.com/tfmortie/mlmust/main/05_evaluation/pc5.py\n",
            "Resolving raw.githubusercontent.com (raw.githubusercontent.com)... 185.199.108.133, 185.199.109.133, 185.199.110.133, ...\n",
            "Connecting to raw.githubusercontent.com (raw.githubusercontent.com)|185.199.108.133|:443... connected.\n",
            "HTTP request sent, awaiting response... 200 OK\n",
            "Length: 1597 (1,6K) [text/plain]\n",
            "Saving to: ‘pc5.py.1’\n",
            "\n",
            "pc5.py.1            100%[===================>]   1,56K  --.-KB/s    in 0s      \n",
            "\n",
            "2024-01-26 15:39:29 (5,64 MB/s) - ‘pc5.py.1’ saved [1597/1597]\n",
            "\n",
            "--2024-01-26 15:39:29--  https://raw.githubusercontent.com/tfmortie/mlmust/main/05_evaluation/promoters.csv\n",
            "Resolving raw.githubusercontent.com (raw.githubusercontent.com)... 185.199.109.133, 185.199.110.133, 185.199.111.133, ...\n",
            "Connecting to raw.githubusercontent.com (raw.githubusercontent.com)|185.199.109.133|:443... connected.\n",
            "HTTP request sent, awaiting response... 200 OK\n",
            "Length: 4134 (4,0K) [text/plain]\n",
            "Saving to: ‘promoters.csv.1’\n",
            "\n",
            "promoters.csv.1     100%[===================>]   4,04K  --.-KB/s    in 0s      \n",
            "\n",
            "2024-01-26 15:39:29 (10,2 MB/s) - ‘promoters.csv.1’ saved [4134/4134]\n",
            "\n"
          ]
        }
      ],
      "source": [
        "!wget https://raw.githubusercontent.com/tfmortie/mlmust/main/05_evaluation/pc5.py\n",
        "!wget https://raw.githubusercontent.com/tfmortie/mlmust/main/05_evaluation/promoters.csv"
      ]
    },
    {
      "cell_type": "code",
      "execution_count": null,
      "metadata": {},
      "outputs": [],
      "source": [
        "import numpy as np\n",
        "import pandas as pd\n",
        "import matplotlib.pyplot as plt\n",
        "import urllib.request\n",
        "\n",
        "from sklearn.model_selection import train_test_split, KFold, StratifiedKFold, LeaveOneOut\n",
        "from sklearn.discriminant_analysis import LinearDiscriminantAnalysis as LDA\n",
        "from sklearn.neighbors import KNeighborsClassifier\n",
        "from sklearn.linear_model import LogisticRegression\n",
        "from sklearn.preprocessing import LabelEncoder\n",
        "import pc5"
      ]
    },
    {
      "cell_type": "markdown",
      "metadata": {
        "id": "DM9PfHRm4GVE"
      },
      "source": [
        "## 2. Data exploration: A simple promoter library"
      ]
    },
    {
      "cell_type": "markdown",
      "metadata": {
        "id": "5mRhkWCQ4GVG"
      },
      "source": [
        "The dataset used for the first exercise is a simpe [E. coli promoter database](https://archive.ics.uci.edu/ml/machine-learning-databases/molecular-biology/promoter-gene-sequences/promoters.names) that contains a set of both promoter regions and non-promoter regions. A promoter region is the DNA sequence upstream of genes to which the RNA polymerase binds before the transcription of genes is initiated."
      ]
    },
    {
      "cell_type": "markdown",
      "metadata": {},
      "source": [
        "<img src=\"https://www.thetech.org/media/vhlmcuoq/kbartholomay_gene_diagram.png?rmode=max&width=650&height=230\" width=500>"
      ]
    },
    {
      "cell_type": "markdown",
      "metadata": {
        "id": "Gi2MHW4i4GVH"
      },
      "source": [
        "Let's load in the data and explore (the data is stored in _promoters.csv_):"
      ]
    },
    {
      "cell_type": "code",
      "execution_count": 3,
      "metadata": {
        "colab": {
          "base_uri": "https://localhost:8080/",
          "height": 206
        },
        "id": "cvaXLRvd4GVH",
        "outputId": "70acce48-5f3d-464e-a037-58c07b75120b"
      },
      "outputs": [
        {
          "data": {
            "text/html": [
              "<div>\n",
              "<style scoped>\n",
              "    .dataframe tbody tr th:only-of-type {\n",
              "        vertical-align: middle;\n",
              "    }\n",
              "\n",
              "    .dataframe tbody tr th {\n",
              "        vertical-align: top;\n",
              "    }\n",
              "\n",
              "    .dataframe thead th {\n",
              "        text-align: right;\n",
              "    }\n",
              "</style>\n",
              "<table border=\"1\" class=\"dataframe\">\n",
              "  <thead>\n",
              "    <tr style=\"text-align: right;\">\n",
              "      <th></th>\n",
              "      <th>True</th>\n",
              "      <th>S10</th>\n",
              "      <th>agtatgtataatgcgcgggcttgtcgt</th>\n",
              "    </tr>\n",
              "  </thead>\n",
              "  <tbody>\n",
              "    <tr>\n",
              "      <th>0</th>\n",
              "      <td>True</td>\n",
              "      <td>AMPC</td>\n",
              "      <td>tgtcgttacaatctaacgcatcgccaa</td>\n",
              "    </tr>\n",
              "    <tr>\n",
              "      <th>1</th>\n",
              "      <td>True</td>\n",
              "      <td>AROH</td>\n",
              "      <td>ttttgttatcatgctaaccacccggcg</td>\n",
              "    </tr>\n",
              "    <tr>\n",
              "      <th>2</th>\n",
              "      <td>True</td>\n",
              "      <td>DEOP2</td>\n",
              "      <td>agtagatgttagaatactaacaaactc</td>\n",
              "    </tr>\n",
              "    <tr>\n",
              "      <th>3</th>\n",
              "      <td>True</td>\n",
              "      <td>LEU1_TRNA</td>\n",
              "      <td>aaccactagaatgcgcctccgtggtag</td>\n",
              "    </tr>\n",
              "    <tr>\n",
              "      <th>4</th>\n",
              "      <td>True</td>\n",
              "      <td>MALEFG</td>\n",
              "      <td>tataaagaaactagagtccgtttaggt</td>\n",
              "    </tr>\n",
              "  </tbody>\n",
              "</table>\n",
              "</div>"
            ],
            "text/plain": [
              "   True        S10  agtatgtataatgcgcgggcttgtcgt\n",
              "0  True       AMPC  tgtcgttacaatctaacgcatcgccaa\n",
              "1  True       AROH  ttttgttatcatgctaaccacccggcg\n",
              "2  True      DEOP2  agtagatgttagaatactaacaaactc\n",
              "3  True  LEU1_TRNA  aaccactagaatgcgcctccgtggtag\n",
              "4  True     MALEFG  tataaagaaactagagtccgtttaggt"
            ]
          },
          "execution_count": 3,
          "metadata": {},
          "output_type": "execute_result"
        }
      ],
      "source": [
        "df_data = pd.read_csv(\"promoters.csv\")\n",
        "df_data.head()"
      ]
    },
    {
      "cell_type": "markdown",
      "metadata": {
        "id": "JHssRY5H4GVI"
      },
      "source": [
        "**We see the first column is not used to identify column names**. Hence, we can just load the dataframe without the header by means of setting <code>header=None<code>."
      ]
    },
    {
      "cell_type": "code",
      "execution_count": 4,
      "metadata": {
        "colab": {
          "base_uri": "https://localhost:8080/",
          "height": 206
        },
        "id": "PA5Mm3uq4GVI",
        "outputId": "8944ffc9-3b3d-4fbf-9d2a-ca572fa3388e"
      },
      "outputs": [
        {
          "data": {
            "text/html": [
              "<div>\n",
              "<style scoped>\n",
              "    .dataframe tbody tr th:only-of-type {\n",
              "        vertical-align: middle;\n",
              "    }\n",
              "\n",
              "    .dataframe tbody tr th {\n",
              "        vertical-align: top;\n",
              "    }\n",
              "\n",
              "    .dataframe thead th {\n",
              "        text-align: right;\n",
              "    }\n",
              "</style>\n",
              "<table border=\"1\" class=\"dataframe\">\n",
              "  <thead>\n",
              "    <tr style=\"text-align: right;\">\n",
              "      <th></th>\n",
              "      <th>0</th>\n",
              "      <th>1</th>\n",
              "      <th>2</th>\n",
              "    </tr>\n",
              "  </thead>\n",
              "  <tbody>\n",
              "    <tr>\n",
              "      <th>0</th>\n",
              "      <td>True</td>\n",
              "      <td>S10</td>\n",
              "      <td>agtatgtataatgcgcgggcttgtcgt</td>\n",
              "    </tr>\n",
              "    <tr>\n",
              "      <th>1</th>\n",
              "      <td>True</td>\n",
              "      <td>AMPC</td>\n",
              "      <td>tgtcgttacaatctaacgcatcgccaa</td>\n",
              "    </tr>\n",
              "    <tr>\n",
              "      <th>2</th>\n",
              "      <td>True</td>\n",
              "      <td>AROH</td>\n",
              "      <td>ttttgttatcatgctaaccacccggcg</td>\n",
              "    </tr>\n",
              "    <tr>\n",
              "      <th>3</th>\n",
              "      <td>True</td>\n",
              "      <td>DEOP2</td>\n",
              "      <td>agtagatgttagaatactaacaaactc</td>\n",
              "    </tr>\n",
              "    <tr>\n",
              "      <th>4</th>\n",
              "      <td>True</td>\n",
              "      <td>LEU1_TRNA</td>\n",
              "      <td>aaccactagaatgcgcctccgtggtag</td>\n",
              "    </tr>\n",
              "  </tbody>\n",
              "</table>\n",
              "</div>"
            ],
            "text/plain": [
              "      0          1                            2\n",
              "0  True        S10  agtatgtataatgcgcgggcttgtcgt\n",
              "1  True       AMPC  tgtcgttacaatctaacgcatcgccaa\n",
              "2  True       AROH  ttttgttatcatgctaaccacccggcg\n",
              "3  True      DEOP2  agtagatgttagaatactaacaaactc\n",
              "4  True  LEU1_TRNA  aaccactagaatgcgcctccgtggtag"
            ]
          },
          "execution_count": 4,
          "metadata": {},
          "output_type": "execute_result"
        }
      ],
      "source": [
        "df_data = pd.read_csv(\"promoters.csv\", header=None)\n",
        "df_data.head()"
      ]
    },
    {
      "cell_type": "markdown",
      "metadata": {},
      "source": [
        "Now evaluate the distribution of the 2 labels, using the built-in pandas function <code>pd.Series.value_counts()</code>. Is our dataset balanced?"
      ]
    },
    {
      "cell_type": "code",
      "execution_count": 5,
      "metadata": {
        "colab": {
          "base_uri": "https://localhost:8080/"
        },
        "id": "Z05lMXdw4GVJ",
        "outputId": "e8150daf-f4b0-4a54-b496-ae2e61b900c0"
      },
      "outputs": [
        {
          "data": {
            "text/plain": [
              "False    53\n",
              "True     53\n",
              "Name: 0, dtype: int64"
            ]
          },
          "execution_count": 5,
          "metadata": {},
          "output_type": "execute_result"
        }
      ],
      "source": [
        "df_data[0].value_counts(dropna=False)"
      ]
    },
    {
      "cell_type": "code",
      "execution_count": 6,
      "metadata": {},
      "outputs": [
        {
          "data": {
            "text/plain": [
              "106"
            ]
          },
          "execution_count": 6,
          "metadata": {},
          "output_type": "execute_result"
        }
      ],
      "source": [
        "len(df_data)"
      ]
    },
    {
      "cell_type": "markdown",
      "metadata": {
        "id": "kLUFjUiS4GVJ"
      },
      "source": [
        "**We see that we are working with a balanced dataset, there are no invalid entries in the column for labels.**"
      ]
    },
    {
      "cell_type": "markdown",
      "metadata": {
        "id": "QQU8XOFf4GVJ"
      },
      "source": [
        "Next, we will create the features and labels for the model. We will create the features by means of the helper function _pc5.CreateDummyNucleotideFeatures()_."
      ]
    },
    {
      "cell_type": "code",
      "execution_count": 7,
      "metadata": {
        "id": "pYGhR8YQ4GVK"
      },
      "outputs": [],
      "source": [
        "X = pc5.CreateDummyNucleotideFeatures(df_data[2], 27)\n",
        "#get numpy array from pandas dataframe\n",
        "X = X.values\n",
        "\n",
        "y = LabelEncoder().fit_transform(df_data[0])"
      ]
    },
    {
      "cell_type": "markdown",
      "metadata": {
        "id": "3I6hNpxH4GVK"
      },
      "source": [
        "**As given in the docstring: for the features, a pandas DataFrame object is returned. To transform into Numpy array, use the <code>pd.DataFrame.values</code> function.**"
      ]
    },
    {
      "cell_type": "markdown",
      "metadata": {
        "id": "Fg_n8cWT4GVK"
      },
      "source": [
        "## 3. Cross-validation"
      ]
    },
    {
      "cell_type": "markdown",
      "metadata": {
        "id": "0o0wd-MJ4GVK"
      },
      "source": [
        "In this section we will elaborate on two specific questions that are strongly related to cross-validation. Both questions stem from the fact that we aim to build models with a high predictive power, based on a finite dataset.\n",
        " - **Question 1**: Given a relatively small dataset, how can we use the promoter dataset as efficiently as possible, to construct a model that  optimally predicts the existence of a promoter region in the prokaryotic DNA?\n",
        " - **Question 2**: How can we decide which machine learning method should be preferred to predict the presence of a promoter region?\n"
      ]
    },
    {
      "cell_type": "markdown",
      "metadata": {
        "id": "OEZpgX4p4GVL"
      },
      "source": [
        "### Question 1: k-fold cross-validation"
      ]
    },
    {
      "cell_type": "markdown",
      "metadata": {
        "id": "voJN5DPu4GVL"
      },
      "source": [
        "K-fold cross-validation is a resampling technique that is often used in machine learning in order to assess the generalization performance of a machine learning model. It consists of partitioning a dataset into k equally-sized folds or subsets. Next, the model is trained and validated k times, each time using a different fold as the evaluation set and the remaining k-1 folds as training set. The final performance metric is often computed as the average of the performance scores obtained in each iteration, providing a more reliable estimate of the model's generalization ability.\n",
        "\n",
        "<img src=\"https://miro.medium.com/v2/resize:fit:1400/format:webp/1*AAwIlHM8TpAVe4l2FihNUQ.png\" width=600>"
      ]
    },
    {
      "cell_type": "markdown",
      "metadata": {
        "id": "CljiS6894GVL"
      },
      "source": [
        "<div class=\"alert alert-success\">\n",
        "\n",
        "<b>EXERCISE 3.1</b>: **Write out code that performs cross-validation for a k-nearest neighbor model by using the [_StratifiedKFold()_](https://scikit-learn.org/stable/modules/generated/sklearn.model_selection.StratifiedKFold.html) function in Scikit-learn. Use four folds and determine the optimal number of neighbors that maximize accuracy. What is the optimal number of neighbors?**\n",
        "</div>  "
      ]
    },
    {
      "cell_type": "code",
      "execution_count": 8,
      "metadata": {
        "colab": {
          "base_uri": "https://localhost:8080/",
          "height": 389
        },
        "id": "IK562Hbl4GVM",
        "outputId": "29d8d1d5-fec6-4436-b90d-9a30366ab7a9"
      },
      "outputs": [
        {
          "name": "stdout",
          "output_type": "stream",
          "text": [
            "Maximum Accuracy with 8 neighbors\n"
          ]
        },
        {
          "data": {
            "image/png": "[encoded data removed]",
            "text/plain": [
              "<Figure size 720x432 with 1 Axes>"
            ]
          },
          "metadata": {
            "needs_background": "light"
          },
          "output_type": "display_data"
        }
      ],
      "source": [
        "fold_scores = []\n",
        "# define space to iterate over\n",
        "space = np.arange(1,20)\n",
        "# define folds\n",
        "folds = StratifiedKFold(n_splits=4, shuffle=True, random_state=42)\n",
        "\n",
        "for tr_idx, tu_idx in folds.split(X,y):\n",
        "    hyper_scores = [] # store scores for each hyperparameter (number of neighbors in thiss case)\n",
        "    for hyper in space:\n",
        "        knn = KNeighborsClassifier(n_neighbors=hyper)\n",
        "        knn.fit(X[tr_idx],y[tr_idx]) #fit calssifier on training data\n",
        "        score = knn.score(X[tu_idx], y[tu_idx]) # evaluate score on leave-out data\n",
        "        hyper_scores.append(score)\n",
        "    fold_scores.append(hyper_scores)\n",
        "\n",
        "fig, ax = plt.subplots(1,1,figsize=(10,6))\n",
        "ax.plot(space, np.mean(fold_scores, axis=0), \"-o\") # use the mean of the scores for each hyperparameter\n",
        "ax.set_xlabel(\"Number of neighbors\")\n",
        "ax.set_ylabel(\"Mean Score\")\n",
        "ax.set_title(\"KNN cross-validation\")\n",
        "\n",
        "print(f\"Maximum Accuracy with {space[np.argmax(np.mean(fold_scores, axis=0))]} neighbors\")"
      ]
    },
    {
      "cell_type": "markdown",
      "metadata": {
        "id": "aPUC-3zT4GVM"
      },
      "source": [
        "<div class=\"alert alert-success\">\n",
        "\n",
        "<b>EXERCISE 3.2</b>: **Copy your code from the previous exercise below. Replace the plot function with the _ax.errorbar()_ function and add the variances of the scores displayed as vertical bars. In what range do they lie?**\n",
        "</div>  "
      ]
    },
    {
      "cell_type": "code",
      "execution_count": 9,
      "metadata": {
        "colab": {
          "base_uri": "https://localhost:8080/",
          "height": 388
        },
        "id": "scfFRJ8r4GVM",
        "outputId": "c295eaf0-489a-4d13-ce79-c1d6a11d6087"
      },
      "outputs": [
        {
          "data": {
            "text/plain": [
              "Text(0.5, 1.0, 'KNN cross-validation with error bars')"
            ]
          },
          "execution_count": 9,
          "metadata": {},
          "output_type": "execute_result"
        },
        {
          "data": {
            "image/png": "[encoded data removed]",
            "text/plain": [
              "<Figure size 720x432 with 1 Axes>"
            ]
          },
          "metadata": {
            "needs_background": "light"
          },
          "output_type": "display_data"
        }
      ],
      "source": [
        "fold_scores = []\n",
        "# define space to iterate over\n",
        "space = np.arange(1,20)\n",
        "# define folds\n",
        "folds = StratifiedKFold(n_splits=4, shuffle=True, random_state=42)\n",
        "\n",
        "for tr_idx, tu_idx in folds.split(X,y):\n",
        "    hyper_scores = []\n",
        "    for hyper in space:\n",
        "        knn = KNeighborsClassifier(n_neighbors=hyper)\n",
        "        knn.fit(X[tr_idx],y[tr_idx])\n",
        "        score = knn.score(X[tu_idx], y[tu_idx])\n",
        "        hyper_scores.append(score)\n",
        "    fold_scores.append(hyper_scores)\n",
        "fig, ax = plt.subplots(1,1,figsize=(10,6))\n",
        "\n",
        "# ax.plot(space, np.mean(fold_scores, axis=0))\n",
        "ax.errorbar(space,np.mean(fold_scores,axis=0),np.var(fold_scores,axis=0),fmt='-o')\n",
        "ax.set_xlabel(\"Number of neighbors\")\n",
        "ax.set_ylabel(\"Mean Score\")\n",
        "plt.title(\"KNN cross-validation with error bars\")"
      ]
    },
    {
      "cell_type": "code",
      "execution_count": 10,
      "metadata": {},
      "outputs": [
        {
          "data": {
            "text/plain": [
              "array([9.56972752e-03, 3.84914692e-04, 2.17936543e-03, 5.70142998e-03,\n",
              "       4.32968787e-03, 5.24447854e-03, 3.02503632e-03, 1.82628388e-03,\n",
              "       3.93031509e-04, 9.60194114e-04, 3.93031509e-04, 2.27511851e-03,\n",
              "       4.17001485e-04, 1.75665680e-03, 7.18338325e-04, 3.61134954e-03,\n",
              "       3.24672689e-05, 2.66383796e-03, 4.64522914e-03])"
            ]
          },
          "execution_count": 10,
          "metadata": {},
          "output_type": "execute_result"
        }
      ],
      "source": [
        "np.var(fold_scores, axis=0)"
      ]
    },
    {
      "cell_type": "markdown",
      "metadata": {
        "id": "lcVwxGxV4GVN"
      },
      "source": [
        "<div class=\"alert alert-success\">\n",
        "\n",
        "<b>EXERCISE 3.3</b>: **Evaluate the variance of the performance measure for an increasing amount of folds. Use as many folds as possible. Applying cross-validation with n-1 folds is also known as leave-one-out cross-validation (LOOCV). Note that using the _StratifiedKFold()_ function does not allow you to perform LOOCV, since it restricts the user to $n/2$ folds, in order to preserve the percentage of sample per class. Use the [_LeaveOneOut_](https://scikit-learn.org/stable/modules/generated/sklearn.model_selection.LeaveOneOut.html) class in Scikit-learn instead. Think about the (dis)advantages of using few or many folds.**\n",
        "</div> "
      ]
    },
    {
      "cell_type": "code",
      "execution_count": 11,
      "metadata": {},
      "outputs": [
        {
          "ename": "NameError",
          "evalue": "name 'n_splits' is not defined",
          "output_type": "error",
          "traceback": [
            "\u001b[0;31m---------------------------------------------------------------------------\u001b[0m",
            "\u001b[0;31mNameError\u001b[0m                                 Traceback (most recent call last)",
            "\u001b[0;32m<ipython-input-11-f439f516e360>\u001b[0m in \u001b[0;36m<module>\u001b[0;34m\u001b[0m\n\u001b[1;32m     19\u001b[0m \u001b[0max\u001b[0m\u001b[0;34m.\u001b[0m\u001b[0mset_xlabel\u001b[0m\u001b[0;34m(\u001b[0m\u001b[0;34m\"Number of neighbors\"\u001b[0m\u001b[0;34m)\u001b[0m\u001b[0;34m\u001b[0m\u001b[0;34m\u001b[0m\u001b[0m\n\u001b[1;32m     20\u001b[0m \u001b[0max\u001b[0m\u001b[0;34m.\u001b[0m\u001b[0mset_ylabel\u001b[0m\u001b[0;34m(\u001b[0m\u001b[0;34m\"Mean Score\"\u001b[0m\u001b[0;34m)\u001b[0m\u001b[0;34m\u001b[0m\u001b[0;34m\u001b[0m\u001b[0m\n\u001b[0;32m---> 21\u001b[0;31m \u001b[0mplt\u001b[0m\u001b[0;34m.\u001b[0m\u001b[0mtitle\u001b[0m\u001b[0;34m(\u001b[0m\u001b[0;34mf\"KNN cross-validation for {n_splits} splits with error bars\"\u001b[0m\u001b[0;34m)\u001b[0m\u001b[0;34m\u001b[0m\u001b[0;34m\u001b[0m\u001b[0m\n\u001b[0m\u001b[1;32m     22\u001b[0m \u001b[0;34m\u001b[0m\u001b[0m\n\u001b[1;32m     23\u001b[0m \u001b[0mprint\u001b[0m\u001b[0;34m(\u001b[0m\u001b[0;34mf\"Optimal number of neighbors: {space[np.argmax(np.mean(fold_scores, axis=0))]}\"\u001b[0m\u001b[0;34m)\u001b[0m\u001b[0;34m\u001b[0m\u001b[0;34m\u001b[0m\u001b[0m\n",
            "\u001b[0;31mNameError\u001b[0m: name 'n_splits' is not defined"
          ]
        },
        {
          "data": {
            "image/png": "[encoded data removed]",
            "text/plain": [
              "<Figure size 720x432 with 1 Axes>"
            ]
          },
          "metadata": {
            "needs_background": "light"
          },
          "output_type": "display_data"
        }
      ],
      "source": [
        "fold_scores = []\n",
        "# define space to iterate over\n",
        "space = np.arange(1,20)\n",
        "# define folds\n",
        "folds = LeaveOneOut()\n",
        "\n",
        "for tr_idx, tu_idx in folds.split(X,y):\n",
        "    hyper_scores = []\n",
        "    for hyper in space:\n",
        "        knn = KNeighborsClassifier(n_neighbors=hyper)\n",
        "        knn.fit(X[tr_idx],y[tr_idx])\n",
        "        score = knn.score(X[tu_idx], y[tu_idx])\n",
        "        hyper_scores.append(score)\n",
        "    fold_scores.append(hyper_scores)\n",
        "fig, ax = plt.subplots(1,1,figsize=(10,6))\n",
        "\n",
        "# ax.plot(space, np.mean(fold_scores, axis=0))\n",
        "plt.errorbar(space,np.mean(fold_scores,axis=0),np.var(fold_scores,axis=0), fmt='-o')\n",
        "ax.set_xlabel(\"Number of neighbors\")\n",
        "ax.set_ylabel(\"Mean Score\")\n",
        "plt.title(f\"KNN cross-validation for {n_splits} splits with error bars\")\n",
        "\n",
        "print(f\"Optimal number of neighbors: {space[np.argmax(np.mean(fold_scores, axis=0))]}\")"
      ]
    }
  ],
  "metadata": {
    "colab": {
      "provenance": []
    },
    "kernelspec": {
      "display_name": "Python 3",
      "language": "python",
      "name": "python3"
    },
    "language_info": {
      "codemirror_mode": {
        "name": "ipython",
        "version": 3
      },
      "file_extension": ".py",
      "mimetype": "text/x-python",
      "name": "python",
      "nbconvert_exporter": "python",
      "pygments_lexer": "ipython3",
      "version": "3.9.1"
    },
    "varInspector": {
      "cols": {
        "lenName": 16,
        "lenType": 16,
        "lenVar": 40
      },
      "kernels_config": {
        "python": {
          "delete_cmd_postfix": "",
          "delete_cmd_prefix": "del ",
          "library": "var_list.py",
          "varRefreshCmd": "print(var_dic_list())"
        },
        "r": {
          "delete_cmd_postfix": ") ",
          "delete_cmd_prefix": "rm(",
          "library": "var_list.r",
          "varRefreshCmd": "cat(var_dic_list()) "
        }
      },
      "oldHeight": 786,
      "position": {
        "height": "40px",
        "left": "1419.27px",
        "right": "20px",
        "top": "165.95px",
        "width": "482px"
      },
      "types_to_exclude": [
        "module",
        "function",
        "builtin_function_or_method",
        "instance",
        "_Feature"
      ],
      "varInspector_section_display": "none",
      "window_display": true
    }
  },
  "nbformat": 4,
  "nbformat_minor": 0
}
