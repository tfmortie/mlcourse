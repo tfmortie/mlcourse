{
  "cells": [
    {
      "cell_type": "markdown",
      "metadata": {
        "id": "ABlwrC_kLIQ4"
      },
      "source": [
        "# PC Lab 6: Regularization Methods \n",
        "---"
      ]
    },
    {
      "cell_type": "markdown",
      "metadata": {
        "id": "FzcAUTkjLIQ8"
      },
      "source": [
        "We have already seen linear regression to tackle regression problems. With linear regression, we model a continous outcome as a linear function of the features:\n",
        "\n",
        "$$\\hat{y} = w_{0}x_{0} + w_{1}x_{1} + ... + w_{p}x_{p} = \\sum\\limits_{i=0}^{p}w_{i}x_{i}.$$"
      ]
    },
    {
      "cell_type": "markdown",
      "metadata": {
        "id": "VILsg6OzLIQ8"
      },
      "source": [
        "This works well when there are a lot of training observations and when the number of features (the dimensionality of the problem) is not too large. However, there are a couple of situations where ordinary linear regression might give problems:\n",
        "\n",
        "* When the number of features $p$ becomes large with respect to the number of observations $n$, the variance of the model weights estimated by linear regression increases, which might result in poor predictive performance. Futhermore, there is no longer an analytical solution provided by least squares when $p > n$.\n",
        "* It is possible that there are a lot of uninteresting or redundant features. If we want a sparse and interpretable model, we might want to do feature selection to reduce $p$."
      ]
    },
    {
      "cell_type": "markdown",
      "metadata": {
        "id": "DgU_js4CLIQ9"
      },
      "source": [
        "In this lab, we will cover two solutions to the problems above: subset selection and regularization methods."
      ]
    },
    {
      "cell_type": "markdown",
      "metadata": {
        "id": "DEs6-CXrLIQ9"
      },
      "source": [
        "## 1. Subset selection methods"
      ]
    },
    {
      "cell_type": "markdown",
      "metadata": {
        "id": "P4avo9AlLIQ9"
      },
      "source": [
        "In subset selection, we only use a subset of the features that are available. The goal is to come up with a model that is sparse and that generalizes better to unseen data. There are two main strategies for subset selection: in *best subset selection*, we fit all the $p \\choose k$ models for each $k = 1, 2, ..., p$ and retain the best model for each $k$. Finally, we select the model that performs best on some measure that controls for overfitting:"
      ]
    },
    {
      "cell_type": "markdown",
      "metadata": {
        "id": "HCx3ivoILIQ-"
      },
      "source": [
        "![bestsubset](https://raw.githubusercontent.com/gdewael/teaching/main/predmod/lab6/img/best_subset.png)"
      ]
    },
    {
      "cell_type": "markdown",
      "metadata": {
        "id": "hBggETczLIQ-"
      },
      "source": [
        "This becomes quickly unfeasible for large values of $p$. Therefore, an alternative approach is to perform *stepwise selection*, which explores a much smaller set of feature combinations. Stepwise selection can be performed either backward or forward. "
      ]
    },
    {
      "cell_type": "markdown",
      "metadata": {
        "id": "fa3ICfyaLIQ_"
      },
      "source": [
        "![forward](https://raw.githubusercontent.com/gdewael/teaching/main/predmod/lab6/img/forward.png)"
      ]
    },
    {
      "cell_type": "markdown",
      "metadata": {
        "id": "9uzlS8AzLIRA"
      },
      "source": [
        "Finally, it is important to account for the fact that the MSE (or, equivalently, the RSS) will always go down on the training data as we add more and more features. To select the best model out of several candidates, it is important to have an estimate of the test error of each model. This can be done indirectly by using a metric that penalizes for model complexity such as the AIC or the adjusted $R^2$. Another option is to use cross-validation to get an estimate of the test error."
      ]
    },
    {
      "cell_type": "markdown",
      "metadata": {
        "id": "zRaaPO67LIRA"
      },
      "source": [
        "**Let's apply subset selection on two datasets.** The first dataset contains features of mixtures used to produce concrete. The goal is to predict the compressive strength of the concrete."
      ]
    },
    {
      "cell_type": "code",
      "execution_count": 1,
      "metadata": {
        "colab": {
          "base_uri": "https://localhost:8080/"
        },
        "id": "p8M0mBWULIRB",
        "outputId": "d635dc64-ea0f-4a69-eb7d-c4136a64c704"
      },
      "outputs": [
        {
          "name": "stdout",
          "output_type": "stream",
          "text": [
            "--2024-01-26 15:40:36--  https://raw.githubusercontent.com/BioML-UGent/MLLS/main/06_regularization/concreteComprStrength.txt\n",
            "Resolving raw.githubusercontent.com (raw.githubusercontent.com)... 185.199.108.133, 185.199.109.133, 185.199.110.133, ...\n",
            "Connecting to raw.githubusercontent.com (raw.githubusercontent.com)|185.199.108.133|:443... connected.\n",
            "HTTP request sent, awaiting response... 200 OK\n",
            "Length: 58994 (58K) [text/plain]\n",
            "Saving to: ‘concreteComprStrength.txt.1’\n",
            "\n",
            "concreteComprStreng 100%[===================>]  57,61K  --.-KB/s    in 0,01s   \n",
            "\n",
            "2024-01-26 15:40:37 (3,93 MB/s) - ‘concreteComprStrength.txt.1’ saved [58994/58994]\n",
            "\n",
            "--2024-01-26 15:40:37--  https://raw.githubusercontent.com/BioML-UGent/MLLS/main/06_regularization/fc_data_new.csv\n",
            "Resolving raw.githubusercontent.com (raw.githubusercontent.com)... 185.199.108.133, 185.199.109.133, 185.199.110.133, ...\n",
            "Connecting to raw.githubusercontent.com (raw.githubusercontent.com)|185.199.108.133|:443... connected.\n",
            "HTTP request sent, awaiting response... "
          ]
        },
        {
          "name": "stdout",
          "output_type": "stream",
          "text": [
            "200 OK\n",
            "Length: 414077 (404K) [text/plain]\n",
            "Saving to: ‘fc_data_new.csv.1’\n",
            "\n",
            "fc_data_new.csv.1   100%[===================>] 404,37K  --.-KB/s    in 0,08s   \n",
            "\n",
            "2024-01-26 15:40:37 (4,71 MB/s) - ‘fc_data_new.csv.1’ saved [414077/414077]\n",
            "\n",
            "--2024-01-26 15:40:37--  https://raw.githubusercontent.com/BioML-UGent/MLLS/main/06_regularization/communities.csv\n",
            "Resolving raw.githubusercontent.com (raw.githubusercontent.com)... 185.199.108.133, 185.199.109.133, 185.199.110.133, ...\n",
            "Connecting to raw.githubusercontent.com (raw.githubusercontent.com)|185.199.108.133|:443... connected.\n",
            "HTTP request sent, awaiting response... 200 OK\n",
            "Length: 1091499 (1,0M) [text/plain]\n",
            "Saving to: ‘communities.csv.1’\n",
            "\n",
            "communities.csv.1   100%[===================>]   1,04M  6,81MB/s    in 0,2s    \n",
            "\n",
            "2024-01-26 15:40:38 (6,81 MB/s) - ‘communities.csv.1’ saved [1091499/1091499]\n",
            "\n"
          ]
        }
      ],
      "source": [
        "!wget https://raw.githubusercontent.com/BioML-UGent/MLLS/main/06_regularization/concreteComprStrength.txt\n",
        "!wget https://raw.githubusercontent.com/BioML-UGent/MLLS/main/06_regularization/fc_data_new.csv\n",
        "!wget https://raw.githubusercontent.com/BioML-UGent/MLLS/main/06_regularization/communities.csv"
      ]
    },
    {
      "cell_type": "code",
      "execution_count": 2,
      "metadata": {
        "colab": {
          "base_uri": "https://localhost:8080/",
          "height": 223
        },
        "id": "WGLu9dO9LIRD",
        "outputId": "69ca3348-90e7-4a4b-afed-329370ded5ff"
      },
      "outputs": [
        {
          "name": "stdout",
          "output_type": "stream",
          "text": [
            "(1030, 9)\n"
          ]
        },
        {
          "data": {
            "text/html": [
              "<div>\n",
              "<style scoped>\n",
              "    .dataframe tbody tr th:only-of-type {\n",
              "        vertical-align: middle;\n",
              "    }\n",
              "\n",
              "    .dataframe tbody tr th {\n",
              "        vertical-align: top;\n",
              "    }\n",
              "\n",
              "    .dataframe thead th {\n",
              "        text-align: right;\n",
              "    }\n",
              "</style>\n",
              "<table border=\"1\" class=\"dataframe\">\n",
              "  <thead>\n",
              "    <tr style=\"text-align: right;\">\n",
              "      <th></th>\n",
              "      <th>cement</th>\n",
              "      <th>blastFurnaceSlag</th>\n",
              "      <th>flyAsh</th>\n",
              "      <th>water</th>\n",
              "      <th>superelastizer</th>\n",
              "      <th>coarseAggregate</th>\n",
              "      <th>fineAggregate</th>\n",
              "      <th>age</th>\n",
              "      <th>compressiveStrength</th>\n",
              "    </tr>\n",
              "  </thead>\n",
              "  <tbody>\n",
              "    <tr>\n",
              "      <th>0</th>\n",
              "      <td>540.0</td>\n",
              "      <td>0.0</td>\n",
              "      <td>0.0</td>\n",
              "      <td>162.0</td>\n",
              "      <td>2.5</td>\n",
              "      <td>1040.0</td>\n",
              "      <td>676.0</td>\n",
              "      <td>28</td>\n",
              "      <td>79.99</td>\n",
              "    </tr>\n",
              "    <tr>\n",
              "      <th>1</th>\n",
              "      <td>540.0</td>\n",
              "      <td>0.0</td>\n",
              "      <td>0.0</td>\n",
              "      <td>162.0</td>\n",
              "      <td>2.5</td>\n",
              "      <td>1055.0</td>\n",
              "      <td>676.0</td>\n",
              "      <td>28</td>\n",
              "      <td>61.89</td>\n",
              "    </tr>\n",
              "    <tr>\n",
              "      <th>2</th>\n",
              "      <td>332.5</td>\n",
              "      <td>142.5</td>\n",
              "      <td>0.0</td>\n",
              "      <td>228.0</td>\n",
              "      <td>0.0</td>\n",
              "      <td>932.0</td>\n",
              "      <td>594.0</td>\n",
              "      <td>270</td>\n",
              "      <td>40.27</td>\n",
              "    </tr>\n",
              "    <tr>\n",
              "      <th>3</th>\n",
              "      <td>332.5</td>\n",
              "      <td>142.5</td>\n",
              "      <td>0.0</td>\n",
              "      <td>228.0</td>\n",
              "      <td>0.0</td>\n",
              "      <td>932.0</td>\n",
              "      <td>594.0</td>\n",
              "      <td>365</td>\n",
              "      <td>41.05</td>\n",
              "    </tr>\n",
              "    <tr>\n",
              "      <th>4</th>\n",
              "      <td>198.6</td>\n",
              "      <td>132.4</td>\n",
              "      <td>0.0</td>\n",
              "      <td>192.0</td>\n",
              "      <td>0.0</td>\n",
              "      <td>978.4</td>\n",
              "      <td>825.5</td>\n",
              "      <td>360</td>\n",
              "      <td>44.30</td>\n",
              "    </tr>\n",
              "  </tbody>\n",
              "</table>\n",
              "</div>"
            ],
            "text/plain": [
              "   cement  blastFurnaceSlag  flyAsh  water  superelastizer  coarseAggregate  \\\n",
              "0   540.0               0.0     0.0  162.0             2.5           1040.0   \n",
              "1   540.0               0.0     0.0  162.0             2.5           1055.0   \n",
              "2   332.5             142.5     0.0  228.0             0.0            932.0   \n",
              "3   332.5             142.5     0.0  228.0             0.0            932.0   \n",
              "4   198.6             132.4     0.0  192.0             0.0            978.4   \n",
              "\n",
              "   fineAggregate  age  compressiveStrength  \n",
              "0          676.0   28                79.99  \n",
              "1          676.0   28                61.89  \n",
              "2          594.0  270                40.27  \n",
              "3          594.0  365                41.05  \n",
              "4          825.5  360                44.30  "
            ]
          },
          "execution_count": 2,
          "metadata": {},
          "output_type": "execute_result"
        }
      ],
      "source": [
        "# Read in the data\n",
        "import pandas as pd\n",
        "\n",
        "concretedata = pd.read_table('concreteComprStrength.txt', delim_whitespace=True, header=0, index_col=None)\n",
        "# Extract features and label for later usage\n",
        "X = concretedata.drop(['compressiveStrength'], axis=1)\n",
        "y = concretedata['compressiveStrength']\n",
        "\n",
        "print(concretedata.shape)\n",
        "concretedata.head()"
      ]
    },
    {
      "cell_type": "markdown",
      "metadata": {
        "id": "W4cyQf-tLIRE"
      },
      "source": [
        "Let's build up an intuition for the code we need for doing best subset selection with linear regression. We will implement Algorithm 6.1 as shown above. First we split the data and look at how we can generate all possible combinations of features:"
      ]
    },
    {
      "cell_type": "code",
      "execution_count": 3,
      "metadata": {
        "colab": {
          "base_uri": "https://localhost:8080/"
        },
        "id": "BZlavX1vLIRE",
        "outputId": "63322fdf-89b0-4c42-a547-3f0b7ebf6993"
      },
      "outputs": [
        {
          "name": "stdout",
          "output_type": "stream",
          "text": [
            "('ft.1',)\n",
            "('ft.2',)\n",
            "('ft.3',)\n",
            "('ft.1', 'ft.2')\n",
            "('ft.1', 'ft.3')\n",
            "('ft.2', 'ft.3')\n",
            "('ft.1', 'ft.2', 'ft.3')\n"
          ]
        }
      ],
      "source": [
        "from itertools import chain, combinations\n",
        "\n",
        "list_of_features = [\"ft.1\", \"ft.2\", \"ft.3\"]\n",
        "for subset in chain.from_iterable(combinations(list_of_features, r) for r in range(1, len(list_of_features)+1)):\n",
        "    print(subset)"
      ]
    },
    {
      "cell_type": "markdown",
      "metadata": {
        "id": "nQLSr9ZVLIRE"
      },
      "source": [
        "Now we can use this code to iterate not through `list_of_features` but through the possible features. For every subset we fit a model and keep it in a dictionary that records the score for that specific subset of features:"
      ]
    },
    {
      "cell_type": "code",
      "execution_count": 4,
      "metadata": {
        "id": "Old31MXbLIRE"
      },
      "outputs": [],
      "source": [
        "from sklearn.linear_model import LinearRegression\n",
        "from itertools import chain, combinations\n",
        "\n",
        "list_of_features = X.columns\n",
        "scoring_dict = {}\n",
        "\n",
        "for subset in chain.from_iterable(combinations(list_of_features, r) for r in range(1, len(list_of_features)+1)):\n",
        "    X_subset = X[list(subset)]\n",
        "    model = LinearRegression()\n",
        "    model.fit(X_subset, y)\n",
        "    scoring_dict[subset] = model.score(X_subset, y)"
      ]
    },
    {
      "cell_type": "markdown",
      "metadata": {
        "id": "Bxk47x5JLIRF"
      },
      "source": [
        "Taking five random samples from this dict to get an idea what's in it:"
      ]
    },
    {
      "cell_type": "code",
      "execution_count": 5,
      "metadata": {
        "colab": {
          "base_uri": "https://localhost:8080/"
        },
        "id": "whmfX8OYLIRF",
        "outputId": "7e03e175-5b6f-4234-afe0-ae3ddc60895d"
      },
      "outputs": [
        {
          "data": {
            "text/plain": [
              "[(('cement', 'flyAsh', 'water', 'age'), 0.4534792511384278),\n",
              " (('blastFurnaceSlag', 'flyAsh', 'fineAggregate', 'age'), 0.13653353119094291),\n",
              " (('cement', 'blastFurnaceSlag', 'superelastizer', 'coarseAggregate'),\n",
              "  0.42230807078022026),\n",
              " (('coarseAggregate', 'age'), 0.13503492787367477),\n",
              " (('flyAsh',), 0.011184102321051714)]"
            ]
          },
          "execution_count": 5,
          "metadata": {},
          "output_type": "execute_result"
        }
      ],
      "source": [
        "import random\n",
        "random.sample(list(scoring_dict.items()), 5)"
      ]
    },
    {
      "cell_type": "markdown",
      "metadata": {
        "id": "Ji_nYmK7LIRF"
      },
      "source": [
        "Getting the best model:"
      ]
    },
    {
      "cell_type": "code",
      "execution_count": 6,
      "metadata": {
        "colab": {
          "base_uri": "https://localhost:8080/"
        },
        "id": "eD67LHKeLIRF",
        "outputId": "12eeab34-076d-4eb5-ccf2-42f4d3179510"
      },
      "outputs": [
        {
          "data": {
            "text/plain": [
              "(('cement',\n",
              "  'blastFurnaceSlag',\n",
              "  'flyAsh',\n",
              "  'water',\n",
              "  'superelastizer',\n",
              "  'coarseAggregate',\n",
              "  'fineAggregate',\n",
              "  'age'),\n",
              " 0.6155198704142721)"
            ]
          },
          "execution_count": 6,
          "metadata": {},
          "output_type": "execute_result"
        }
      ],
      "source": [
        "max(scoring_dict, key=scoring_dict.get), scoring_dict[max(scoring_dict, key=scoring_dict.get)]"
      ]
    },
    {
      "cell_type": "markdown",
      "metadata": {
        "id": "sKq9Ub_4LIRF"
      },
      "source": [
        "We see that the best model (R² score-wise) is the one where all features are present. However, this is estimated on training data, so it might very well be that this result is due to overfitting. To do this in a better way, we will use cross-validation, as seen in the previous practical. The following code block expands upon the previous code block with these things in mind: **This code may take a little while to run.**"
      ]
    },
    {
      "cell_type": "code",
      "execution_count": 7,
      "metadata": {
        "id": "Ik_QsCIlLIRG"
      },
      "outputs": [],
      "source": [
        "from sklearn.model_selection import KFold, cross_validate\n",
        "import numpy as np\n",
        "\n",
        "\n",
        "list_of_features = X.columns\n",
        "scoring_dict = {}\n",
        "\n",
        "#NEW:\n",
        "# Define splitter object outside loop to ensure same splits over loop\n",
        "splitter = KFold(n_splits=5, shuffle=True, random_state=None)\n",
        "####\n",
        "\n",
        "for subset in chain.from_iterable(combinations(list_of_features, r) for r in range(1, len(list_of_features)+1)):\n",
        "    X_subset = X[list(subset)]\n",
        "    model = LinearRegression()\n",
        "\n",
        "    # NEW: instead of simply fitting the model on all train data,\n",
        "    # now we use cross validation to fit and evaluate model\n",
        "    # cross_validate() returns a dict with key 'test_score' containing\n",
        "    # a list of  CV performances of every split\n",
        "    scores = cross_validate(model, X_subset.values, y.values, cv=splitter)\n",
        "    scoring_dict[subset] = np.mean(scores['test_score'])"
      ]
    },
    {
      "cell_type": "markdown",
      "metadata": {
        "id": "3KJESXBgLIRG"
      },
      "source": [
        "Let's visualize how the test performance changes in function of how many features we had in the model:"
      ]
    },
    {
      "cell_type": "code",
      "execution_count": 8,
      "metadata": {
        "colab": {
          "base_uri": "https://localhost:8080/",
          "height": 296
        },
        "id": "Z7T3DkctLIRG",
        "outputId": "5f56d52f-8c22-46f7-8984-0a36c664405a"
      },
      "outputs": [
        {
          "name": "stdout",
          "output_type": "stream",
          "text": [
            "Best feature combination: ('cement', 'blastFurnaceSlag', 'flyAsh', 'water', 'coarseAggregate', 'age')\n"
          ]
        },
        {
          "data": {
            "image/png": "[encoded data removed]",
            "text/plain": [
              "<Figure size 432x288 with 1 Axes>"
            ]
          },
          "metadata": {
            "needs_background": "light"
          },
          "output_type": "display_data"
        }
      ],
      "source": [
        "import matplotlib.pyplot as plt\n",
        "\n",
        "plt.scatter([len(k) for k in scoring_dict.keys()], list(scoring_dict.values()), alpha = 0.25)\n",
        "plt.xlabel('number of features')\n",
        "plt.ylabel('R² score')\n",
        "# taking the best model for every 'n' number of features and plotting them separately:\n",
        "best_score_n = [\n",
        "    max([v for k, v in scoring_dict.items() if len(k) == i])\n",
        "    for i in range(1, X.shape[1]+1)\n",
        "]\n",
        "plt.scatter(range(1, X.shape[1]+1), best_score_n)\n",
        "print('Best feature combination:', max(scoring_dict, key=scoring_dict.get))"
      ]
    },
    {
      "cell_type": "markdown",
      "metadata": {
        "id": "JhrDMQMALIRH"
      },
      "source": [
        "We see that one certain combination of 5 features already results in a performance on +- the same level as the one with all features. This finding begs the question: could we have found this combination more efficiently, without testing out all possible feature combinations?"
      ]
    },
    {
      "cell_type": "markdown",
      "metadata": {
        "id": "FTfqHQuMLIRH"
      },
      "source": [
        "Now, we will introduce a second dataset. This time, the features are measurements from a flow cytometry experiment. The 'SC' features measure scatter, and say something about the morphologhy of the cells (FSC: forwad scatter, SSC: sideway scatter). The 'FL' features are fluorescence features from different parts of the spectrum. There are two possible bacterial species present in the dataset. The goal is to classify the correct species based on the measurements from the flow cytometer. Species number one corresponds to *Pseudomonas putida*, while species number 6 is *Brachybacterium faecium*. We will use logistic regression to do the classification.\n",
        "\n",
        "This dataset has 10 features instead of the 8 features encountered in the previous dataset. We could repeat the same *best subset selection* method, but this time we will implement *stepwise forward selection*."
      ]
    },
    {
      "cell_type": "code",
      "execution_count": 9,
      "metadata": {
        "id": "iP-gw35fLIRH"
      },
      "outputs": [],
      "source": [
        "# Read in the data\n",
        "bacterialdata = pd.read_csv('fc_data_new.csv', index_col=0)\n",
        "bacterialdata = bacterialdata.drop(['Width', 'Time'], axis=1).reset_index(drop=True)"
      ]
    },
    {
      "cell_type": "code",
      "execution_count": 10,
      "metadata": {
        "colab": {
          "base_uri": "https://localhost:8080/",
          "height": 206
        },
        "id": "D1Dkm2M5LIRH",
        "outputId": "9b7a0e37-7ab7-4eb7-e311-a05b93831893"
      },
      "outputs": [
        {
          "data": {
            "text/html": [
              "<div>\n",
              "<style scoped>\n",
              "    .dataframe tbody tr th:only-of-type {\n",
              "        vertical-align: middle;\n",
              "    }\n",
              "\n",
              "    .dataframe tbody tr th {\n",
              "        vertical-align: top;\n",
              "    }\n",
              "\n",
              "    .dataframe thead th {\n",
              "        text-align: right;\n",
              "    }\n",
              "</style>\n",
              "<table border=\"1\" class=\"dataframe\">\n",
              "  <thead>\n",
              "    <tr style=\"text-align: right;\">\n",
              "      <th></th>\n",
              "      <th>FSC-A</th>\n",
              "      <th>SSC-A</th>\n",
              "      <th>FL1-A</th>\n",
              "      <th>FL2-A</th>\n",
              "      <th>FL3-A</th>\n",
              "      <th>FL4-A</th>\n",
              "      <th>FSC-H</th>\n",
              "      <th>SSC-H</th>\n",
              "      <th>FL1-H</th>\n",
              "      <th>FL2-H</th>\n",
              "      <th>species</th>\n",
              "    </tr>\n",
              "  </thead>\n",
              "  <tbody>\n",
              "    <tr>\n",
              "      <th>0</th>\n",
              "      <td>47325.0</td>\n",
              "      <td>11730.0</td>\n",
              "      <td>311772.0</td>\n",
              "      <td>70873.0</td>\n",
              "      <td>70379.0</td>\n",
              "      <td>0.0</td>\n",
              "      <td>55410.0</td>\n",
              "      <td>13649.0</td>\n",
              "      <td>208324.0</td>\n",
              "      <td>47062.0</td>\n",
              "      <td>6</td>\n",
              "    </tr>\n",
              "    <tr>\n",
              "      <th>1</th>\n",
              "      <td>15766.0</td>\n",
              "      <td>4417.0</td>\n",
              "      <td>285761.0</td>\n",
              "      <td>64624.0</td>\n",
              "      <td>50408.0</td>\n",
              "      <td>0.0</td>\n",
              "      <td>36950.0</td>\n",
              "      <td>8129.0</td>\n",
              "      <td>238931.0</td>\n",
              "      <td>52847.0</td>\n",
              "      <td>6</td>\n",
              "    </tr>\n",
              "    <tr>\n",
              "      <th>2</th>\n",
              "      <td>11206.0</td>\n",
              "      <td>3194.0</td>\n",
              "      <td>403584.0</td>\n",
              "      <td>96978.0</td>\n",
              "      <td>73632.0</td>\n",
              "      <td>18.0</td>\n",
              "      <td>33761.0</td>\n",
              "      <td>4810.0</td>\n",
              "      <td>358999.0</td>\n",
              "      <td>86278.0</td>\n",
              "      <td>6</td>\n",
              "    </tr>\n",
              "    <tr>\n",
              "      <th>3</th>\n",
              "      <td>33577.0</td>\n",
              "      <td>5558.0</td>\n",
              "      <td>258064.0</td>\n",
              "      <td>52010.0</td>\n",
              "      <td>35322.0</td>\n",
              "      <td>0.0</td>\n",
              "      <td>72014.0</td>\n",
              "      <td>10396.0</td>\n",
              "      <td>226185.0</td>\n",
              "      <td>44847.0</td>\n",
              "      <td>1</td>\n",
              "    </tr>\n",
              "    <tr>\n",
              "      <th>4</th>\n",
              "      <td>5525.0</td>\n",
              "      <td>2417.0</td>\n",
              "      <td>348457.0</td>\n",
              "      <td>64062.0</td>\n",
              "      <td>33637.0</td>\n",
              "      <td>1525.0</td>\n",
              "      <td>19074.0</td>\n",
              "      <td>5938.0</td>\n",
              "      <td>304335.0</td>\n",
              "      <td>55864.0</td>\n",
              "      <td>6</td>\n",
              "    </tr>\n",
              "  </tbody>\n",
              "</table>\n",
              "</div>"
            ],
            "text/plain": [
              "     FSC-A    SSC-A     FL1-A    FL2-A    FL3-A   FL4-A    FSC-H    SSC-H  \\\n",
              "0  47325.0  11730.0  311772.0  70873.0  70379.0     0.0  55410.0  13649.0   \n",
              "1  15766.0   4417.0  285761.0  64624.0  50408.0     0.0  36950.0   8129.0   \n",
              "2  11206.0   3194.0  403584.0  96978.0  73632.0    18.0  33761.0   4810.0   \n",
              "3  33577.0   5558.0  258064.0  52010.0  35322.0     0.0  72014.0  10396.0   \n",
              "4   5525.0   2417.0  348457.0  64062.0  33637.0  1525.0  19074.0   5938.0   \n",
              "\n",
              "      FL1-H    FL2-H  species  \n",
              "0  208324.0  47062.0        6  \n",
              "1  238931.0  52847.0        6  \n",
              "2  358999.0  86278.0        6  \n",
              "3  226185.0  44847.0        1  \n",
              "4  304335.0  55864.0        6  "
            ]
          },
          "execution_count": 10,
          "metadata": {},
          "output_type": "execute_result"
        }
      ],
      "source": [
        "bacterialdata.head()"
      ]
    },
    {
      "cell_type": "markdown",
      "metadata": {
        "id": "6AGJSKB0LIRI"
      },
      "source": [
        "<div class=\"alert alert-success\">\n",
        "\n",
        "<b>EXERCISE 1.1</b>: **Complete the code below that implements forward stepwise selection.**\n",
        "</div>  "
      ]
    },
    {
      "cell_type": "code",
      "execution_count": 11,
      "metadata": {
        "colab": {
          "base_uri": "https://localhost:8080/",
          "height": 296
        },
        "id": "e_LQZfNmLIRI",
        "outputId": "bebca7f9-bf8e-4368-d46d-dd403e9b3320"
      },
      "outputs": [
        {
          "data": {
            "text/plain": [
              "Text(0, 0.5, 'accuracy')"
            ]
          },
          "execution_count": 11,
          "metadata": {},
          "output_type": "execute_result"
        },
        {
          "data": {
            "image/png": "[encoded data removed]",
            "text/plain": [
              "<Figure size 432x288 with 1 Axes>"
            ]
          },
          "metadata": {
            "needs_background": "light"
          },
          "output_type": "display_data"
        }
      ],
      "source": [
        "from sklearn.linear_model import LogisticRegression\n",
        "\n",
        "X = bacterialdata.drop(['species'], axis=1)\n",
        "y = bacterialdata['species']\n",
        "scoring_dict = {}\n",
        "splitter = KFold(n_splits=5, shuffle=True, random_state=None)\n",
        "\n",
        "features_already_in_model = set()\n",
        "features_not_in_model = set(X.columns)\n",
        "\n",
        "# iterate through the numbers of features that we can add at every step\n",
        "for k in np.arange(1, X.shape[1] + 1):\n",
        "    # at every step: iterate through the features that we can still add\n",
        "    # keep a separate scoring dictionary for features added at this step:\n",
        "    scoring_dict_k = {}\n",
        "    for feature in features_not_in_model:\n",
        "        # select the previously added features + a feature to (maybe) add\n",
        "        X_subset = X[list(features_already_in_model) + [feature]]\n",
        "        model = LogisticRegression(max_iter = 1000)\n",
        "        scores = cross_validate(model, X_subset.values, y.values, cv=splitter)\n",
        "        scoring_dict_k[feature] = np.mean(scores['test_score'])\n",
        "\n",
        "    feature_to_add = max(scoring_dict_k, key=scoring_dict_k.get)\n",
        "    features_already_in_model.add(feature_to_add)\n",
        "    features_not_in_model.remove(feature_to_add)\n",
        "    scoring_dict[tuple(features_already_in_model)] = max(scoring_dict_k.values())\n",
        "\n",
        "import matplotlib.pyplot as plt\n",
        "\n",
        "plt.scatter([len(k) for k in scoring_dict.keys()], list(scoring_dict.values()))\n",
        "plt.xlabel('number of features')\n",
        "plt.ylabel('accuracy')"
      ]
    },
    {
      "cell_type": "code",
      "execution_count": 12,
      "metadata": {
        "colab": {
          "base_uri": "https://localhost:8080/"
        },
        "id": "zQ7Eme-ALIRI",
        "outputId": "14c5d88f-352c-472b-8598-aa045d654227"
      },
      "outputs": [
        {
          "name": "stdout",
          "output_type": "stream",
          "text": [
            "('FL2-H',) 0.60175\n",
            "('FL1-H', 'FL2-H') 0.7935\n",
            "('FL1-H', 'FL3-A', 'FL2-H') 0.7925\n",
            "('FL1-H', 'FL2-A', 'FL3-A', 'FL2-H') 0.792\n",
            "('FL2-A', 'FL2-H', 'FSC-A', 'FL3-A', 'FL1-H') 0.7905\n",
            "('FL2-A', 'FL2-H', 'SSC-A', 'FSC-A', 'FL3-A', 'FL1-H') 0.7885000000000001\n",
            "('FL2-A', 'FL2-H', 'SSC-A', 'FSC-A', 'FL3-A', 'FL1-H', 'SSC-H') 0.7887500000000001\n",
            "('FL1-A', 'FL2-A', 'FL2-H', 'SSC-A', 'FSC-A', 'FL3-A', 'FL1-H', 'SSC-H') 0.784\n",
            "('FL1-A', 'FL2-A', 'FL2-H', 'SSC-A', 'FL4-A', 'FSC-A', 'FL3-A', 'FL1-H', 'SSC-H') 0.7809999999999999\n",
            "('FL1-A', 'FL2-A', 'FL2-H', 'SSC-A', 'FL4-A', 'FSC-A', 'FL3-A', 'FSC-H', 'FL1-H', 'SSC-H') 0.7769999999999999\n"
          ]
        }
      ],
      "source": [
        "for k, v in scoring_dict.items():\n",
        "    print(k, v)"
      ]
    },
    {
      "cell_type": "markdown",
      "metadata": {
        "id": "H5l9k-yrLIRI"
      },
      "source": [
        "## 2. Regularization methods: ridge and lasso regression\n"
      ]
    },
    {
      "cell_type": "markdown",
      "metadata": {
        "id": "I9N3J9jmLIRJ"
      },
      "source": [
        "Ridge and lasso regression are regularization techniques commonly employed in regression analysis to address the issue of overfitting. Overfitting occurs when a model learns the training data too well, capturing noise and leading to poor generalization on unseen data. Ridge regression adds a regularization term to the cost function (i.e. MSE), which penalizes large coefficients, encouraging the model to prioritize a simpler, smoother solution:\n",
        "\n",
        "$$\\sum_{i=1}^{n}\\Big(y_{i}-\\sum_{j=0}^{p}w_{j}x_{ij}\\Big)^{2}\\quad\\text{subject to}\\quad\\sum_{j=1}^{p}w_{j}^{2}=s.$$\n",
        "\n",
        "Lasso regression, on the other hand, uses a similar regularization approach but penalizes the absolute values of the coefficients: \n",
        "\n",
        "$$\\sum_{i=1}^{n}\\Big(y_{i}-\\sum_{j=0}^{p}w_{j}x_{ij}\\Big)^{2}\\quad\\text{subject to}\\quad\\sum_{j=1}^{p}|w_{j}|=s.$$\n",
        "\n",
        "The key distinction is that lasso regression can also induce sparsity, effectively setting some coefficients to zero, leading to feature selection. By adding these regularization terms, ridge and lasso regression help prevent overfitting by constraining the model's complexity, making it more robust and improving its performance on new, unseen data."
      ]
    },
    {
      "cell_type": "markdown",
      "metadata": {
        "id": "nNcam6ioLIRJ"
      },
      "source": [
        "### Linear models for high dimensional data"
      ]
    },
    {
      "cell_type": "markdown",
      "metadata": {
        "id": "OxLnFIeSLIRJ"
      },
      "source": [
        "We will apply ridge regression on the Communities and Crime Data Set. The dataset contains 123 population statistics on 1994 communities. We would like to predict the number of violent crimes per 100000 inhabitants. This is the final column of the dataframe. Of the 123 features, a lot contain missing values, so we will drop these columns and use only 99 features:"
      ]
    },
    {
      "cell_type": "code",
      "execution_count": 13,
      "metadata": {
        "colab": {
          "base_uri": "https://localhost:8080/",
          "height": 317
        },
        "id": "92a5DZPtLIRJ",
        "outputId": "25b1ef32-5d9f-4500-e0eb-a9ff3b60c384"
      },
      "outputs": [
        {
          "name": "stdout",
          "output_type": "stream",
          "text": [
            "(1994, 100)\n"
          ]
        },
        {
          "data": {
            "text/html": [
              "<div>\n",
              "<style scoped>\n",
              "    .dataframe tbody tr th:only-of-type {\n",
              "        vertical-align: middle;\n",
              "    }\n",
              "\n",
              "    .dataframe tbody tr th {\n",
              "        vertical-align: top;\n",
              "    }\n",
              "\n",
              "    .dataframe thead th {\n",
              "        text-align: right;\n",
              "    }\n",
              "</style>\n",
              "<table border=\"1\" class=\"dataframe\">\n",
              "  <thead>\n",
              "    <tr style=\"text-align: right;\">\n",
              "      <th></th>\n",
              "      <th>population</th>\n",
              "      <th>householdsize</th>\n",
              "      <th>racepctblack</th>\n",
              "      <th>racePctWhite</th>\n",
              "      <th>racePctAsian</th>\n",
              "      <th>racePctHisp</th>\n",
              "      <th>agePct12t21</th>\n",
              "      <th>agePct12t29</th>\n",
              "      <th>agePct16t24</th>\n",
              "      <th>agePct65up</th>\n",
              "      <th>...</th>\n",
              "      <th>PctForeignBorn</th>\n",
              "      <th>PctBornSameState</th>\n",
              "      <th>PctSameHouse85</th>\n",
              "      <th>PctSameCity85</th>\n",
              "      <th>PctSameState85</th>\n",
              "      <th>LandArea</th>\n",
              "      <th>PopDens</th>\n",
              "      <th>PctUsePubTrans</th>\n",
              "      <th>LemasPctOfficDrugUn</th>\n",
              "      <th>ViolentCrimesPerPop</th>\n",
              "    </tr>\n",
              "  </thead>\n",
              "  <tbody>\n",
              "    <tr>\n",
              "      <th>0</th>\n",
              "      <td>0.19</td>\n",
              "      <td>0.33</td>\n",
              "      <td>0.02</td>\n",
              "      <td>0.90</td>\n",
              "      <td>0.12</td>\n",
              "      <td>0.17</td>\n",
              "      <td>0.34</td>\n",
              "      <td>0.47</td>\n",
              "      <td>0.29</td>\n",
              "      <td>0.32</td>\n",
              "      <td>...</td>\n",
              "      <td>0.12</td>\n",
              "      <td>0.42</td>\n",
              "      <td>0.50</td>\n",
              "      <td>0.51</td>\n",
              "      <td>0.64</td>\n",
              "      <td>0.12</td>\n",
              "      <td>0.26</td>\n",
              "      <td>0.20</td>\n",
              "      <td>0.32</td>\n",
              "      <td>0.20</td>\n",
              "    </tr>\n",
              "    <tr>\n",
              "      <th>1</th>\n",
              "      <td>0.00</td>\n",
              "      <td>0.16</td>\n",
              "      <td>0.12</td>\n",
              "      <td>0.74</td>\n",
              "      <td>0.45</td>\n",
              "      <td>0.07</td>\n",
              "      <td>0.26</td>\n",
              "      <td>0.59</td>\n",
              "      <td>0.35</td>\n",
              "      <td>0.27</td>\n",
              "      <td>...</td>\n",
              "      <td>0.21</td>\n",
              "      <td>0.50</td>\n",
              "      <td>0.34</td>\n",
              "      <td>0.60</td>\n",
              "      <td>0.52</td>\n",
              "      <td>0.02</td>\n",
              "      <td>0.12</td>\n",
              "      <td>0.45</td>\n",
              "      <td>0.00</td>\n",
              "      <td>0.67</td>\n",
              "    </tr>\n",
              "    <tr>\n",
              "      <th>2</th>\n",
              "      <td>0.00</td>\n",
              "      <td>0.42</td>\n",
              "      <td>0.49</td>\n",
              "      <td>0.56</td>\n",
              "      <td>0.17</td>\n",
              "      <td>0.04</td>\n",
              "      <td>0.39</td>\n",
              "      <td>0.47</td>\n",
              "      <td>0.28</td>\n",
              "      <td>0.32</td>\n",
              "      <td>...</td>\n",
              "      <td>0.14</td>\n",
              "      <td>0.49</td>\n",
              "      <td>0.54</td>\n",
              "      <td>0.67</td>\n",
              "      <td>0.56</td>\n",
              "      <td>0.01</td>\n",
              "      <td>0.21</td>\n",
              "      <td>0.02</td>\n",
              "      <td>0.00</td>\n",
              "      <td>0.43</td>\n",
              "    </tr>\n",
              "    <tr>\n",
              "      <th>3</th>\n",
              "      <td>0.04</td>\n",
              "      <td>0.77</td>\n",
              "      <td>1.00</td>\n",
              "      <td>0.08</td>\n",
              "      <td>0.12</td>\n",
              "      <td>0.10</td>\n",
              "      <td>0.51</td>\n",
              "      <td>0.50</td>\n",
              "      <td>0.34</td>\n",
              "      <td>0.21</td>\n",
              "      <td>...</td>\n",
              "      <td>0.19</td>\n",
              "      <td>0.30</td>\n",
              "      <td>0.73</td>\n",
              "      <td>0.64</td>\n",
              "      <td>0.65</td>\n",
              "      <td>0.02</td>\n",
              "      <td>0.39</td>\n",
              "      <td>0.28</td>\n",
              "      <td>0.00</td>\n",
              "      <td>0.12</td>\n",
              "    </tr>\n",
              "    <tr>\n",
              "      <th>4</th>\n",
              "      <td>0.01</td>\n",
              "      <td>0.55</td>\n",
              "      <td>0.02</td>\n",
              "      <td>0.95</td>\n",
              "      <td>0.09</td>\n",
              "      <td>0.05</td>\n",
              "      <td>0.38</td>\n",
              "      <td>0.38</td>\n",
              "      <td>0.23</td>\n",
              "      <td>0.36</td>\n",
              "      <td>...</td>\n",
              "      <td>0.11</td>\n",
              "      <td>0.72</td>\n",
              "      <td>0.64</td>\n",
              "      <td>0.61</td>\n",
              "      <td>0.53</td>\n",
              "      <td>0.04</td>\n",
              "      <td>0.09</td>\n",
              "      <td>0.02</td>\n",
              "      <td>0.00</td>\n",
              "      <td>0.03</td>\n",
              "    </tr>\n",
              "  </tbody>\n",
              "</table>\n",
              "<p>5 rows × 100 columns</p>\n",
              "</div>"
            ],
            "text/plain": [
              "   population  householdsize  racepctblack  racePctWhite  racePctAsian  \\\n",
              "0        0.19           0.33          0.02          0.90          0.12   \n",
              "1        0.00           0.16          0.12          0.74          0.45   \n",
              "2        0.00           0.42          0.49          0.56          0.17   \n",
              "3        0.04           0.77          1.00          0.08          0.12   \n",
              "4        0.01           0.55          0.02          0.95          0.09   \n",
              "\n",
              "   racePctHisp  agePct12t21  agePct12t29  agePct16t24  agePct65up  ...  \\\n",
              "0         0.17         0.34         0.47         0.29        0.32  ...   \n",
              "1         0.07         0.26         0.59         0.35        0.27  ...   \n",
              "2         0.04         0.39         0.47         0.28        0.32  ...   \n",
              "3         0.10         0.51         0.50         0.34        0.21  ...   \n",
              "4         0.05         0.38         0.38         0.23        0.36  ...   \n",
              "\n",
              "   PctForeignBorn  PctBornSameState  PctSameHouse85  PctSameCity85  \\\n",
              "0            0.12              0.42            0.50           0.51   \n",
              "1            0.21              0.50            0.34           0.60   \n",
              "2            0.14              0.49            0.54           0.67   \n",
              "3            0.19              0.30            0.73           0.64   \n",
              "4            0.11              0.72            0.64           0.61   \n",
              "\n",
              "   PctSameState85  LandArea  PopDens  PctUsePubTrans  LemasPctOfficDrugUn  \\\n",
              "0            0.64      0.12     0.26            0.20                 0.32   \n",
              "1            0.52      0.02     0.12            0.45                 0.00   \n",
              "2            0.56      0.01     0.21            0.02                 0.00   \n",
              "3            0.65      0.02     0.39            0.28                 0.00   \n",
              "4            0.53      0.04     0.09            0.02                 0.00   \n",
              "\n",
              "   ViolentCrimesPerPop  \n",
              "0                 0.20  \n",
              "1                 0.67  \n",
              "2                 0.43  \n",
              "3                 0.12  \n",
              "4                 0.03  \n",
              "\n",
              "[5 rows x 100 columns]"
            ]
          },
          "execution_count": 13,
          "metadata": {},
          "output_type": "execute_result"
        }
      ],
      "source": [
        "import pandas as pd\n",
        "import numpy as np\n",
        "\n",
        "data = pd.read_csv('./communities.csv')\n",
        "\n",
        "# Drop columns with missing values\n",
        "data = data.dropna(axis=1)\n",
        "print(data.shape)\n",
        "data.head()"
      ]
    },
    {
      "cell_type": "markdown",
      "metadata": {
        "id": "8ZxEvyGNLIRJ"
      },
      "source": [
        "<div class=\"alert alert-success\">\n",
        "\n",
        "<b>EXERCISE 2.1</b>: **Use linear regression and ridge regression to predict the number of violent crimes per 100,000 inhabitants. Use 5-fold cross-validation to evaluate both models. The [_RidgeCV_](https://scikit-learn.org/stable/modules/generated/sklearn.linear_model.RidgeCV.html) class in Scikit-learn automatically performs cross-validation to tune the hyperparameter that determines the amount of regularization, so you don't need to implement a second cross-validation loop. Which model performs best?**\n",
        "</div>  "
      ]
    },
    {
      "cell_type": "markdown",
      "metadata": {
        "id": "b583zMgKLIRJ"
      },
      "source": [
        "**Before we apply ridge regression, it's important to make sure that all the features are on the same scale. If one of the features is on a completely different scale (let's say, income can be measured in dollars or in thousands of dollars), this might lead the ridge regression coefficient to change substantially because of the penalty term in the optimization problem. We can make sure that all the features are on the same scale by means of standardization:**\n",
        "\n",
        "$$\\tilde{x}_{ij} = \\frac{x_{ij}-\\bar{x}_{j}}{\\sqrt{\\frac{1}{n}\\sum_{i=1}^{n}(x_{ij} - \\bar{x}_{j})^2}}.$$"
      ]
    },
    {
      "cell_type": "markdown",
      "metadata": {
        "id": "tKBkG5LmLIRJ"
      },
      "source": [
        "We can do this with the [_StandardScaler_](https://scikit-learn.org/stable/modules/generated/sklearn.preprocessing.StandardScaler.html) class in Scikit-learn. We will do the scaling each time in the cross-validation loop using only training data statistics (*do you still remember why we only use training statistics to do this?*)."
      ]
    },
    {
      "cell_type": "code",
      "execution_count": 14,
      "metadata": {
        "id": "xXxLT7tULIRK"
      },
      "outputs": [],
      "source": [
        "from sklearn.linear_model import LinearRegression, RidgeCV\n",
        "from sklearn.model_selection import KFold\n",
        "from sklearn.preprocessing import StandardScaler"
      ]
    },
    {
      "cell_type": "code",
      "execution_count": 15,
      "metadata": {
        "colab": {
          "base_uri": "https://localhost:8080/"
        },
        "id": "_SuFJgOmLIRK",
        "outputId": "bff2af7e-ff2d-44a0-9bea-5f9806f34eb8"
      },
      "outputs": [
        {
          "name": "stdout",
          "output_type": "stream",
          "text": [
            "Regularization parameter: 26.560877829466893\n",
            "Regularization parameter: 35.111917342151344\n",
            "Regularization parameter: 40.37017258596558\n",
            "Regularization parameter: 53.366992312063125\n",
            "Regularization parameter: 26.560877829466893\n",
            "Average validation fold R² of linear regression: 0.647667941596117\n",
            "Average validation fold R² of ridge regression: 0.6556882222065827\n"
          ]
        }
      ],
      "source": [
        "# ** solution\n",
        "\n",
        "# Select X and y\n",
        "y = data['ViolentCrimesPerPop'].values\n",
        "X = data.drop(['ViolentCrimesPerPop'], axis=1).values\n",
        "\n",
        "kf = KFold(n_splits=5)\n",
        "\n",
        "linreg_scores = []\n",
        "ridge_scores = []\n",
        "\n",
        "for train_index, test_index in kf.split(X):\n",
        "    X_train, X_test = X[train_index], X[test_index]\n",
        "    y_train, y_test = y[train_index], y[test_index]\n",
        "\n",
        "    # Scale X\n",
        "    scaler = StandardScaler()\n",
        "    scaler.fit(X_train)\n",
        "\n",
        "    X_train = scaler.transform(X_train)\n",
        "    X_test = scaler.transform(X_test)\n",
        "\n",
        "    linregmodel = LinearRegression()\n",
        "    ridgemodel = RidgeCV(alphas=np.logspace(-3,3,100))\n",
        "\n",
        "    linregmodel.fit(X_train, y_train)\n",
        "    linreg_scores.append(linregmodel.score(X_test,y_test))\n",
        "\n",
        "    ridgemodel.fit(X_train, y_train)\n",
        "    print('Regularization parameter: {}'.format(ridgemodel.alpha_))\n",
        "    ridge_scores.append(ridgemodel.score(X_test,y_test))\n",
        "\n",
        "\n",
        "print('Average validation fold R² of linear regression: {}'.format(np.mean(linreg_scores)))\n",
        "print('Average validation fold R² of ridge regression: {}'.format(np.mean(ridge_scores)))\n",
        "\n",
        "# ** solution"
      ]
    },
    {
      "cell_type": "markdown",
      "metadata": {
        "id": "UH8mNDOTLIRK"
      },
      "source": [
        "Now suppose that we don't have 99 features, but four times as many features. And suppose that a lot of features are correlated. This situation is very common in lots of datasets. We will mimic this situation by adding correlated features to our original feature matrix:"
      ]
    },
    {
      "cell_type": "code",
      "execution_count": 16,
      "metadata": {
        "colab": {
          "base_uri": "https://localhost:8080/"
        },
        "id": "-gqHCqgDLIRK",
        "outputId": "6dea9b87-6253-48a3-e2ba-a83a13ea1e27"
      },
      "outputs": [
        {
          "data": {
            "text/plain": [
              "(1994, 396)"
            ]
          },
          "execution_count": 16,
          "metadata": {},
          "output_type": "execute_result"
        }
      ],
      "source": [
        "X_1 = X + np.random.normal(loc=0, scale=0.05, size=(X.shape))\n",
        "X_2 = X + np.random.normal(loc=0, scale=0.1, size=(X.shape))\n",
        "X_3 = X + np.random.normal(loc=0, scale=0.01, size=(X.shape))\n",
        "X_expanded = np.concatenate((X, X_1, X_2, X_3), axis=1)\n",
        "\n",
        "X_expanded.shape"
      ]
    },
    {
      "cell_type": "markdown",
      "metadata": {
        "id": "Ej3J6f8KLIRK"
      },
      "source": [
        "<div class=\"alert alert-success\">\n",
        "\n",
        "<b>EXERCISE 2.2</b>: **Repeat the comparison between ridge regression and linear regression from above, but with the new feature matrix that contains correlated features. What happens with the performance of linear regression? What happens with the regularization parameter?**\n",
        "</div>  "
      ]
    },
    {
      "cell_type": "code",
      "execution_count": 17,
      "metadata": {
        "colab": {
          "base_uri": "https://localhost:8080/"
        },
        "id": "f3NiPgLxLIRK",
        "outputId": "6db84f64-8444-4232-8aa6-4f87a11b432f"
      },
      "outputs": [
        {
          "name": "stdout",
          "output_type": "stream",
          "text": [
            "Regularization parameter: 422.9242874389508\n",
            "Regularization parameter: 613.5907273413176\n",
            "Regularization parameter: 1291.5496650148852\n",
            "Regularization parameter: 890.2150854450392\n",
            "Regularization parameter: 422.9242874389508\n",
            "Average validation fold R² of linear regression: 0.5798545663416499\n",
            "Average validation fold R² of ridge regression: 0.6473060252725977\n"
          ]
        }
      ],
      "source": [
        "# ** solution\n",
        "\n",
        "kf = KFold(n_splits=5)\n",
        "\n",
        "linreg_scores = []\n",
        "ridge_scores = []\n",
        "\n",
        "for train_index, test_index in kf.split(X_expanded):\n",
        "    X_train, X_test = X_expanded[train_index], X_expanded[test_index]\n",
        "    y_train, y_test = y[train_index], y[test_index]\n",
        "\n",
        "    # Scale X\n",
        "    scaler = StandardScaler()\n",
        "    scaler.fit(X_train)\n",
        "\n",
        "    X_train = scaler.transform(X_train)\n",
        "    X_test = scaler.transform(X_test)\n",
        "\n",
        "    linregmodel = LinearRegression()\n",
        "    ridgemodel = RidgeCV(alphas=np.logspace(-4,4,100))\n",
        "\n",
        "    linregmodel.fit(X_train, y_train)\n",
        "    linreg_scores.append(linregmodel.score(X_test,y_test))\n",
        "\n",
        "    ridgemodel.fit(X_train, y_train)\n",
        "    print('Regularization parameter: {}'.format(ridgemodel.alpha_))\n",
        "    ridge_scores.append(ridgemodel.score(X_test,y_test))\n",
        "\n",
        "\n",
        "print('Average validation fold R² of linear regression: {}'.format(np.mean(linreg_scores)))\n",
        "print('Average validation fold R² of ridge regression: {}'.format(np.mean(ridge_scores)))\n",
        "# ** solution"
      ]
    },
    {
      "cell_type": "markdown",
      "metadata": {
        "id": "qGvR1-OfLIRL"
      },
      "source": [
        "### Lasso regression and feature selection"
      ]
    },
    {
      "cell_type": "markdown",
      "metadata": {
        "id": "byrfGGPyLIRL"
      },
      "source": [
        "Suppose that we are interested in selecting only a couple of features out of a high dimensional dataset. Let's fit ridge regression and lasso regression on the data and look at the model coefficients for both models:"
      ]
    },
    {
      "cell_type": "code",
      "execution_count": 18,
      "metadata": {
        "colab": {
          "base_uri": "https://localhost:8080/",
          "height": 628
        },
        "id": "qkdj7uI-LIRL",
        "outputId": "5bd37e96-8f19-4f73-dea6-f110a75eef98"
      },
      "outputs": [
        {
          "data": {
            "image/png": "[encoded data removed]",
            "text/plain": [
              "<Figure size 1080x720 with 2 Axes>"
            ]
          },
          "metadata": {
            "needs_background": "light"
          },
          "output_type": "display_data"
        }
      ],
      "source": [
        "import matplotlib.pyplot as plt\n",
        "%matplotlib inline\n",
        "from sklearn.linear_model import LassoCV\n",
        "from sklearn.model_selection import train_test_split\n",
        "\n",
        "ridgemodel = RidgeCV(cv=5)\n",
        "lassomodel = LassoCV(cv=5, max_iter=10000)\n",
        "\n",
        "X_train, X_test, y_train, y_test = train_test_split(X, y, test_size=0.2)\n",
        "\n",
        "# Scale X\n",
        "scaler = StandardScaler()\n",
        "scaler.fit(X_train)\n",
        "X_train = scaler.transform(X_train)\n",
        "X_test = scaler.transform(X_test)\n",
        "\n",
        "ridgemodel.fit(X_train, y_train)\n",
        "ridgescore = np.round(ridgemodel.score(X_test, y_test),2)\n",
        "lassomodel.fit(X_train, y_train)\n",
        "lassoscore = np.round(lassomodel.score(X_test, y_test),2)\n",
        "\n",
        "# Plot of the coefficients for ridge regression\n",
        "fig, ((ax1, ax2)) = plt.subplots(figsize=(15, 10), nrows=2)\n",
        "pd.Series(ridgemodel.coef_).plot(kind='bar', ax=ax1)\n",
        "ax1.set_title('Ridge regression coefficients. Test set R²: {}'.format(ridgescore)).set_fontsize(40)\n",
        "ax1.get_xaxis().set_ticks([])\n",
        "ax1.set_xlabel('Features')\n",
        "\n",
        "# Plot of the coefficients for the lasso\n",
        "pd.Series(lassomodel.coef_).plot(kind='bar', ax=ax2)\n",
        "ax2.set_title('Lasso regression coefficients. Test set R²: {}'.format(lassoscore)).set_fontsize(40)\n",
        "ax2.get_xaxis().set_ticks([])\n",
        "ax2.set_xlabel('Features');"
      ]
    },
    {
      "cell_type": "markdown",
      "metadata": {
        "id": "bJpnyt4uLIRM"
      },
      "source": [
        "The lasso applies regularization by constraining the sum of the absolute values of the model coefficients (the L1-norm). A result of this is that a lot of model coefficients are set to zero: the lasso performs **feature selection**. This is not the case for ridge regression: the model weights are rarely set to zero. Feature selection is a nice property if we want an interpretable model. Let's list the features with non-zero coefficients in the lasso:"
      ]
    },
    {
      "cell_type": "code",
      "execution_count": 19,
      "metadata": {
        "colab": {
          "base_uri": "https://localhost:8080/",
          "height": 884
        },
        "id": "BdHgUliOLIRM",
        "outputId": "a6dbe790-12e2-4d54-fdd5-f7c9754c72e3"
      },
      "outputs": [
        {
          "data": {
            "image/png": "[encoded data removed]",
            "text/plain": [
              "<Figure size 864x1080 with 1 Axes>"
            ]
          },
          "metadata": {},
          "output_type": "display_data"
        }
      ],
      "source": [
        "import seaborn as sns\n",
        "sns.set_style('whitegrid')\n",
        "\n",
        "fig, ax = plt.subplots(figsize=(12,15))\n",
        "sns.barplot(x= pd.Series(lassomodel.coef_[lassomodel.coef_ != 0]),\n",
        "            y=data.drop(['ViolentCrimesPerPop'], axis=1).columns[lassomodel.coef_ != 0],\n",
        "            palette=['steelblue' if n > 0 else 'coral' for n in lassomodel.coef_[lassomodel.coef_ != 0]],\n",
        "            ax=ax);\n",
        "ax.set_title('Lasso model coefficients for the Community Crime dataset').set_fontsize(20);"
      ]
    }
  ],
  "metadata": {
    "colab": {
      "collapsed_sections": [
        "WSc-6R7ELIRI",
        "cCFAz2ArLIRM"
      ],
      "provenance": []
    },
    "kernelspec": {
      "display_name": "Python 3",
      "language": "python",
      "name": "python3"
    },
    "language_info": {
      "codemirror_mode": {
        "name": "ipython",
        "version": 3
      },
      "file_extension": ".py",
      "mimetype": "text/x-python",
      "name": "python",
      "nbconvert_exporter": "python",
      "pygments_lexer": "ipython3",
      "version": "3.9.1"
    },
    "varInspector": {
      "cols": {
        "lenName": 16,
        "lenType": 16,
        "lenVar": 40
      },
      "kernels_config": {
        "python": {
          "delete_cmd_postfix": "",
          "delete_cmd_prefix": "del ",
          "library": "var_list.py",
          "varRefreshCmd": "print(var_dic_list())"
        },
        "r": {
          "delete_cmd_postfix": ") ",
          "delete_cmd_prefix": "rm(",
          "library": "var_list.r",
          "varRefreshCmd": "cat(var_dic_list()) "
        }
      },
      "types_to_exclude": [
        "module",
        "function",
        "builtin_function_or_method",
        "instance",
        "_Feature"
      ],
      "window_display": true
    }
  },
  "nbformat": 4,
  "nbformat_minor": 0
}
