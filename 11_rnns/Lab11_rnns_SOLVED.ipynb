{
 "cells": [
  {
   "cell_type": "markdown",
   "metadata": {
    "id": "WrQv9yrEbWo3"
   },
   "source": [
    "# Recurrent Neural Networks\n",
    "\n",
    "## Introduction\n",
    "\n",
    "**Recurrent Neural Networks (RNNs)** are a type of neural network designed for processing sequential data, such as time series, text, or any data with temporal dependencies. Unlike traditional neural networks, RNNs have loops that allow information to persist, making them well-suited to sequences where previous information is relevant to understanding the current state.\n",
    "\n",
    "In an RNN, each element in a sequence is processed one at a time, with each step’s output influenced by both the input at that time step and the hidden state from the previous step. This design enables RNNs to maintain a form of memory, capturing dependencies across time. \n",
    "\n",
    "RNNs are widely used in tasks such as language modeling, speech recognition, and predictive analytics, where understanding past information is essential to predicting future events. In general, RNNs can be used in several settings, as pictured below:\n",
    "\n",
    "<img src=\"http://karpathy.github.io/assets/rnn/diags.jpeg\" width = 500>\n",
    "\n",
    "Examples of the settings in the picture:\n",
    "\n",
    "- _One to one_: vanilla MLPs that map a fixed-size vector to another vector for classification or regression.\n",
    "- _One to many_: Image captioning, given an input embedding (obtained with a CNN), a textual caption of variable length is generated.\n",
    "- _Many to one_: (1) Sentence classification such as sentiment analysis or (2) image generation from text. In both cases variable-length input texts are given as input and a fixed-size vector is generated.\n",
    "- _Many to many_: (1) Machine translation of a variable-length sentence to another variable-length sentence or (2) transcription of a variable-length .mp3 audio to a variable-length text.\n",
    "- _Many to many (1-to-1 correspondence)_: (1) Video classification where one label for a variable number of frames in the video is predicted (the video frame embedding can be obtained with a CNN and then fed into a RNN), (2) autoregressive language modeling where the next word in the sentence is predicted for generative purposes or (3) word classification where every word is classified as belonging to a category.\n",
    "\n",
    "Note that these settings are not exclusive to RNNs. In fact, any network type that works on variable-length input sequences can be used towards these ends. Most famously of which are of course, **Transformers**, which have all but replaced RNNs in NLP and many other fields. An explanation and implementation of Transformers is out of the scope for this course. It suffices to know that RNNs process input sequence sequentially through memory cells, whereas Transformers do it in parallel through an $N \\times N$ attention matrix, with $N$ the number of input tokens/vectors. Other than RNNs and Transformers, convnets can also be used on variable-length inputs: a 1D kernel can equally well convolve over a sequence of length $100$ as $1000$. It is only because of the fully-connected layers at the end of the network that typical CNNs are applicable on fixed-size inputs only."
   ]
  },
  {
   "cell_type": "markdown",
   "metadata": {
    "id": "PFhcwjLBbWo9"
   },
   "source": [
    "## Part 1: Autoregressive modelling\n",
    "\n",
    "Autoregressive modelling is the task of trying to predict the next token in a sequence, given previous tokens. In this PC-lab we will explore autoregressive modelling techniques on a particular dataset from the city of Ghent, called *Fietstelpaal Coupure-Links 2023 Gent*.\n",
    "\n",
    "<img src=\"https://images0.persgroep.net/rcs/4cQwm-ofvb3eyIKMWnNf5axxLHg/diocontent/217261403/_fitwidth/694/?appId=21791a8992982cd8da851550a453bd7f&quality=0.8\" width = 500>\n",
    "\n",
    "The processed dataset contains data from the [Coupure-Links bicycle counter](https://data.stad.gent/explore/dataset/fietstelpalen-gent/table/) for the year 2023 and consists of the following variables:\n",
    "\n",
    "* Date_hour: date and hour encoded in the following format: YYYY-MM-DDTHH.\n",
    "* Totaal: the total number of cyclists that passed the counter.\n",
    "\n",
    "Let's start with the exploration of our datasets."
   ]
  },
  {
   "cell_type": "code",
   "execution_count": 21,
   "metadata": {
    "colab": {
     "base_uri": "https://localhost:8080/",
     "height": 424
    },
    "id": "ArqjiofwdVJx",
    "outputId": "0e14087d-dcbe-43ad-819f-294e85421336"
   },
   "outputs": [
    {
     "data": {
      "text/html": [
       "<div>\n",
       "<style scoped>\n",
       "    .dataframe tbody tr th:only-of-type {\n",
       "        vertical-align: middle;\n",
       "    }\n",
       "\n",
       "    .dataframe tbody tr th {\n",
       "        vertical-align: top;\n",
       "    }\n",
       "\n",
       "    .dataframe thead th {\n",
       "        text-align: right;\n",
       "    }\n",
       "</style>\n",
       "<table border=\"1\" class=\"dataframe\">\n",
       "  <thead>\n",
       "    <tr style=\"text-align: right;\">\n",
       "      <th></th>\n",
       "      <th>Date_hour</th>\n",
       "      <th>Totaal</th>\n",
       "    </tr>\n",
       "  </thead>\n",
       "  <tbody>\n",
       "    <tr>\n",
       "      <th>0</th>\n",
       "      <td>2023-01-01T00</td>\n",
       "      <td>111.0</td>\n",
       "    </tr>\n",
       "    <tr>\n",
       "      <th>1</th>\n",
       "      <td>2023-01-01T01</td>\n",
       "      <td>201.0</td>\n",
       "    </tr>\n",
       "    <tr>\n",
       "      <th>2</th>\n",
       "      <td>2023-01-01T02</td>\n",
       "      <td>170.0</td>\n",
       "    </tr>\n",
       "    <tr>\n",
       "      <th>3</th>\n",
       "      <td>2023-01-01T03</td>\n",
       "      <td>144.0</td>\n",
       "    </tr>\n",
       "    <tr>\n",
       "      <th>4</th>\n",
       "      <td>2023-01-01T04</td>\n",
       "      <td>155.0</td>\n",
       "    </tr>\n",
       "    <tr>\n",
       "      <th>...</th>\n",
       "      <td>...</td>\n",
       "      <td>...</td>\n",
       "    </tr>\n",
       "    <tr>\n",
       "      <th>4338</th>\n",
       "      <td>2023-06-30T19</td>\n",
       "      <td>465.0</td>\n",
       "    </tr>\n",
       "    <tr>\n",
       "      <th>4339</th>\n",
       "      <td>2023-06-30T20</td>\n",
       "      <td>325.0</td>\n",
       "    </tr>\n",
       "    <tr>\n",
       "      <th>4340</th>\n",
       "      <td>2023-06-30T21</td>\n",
       "      <td>260.0</td>\n",
       "    </tr>\n",
       "    <tr>\n",
       "      <th>4341</th>\n",
       "      <td>2023-06-30T22</td>\n",
       "      <td>239.0</td>\n",
       "    </tr>\n",
       "    <tr>\n",
       "      <th>4342</th>\n",
       "      <td>2023-06-30T23</td>\n",
       "      <td>208.0</td>\n",
       "    </tr>\n",
       "  </tbody>\n",
       "</table>\n",
       "<p>4343 rows × 2 columns</p>\n",
       "</div>"
      ],
      "text/plain": [
       "          Date_hour  Totaal\n",
       "0     2023-01-01T00   111.0\n",
       "1     2023-01-01T01   201.0\n",
       "2     2023-01-01T02   170.0\n",
       "3     2023-01-01T03   144.0\n",
       "4     2023-01-01T04   155.0\n",
       "...             ...     ...\n",
       "4338  2023-06-30T19   465.0\n",
       "4339  2023-06-30T20   325.0\n",
       "4340  2023-06-30T21   260.0\n",
       "4341  2023-06-30T22   239.0\n",
       "4342  2023-06-30T23   208.0\n",
       "\n",
       "[4343 rows x 2 columns]"
      ]
     },
     "execution_count": 21,
     "metadata": {},
     "output_type": "execute_result"
    }
   ],
   "source": [
    "import pandas as pd\n",
    "import numpy as np\n",
    "import torch\n",
    "import torch.nn as nn\n",
    "\n",
    "import urllib.request\n",
    "urllib.request.urlretrieve(\"https://raw.githubusercontent.com/tfmortie/mlcourse/main/11_rnns/train_data.csv\", \"./train_data.csv\")\n",
    "urllib.request.urlretrieve(\"https://raw.githubusercontent.com/tfmortie/mlcourse/main/11_rnns/test_data.csv\", \"./test_data.csv\")\n",
    "\n",
    "train_data = pd.read_csv(\"train_data.csv\", sep = \",\")\n",
    "test_data = pd.read_csv(\"test_data.csv\", sep = \",\")\n",
    "\n",
    "train_data"
   ]
  },
  {
   "cell_type": "markdown",
   "metadata": {
    "id": "oCTYwonrNbEd"
   },
   "source": [
    "Let's encode the hour as separate feature."
   ]
  },
  {
   "cell_type": "code",
   "execution_count": 2,
   "metadata": {
    "colab": {
     "base_uri": "https://localhost:8080/",
     "height": 206
    },
    "id": "nqtJ0rjyLZuw",
    "outputId": "9813e916-332d-4d8c-bc24-fc5e4f68b1b5"
   },
   "outputs": [
    {
     "data": {
      "text/html": [
       "<div>\n",
       "<style scoped>\n",
       "    .dataframe tbody tr th:only-of-type {\n",
       "        vertical-align: middle;\n",
       "    }\n",
       "\n",
       "    .dataframe tbody tr th {\n",
       "        vertical-align: top;\n",
       "    }\n",
       "\n",
       "    .dataframe thead th {\n",
       "        text-align: right;\n",
       "    }\n",
       "</style>\n",
       "<table border=\"1\" class=\"dataframe\">\n",
       "  <thead>\n",
       "    <tr style=\"text-align: right;\">\n",
       "      <th></th>\n",
       "      <th>Date_hour</th>\n",
       "      <th>Totaal</th>\n",
       "      <th>Hour</th>\n",
       "    </tr>\n",
       "  </thead>\n",
       "  <tbody>\n",
       "    <tr>\n",
       "      <th>0</th>\n",
       "      <td>2023-01-01T00</td>\n",
       "      <td>111.0</td>\n",
       "      <td>0.0</td>\n",
       "    </tr>\n",
       "    <tr>\n",
       "      <th>1</th>\n",
       "      <td>2023-01-01T01</td>\n",
       "      <td>201.0</td>\n",
       "      <td>1.0</td>\n",
       "    </tr>\n",
       "    <tr>\n",
       "      <th>2</th>\n",
       "      <td>2023-01-01T02</td>\n",
       "      <td>170.0</td>\n",
       "      <td>2.0</td>\n",
       "    </tr>\n",
       "    <tr>\n",
       "      <th>3</th>\n",
       "      <td>2023-01-01T03</td>\n",
       "      <td>144.0</td>\n",
       "      <td>3.0</td>\n",
       "    </tr>\n",
       "    <tr>\n",
       "      <th>4</th>\n",
       "      <td>2023-01-01T04</td>\n",
       "      <td>155.0</td>\n",
       "      <td>4.0</td>\n",
       "    </tr>\n",
       "  </tbody>\n",
       "</table>\n",
       "</div>"
      ],
      "text/plain": [
       "       Date_hour  Totaal  Hour\n",
       "0  2023-01-01T00   111.0   0.0\n",
       "1  2023-01-01T01   201.0   1.0\n",
       "2  2023-01-01T02   170.0   2.0\n",
       "3  2023-01-01T03   144.0   3.0\n",
       "4  2023-01-01T04   155.0   4.0"
      ]
     },
     "execution_count": 2,
     "metadata": {},
     "output_type": "execute_result"
    }
   ],
   "source": [
    "train_data[\"Hour\"] = train_data[\"Date_hour\"].str.split(\"T\", expand = True)[1].astype(float)\n",
    "test_data[\"Hour\"] = test_data[\"Date_hour\"].str.split(\"T\", expand = True)[1].astype(float)\n",
    "train_data.head()"
   ]
  },
  {
   "cell_type": "markdown",
   "metadata": {
    "id": "45I4eXgtdUrm"
   },
   "source": [
    "Architecturally, autoregressive modelling of a timeseries looks like this:\n",
    "\n",
    "<img src=\"https://raw.githubusercontent.com/tfmortie/mlcourse/main/11_rnns/AR.png\" width = 500>\n",
    "\n",
    "For every point in the timeseries, the *input token* consists of the value at that timepoint and, optionally, extra covariates pertaining to that timepoint. Conceptually, this is similar to the channels in a CNN, as there we also had input tokens (e.g. pixels) with multiple values (e.g. the 3 RGB values) per token. In our case, extra covariates could be for example the hour at which that timepoint was taken. This input sequence will go into the RNN, which will keep a hidden layer which acts as a memory bank. The memory bank of every input will consist of a combination of the information at that time point and the information coming in from the memory cell at the previous time point. The specific way this information is brought together depends on the specific construction of the RNN. We refer you to the theory lectures for details. The most popular constructions are the LSTM and the GRU memory cells. For every timestep, the model outputs a vector which (for this purpose) needs to be linearly recombined to one number as our goal is to predict the value of the next timestep (i.e. a regression task).\n",
    "\n",
    "Code-wise, it is important to know that for a given sequence, we have an input $x$ consisting of the timepoints in that sequence, and an output $y$, consisting of the same points, but **shifted one time-step to the left**. **Because of the directionality of the RNN, for every time-step, it will predict the next point given only the preceding ones.**\n",
    "\n",
    "In this PC-lab, we will use the hour of the timepoint as covariate.\n",
    "\n",
    "For training, we can't put all days in to our model as one sample. Just like the reason for doing batches in other networks is that: it is more computationally efficient, and it allows us to have training steps on different parts of data with some stochasticity to it, allowing us to jump out of local minima.\n",
    "\n",
    "**For RNNs, another reason is that our \"actual\" neural network depth is essentially decided by our input length**, so if we send in a sample containing a thousand input tokens, we also backpropagate through a thousand layers, and our computers will surely crash. In addition, it is not reasonable to assume the number of cyclists hundreds of days past still influences the number of cyclists now. So, the problem of batching our sequence becomes one of weighing two factors: how long of a sequence can our model handle, and how much context (in number of preceding tokens) do our models need for prediction?\n",
    "\n",
    "Here we will take a batch size of 48 as a default, meaning that our samples will always coincide with two consecutive days."
   ]
  },
  {
   "cell_type": "code",
   "execution_count": 4,
   "metadata": {
    "id": "H_xO94-nfEUJ"
   },
   "outputs": [],
   "source": [
    "def generate_batches(sequence, seqlen = 48):\n",
    "    batches = []\n",
    "    for i in np.arange(0, len(sequence) - seqlen, seqlen):\n",
    "        batches.append(sequence[i:i+seqlen])\n",
    "    return torch.stack(batches)\n",
    "\n",
    "train_batches = generate_batches(torch.tensor(train_data[[\"Hour\", \"Totaal\"]].values.astype(np.float32)))"
   ]
  },
  {
   "cell_type": "markdown",
   "metadata": {
    "id": "8DeB-YAajJye"
   },
   "source": [
    "Let's see how a sample looks like:"
   ]
  },
  {
   "cell_type": "code",
   "execution_count": 5,
   "metadata": {
    "colab": {
     "base_uri": "https://localhost:8080/"
    },
    "id": "oV9G5RHzmiW1",
    "outputId": "e69f5ff3-738d-4de1-c5c6-655182aecc1e"
   },
   "outputs": [
    {
     "data": {
      "text/plain": [
       "torch.Size([90, 48, 2])"
      ]
     },
     "execution_count": 5,
     "metadata": {},
     "output_type": "execute_result"
    }
   ],
   "source": [
    "train_batches.shape"
   ]
  },
  {
   "cell_type": "code",
   "execution_count": 6,
   "metadata": {
    "colab": {
     "base_uri": "https://localhost:8080/"
    },
    "id": "kqNij14zjIlf",
    "outputId": "711f35ab-497b-4e83-910e-b70ea5de382b"
   },
   "outputs": [
    {
     "data": {
      "text/plain": [
       "tensor([[  0., 111.],\n",
       "        [  1., 201.],\n",
       "        [  2., 170.],\n",
       "        [  3., 144.],\n",
       "        [  4., 155.],\n",
       "        [  5., 140.],\n",
       "        [  6., 109.],\n",
       "        [  7.,  75.],\n",
       "        [  8.,  43.],\n",
       "        [  9.,  42.],\n",
       "        [ 10.,  50.],\n",
       "        [ 11.,  76.],\n",
       "        [ 12.,  94.],\n",
       "        [ 13., 113.],\n",
       "        [ 14., 125.],\n",
       "        [ 15., 173.],\n",
       "        [ 16., 109.],\n",
       "        [ 17., 100.],\n",
       "        [ 18., 116.],\n",
       "        [ 19.,  67.],\n",
       "        [ 20., 120.],\n",
       "        [ 21.,  82.],\n",
       "        [ 22.,  60.],\n",
       "        [ 23.,  29.],\n",
       "        [  0.,  11.],\n",
       "        [  1.,  10.],\n",
       "        [  2.,   2.],\n",
       "        [  3.,   5.],\n",
       "        [  4.,  15.],\n",
       "        [  5.,  33.],\n",
       "        [  6.,  58.],\n",
       "        [  7., 169.],\n",
       "        [  8., 257.],\n",
       "        [  9., 198.],\n",
       "        [ 10., 129.],\n",
       "        [ 11., 123.],\n",
       "        [ 12., 206.],\n",
       "        [ 13., 200.],\n",
       "        [ 14., 192.],\n",
       "        [ 15., 208.],\n",
       "        [ 16., 266.],\n",
       "        [ 17., 363.],\n",
       "        [ 18., 299.],\n",
       "        [ 19., 177.],\n",
       "        [ 20.,  74.],\n",
       "        [ 21.,   8.],\n",
       "        [ 22.,   7.],\n",
       "        [ 23.,  21.]])"
      ]
     },
     "execution_count": 6,
     "metadata": {},
     "output_type": "execute_result"
    }
   ],
   "source": [
    "train_batches[0]"
   ]
  },
  {
   "cell_type": "markdown",
   "metadata": {
    "id": "Fogv0s--jiXD"
   },
   "source": [
    "We could give our input to the model like this, as the hour is a numerical value which can be interpreted using linear layers. It would make more sense to treat the hour variable as categorical and encode it using dummy variables (one-hot encoding)."
   ]
  },
  {
   "cell_type": "code",
   "execution_count": 7,
   "metadata": {
    "colab": {
     "base_uri": "https://localhost:8080/"
    },
    "id": "1XAhDa7pmdNd",
    "outputId": "98a4dd1f-9a85-46d8-ab5b-4c26cf2bf1d2"
   },
   "outputs": [
    {
     "data": {
      "text/plain": [
       "torch.Size([90, 48, 24])"
      ]
     },
     "execution_count": 7,
     "metadata": {},
     "output_type": "execute_result"
    }
   ],
   "source": [
    "one_hot_hour = torch.nn.functional.one_hot(train_batches[:, :, 0].long())\n",
    "\n",
    "one_hot_hour.shape"
   ]
  },
  {
   "cell_type": "code",
   "execution_count": 8,
   "metadata": {
    "id": "1RTNwK3Amv21"
   },
   "outputs": [],
   "source": [
    "train_batches = torch.cat([train_batches[:, :, [1]], one_hot_hour], axis = 2)"
   ]
  },
  {
   "cell_type": "code",
   "execution_count": 9,
   "metadata": {
    "colab": {
     "base_uri": "https://localhost:8080/"
    },
    "id": "5h43ZQWKm3G4",
    "outputId": "1a3bd7c5-bec8-4d79-8a59-d63f9d2423d4"
   },
   "outputs": [
    {
     "data": {
      "text/plain": [
       "torch.Size([90, 48, 25])"
      ]
     },
     "execution_count": 9,
     "metadata": {},
     "output_type": "execute_result"
    }
   ],
   "source": [
    "train_batches.shape"
   ]
  },
  {
   "cell_type": "code",
   "execution_count": 10,
   "metadata": {
    "colab": {
     "base_uri": "https://localhost:8080/"
    },
    "id": "Aw3OsNCom4Ic",
    "outputId": "dc3c151c-749d-4f91-d357-d1e89a8ce54f"
   },
   "outputs": [
    {
     "data": {
      "text/plain": [
       "tensor([[111.,   1.,   0.,  ...,   0.,   0.,   0.],\n",
       "        [201.,   0.,   1.,  ...,   0.,   0.,   0.],\n",
       "        [170.,   0.,   0.,  ...,   0.,   0.,   0.],\n",
       "        ...,\n",
       "        [  8.,   0.,   0.,  ...,   1.,   0.,   0.],\n",
       "        [  7.,   0.,   0.,  ...,   0.,   1.,   0.],\n",
       "        [ 21.,   0.,   0.,  ...,   0.,   0.,   1.]])"
      ]
     },
     "execution_count": 10,
     "metadata": {},
     "output_type": "execute_result"
    }
   ],
   "source": [
    "train_batches[0]"
   ]
  },
  {
   "cell_type": "markdown",
   "metadata": {
    "id": "-kHh7PNFONWN"
   },
   "source": [
    "Let's min-max scale the outputs. Remember: if you don't do this, your loss function will be of a very big scale, affecting learning (i.e. you will need lower learning rates).\n",
    "Hence, scaling allows us to make a better guess as to what a good learning rate will be."
   ]
  },
  {
   "cell_type": "code",
   "execution_count": 11,
   "metadata": {
    "colab": {
     "base_uri": "https://localhost:8080/"
    },
    "id": "D0fRtX3GOjFQ",
    "outputId": "42132a22-c818-4521-8817-3e7029086d44"
   },
   "outputs": [
    {
     "data": {
      "text/plain": [
       "tensor([[[0.0583, 1.0000, 0.0000,  ..., 0.0000, 0.0000, 0.0000],\n",
       "         [0.1056, 0.0000, 1.0000,  ..., 0.0000, 0.0000, 0.0000],\n",
       "         [0.0893, 0.0000, 0.0000,  ..., 0.0000, 0.0000, 0.0000],\n",
       "         ...,\n",
       "         [0.0042, 0.0000, 0.0000,  ..., 1.0000, 0.0000, 0.0000],\n",
       "         [0.0037, 0.0000, 0.0000,  ..., 0.0000, 1.0000, 0.0000],\n",
       "         [0.0110, 0.0000, 0.0000,  ..., 0.0000, 0.0000, 1.0000]],\n",
       "\n",
       "        [[0.0063, 1.0000, 0.0000,  ..., 0.0000, 0.0000, 0.0000],\n",
       "         [0.0016, 0.0000, 1.0000,  ..., 0.0000, 0.0000, 0.0000],\n",
       "         [0.0000, 0.0000, 0.0000,  ..., 0.0000, 0.0000, 0.0000],\n",
       "         ...,\n",
       "         [0.0688, 0.0000, 0.0000,  ..., 1.0000, 0.0000, 0.0000],\n",
       "         [0.0678, 0.0000, 0.0000,  ..., 0.0000, 1.0000, 0.0000],\n",
       "         [0.0494, 0.0000, 0.0000,  ..., 0.0000, 0.0000, 1.0000]],\n",
       "\n",
       "        [[0.0163, 1.0000, 0.0000,  ..., 0.0000, 0.0000, 0.0000],\n",
       "         [0.0095, 0.0000, 1.0000,  ..., 0.0000, 0.0000, 0.0000],\n",
       "         [0.0037, 0.0000, 0.0000,  ..., 0.0000, 0.0000, 0.0000],\n",
       "         ...,\n",
       "         [0.0736, 0.0000, 0.0000,  ..., 1.0000, 0.0000, 0.0000],\n",
       "         [0.0657, 0.0000, 0.0000,  ..., 0.0000, 1.0000, 0.0000],\n",
       "         [0.0641, 0.0000, 0.0000,  ..., 0.0000, 0.0000, 1.0000]],\n",
       "\n",
       "        ...,\n",
       "\n",
       "        [[0.0583, 0.0000, 1.0000,  ..., 0.0000, 0.0000, 0.0000],\n",
       "         [0.0305, 0.0000, 0.0000,  ..., 0.0000, 0.0000, 0.0000],\n",
       "         [0.0200, 0.0000, 0.0000,  ..., 0.0000, 0.0000, 0.0000],\n",
       "         ...,\n",
       "         [0.1272, 0.0000, 0.0000,  ..., 0.0000, 1.0000, 0.0000],\n",
       "         [0.0809, 0.0000, 0.0000,  ..., 0.0000, 0.0000, 1.0000],\n",
       "         [0.0347, 1.0000, 0.0000,  ..., 0.0000, 0.0000, 0.0000]],\n",
       "\n",
       "        [[0.0194, 0.0000, 1.0000,  ..., 0.0000, 0.0000, 0.0000],\n",
       "         [0.0079, 0.0000, 0.0000,  ..., 0.0000, 0.0000, 0.0000],\n",
       "         [0.0063, 0.0000, 0.0000,  ..., 0.0000, 0.0000, 0.0000],\n",
       "         ...,\n",
       "         [0.1760, 0.0000, 0.0000,  ..., 0.0000, 1.0000, 0.0000],\n",
       "         [0.0914, 0.0000, 0.0000,  ..., 0.0000, 0.0000, 1.0000],\n",
       "         [0.0573, 1.0000, 0.0000,  ..., 0.0000, 0.0000, 0.0000]],\n",
       "\n",
       "        [[0.0315, 0.0000, 1.0000,  ..., 0.0000, 0.0000, 0.0000],\n",
       "         [0.0242, 0.0000, 0.0000,  ..., 0.0000, 0.0000, 0.0000],\n",
       "         [0.0147, 0.0000, 0.0000,  ..., 0.0000, 0.0000, 0.0000],\n",
       "         ...,\n",
       "         [0.1745, 0.0000, 0.0000,  ..., 0.0000, 1.0000, 0.0000],\n",
       "         [0.1088, 0.0000, 0.0000,  ..., 0.0000, 0.0000, 1.0000],\n",
       "         [0.0730, 1.0000, 0.0000,  ..., 0.0000, 0.0000, 0.0000]]])"
      ]
     },
     "execution_count": 11,
     "metadata": {},
     "output_type": "execute_result"
    }
   ],
   "source": [
    "max_cyclists_train = train_batches[:, :, 0].max()\n",
    "min_cyclists_train = train_batches[:, :, 0].min()\n",
    "train_batches[:, :, 0] = (train_batches[:, :, 0]-min_cyclists_train)/(max_cyclists_train-min_cyclists_train)\n",
    "train_batches"
   ]
  },
  {
   "cell_type": "markdown",
   "metadata": {
    "id": "8lLoumfYPSVE"
   },
   "source": [
    "Finally, let's prepare some batches in a similar way for the test set:"
   ]
  },
  {
   "cell_type": "code",
   "execution_count": null,
   "metadata": {
    "colab": {
     "base_uri": "https://localhost:8080/"
    },
    "id": "s7UOVAf7PUX0",
    "outputId": "966435f2-c3c8-4c25-8c07-78df2483f2ff"
   },
   "outputs": [
    {
     "data": {
      "text/plain": [
       "tensor([[0.0788, 1.0000, 0.0000,  ..., 0.0000, 0.0000, 0.0000],\n",
       "        [0.0483, 0.0000, 1.0000,  ..., 0.0000, 0.0000, 0.0000],\n",
       "        [0.0257, 0.0000, 0.0000,  ..., 0.0000, 0.0000, 0.0000],\n",
       "        ...,\n",
       "        [0.0904, 0.0000, 0.0000,  ..., 1.0000, 0.0000, 0.0000],\n",
       "        [0.0788, 0.0000, 0.0000,  ..., 0.0000, 1.0000, 0.0000],\n",
       "        [0.0504, 0.0000, 0.0000,  ..., 0.0000, 0.0000, 1.0000]])"
      ]
     },
     "execution_count": 12,
     "metadata": {},
     "output_type": "execute_result"
    }
   ],
   "source": [
    "test_batches = generate_batches(torch.tensor(test_data[[\"Hour\", \"Totaal\"]].values.astype(np.float32)))\n",
    "one_hot_hour = torch.nn.functional.one_hot(test_batches[:, :, 0].long())\n",
    "test_batches = torch.cat([test_batches[:, :, [1]], one_hot_hour], axis = 2)\n",
    "test_batches[:, :, 0] = (test_batches[: ,: ,0]-min_cyclists_train)/(max_cyclists_train-min_cyclists_train)\n",
    "test_batches[0]"
   ]
  },
  {
   "cell_type": "markdown",
   "metadata": {
    "id": "autQkT0vn_L5"
   },
   "source": [
    "### RNNs in PyTorch\n",
    "\n",
    "In this PC-lab we will use the GRU, but note that other RNN-types work similarly in PyTorch.\n",
    "\n",
    "[Documentation for the GRU](https://pytorch.org/docs/stable/generated/torch.nn.GRU.html)\n",
    "\n",
    "_Note_: The weird shape expectations (such as not expecting batches to come first by default) are a consequence of optimizations that PyTorch has implemented so the RNNs run efficiently on data with variable input sequence lengths (such as sentences). For this PC lab, we have batched our sequences so that they have constant sequence length, so we can add the argument `batch_first = True`.\n",
    "\n",
    "Let's create a GRU and some toy data to see how it all works:"
   ]
  },
  {
   "cell_type": "code",
   "execution_count": 12,
   "metadata": {
    "id": "m_Z39C9soQXX"
   },
   "outputs": [],
   "source": [
    "gru = nn.GRU(input_size = 64, hidden_size = 512, batch_first = True)"
   ]
  },
  {
   "cell_type": "code",
   "execution_count": 13,
   "metadata": {
    "colab": {
     "base_uri": "https://localhost:8080/"
    },
    "id": "6XU72dghoRnu",
    "outputId": "4374344d-6622-4f8f-f833-028d8f5fe5b3"
   },
   "outputs": [
    {
     "data": {
      "text/plain": [
       "(torch.Size([2, 50, 512]), torch.Size([1, 2, 512]))"
      ]
     },
     "execution_count": 13,
     "metadata": {},
     "output_type": "execute_result"
    }
   ],
   "source": [
    "x = torch.randn(2, 50, 64)\n",
    "output, h_n = gru(x)\n",
    "output.shape, h_n.shape"
   ]
  },
  {
   "cell_type": "markdown",
   "metadata": {
    "id": "y7h1DZBHoX9o"
   },
   "source": [
    "Explanation of the outputs: `h_n` is the hidden representation of the last hidden memory cell. It can be seen as a summarized representation of the content of the whole input (if one wants a single output for a whole sequence as in e.g. sentence classification). `output` will return the output representation of the RNN for every input token: look back at the picture in the introduction of this part of the PC lab for more intuition. "
   ]
  },
  {
   "cell_type": "markdown",
   "metadata": {
    "id": "1jPd_xQpolKr"
   },
   "source": [
    "For autoregressive modeling of time series, we should have an output for every input, mainly: the prediction of the next timepoint. For our purpose, we are interested to predict a single output per timepoint, whereas we can see that this is not the case for our GRU model as it is now. We can remedy this with a simple linear layer\n",
    "\n",
    "<div class=\"alert alert-success\">\n",
    "\n",
    "<b>EXERCISE:</b>\n",
    "<p> Implement an autoregressive GRU for cycler forecasting by completing the code below. The model should contain a recurrent layer, and a layer that takes the outputs of the GRU at each timestep and manipulates their dimensions so that the output dimensionality of each token is equal to one. Keep in mind how many input variables we have in our dataset.\n",
    "</p>\n",
    "\n",
    "</div>\n",
    "\n",
    "Test your model with some toy data down below.\n",
    "\n"
   ]
  },
  {
   "cell_type": "code",
   "execution_count": 13,
   "metadata": {
    "id": "13mJg1lqomei"
   },
   "outputs": [],
   "source": [
    "class CyclerForecaster(nn.Module):\n",
    "    def __init__(self, input_dim = 25, hidden_dim = 64):\n",
    "        super().__init__()\n",
    "        self.gru = nn.GRU(input_size = input_dim, hidden_size = hidden_dim, batch_first = True)\n",
    "        self.output_head = nn.Linear(hidden_dim, 1)\n",
    "\n",
    "    def forward(self, x):\n",
    "        output, _ = self.gru(x)\n",
    "        return self.output_head(output)"
   ]
  },
  {
   "cell_type": "code",
   "execution_count": 14,
   "metadata": {
    "colab": {
     "base_uri": "https://localhost:8080/"
    },
    "id": "PPgN3P4NpvJL",
    "outputId": "8487d0ba-96b5-4ea0-e803-ef7a749b88ee"
   },
   "outputs": [
    {
     "data": {
      "text/plain": [
       "torch.Size([2, 48, 1])"
      ]
     },
     "execution_count": 14,
     "metadata": {},
     "output_type": "execute_result"
    }
   ],
   "source": [
    "model = CyclerForecaster()\n",
    "\n",
    "x = torch.randn(2, 48, 25)\n",
    "\n",
    "y = model(x)\n",
    "\n",
    "y.shape"
   ]
  },
  {
   "cell_type": "markdown",
   "metadata": {
    "id": "QwqJ1fTpnCWa"
   },
   "source": [
    "To create an input and an output, we have to do the above-mentioned shifting. In practice, this means that we take all but the last timepoints to create X, and all but the first timepoints to create Y, hence creating shifted X,Y pairs.\n",
    "\n",
    "Additionally, for Y, we only want to keep the first variable, meaning the number of cyclists itself."
   ]
  },
  {
   "cell_type": "code",
   "execution_count": 17,
   "metadata": {
    "colab": {
     "base_uri": "https://localhost:8080/"
    },
    "id": "XMw9_32bf9hj",
    "outputId": "e0337d94-a5f5-42b4-9145-3ec2d445aa16"
   },
   "outputs": [
    {
     "name": "stdout",
     "output_type": "stream",
     "text": [
      "torch.Size([90, 47, 25]) torch.Size([90, 47, 1])\n"
     ]
    }
   ],
   "source": [
    "X_train = train_batches[:, :-1]\n",
    "\n",
    "y_train = train_batches[:, 1:]\n",
    "y_train = y_train[:, :, [0]]\n",
    "\n",
    "print(X_train.shape, y_train.shape)"
   ]
  },
  {
   "cell_type": "markdown",
   "metadata": {
    "id": "UhHNqiqHQTiM"
   },
   "source": [
    "Doing the same for the test data, and putting the things into datasets and dataloaders."
   ]
  },
  {
   "cell_type": "code",
   "execution_count": 18,
   "metadata": {
    "id": "yvr5sBhDhR5G"
   },
   "outputs": [],
   "source": [
    "X_test = test_batches[:, :-1]\n",
    "y_test = test_batches[:, 1:, [0]]\n",
    "\n",
    "train_dataset = torch.utils.data.TensorDataset(X_train, y_train)\n",
    "train_dataloader = torch.utils.data.DataLoader(train_dataset, batch_size = 8, shuffle = True)\n",
    "\n",
    "test_dataset = torch.utils.data.TensorDataset(X_test, y_test)\n",
    "test_dataloader = torch.utils.data.DataLoader(test_dataset, batch_size = 8, shuffle = True)"
   ]
  },
  {
   "cell_type": "markdown",
   "metadata": {
    "id": "tM5AD2u7rNA2"
   },
   "source": [
    "Note that we are just taking the first 80% of the data as training and the last 20% as validation set. Normally, we shuffle our data so that we are not biased. In this case, however, we can make a case for doing it our way: because the samples are ordered by day and month, the last samples will be from the summer months, where we may expect different patterns (June: exams, July: vacations)."
   ]
  },
  {
   "cell_type": "markdown",
   "metadata": {
    "id": "DmpFl85TvvF0"
   },
   "source": [
    "<div class=\"alert alert-success\">\n",
    "\n",
    "<b>EXERCISE:</b>\n",
    "<p> Implement the training loop for the Cycler Forecaster using the same principles from last PC labs. Keep in mind that unlike previous PC labs, we are now training a regression task. You will also need to increase the number of epochs as our dataset is quite small and each epoch only constitutes a small number of training steps.\n",
    "</p>\n",
    "\n",
    "</div>\n"
   ]
  },
  {
   "cell_type": "code",
   "execution_count": null,
   "metadata": {
    "colab": {
     "base_uri": "https://localhost:8080/"
    },
    "id": "RclHsVTChfYQ",
    "outputId": "7ee5e256-911d-4228-f868-281df0613475"
   },
   "outputs": [
    {
     "name": "stdout",
     "output_type": "stream",
     "text": [
      "1 \t 0.03790270863100886 0.008453572168946266\n",
      "2 \t 0.02517694824685653 0.009773558005690575\n",
      "3 \t 0.020987652940675616 0.006167578510940075\n",
      "4 \t 0.01763850908416013 0.004615579731762409\n",
      "5 \t 0.01608794399847587 0.004493154818192124\n",
      "6 \t 0.014426465767125288 0.004796544788405299\n",
      "7 \t 0.014205804715553919 0.004695741226896644\n",
      "8 \t 0.013654466097553572 0.004703005077317357\n",
      "9 \t 0.012340439561133584 0.004058361519128084\n",
      "10 \t 0.012084053208430609 0.004790138220414519\n",
      "11 \t 0.010748255842675766 0.003993422607891262\n",
      "12 \t 0.010015741766740879 0.00425271806307137\n",
      "13 \t 0.009584713339184722 0.004295289516448975\n",
      "14 \t 0.009034720210668942 0.004169565159827471\n",
      "15 \t 0.008990443660877645 0.004498346126638353\n",
      "16 \t 0.008489450556226075 0.004561572801321745\n",
      "17 \t 0.008249515589947501 0.004384944913908839\n",
      "18 \t 0.007933271233923733 0.004626402631402016\n",
      "19 \t 0.007796141668222845 0.004508990561589599\n",
      "20 \t 0.007731840984585385 0.004747357685118914\n",
      "21 \t 0.007386073217882465 0.0046094071585685015\n",
      "22 \t 0.007323010979841153 0.004771373234689236\n",
      "23 \t 0.00744711378744493 0.0049616273026913404\n",
      "24 \t 0.007281140734752019 0.004664261592552066\n",
      "25 \t 0.007389294410434862 0.004567079246044159\n",
      "26 \t 0.007271501313274105 0.004519348964095116\n",
      "27 \t 0.0072991757187992334 0.0047931247390806675\n",
      "28 \t 0.006976554907547931 0.004570703953504562\n",
      "29 \t 0.0069340567182128625 0.004658550955355167\n",
      "30 \t 0.006706960926142831 0.0045481325360015035\n",
      "31 \t 0.006862367658565442 0.004631157033145428\n",
      "32 \t 0.006810473355775078 0.004708625143393874\n",
      "33 \t 0.0064540315652266145 0.00451035937294364\n",
      "34 \t 0.006484741733099024 0.004647296154871583\n",
      "35 \t 0.006529728067107499 0.004806914599612355\n",
      "36 \t 0.006601693147482972 0.004100614343769848\n",
      "37 \t 0.0064132620658104615 0.004178340430371463\n",
      "38 \t 0.00624879701839139 0.004209845559671521\n",
      "39 \t 0.00615839035405467 0.004351763054728508\n",
      "40 \t 0.006026029004715383 0.004380682832561433\n",
      "41 \t 0.005786490180374433 0.003896364476531744\n",
      "42 \t 0.005813985558537145 0.003778684069402516\n",
      "43 \t 0.005655059280494849 0.0038810770493000746\n",
      "44 \t 0.005532436422072351 0.0039893294451758265\n",
      "45 \t 0.005550797873487075 0.00377073313575238\n",
      "46 \t 0.0053888925855668885 0.003597219823859632\n",
      "47 \t 0.005380123659657936 0.0034066986991092563\n",
      "48 \t 0.005168622747684519 0.0034896120196208358\n",
      "49 \t 0.005114206811413169 0.0034251698525622487\n",
      "50 \t 0.005132108344696462 0.003186302608810365\n",
      "51 \t 0.005168534039209287 0.003439705236814916\n",
      "52 \t 0.004962607965959857 0.003322450676932931\n",
      "53 \t 0.004955050613110264 0.003541759797371924\n",
      "54 \t 0.004851165499227743 0.0031438915757462382\n",
      "55 \t 0.004684113625747462 0.003107549622654915\n",
      "56 \t 0.004793522782468547 0.003132395795546472\n",
      "57 \t 0.004619407719777276 0.0031772464280948043\n",
      "58 \t 0.004632920240207265 0.003158948617056012\n",
      "59 \t 0.004586978679678093 0.0031150449067354202\n",
      "60 \t 0.004408437816891819 0.002987810643389821\n",
      "61 \t 0.004501484838935236 0.002984115621075034\n",
      "62 \t 0.00449098248888428 0.0029967768350616097\n",
      "63 \t 0.0044158103022103505 0.0031389794312417507\n",
      "64 \t 0.0043833982393456 0.003248092019930482\n",
      "65 \t 0.0044368770710813505 0.0033301407238468528\n",
      "66 \t 0.004390093129283438 0.003124832408502698\n",
      "67 \t 0.004216981547263761 0.002915353514254093\n",
      "68 \t 0.0042583991307765245 0.002696921583265066\n",
      "69 \t 0.004191990670127173 0.0027211055858060718\n",
      "70 \t 0.004038176266476512 0.0027680248022079468\n",
      "71 \t 0.004044391952144603 0.0029264161130413413\n",
      "72 \t 0.004000773304142058 0.002918447251431644\n",
      "73 \t 0.0040213854517787695 0.0025255356449633837\n",
      "74 \t 0.0039035774340542653 0.002522971131838858\n",
      "75 \t 0.003940169796502839 0.0023425952531397343\n",
      "76 \t 0.004016604643159856 0.002665209583938122\n",
      "77 \t 0.0037432730896398425 0.0024918385315686464\n",
      "78 \t 0.0037304286379367113 0.002497127279639244\n",
      "79 \t 0.0036303724045865238 0.0024198039900511503\n",
      "80 \t 0.0036588828661479056 0.0022837690776214004\n",
      "81 \t 0.003557608947933962 0.002290458302013576\n",
      "82 \t 0.00354120049936076 0.0021678642369806767\n",
      "83 \t 0.0034687389076376953 0.002096938726026565\n",
      "84 \t 0.003348803846165538 0.002053197822533548\n",
      "85 \t 0.0032927765084120133 0.002252187696285546\n",
      "86 \t 0.0033981833645763495 0.0022721729474142194\n",
      "87 \t 0.0033496193743000426 0.0022318147821351886\n",
      "88 \t 0.0031430289576140544 0.0022461580811068416\n",
      "89 \t 0.0030959816843581698 0.001977760810405016\n",
      "90 \t 0.0031018322721744576 0.0021553479600697756\n",
      "91 \t 0.003020438268625488 0.0020104777067899704\n",
      "92 \t 0.00303739709003518 0.002312169992364943\n",
      "93 \t 0.0029890583246015012 0.002023194218054414\n",
      "94 \t 0.002905246646453937 0.0019405672210268676\n",
      "95 \t 0.002859723404981196 0.0017579023260623217\n",
      "96 \t 0.002815710351569578 0.0017159185372292995\n",
      "97 \t 0.00282613811820435 0.001714787445962429\n",
      "98 \t 0.002756550849881023 0.0017864424153231084\n",
      "99 \t 0.0027290891157463193 0.0019004595815204084\n",
      "100 \t 0.0028048257421081266 0.0019413777044974267\n",
      "101 \t 0.002773051722518479 0.0016716389218345284\n",
      "102 \t 0.0026446985527096936 0.0015596390585415065\n",
      "103 \t 0.0026279985322616994 0.0017633868264965713\n",
      "104 \t 0.002587671585691472 0.001642445393372327\n",
      "105 \t 0.0025482820735002556 0.0016997846541926265\n",
      "106 \t 0.0026303394697606564 0.0016150299925357103\n",
      "107 \t 0.0026377874213115624 0.0018504240433685482\n",
      "108 \t 0.002466528821969405 0.0013424307690002024\n",
      "109 \t 0.0027977192852025232 0.0019738710252568126\n",
      "110 \t 0.0024321217400332293 0.0014000973314978182\n",
      "111 \t 0.0024403551942668855 0.0016734099481254816\n",
      "112 \t 0.0024731778151666126 0.0016562346718274057\n",
      "113 \t 0.002385784755460918 0.001555871160235256\n",
      "114 \t 0.0023597215670937053 0.0014331123093143106\n",
      "115 \t 0.0023318507980244854 0.0017452881438657641\n",
      "116 \t 0.0022998104880874357 0.0016042799106799066\n",
      "117 \t 0.0022877444086285927 0.0017243687761947513\n",
      "118 \t 0.0022931133959597596 0.0019254645449109375\n",
      "119 \t 0.002280225045979023 0.00137031584745273\n",
      "120 \t 0.0027125001652166247 0.001563625002745539\n",
      "121 \t 0.002289740106789395 0.0016228294116444886\n",
      "122 \t 0.0022058600249389806 0.002001095737796277\n",
      "123 \t 0.002258509494519482 0.0012877112021669745\n",
      "124 \t 0.0021510856749955565 0.0015497509739361703\n",
      "125 \t 0.0021166702887664237 0.0012713968171738088\n",
      "126 \t 0.0021737120502317944 0.001624124706722796\n",
      "127 \t 0.002095823127698774 0.0013548734714277089\n",
      "128 \t 0.0021005682453202703 0.0015140743926167488\n",
      "129 \t 0.0020556064361395934 0.0015654271701350808\n",
      "130 \t 0.0020538543564422676 0.0014746885281056166\n",
      "131 \t 0.0020584160811267793 0.001666750235017389\n",
      "132 \t 0.002144699693114186 0.0013140760129317641\n",
      "133 \t 0.0020529275061562657 0.001425492635462433\n",
      "134 \t 0.0019891611591447145 0.0015153976855799556\n",
      "135 \t 0.0019703246168016144 0.0013012074050493538\n",
      "136 \t 0.0020082054155257842 0.0015469155623577535\n",
      "137 \t 0.0019957117231873176 0.0014317738241516054\n",
      "138 \t 0.0019196422508684918 0.0014778872136957943\n",
      "139 \t 0.0019856281481528035 0.0014578875852748752\n",
      "140 \t 0.0019693882980694375 0.001629395759664476\n",
      "141 \t 0.0019058843463426456 0.0015193700673989952\n",
      "142 \t 0.001967162359505892 0.0017874661716632545\n",
      "143 \t 0.001949900829155619 0.0014662924804724753\n",
      "144 \t 0.001947829199101155 0.0018335736240260303\n",
      "145 \t 0.001954324630787596 0.0014632217935286462\n",
      "146 \t 0.001895961511763744 0.0014661492314189672\n",
      "147 \t 0.0018827736688156922 0.0015574921853840351\n",
      "148 \t 0.002011136860043431 0.0014672823017463088\n",
      "149 \t 0.0020062015779937306 0.0017123944708146155\n",
      "150 \t 0.001960313083448758 0.001392051693983376\n",
      "151 \t 0.0019115125469397753 0.0015591843402944505\n",
      "152 \t 0.0018789361250431587 0.0013282923609949648\n",
      "153 \t 0.0018478919179566826 0.001196634373627603\n",
      "154 \t 0.0018987685034517199 0.0015305015840567648\n",
      "155 \t 0.0018538082658778876 0.0014788539265282452\n",
      "156 \t 0.0018397208962899942 0.00130632019136101\n",
      "157 \t 0.001852144623020043 0.0012034093379043043\n",
      "158 \t 0.0018768902615799259 0.001961844740435481\n",
      "159 \t 0.0019191244694714744 0.0015248484560288489\n",
      "160 \t 0.0018778563341281067 0.001504662970546633\n",
      "161 \t 0.0018651504651643336 0.0015311260940507054\n",
      "162 \t 0.0018372189175958435 0.0014573893276974559\n",
      "163 \t 0.0019161585660185665 0.0014419639483094215\n",
      "164 \t 0.001878645697919031 0.0013260989217087626\n",
      "165 \t 0.0018360625836066902 0.001517945434898138\n",
      "166 \t 0.001851646084105596 0.0011303516803309321\n",
      "167 \t 0.0018448665214236826 0.0015625219093635678\n",
      "168 \t 0.001820504597465818 0.0014820289798080921\n",
      "169 \t 0.0019102965792020161 0.001401458284817636\n",
      "170 \t 0.0019365657159748177 0.001168413378763944\n",
      "171 \t 0.0018328091343088697 0.0016843883786350489\n",
      "172 \t 0.0018343334474290411 0.001275786547921598\n",
      "173 \t 0.002013859833823517 0.0014161646831780672\n",
      "174 \t 0.001824262454950561 0.0014018703368492424\n",
      "175 \t 0.0019222426247627784 0.0014157930272631347\n",
      "176 \t 0.00186646525010777 0.0013583371764980257\n",
      "177 \t 0.0017842849871764581 0.0015839522238820791\n",
      "178 \t 0.0018175259853402774 0.0012594573781825602\n",
      "179 \t 0.0018099531007464975 0.0014070416218601167\n",
      "180 \t 0.0017908142763189971 0.0012153186253271997\n",
      "181 \t 0.0017631478937497984 0.0012754179770126939\n",
      "182 \t 0.0018255868247554947 0.0014621426234953105\n",
      "183 \t 0.00185745584894903 0.0012522968463599682\n",
      "184 \t 0.0018274667672812939 0.0013417775626294315\n",
      "185 \t 0.001825895596994087 0.001578024821355939\n",
      "186 \t 0.0017819873658784975 0.001170083589386195\n",
      "187 \t 0.001773439076108237 0.0014211602392606437\n",
      "188 \t 0.0017659766017459333 0.0013369094231165946\n",
      "189 \t 0.0018227232115653653 0.0015337197692133486\n",
      "190 \t 0.0018191394725969683 0.001351468963548541\n",
      "191 \t 0.0017271592708614965 0.0011837842757813632\n",
      "192 \t 0.001735966977624533 0.0013155837659724057\n",
      "193 \t 0.0017864511949786295 0.0013322340091690421\n",
      "194 \t 0.0017902699667805184 0.001581421005539596\n",
      "195 \t 0.0017751520014523219 0.0010978658683598042\n",
      "196 \t 0.001766611773443098 0.0012027761549688876\n",
      "197 \t 0.0017476297847072904 0.0012038953136652708\n",
      "198 \t 0.0017305779377541815 0.0014190544607117772\n",
      "199 \t 0.001741533507204925 0.0013955833856016397\n",
      "200 \t 0.001720236740463103 0.0014736573793925345\n",
      "201 \t 0.0017706883566764493 0.0013779103173874319\n",
      "202 \t 0.0017307765374425799 0.0012265422847121954\n",
      "203 \t 0.0017429115250706673 0.0016200518584810197\n",
      "204 \t 0.001789799047401175 0.001389533281326294\n",
      "205 \t 0.001745707510660092 0.0011746681411750615\n",
      "206 \t 0.0017994135074938338 0.0014157286495901644\n",
      "207 \t 0.001765263460886975 0.0016891029081307352\n",
      "208 \t 0.0017664164576369028 0.0010552734311204404\n",
      "209 \t 0.0017674376528399687 0.001263280923012644\n",
      "210 \t 0.0017783342530795683 0.0012070945231243968\n",
      "211 \t 0.0017819742497522384 0.001424232847057283\n",
      "212 \t 0.0018186071344340842 0.0013901526108384132\n",
      "213 \t 0.001773698682275911 0.0012504024198278785\n",
      "214 \t 0.0019893344142474234 0.001380348636303097\n",
      "215 \t 0.0016969024921612192 0.0015662540681660175\n",
      "216 \t 0.0017412662758336712 0.001121883513405919\n",
      "217 \t 0.0016826404607854784 0.0013577157515101135\n",
      "218 \t 0.0016828538209665567 0.0012429116759449244\n",
      "219 \t 0.001695929648121819 0.0011501465924084187\n",
      "220 \t 0.0016883725766092539 0.0012374678626656532\n",
      "221 \t 0.0017295747238676995 0.0011667695362120867\n",
      "222 \t 0.001687176195749392 0.0015838107210583985\n",
      "223 \t 0.001696856144311217 0.0014877283247187734\n",
      "224 \t 0.0017361512873321772 0.0011683357297442853\n",
      "225 \t 0.0017061068210750818 0.001257479831110686\n",
      "226 \t 0.0016423649164304759 0.0013791114906780422\n",
      "227 \t 0.0016749910137150437 0.001390110410284251\n",
      "228 \t 0.0020433471751554557 0.001290397602133453\n",
      "229 \t 0.0016880206433900942 0.001415123464539647\n",
      "230 \t 0.001706607824113841 0.0012259758077561855\n",
      "231 \t 0.0016662246683457245 0.0011109465849585831\n",
      "232 \t 0.0016447443631477654 0.0013672257773578167\n",
      "233 \t 0.0016459045824982847 0.0014201838639564812\n",
      "234 \t 0.001746240450302139 0.0011996758403256536\n",
      "235 \t 0.0016898705168083932 0.0014666460920125246\n",
      "236 \t 0.0016759300779085606 0.0011741512571461499\n",
      "237 \t 0.00160111272513556 0.0013302391162142158\n",
      "238 \t 0.0016625186059779178 0.0013066064566373825\n",
      "239 \t 0.0016620343667455018 0.0013148514553904533\n",
      "240 \t 0.0016564545900716137 0.0012982276384718716\n",
      "241 \t 0.0016189974655086796 0.0013602651888504624\n",
      "242 \t 0.0016004091303329915 0.0013004033826291561\n",
      "243 \t 0.0016171408254497994 0.0013133023167029023\n",
      "244 \t 0.0015828808585259442 0.0011488543241284788\n",
      "245 \t 0.0016332177862447377 0.0014565876335836947\n",
      "246 \t 0.001640169396220396 0.0012190448469482362\n",
      "247 \t 0.0018644328035103779 0.001307457743678242\n",
      "248 \t 0.0019310854161934306 0.0011220747255720198\n",
      "249 \t 0.0016246448309781651 0.00123785890173167\n",
      "250 \t 0.001650602479154865 0.001242599100805819\n"
     ]
    }
   ],
   "source": [
    "N_EPOCHS = 250\n",
    "\n",
    "model = CyclerForecaster()\n",
    "\n",
    "loss_function = nn.MSELoss()\n",
    "\n",
    "optimizer = torch.optim.Adam(model.parameters(), lr=0.0005) \n",
    "\n",
    "for i in range(1, N_EPOCHS + 1):\n",
    "    all_losses = []\n",
    "    model.train()\n",
    "    for batch in train_dataloader:\n",
    "        optimizer.zero_grad()\n",
    "        X_batch, y_batch = batch\n",
    "\n",
    "        y_hat_batch = model(X_batch)\n",
    "\n",
    "        loss = loss_function(y_hat_batch, y_batch) # Compute loss\n",
    "\n",
    "        loss.backward()   # Calculate gradients\n",
    "        optimizer.step()   # Update weights using defined optimizer\n",
    "\n",
    "        all_losses.append(loss.item())\n",
    "    train_loss = np.mean(all_losses)\n",
    "\n",
    "    predictions = []\n",
    "    true_labels = []\n",
    "    losses = []\n",
    "\n",
    "    with torch.no_grad():\n",
    "        model.eval()\n",
    "        for batch in test_dataloader:\n",
    "            X_batch, y_batch = batch\n",
    "\n",
    "            y_hat_batch = model(X_batch)\n",
    "\n",
    "            loss = loss_function(y_hat_batch, y_batch)\n",
    "\n",
    "            losses.append(loss.item())\n",
    "            predictions.append(y_hat_batch)\n",
    "            true_labels.append(y_batch)\n",
    "\n",
    "    predictions = torch.cat(predictions)\n",
    "    true_labels = torch.cat(true_labels)\n",
    "\n",
    "    print(i, '\\t', train_loss, np.mean(losses))"
   ]
  },
  {
   "cell_type": "markdown",
   "metadata": {
    "id": "XntUGcU0wR8m"
   },
   "source": [
    "To evaluate our model beyond looking at a loss function going down: we can look at the autoregressive results for a random test sample:"
   ]
  },
  {
   "cell_type": "code",
   "execution_count": 20,
   "metadata": {
    "colab": {
     "base_uri": "https://localhost:8080/",
     "height": 430
    },
    "id": "CYeAfeVhhnCA",
    "outputId": "a8fedd25-02a6-4ff2-aaee-a8914a37e6aa"
   },
   "outputs": [
    {
     "data": {
      "image/png": "[encoded data removed]",
      "text/plain": [
       "<Figure size 640x480 with 1 Axes>"
      ]
     },
     "metadata": {},
     "output_type": "display_data"
    }
   ],
   "source": [
    "import matplotlib.pyplot as plt\n",
    "\n",
    "plt.plot(np.arange(len(y_test[0])), y_test[0])\n",
    "plt.plot(np.arange(len(y_test[0])), model(X_test[[0]]).detach().squeeze(0).numpy())\n",
    "plt.legend([\"True\", \"Predicted\"])\n",
    "plt.show()"
   ]
  },
  {
   "cell_type": "markdown",
   "metadata": {
    "id": "wtf9XU0BSh9M"
   },
   "source": [
    "You should see that at the beginning of the second day, the model overshoots its prediction by a wide margin. This is because most probably the next day is a weekend day. After that, for the prediction of the next step, we give it the true input of that (previously-wrongly predicted) timestep, and because it recognizes that by this low value it should be a weekend day, the subsequent predictions are also low."
   ]
  },
  {
   "cell_type": "markdown",
   "metadata": {
    "id": "ZXMxdryOwuY5"
   },
   "source": [
    "\n",
    "\n",
    "This is not really forecasting though: at every timestep, we are predicting only one timestep (hour) in advance. To really do forecasting for a longer time limit, we should feed the predictions of the model back into the model, like this:\n",
    "\n",
    "<img src=\"https://raw.githubusercontent.com/tfmortie/mlcourse/main/11_rnns/generation.png\" width = 500>\n",
    "\n",
    "To perform this, we will create a helper function that extracts the next step:"
   ]
  },
  {
   "cell_type": "code",
   "execution_count": 20,
   "metadata": {
    "id": "SiyoKVzAx_sc"
   },
   "outputs": [],
   "source": [
    "def generate_next_timestep(previous, model):\n",
    "    with torch.no_grad():\n",
    "        output = model(previous.unsqueeze(0))[0, -1]\n",
    "\n",
    "    return output\n",
    "\n",
    "def generate_n_timesteps(previous, model, n = 5):\n",
    "    for _ in range(n):\n",
    "        prediction = generate_next_timestep(previous, model)\n",
    "        # to make a next prediction, we not only need to add the prediction but also the covariates (hour) to our next input:\n",
    "        next_timestep_hour = nn.functional.one_hot((previous[-1, 1:].argmax() + 1) % 24, num_classes = 24)\n",
    "        new_input = torch.cat([prediction, next_timestep_hour])\n",
    "        previous = torch.cat([previous, new_input.unsqueeze(0)])\n",
    "\n",
    "    return previous[:, 0]"
   ]
  },
  {
   "cell_type": "code",
   "execution_count": 21,
   "metadata": {
    "colab": {
     "base_uri": "https://localhost:8080/",
     "height": 430
    },
    "id": "ROyU81wA8Ixe",
    "outputId": "6d07ba8a-2226-4c6a-b9b0-a8bd17203450"
   },
   "outputs": [
    {
     "data": {
      "image/png": "[encoded data removed]",
      "text/plain": [
       "<Figure size 640x480 with 1 Axes>"
      ]
     },
     "metadata": {},
     "output_type": "display_data"
    }
   ],
   "source": [
    "sample_index = 0\n",
    "priming_points = 20\n",
    "generate_steps = 100\n",
    "\n",
    "\n",
    "plt.plot(np.arange(len(X_test[sample_index])), X_test[sample_index, :, 0])\n",
    "predictions = generate_n_timesteps(X_test[sample_index, :priming_points], model, n = generate_steps).numpy()\n",
    "plt.plot(np.arange(len(predictions)), predictions)\n",
    "plt.axvline(x = priming_points-1, color = \"green\", linestyle = \":\")\n",
    "plt.legend([\"True\", \"Predicted\"])\n",
    "plt.show()"
   ]
  },
  {
   "cell_type": "markdown",
   "metadata": {
    "id": "LZytOD_XA0tx"
   },
   "source": [
    "<div class=\"alert alert-success\">\n",
    "\n",
    "<b>THOUGHT EXERCISE:</b>\n",
    "<p> Play around with the code for forecasting bicyclists by changing up which sample you forecast (\"sample_index\"), how much initial input points you give the model (\"priming points\") and how far in time it should generate after that (\"generate steps\"). Can you find obvious failure states? Can you think of ways how to remedy these failure modes?\n",
    "</p>\n",
    "\n",
    "</div>"
   ]
  },
  {
   "cell_type": "markdown",
   "metadata": {
    "id": "RLOnrUwuPoOA"
   },
   "source": [
    "Written answer:\n",
    "If the priming point is a friday and the next day a weekend day, it will still predict high numbers for the weekend. Additionally, when generating a lot of days, after a while the same pattern is predicted for every day.\n",
    "\n",
    "**Solution**: The model doesn't know what day of the week it is, resulting in a behavior in which the best the model can do is predict \"the average day\". One could encode more features for every timepoint in addition to just which hour it was, such as which day of the week it is. In addition, one could add weather and temperature variables to the model, so that the model can account for seasonal and weather impacts on the prediction. One could even go as far as adding an indicator variable that indicates whether a day is a Belgian holiday ..."
   ]
  },
  {
   "cell_type": "markdown",
   "metadata": {
    "id": "T2N3F1zyBpQg"
   },
   "source": [
    "## Part 2: time series classification\n",
    "\n",
    "In the next part, we will explore a many-to-one scenario. To keep things simple, we will work on the same dataset and try to predict from the series of a single day whether that day was a weekend or a weekday.\n",
    "\n",
    "To do this, we first need to know which days were weekdays:"
   ]
  },
  {
   "cell_type": "code",
   "execution_count": 22,
   "metadata": {
    "colab": {
     "base_uri": "https://localhost:8080/",
     "height": 424
    },
    "id": "itJrohODCD5a",
    "outputId": "8edb6144-a5bc-4990-b1a3-5f7d6fa18e75"
   },
   "outputs": [
    {
     "data": {
      "text/html": [
       "\n",
       "  <div id=\"df-5eee74ce-ac3e-49fd-890c-c0610a7bb09d\" class=\"colab-df-container\">\n",
       "    <div>\n",
       "<style scoped>\n",
       "    .dataframe tbody tr th:only-of-type {\n",
       "        vertical-align: middle;\n",
       "    }\n",
       "\n",
       "    .dataframe tbody tr th {\n",
       "        vertical-align: top;\n",
       "    }\n",
       "\n",
       "    .dataframe thead th {\n",
       "        text-align: right;\n",
       "    }\n",
       "</style>\n",
       "<table border=\"1\" class=\"dataframe\">\n",
       "  <thead>\n",
       "    <tr style=\"text-align: right;\">\n",
       "      <th></th>\n",
       "      <th>Date_hour</th>\n",
       "      <th>Totaal</th>\n",
       "      <th>Hour</th>\n",
       "    </tr>\n",
       "  </thead>\n",
       "  <tbody>\n",
       "    <tr>\n",
       "      <th>0</th>\n",
       "      <td>2023-01-01T00</td>\n",
       "      <td>111.0</td>\n",
       "      <td>0.0</td>\n",
       "    </tr>\n",
       "    <tr>\n",
       "      <th>1</th>\n",
       "      <td>2023-01-01T01</td>\n",
       "      <td>201.0</td>\n",
       "      <td>1.0</td>\n",
       "    </tr>\n",
       "    <tr>\n",
       "      <th>2</th>\n",
       "      <td>2023-01-01T02</td>\n",
       "      <td>170.0</td>\n",
       "      <td>2.0</td>\n",
       "    </tr>\n",
       "    <tr>\n",
       "      <th>3</th>\n",
       "      <td>2023-01-01T03</td>\n",
       "      <td>144.0</td>\n",
       "      <td>3.0</td>\n",
       "    </tr>\n",
       "    <tr>\n",
       "      <th>4</th>\n",
       "      <td>2023-01-01T04</td>\n",
       "      <td>155.0</td>\n",
       "      <td>4.0</td>\n",
       "    </tr>\n",
       "    <tr>\n",
       "      <th>...</th>\n",
       "      <td>...</td>\n",
       "      <td>...</td>\n",
       "      <td>...</td>\n",
       "    </tr>\n",
       "    <tr>\n",
       "      <th>4338</th>\n",
       "      <td>2023-06-30T19</td>\n",
       "      <td>465.0</td>\n",
       "      <td>19.0</td>\n",
       "    </tr>\n",
       "    <tr>\n",
       "      <th>4339</th>\n",
       "      <td>2023-06-30T20</td>\n",
       "      <td>325.0</td>\n",
       "      <td>20.0</td>\n",
       "    </tr>\n",
       "    <tr>\n",
       "      <th>4340</th>\n",
       "      <td>2023-06-30T21</td>\n",
       "      <td>260.0</td>\n",
       "      <td>21.0</td>\n",
       "    </tr>\n",
       "    <tr>\n",
       "      <th>4341</th>\n",
       "      <td>2023-06-30T22</td>\n",
       "      <td>239.0</td>\n",
       "      <td>22.0</td>\n",
       "    </tr>\n",
       "    <tr>\n",
       "      <th>4342</th>\n",
       "      <td>2023-06-30T23</td>\n",
       "      <td>208.0</td>\n",
       "      <td>23.0</td>\n",
       "    </tr>\n",
       "  </tbody>\n",
       "</table>\n",
       "<p>4343 rows × 3 columns</p>\n",
       "</div>\n",
       "    <div class=\"colab-df-buttons\">\n",
       "\n",
       "  <div class=\"colab-df-container\">\n",
       "    <button class=\"colab-df-convert\" onclick=\"convertToInteractive('df-5eee74ce-ac3e-49fd-890c-c0610a7bb09d')\"\n",
       "            title=\"Convert this dataframe to an interactive table.\"\n",
       "            style=\"display:none;\">\n",
       "\n",
       "  <svg xmlns=\"http://www.w3.org/2000/svg\" height=\"24px\" viewBox=\"0 -960 960 960\">\n",
       "    <path d=\"M120-120v-720h720v720H120Zm60-500h600v-160H180v160Zm220 220h160v-160H400v160Zm0 220h160v-160H400v160ZM180-400h160v-160H180v160Zm440 0h160v-160H620v160ZM180-180h160v-160H180v160Zm440 0h160v-160H620v160Z\"/>\n",
       "  </svg>\n",
       "    </button>\n",
       "\n",
       "  <style>\n",
       "    .colab-df-container {\n",
       "      display:flex;\n",
       "      gap: 12px;\n",
       "    }\n",
       "\n",
       "    .colab-df-convert {\n",
       "      background-color: #E8F0FE;\n",
       "      border: none;\n",
       "      border-radius: 50%;\n",
       "      cursor: pointer;\n",
       "      display: none;\n",
       "      fill: #1967D2;\n",
       "      height: 32px;\n",
       "      padding: 0 0 0 0;\n",
       "      width: 32px;\n",
       "    }\n",
       "\n",
       "    .colab-df-convert:hover {\n",
       "      background-color: #E2EBFA;\n",
       "      box-shadow: 0px 1px 2px rgba(60, 64, 67, 0.3), 0px 1px 3px 1px rgba(60, 64, 67, 0.15);\n",
       "      fill: #174EA6;\n",
       "    }\n",
       "\n",
       "    .colab-df-buttons div {\n",
       "      margin-bottom: 4px;\n",
       "    }\n",
       "\n",
       "    [theme=dark] .colab-df-convert {\n",
       "      background-color: #3B4455;\n",
       "      fill: #D2E3FC;\n",
       "    }\n",
       "\n",
       "    [theme=dark] .colab-df-convert:hover {\n",
       "      background-color: #434B5C;\n",
       "      box-shadow: 0px 1px 3px 1px rgba(0, 0, 0, 0.15);\n",
       "      filter: drop-shadow(0px 1px 2px rgba(0, 0, 0, 0.3));\n",
       "      fill: #FFFFFF;\n",
       "    }\n",
       "  </style>\n",
       "\n",
       "    <script>\n",
       "      const buttonEl =\n",
       "        document.querySelector('#df-5eee74ce-ac3e-49fd-890c-c0610a7bb09d button.colab-df-convert');\n",
       "      buttonEl.style.display =\n",
       "        google.colab.kernel.accessAllowed ? 'block' : 'none';\n",
       "\n",
       "      async function convertToInteractive(key) {\n",
       "        const element = document.querySelector('#df-5eee74ce-ac3e-49fd-890c-c0610a7bb09d');\n",
       "        const dataTable =\n",
       "          await google.colab.kernel.invokeFunction('convertToInteractive',\n",
       "                                                    [key], {});\n",
       "        if (!dataTable) return;\n",
       "\n",
       "        const docLinkHtml = 'Like what you see? Visit the ' +\n",
       "          '<a target=\"_blank\" href=https://colab.research.google.com/notebooks/data_table.ipynb>data table notebook</a>'\n",
       "          + ' to learn more about interactive tables.';\n",
       "        element.innerHTML = '';\n",
       "        dataTable['output_type'] = 'display_data';\n",
       "        await google.colab.output.renderOutput(dataTable, element);\n",
       "        const docLink = document.createElement('div');\n",
       "        docLink.innerHTML = docLinkHtml;\n",
       "        element.appendChild(docLink);\n",
       "      }\n",
       "    </script>\n",
       "  </div>\n",
       "\n",
       "\n",
       "<div id=\"df-b479fb30-63ef-4081-977e-c6752fad642c\">\n",
       "  <button class=\"colab-df-quickchart\" onclick=\"quickchart('df-b479fb30-63ef-4081-977e-c6752fad642c')\"\n",
       "            title=\"Suggest charts\"\n",
       "            style=\"display:none;\">\n",
       "\n",
       "<svg xmlns=\"http://www.w3.org/2000/svg\" height=\"24px\"viewBox=\"0 0 24 24\"\n",
       "     width=\"24px\">\n",
       "    <g>\n",
       "        <path d=\"M19 3H5c-1.1 0-2 .9-2 2v14c0 1.1.9 2 2 2h14c1.1 0 2-.9 2-2V5c0-1.1-.9-2-2-2zM9 17H7v-7h2v7zm4 0h-2V7h2v10zm4 0h-2v-4h2v4z\"/>\n",
       "    </g>\n",
       "</svg>\n",
       "  </button>\n",
       "\n",
       "<style>\n",
       "  .colab-df-quickchart {\n",
       "      --bg-color: #E8F0FE;\n",
       "      --fill-color: #1967D2;\n",
       "      --hover-bg-color: #E2EBFA;\n",
       "      --hover-fill-color: #174EA6;\n",
       "      --disabled-fill-color: #AAA;\n",
       "      --disabled-bg-color: #DDD;\n",
       "  }\n",
       "\n",
       "  [theme=dark] .colab-df-quickchart {\n",
       "      --bg-color: #3B4455;\n",
       "      --fill-color: #D2E3FC;\n",
       "      --hover-bg-color: #434B5C;\n",
       "      --hover-fill-color: #FFFFFF;\n",
       "      --disabled-bg-color: #3B4455;\n",
       "      --disabled-fill-color: #666;\n",
       "  }\n",
       "\n",
       "  .colab-df-quickchart {\n",
       "    background-color: var(--bg-color);\n",
       "    border: none;\n",
       "    border-radius: 50%;\n",
       "    cursor: pointer;\n",
       "    display: none;\n",
       "    fill: var(--fill-color);\n",
       "    height: 32px;\n",
       "    padding: 0;\n",
       "    width: 32px;\n",
       "  }\n",
       "\n",
       "  .colab-df-quickchart:hover {\n",
       "    background-color: var(--hover-bg-color);\n",
       "    box-shadow: 0 1px 2px rgba(60, 64, 67, 0.3), 0 1px 3px 1px rgba(60, 64, 67, 0.15);\n",
       "    fill: var(--button-hover-fill-color);\n",
       "  }\n",
       "\n",
       "  .colab-df-quickchart-complete:disabled,\n",
       "  .colab-df-quickchart-complete:disabled:hover {\n",
       "    background-color: var(--disabled-bg-color);\n",
       "    fill: var(--disabled-fill-color);\n",
       "    box-shadow: none;\n",
       "  }\n",
       "\n",
       "  .colab-df-spinner {\n",
       "    border: 2px solid var(--fill-color);\n",
       "    border-color: transparent;\n",
       "    border-bottom-color: var(--fill-color);\n",
       "    animation:\n",
       "      spin 1s steps(1) infinite;\n",
       "  }\n",
       "\n",
       "  @keyframes spin {\n",
       "    0% {\n",
       "      border-color: transparent;\n",
       "      border-bottom-color: var(--fill-color);\n",
       "      border-left-color: var(--fill-color);\n",
       "    }\n",
       "    20% {\n",
       "      border-color: transparent;\n",
       "      border-left-color: var(--fill-color);\n",
       "      border-top-color: var(--fill-color);\n",
       "    }\n",
       "    30% {\n",
       "      border-color: transparent;\n",
       "      border-left-color: var(--fill-color);\n",
       "      border-top-color: var(--fill-color);\n",
       "      border-right-color: var(--fill-color);\n",
       "    }\n",
       "    40% {\n",
       "      border-color: transparent;\n",
       "      border-right-color: var(--fill-color);\n",
       "      border-top-color: var(--fill-color);\n",
       "    }\n",
       "    60% {\n",
       "      border-color: transparent;\n",
       "      border-right-color: var(--fill-color);\n",
       "    }\n",
       "    80% {\n",
       "      border-color: transparent;\n",
       "      border-right-color: var(--fill-color);\n",
       "      border-bottom-color: var(--fill-color);\n",
       "    }\n",
       "    90% {\n",
       "      border-color: transparent;\n",
       "      border-bottom-color: var(--fill-color);\n",
       "    }\n",
       "  }\n",
       "</style>\n",
       "\n",
       "  <script>\n",
       "    async function quickchart(key) {\n",
       "      const quickchartButtonEl =\n",
       "        document.querySelector('#' + key + ' button');\n",
       "      quickchartButtonEl.disabled = true;  // To prevent multiple clicks.\n",
       "      quickchartButtonEl.classList.add('colab-df-spinner');\n",
       "      try {\n",
       "        const charts = await google.colab.kernel.invokeFunction(\n",
       "            'suggestCharts', [key], {});\n",
       "      } catch (error) {\n",
       "        console.error('Error during call to suggestCharts:', error);\n",
       "      }\n",
       "      quickchartButtonEl.classList.remove('colab-df-spinner');\n",
       "      quickchartButtonEl.classList.add('colab-df-quickchart-complete');\n",
       "    }\n",
       "    (() => {\n",
       "      let quickchartButtonEl =\n",
       "        document.querySelector('#df-b479fb30-63ef-4081-977e-c6752fad642c button');\n",
       "      quickchartButtonEl.style.display =\n",
       "        google.colab.kernel.accessAllowed ? 'block' : 'none';\n",
       "    })();\n",
       "  </script>\n",
       "</div>\n",
       "    </div>\n",
       "  </div>\n"
      ],
      "text/plain": [
       "          Date_hour  Totaal  Hour\n",
       "0     2023-01-01T00   111.0   0.0\n",
       "1     2023-01-01T01   201.0   1.0\n",
       "2     2023-01-01T02   170.0   2.0\n",
       "3     2023-01-01T03   144.0   3.0\n",
       "4     2023-01-01T04   155.0   4.0\n",
       "...             ...     ...   ...\n",
       "4338  2023-06-30T19   465.0  19.0\n",
       "4339  2023-06-30T20   325.0  20.0\n",
       "4340  2023-06-30T21   260.0  21.0\n",
       "4341  2023-06-30T22   239.0  22.0\n",
       "4342  2023-06-30T23   208.0  23.0\n",
       "\n",
       "[4343 rows x 3 columns]"
      ]
     },
     "execution_count": 22,
     "metadata": {},
     "output_type": "execute_result"
    }
   ],
   "source": [
    "train_data"
   ]
  },
  {
   "cell_type": "markdown",
   "metadata": {
    "id": "w7msK_1LRVLM"
   },
   "source": [
    "Following code adds an indicator variable to the data that signifies if the date is a weekday or not. We'll use this as \"y\" values to predict"
   ]
  },
  {
   "cell_type": "code",
   "execution_count": 23,
   "metadata": {
    "colab": {
     "base_uri": "https://localhost:8080/",
     "height": 424
    },
    "id": "K3ZcSVjICFRo",
    "outputId": "70ad9719-7efc-454e-d5ce-6a8b0af9ccd9"
   },
   "outputs": [
    {
     "data": {
      "text/html": [
       "\n",
       "  <div id=\"df-37ab96f5-1365-40b1-b2a5-d3b3fa2f6af6\" class=\"colab-df-container\">\n",
       "    <div>\n",
       "<style scoped>\n",
       "    .dataframe tbody tr th:only-of-type {\n",
       "        vertical-align: middle;\n",
       "    }\n",
       "\n",
       "    .dataframe tbody tr th {\n",
       "        vertical-align: top;\n",
       "    }\n",
       "\n",
       "    .dataframe thead th {\n",
       "        text-align: right;\n",
       "    }\n",
       "</style>\n",
       "<table border=\"1\" class=\"dataframe\">\n",
       "  <thead>\n",
       "    <tr style=\"text-align: right;\">\n",
       "      <th></th>\n",
       "      <th>Date_hour</th>\n",
       "      <th>Totaal</th>\n",
       "      <th>Hour</th>\n",
       "      <th>Date</th>\n",
       "      <th>isweekday</th>\n",
       "    </tr>\n",
       "  </thead>\n",
       "  <tbody>\n",
       "    <tr>\n",
       "      <th>0</th>\n",
       "      <td>2023-01-01T00</td>\n",
       "      <td>111.0</td>\n",
       "      <td>0.0</td>\n",
       "      <td>2023-01-01</td>\n",
       "      <td>0</td>\n",
       "    </tr>\n",
       "    <tr>\n",
       "      <th>1</th>\n",
       "      <td>2023-01-01T01</td>\n",
       "      <td>201.0</td>\n",
       "      <td>1.0</td>\n",
       "      <td>2023-01-01</td>\n",
       "      <td>0</td>\n",
       "    </tr>\n",
       "    <tr>\n",
       "      <th>2</th>\n",
       "      <td>2023-01-01T02</td>\n",
       "      <td>170.0</td>\n",
       "      <td>2.0</td>\n",
       "      <td>2023-01-01</td>\n",
       "      <td>0</td>\n",
       "    </tr>\n",
       "    <tr>\n",
       "      <th>3</th>\n",
       "      <td>2023-01-01T03</td>\n",
       "      <td>144.0</td>\n",
       "      <td>3.0</td>\n",
       "      <td>2023-01-01</td>\n",
       "      <td>0</td>\n",
       "    </tr>\n",
       "    <tr>\n",
       "      <th>4</th>\n",
       "      <td>2023-01-01T04</td>\n",
       "      <td>155.0</td>\n",
       "      <td>4.0</td>\n",
       "      <td>2023-01-01</td>\n",
       "      <td>0</td>\n",
       "    </tr>\n",
       "    <tr>\n",
       "      <th>...</th>\n",
       "      <td>...</td>\n",
       "      <td>...</td>\n",
       "      <td>...</td>\n",
       "      <td>...</td>\n",
       "      <td>...</td>\n",
       "    </tr>\n",
       "    <tr>\n",
       "      <th>4338</th>\n",
       "      <td>2023-06-30T19</td>\n",
       "      <td>465.0</td>\n",
       "      <td>19.0</td>\n",
       "      <td>2023-06-30</td>\n",
       "      <td>1</td>\n",
       "    </tr>\n",
       "    <tr>\n",
       "      <th>4339</th>\n",
       "      <td>2023-06-30T20</td>\n",
       "      <td>325.0</td>\n",
       "      <td>20.0</td>\n",
       "      <td>2023-06-30</td>\n",
       "      <td>1</td>\n",
       "    </tr>\n",
       "    <tr>\n",
       "      <th>4340</th>\n",
       "      <td>2023-06-30T21</td>\n",
       "      <td>260.0</td>\n",
       "      <td>21.0</td>\n",
       "      <td>2023-06-30</td>\n",
       "      <td>1</td>\n",
       "    </tr>\n",
       "    <tr>\n",
       "      <th>4341</th>\n",
       "      <td>2023-06-30T22</td>\n",
       "      <td>239.0</td>\n",
       "      <td>22.0</td>\n",
       "      <td>2023-06-30</td>\n",
       "      <td>1</td>\n",
       "    </tr>\n",
       "    <tr>\n",
       "      <th>4342</th>\n",
       "      <td>2023-06-30T23</td>\n",
       "      <td>208.0</td>\n",
       "      <td>23.0</td>\n",
       "      <td>2023-06-30</td>\n",
       "      <td>1</td>\n",
       "    </tr>\n",
       "  </tbody>\n",
       "</table>\n",
       "<p>4343 rows × 5 columns</p>\n",
       "</div>\n",
       "    <div class=\"colab-df-buttons\">\n",
       "\n",
       "  <div class=\"colab-df-container\">\n",
       "    <button class=\"colab-df-convert\" onclick=\"convertToInteractive('df-37ab96f5-1365-40b1-b2a5-d3b3fa2f6af6')\"\n",
       "            title=\"Convert this dataframe to an interactive table.\"\n",
       "            style=\"display:none;\">\n",
       "\n",
       "  <svg xmlns=\"http://www.w3.org/2000/svg\" height=\"24px\" viewBox=\"0 -960 960 960\">\n",
       "    <path d=\"M120-120v-720h720v720H120Zm60-500h600v-160H180v160Zm220 220h160v-160H400v160Zm0 220h160v-160H400v160ZM180-400h160v-160H180v160Zm440 0h160v-160H620v160ZM180-180h160v-160H180v160Zm440 0h160v-160H620v160Z\"/>\n",
       "  </svg>\n",
       "    </button>\n",
       "\n",
       "  <style>\n",
       "    .colab-df-container {\n",
       "      display:flex;\n",
       "      gap: 12px;\n",
       "    }\n",
       "\n",
       "    .colab-df-convert {\n",
       "      background-color: #E8F0FE;\n",
       "      border: none;\n",
       "      border-radius: 50%;\n",
       "      cursor: pointer;\n",
       "      display: none;\n",
       "      fill: #1967D2;\n",
       "      height: 32px;\n",
       "      padding: 0 0 0 0;\n",
       "      width: 32px;\n",
       "    }\n",
       "\n",
       "    .colab-df-convert:hover {\n",
       "      background-color: #E2EBFA;\n",
       "      box-shadow: 0px 1px 2px rgba(60, 64, 67, 0.3), 0px 1px 3px 1px rgba(60, 64, 67, 0.15);\n",
       "      fill: #174EA6;\n",
       "    }\n",
       "\n",
       "    .colab-df-buttons div {\n",
       "      margin-bottom: 4px;\n",
       "    }\n",
       "\n",
       "    [theme=dark] .colab-df-convert {\n",
       "      background-color: #3B4455;\n",
       "      fill: #D2E3FC;\n",
       "    }\n",
       "\n",
       "    [theme=dark] .colab-df-convert:hover {\n",
       "      background-color: #434B5C;\n",
       "      box-shadow: 0px 1px 3px 1px rgba(0, 0, 0, 0.15);\n",
       "      filter: drop-shadow(0px 1px 2px rgba(0, 0, 0, 0.3));\n",
       "      fill: #FFFFFF;\n",
       "    }\n",
       "  </style>\n",
       "\n",
       "    <script>\n",
       "      const buttonEl =\n",
       "        document.querySelector('#df-37ab96f5-1365-40b1-b2a5-d3b3fa2f6af6 button.colab-df-convert');\n",
       "      buttonEl.style.display =\n",
       "        google.colab.kernel.accessAllowed ? 'block' : 'none';\n",
       "\n",
       "      async function convertToInteractive(key) {\n",
       "        const element = document.querySelector('#df-37ab96f5-1365-40b1-b2a5-d3b3fa2f6af6');\n",
       "        const dataTable =\n",
       "          await google.colab.kernel.invokeFunction('convertToInteractive',\n",
       "                                                    [key], {});\n",
       "        if (!dataTable) return;\n",
       "\n",
       "        const docLinkHtml = 'Like what you see? Visit the ' +\n",
       "          '<a target=\"_blank\" href=https://colab.research.google.com/notebooks/data_table.ipynb>data table notebook</a>'\n",
       "          + ' to learn more about interactive tables.';\n",
       "        element.innerHTML = '';\n",
       "        dataTable['output_type'] = 'display_data';\n",
       "        await google.colab.output.renderOutput(dataTable, element);\n",
       "        const docLink = document.createElement('div');\n",
       "        docLink.innerHTML = docLinkHtml;\n",
       "        element.appendChild(docLink);\n",
       "      }\n",
       "    </script>\n",
       "  </div>\n",
       "\n",
       "\n",
       "<div id=\"df-d960423f-b67e-47f7-b49d-e0a135bf6768\">\n",
       "  <button class=\"colab-df-quickchart\" onclick=\"quickchart('df-d960423f-b67e-47f7-b49d-e0a135bf6768')\"\n",
       "            title=\"Suggest charts\"\n",
       "            style=\"display:none;\">\n",
       "\n",
       "<svg xmlns=\"http://www.w3.org/2000/svg\" height=\"24px\"viewBox=\"0 0 24 24\"\n",
       "     width=\"24px\">\n",
       "    <g>\n",
       "        <path d=\"M19 3H5c-1.1 0-2 .9-2 2v14c0 1.1.9 2 2 2h14c1.1 0 2-.9 2-2V5c0-1.1-.9-2-2-2zM9 17H7v-7h2v7zm4 0h-2V7h2v10zm4 0h-2v-4h2v4z\"/>\n",
       "    </g>\n",
       "</svg>\n",
       "  </button>\n",
       "\n",
       "<style>\n",
       "  .colab-df-quickchart {\n",
       "      --bg-color: #E8F0FE;\n",
       "      --fill-color: #1967D2;\n",
       "      --hover-bg-color: #E2EBFA;\n",
       "      --hover-fill-color: #174EA6;\n",
       "      --disabled-fill-color: #AAA;\n",
       "      --disabled-bg-color: #DDD;\n",
       "  }\n",
       "\n",
       "  [theme=dark] .colab-df-quickchart {\n",
       "      --bg-color: #3B4455;\n",
       "      --fill-color: #D2E3FC;\n",
       "      --hover-bg-color: #434B5C;\n",
       "      --hover-fill-color: #FFFFFF;\n",
       "      --disabled-bg-color: #3B4455;\n",
       "      --disabled-fill-color: #666;\n",
       "  }\n",
       "\n",
       "  .colab-df-quickchart {\n",
       "    background-color: var(--bg-color);\n",
       "    border: none;\n",
       "    border-radius: 50%;\n",
       "    cursor: pointer;\n",
       "    display: none;\n",
       "    fill: var(--fill-color);\n",
       "    height: 32px;\n",
       "    padding: 0;\n",
       "    width: 32px;\n",
       "  }\n",
       "\n",
       "  .colab-df-quickchart:hover {\n",
       "    background-color: var(--hover-bg-color);\n",
       "    box-shadow: 0 1px 2px rgba(60, 64, 67, 0.3), 0 1px 3px 1px rgba(60, 64, 67, 0.15);\n",
       "    fill: var(--button-hover-fill-color);\n",
       "  }\n",
       "\n",
       "  .colab-df-quickchart-complete:disabled,\n",
       "  .colab-df-quickchart-complete:disabled:hover {\n",
       "    background-color: var(--disabled-bg-color);\n",
       "    fill: var(--disabled-fill-color);\n",
       "    box-shadow: none;\n",
       "  }\n",
       "\n",
       "  .colab-df-spinner {\n",
       "    border: 2px solid var(--fill-color);\n",
       "    border-color: transparent;\n",
       "    border-bottom-color: var(--fill-color);\n",
       "    animation:\n",
       "      spin 1s steps(1) infinite;\n",
       "  }\n",
       "\n",
       "  @keyframes spin {\n",
       "    0% {\n",
       "      border-color: transparent;\n",
       "      border-bottom-color: var(--fill-color);\n",
       "      border-left-color: var(--fill-color);\n",
       "    }\n",
       "    20% {\n",
       "      border-color: transparent;\n",
       "      border-left-color: var(--fill-color);\n",
       "      border-top-color: var(--fill-color);\n",
       "    }\n",
       "    30% {\n",
       "      border-color: transparent;\n",
       "      border-left-color: var(--fill-color);\n",
       "      border-top-color: var(--fill-color);\n",
       "      border-right-color: var(--fill-color);\n",
       "    }\n",
       "    40% {\n",
       "      border-color: transparent;\n",
       "      border-right-color: var(--fill-color);\n",
       "      border-top-color: var(--fill-color);\n",
       "    }\n",
       "    60% {\n",
       "      border-color: transparent;\n",
       "      border-right-color: var(--fill-color);\n",
       "    }\n",
       "    80% {\n",
       "      border-color: transparent;\n",
       "      border-right-color: var(--fill-color);\n",
       "      border-bottom-color: var(--fill-color);\n",
       "    }\n",
       "    90% {\n",
       "      border-color: transparent;\n",
       "      border-bottom-color: var(--fill-color);\n",
       "    }\n",
       "  }\n",
       "</style>\n",
       "\n",
       "  <script>\n",
       "    async function quickchart(key) {\n",
       "      const quickchartButtonEl =\n",
       "        document.querySelector('#' + key + ' button');\n",
       "      quickchartButtonEl.disabled = true;  // To prevent multiple clicks.\n",
       "      quickchartButtonEl.classList.add('colab-df-spinner');\n",
       "      try {\n",
       "        const charts = await google.colab.kernel.invokeFunction(\n",
       "            'suggestCharts', [key], {});\n",
       "      } catch (error) {\n",
       "        console.error('Error during call to suggestCharts:', error);\n",
       "      }\n",
       "      quickchartButtonEl.classList.remove('colab-df-spinner');\n",
       "      quickchartButtonEl.classList.add('colab-df-quickchart-complete');\n",
       "    }\n",
       "    (() => {\n",
       "      let quickchartButtonEl =\n",
       "        document.querySelector('#df-d960423f-b67e-47f7-b49d-e0a135bf6768 button');\n",
       "      quickchartButtonEl.style.display =\n",
       "        google.colab.kernel.accessAllowed ? 'block' : 'none';\n",
       "    })();\n",
       "  </script>\n",
       "</div>\n",
       "    </div>\n",
       "  </div>\n"
      ],
      "text/plain": [
       "          Date_hour  Totaal  Hour        Date  isweekday\n",
       "0     2023-01-01T00   111.0   0.0  2023-01-01          0\n",
       "1     2023-01-01T01   201.0   1.0  2023-01-01          0\n",
       "2     2023-01-01T02   170.0   2.0  2023-01-01          0\n",
       "3     2023-01-01T03   144.0   3.0  2023-01-01          0\n",
       "4     2023-01-01T04   155.0   4.0  2023-01-01          0\n",
       "...             ...     ...   ...         ...        ...\n",
       "4338  2023-06-30T19   465.0  19.0  2023-06-30          1\n",
       "4339  2023-06-30T20   325.0  20.0  2023-06-30          1\n",
       "4340  2023-06-30T21   260.0  21.0  2023-06-30          1\n",
       "4341  2023-06-30T22   239.0  22.0  2023-06-30          1\n",
       "4342  2023-06-30T23   208.0  23.0  2023-06-30          1\n",
       "\n",
       "[4343 rows x 5 columns]"
      ]
     },
     "execution_count": 23,
     "metadata": {},
     "output_type": "execute_result"
    }
   ],
   "source": [
    "from datetime import datetime\n",
    "def isweekday(date):\n",
    "    return datetime.fromisoformat(date).weekday() < 5\n",
    "\n",
    "train_data[\"Date\"] = train_data[\"Date_hour\"].str.split(\"T\", expand = True)[0]\n",
    "test_data[\"Date\"] = test_data[\"Date_hour\"].str.split(\"T\", expand = True)[0]\n",
    "\n",
    "train_data[\"isweekday\"] = [int(isweekday(i)) for i in train_data[\"Date\"]]\n",
    "test_data[\"isweekday\"] = [int(isweekday(i)) for i in test_data[\"Date\"]]\n",
    "train_data\n",
    "\n"
   ]
  },
  {
   "cell_type": "markdown",
   "metadata": {
    "id": "SQKStrAtHLVs"
   },
   "source": [
    "With this data added, we can process our data into X and y:"
   ]
  },
  {
   "cell_type": "code",
   "execution_count": 24,
   "metadata": {
    "colab": {
     "base_uri": "https://localhost:8080/"
    },
    "id": "LAhtjoCMDdlM",
    "outputId": "b339a997-fd11-4bab-ba2d-b54db16eb490"
   },
   "outputs": [
    {
     "data": {
      "text/plain": [
       "(torch.Size([180, 24, 25]), torch.Size([180]))"
      ]
     },
     "execution_count": 24,
     "metadata": {},
     "output_type": "execute_result"
    }
   ],
   "source": [
    "train_batches = generate_batches(torch.tensor(train_data[[\"isweekday\", \"Hour\", \"Totaal\"]].values.astype(np.float32)), seqlen = 24)\n",
    "one_hot_hour = torch.nn.functional.one_hot(train_batches[:, :, 1].long())\n",
    "train_batches = torch.cat([train_batches[:, :, [0, 2]], one_hot_hour], axis = 2)\n",
    "train_batches[:, :, 1] = train_batches[:, :, 1] / max_cyclists_train\n",
    "\n",
    "y_train = train_batches[:, 0, 0]\n",
    "X_train = train_batches[:, :, 1:]\n",
    "X_train.shape, y_train.shape"
   ]
  },
  {
   "cell_type": "code",
   "execution_count": 25,
   "metadata": {
    "colab": {
     "base_uri": "https://localhost:8080/"
    },
    "id": "BvtDFbMhDh4U",
    "outputId": "f760f976-d72f-4eed-d1f3-a8c38a878065"
   },
   "outputs": [
    {
     "data": {
      "text/plain": [
       "tensor([[0.0583, 1.0000, 0.0000, 0.0000, 0.0000, 0.0000, 0.0000, 0.0000, 0.0000,\n",
       "         0.0000, 0.0000, 0.0000, 0.0000, 0.0000, 0.0000, 0.0000, 0.0000, 0.0000,\n",
       "         0.0000, 0.0000, 0.0000, 0.0000, 0.0000, 0.0000, 0.0000],\n",
       "        [0.1056, 0.0000, 1.0000, 0.0000, 0.0000, 0.0000, 0.0000, 0.0000, 0.0000,\n",
       "         0.0000, 0.0000, 0.0000, 0.0000, 0.0000, 0.0000, 0.0000, 0.0000, 0.0000,\n",
       "         0.0000, 0.0000, 0.0000, 0.0000, 0.0000, 0.0000, 0.0000],\n",
       "        [0.0893, 0.0000, 0.0000, 1.0000, 0.0000, 0.0000, 0.0000, 0.0000, 0.0000,\n",
       "         0.0000, 0.0000, 0.0000, 0.0000, 0.0000, 0.0000, 0.0000, 0.0000, 0.0000,\n",
       "         0.0000, 0.0000, 0.0000, 0.0000, 0.0000, 0.0000, 0.0000],\n",
       "        [0.0757, 0.0000, 0.0000, 0.0000, 1.0000, 0.0000, 0.0000, 0.0000, 0.0000,\n",
       "         0.0000, 0.0000, 0.0000, 0.0000, 0.0000, 0.0000, 0.0000, 0.0000, 0.0000,\n",
       "         0.0000, 0.0000, 0.0000, 0.0000, 0.0000, 0.0000, 0.0000],\n",
       "        [0.0815, 0.0000, 0.0000, 0.0000, 0.0000, 1.0000, 0.0000, 0.0000, 0.0000,\n",
       "         0.0000, 0.0000, 0.0000, 0.0000, 0.0000, 0.0000, 0.0000, 0.0000, 0.0000,\n",
       "         0.0000, 0.0000, 0.0000, 0.0000, 0.0000, 0.0000, 0.0000],\n",
       "        [0.0736, 0.0000, 0.0000, 0.0000, 0.0000, 0.0000, 1.0000, 0.0000, 0.0000,\n",
       "         0.0000, 0.0000, 0.0000, 0.0000, 0.0000, 0.0000, 0.0000, 0.0000, 0.0000,\n",
       "         0.0000, 0.0000, 0.0000, 0.0000, 0.0000, 0.0000, 0.0000],\n",
       "        [0.0573, 0.0000, 0.0000, 0.0000, 0.0000, 0.0000, 0.0000, 1.0000, 0.0000,\n",
       "         0.0000, 0.0000, 0.0000, 0.0000, 0.0000, 0.0000, 0.0000, 0.0000, 0.0000,\n",
       "         0.0000, 0.0000, 0.0000, 0.0000, 0.0000, 0.0000, 0.0000],\n",
       "        [0.0394, 0.0000, 0.0000, 0.0000, 0.0000, 0.0000, 0.0000, 0.0000, 1.0000,\n",
       "         0.0000, 0.0000, 0.0000, 0.0000, 0.0000, 0.0000, 0.0000, 0.0000, 0.0000,\n",
       "         0.0000, 0.0000, 0.0000, 0.0000, 0.0000, 0.0000, 0.0000],\n",
       "        [0.0226, 0.0000, 0.0000, 0.0000, 0.0000, 0.0000, 0.0000, 0.0000, 0.0000,\n",
       "         1.0000, 0.0000, 0.0000, 0.0000, 0.0000, 0.0000, 0.0000, 0.0000, 0.0000,\n",
       "         0.0000, 0.0000, 0.0000, 0.0000, 0.0000, 0.0000, 0.0000],\n",
       "        [0.0221, 0.0000, 0.0000, 0.0000, 0.0000, 0.0000, 0.0000, 0.0000, 0.0000,\n",
       "         0.0000, 1.0000, 0.0000, 0.0000, 0.0000, 0.0000, 0.0000, 0.0000, 0.0000,\n",
       "         0.0000, 0.0000, 0.0000, 0.0000, 0.0000, 0.0000, 0.0000],\n",
       "        [0.0263, 0.0000, 0.0000, 0.0000, 0.0000, 0.0000, 0.0000, 0.0000, 0.0000,\n",
       "         0.0000, 0.0000, 1.0000, 0.0000, 0.0000, 0.0000, 0.0000, 0.0000, 0.0000,\n",
       "         0.0000, 0.0000, 0.0000, 0.0000, 0.0000, 0.0000, 0.0000],\n",
       "        [0.0399, 0.0000, 0.0000, 0.0000, 0.0000, 0.0000, 0.0000, 0.0000, 0.0000,\n",
       "         0.0000, 0.0000, 0.0000, 1.0000, 0.0000, 0.0000, 0.0000, 0.0000, 0.0000,\n",
       "         0.0000, 0.0000, 0.0000, 0.0000, 0.0000, 0.0000, 0.0000],\n",
       "        [0.0494, 0.0000, 0.0000, 0.0000, 0.0000, 0.0000, 0.0000, 0.0000, 0.0000,\n",
       "         0.0000, 0.0000, 0.0000, 0.0000, 1.0000, 0.0000, 0.0000, 0.0000, 0.0000,\n",
       "         0.0000, 0.0000, 0.0000, 0.0000, 0.0000, 0.0000, 0.0000],\n",
       "        [0.0594, 0.0000, 0.0000, 0.0000, 0.0000, 0.0000, 0.0000, 0.0000, 0.0000,\n",
       "         0.0000, 0.0000, 0.0000, 0.0000, 0.0000, 1.0000, 0.0000, 0.0000, 0.0000,\n",
       "         0.0000, 0.0000, 0.0000, 0.0000, 0.0000, 0.0000, 0.0000],\n",
       "        [0.0657, 0.0000, 0.0000, 0.0000, 0.0000, 0.0000, 0.0000, 0.0000, 0.0000,\n",
       "         0.0000, 0.0000, 0.0000, 0.0000, 0.0000, 0.0000, 1.0000, 0.0000, 0.0000,\n",
       "         0.0000, 0.0000, 0.0000, 0.0000, 0.0000, 0.0000, 0.0000],\n",
       "        [0.0909, 0.0000, 0.0000, 0.0000, 0.0000, 0.0000, 0.0000, 0.0000, 0.0000,\n",
       "         0.0000, 0.0000, 0.0000, 0.0000, 0.0000, 0.0000, 0.0000, 1.0000, 0.0000,\n",
       "         0.0000, 0.0000, 0.0000, 0.0000, 0.0000, 0.0000, 0.0000],\n",
       "        [0.0573, 0.0000, 0.0000, 0.0000, 0.0000, 0.0000, 0.0000, 0.0000, 0.0000,\n",
       "         0.0000, 0.0000, 0.0000, 0.0000, 0.0000, 0.0000, 0.0000, 0.0000, 1.0000,\n",
       "         0.0000, 0.0000, 0.0000, 0.0000, 0.0000, 0.0000, 0.0000],\n",
       "        [0.0525, 0.0000, 0.0000, 0.0000, 0.0000, 0.0000, 0.0000, 0.0000, 0.0000,\n",
       "         0.0000, 0.0000, 0.0000, 0.0000, 0.0000, 0.0000, 0.0000, 0.0000, 0.0000,\n",
       "         1.0000, 0.0000, 0.0000, 0.0000, 0.0000, 0.0000, 0.0000],\n",
       "        [0.0610, 0.0000, 0.0000, 0.0000, 0.0000, 0.0000, 0.0000, 0.0000, 0.0000,\n",
       "         0.0000, 0.0000, 0.0000, 0.0000, 0.0000, 0.0000, 0.0000, 0.0000, 0.0000,\n",
       "         0.0000, 1.0000, 0.0000, 0.0000, 0.0000, 0.0000, 0.0000],\n",
       "        [0.0352, 0.0000, 0.0000, 0.0000, 0.0000, 0.0000, 0.0000, 0.0000, 0.0000,\n",
       "         0.0000, 0.0000, 0.0000, 0.0000, 0.0000, 0.0000, 0.0000, 0.0000, 0.0000,\n",
       "         0.0000, 0.0000, 1.0000, 0.0000, 0.0000, 0.0000, 0.0000],\n",
       "        [0.0631, 0.0000, 0.0000, 0.0000, 0.0000, 0.0000, 0.0000, 0.0000, 0.0000,\n",
       "         0.0000, 0.0000, 0.0000, 0.0000, 0.0000, 0.0000, 0.0000, 0.0000, 0.0000,\n",
       "         0.0000, 0.0000, 0.0000, 1.0000, 0.0000, 0.0000, 0.0000],\n",
       "        [0.0431, 0.0000, 0.0000, 0.0000, 0.0000, 0.0000, 0.0000, 0.0000, 0.0000,\n",
       "         0.0000, 0.0000, 0.0000, 0.0000, 0.0000, 0.0000, 0.0000, 0.0000, 0.0000,\n",
       "         0.0000, 0.0000, 0.0000, 0.0000, 1.0000, 0.0000, 0.0000],\n",
       "        [0.0315, 0.0000, 0.0000, 0.0000, 0.0000, 0.0000, 0.0000, 0.0000, 0.0000,\n",
       "         0.0000, 0.0000, 0.0000, 0.0000, 0.0000, 0.0000, 0.0000, 0.0000, 0.0000,\n",
       "         0.0000, 0.0000, 0.0000, 0.0000, 0.0000, 1.0000, 0.0000],\n",
       "        [0.0152, 0.0000, 0.0000, 0.0000, 0.0000, 0.0000, 0.0000, 0.0000, 0.0000,\n",
       "         0.0000, 0.0000, 0.0000, 0.0000, 0.0000, 0.0000, 0.0000, 0.0000, 0.0000,\n",
       "         0.0000, 0.0000, 0.0000, 0.0000, 0.0000, 0.0000, 1.0000]])"
      ]
     },
     "execution_count": 25,
     "metadata": {},
     "output_type": "execute_result"
    }
   ],
   "source": [
    "X_train[0]"
   ]
  },
  {
   "cell_type": "markdown",
   "metadata": {
    "id": "ygrXoqTTYBO1"
   },
   "source": [
    "The same for test data:"
   ]
  },
  {
   "cell_type": "code",
   "execution_count": 26,
   "metadata": {
    "colab": {
     "base_uri": "https://localhost:8080/"
    },
    "id": "ORpj437EYCvk",
    "outputId": "513bccdd-b967-445e-9713-097049ef75e1"
   },
   "outputs": [
    {
     "data": {
      "text/plain": [
       "(torch.Size([30, 24, 25]), torch.Size([30]))"
      ]
     },
     "execution_count": 26,
     "metadata": {},
     "output_type": "execute_result"
    }
   ],
   "source": [
    "test_batches = generate_batches(torch.tensor(test_data[[\"isweekday\", \"Hour\", \"Totaal\"]].values.astype(np.float32)), seqlen = 24)\n",
    "one_hot_hour = torch.nn.functional.one_hot(test_batches[:, :, 1].long())\n",
    "test_batches = torch.cat([test_batches[:, :, [0, 2]], one_hot_hour], axis = 2)\n",
    "test_batches[:, :, 1] = test_batches[:, :, 1] / max_cyclists_train\n",
    "\n",
    "y_test = test_batches[:, 0, 0]\n",
    "X_test = test_batches[:, :, 1:]\n",
    "X_test.shape, y_test.shape"
   ]
  },
  {
   "cell_type": "markdown",
   "metadata": {
    "id": "0DBAGqj4ReEj"
   },
   "source": [
    "Examine if the shapes are conforming to your expectations as to what we expect it to be for timeseries classification. What does every dimension in X and y signify?"
   ]
  },
  {
   "cell_type": "code",
   "execution_count": 27,
   "metadata": {
    "id": "2DMgGIEGGc29"
   },
   "outputs": [],
   "source": [
    "train_dataset = torch.utils.data.TensorDataset(X_train, y_train)\n",
    "train_dataloader = torch.utils.data.DataLoader(train_dataset, batch_size = 8, shuffle = True)\n",
    "\n",
    "test_dataset = torch.utils.data.TensorDataset(X_test, y_test)\n",
    "test_dataloader = torch.utils.data.DataLoader(test_dataset, batch_size = 8, shuffle = True)"
   ]
  },
  {
   "cell_type": "markdown",
   "metadata": {
    "id": "L15DJ0eeHHpL"
   },
   "source": [
    "<div class=\"alert alert-success\">\n",
    "\n",
    "<b>EXERCISE:</b>\n",
    "<p> Implement a time series classification model by copying the code above and adapting it.\n",
    "\n",
    "Steps you need to take:\n",
    "- Change the RNN model so that it is adapted for many to one tasks\n",
    "- Change the loss function for binary classification\n",
    "- Implement a way to keep track of accuracies instead of only losses\n",
    "</p>\n",
    "\n",
    "</div>\n",
    "\n",
    "You should be able to obtain an accuracy of at least 85%."
   ]
  },
  {
   "cell_type": "code",
   "execution_count": 28,
   "metadata": {
    "id": "KBQaLX3xHvQ6"
   },
   "outputs": [],
   "source": [
    "class TimeseriesClassifier(nn.Module):\n",
    "    def __init__(self, input_dim = 25, hidden_dim = 64):\n",
    "        super().__init__()\n",
    "        self.gru = nn.GRU(input_size = input_dim, hidden_size = hidden_dim, batch_first = True)\n",
    "        self.output_head = nn.Linear(hidden_dim, 1)\n",
    "\n",
    "    def forward(self, x):\n",
    "        _, output = self.gru(x)\n",
    "        return self.output_head(output[0])[:, 0]"
   ]
  },
  {
   "cell_type": "code",
   "execution_count": 29,
   "metadata": {
    "colab": {
     "base_uri": "https://localhost:8080/"
    },
    "id": "bOhRw5MBIscM",
    "outputId": "f67b5741-a43c-4658-d25f-b4eb12a21a25"
   },
   "outputs": [
    {
     "name": "stdout",
     "output_type": "stream",
     "text": [
      "1 \t 0.6752666053564652 0.6771886199712753 0.6666666865348816\n",
      "2 \t 0.6652069972909015 0.6663485169410706 0.6666666865348816\n",
      "3 \t 0.654353053673454 0.6617025285959244 0.6666666865348816\n",
      "4 \t 0.6452314309451891 0.6590598225593567 0.6666666865348816\n",
      "5 \t 0.6383188133654387 0.6507890075445175 0.6666666865348816\n",
      "6 \t 0.6297372398169144 0.6417271643877029 0.6666666865348816\n",
      "7 \t 0.6188313416812731 0.6404898315668106 0.6666666865348816\n",
      "8 \t 0.6095927850059841 0.6305328160524368 0.6666666865348816\n",
      "9 \t 0.6041333506936613 0.6339604258537292 0.6666666865348816\n",
      "10 \t 0.6016608113827913 0.6177383437752724 0.6666666865348816\n",
      "11 \t 0.5977666520554087 0.634811669588089 0.6666666865348816\n",
      "12 \t 0.5855343264082203 0.6452866941690445 0.6666666865348816\n",
      "13 \t 0.5937953396983768 0.6181545183062553 0.6666666865348816\n",
      "14 \t 0.5873590046944825 0.6272962838411331 0.6666666865348816\n",
      "15 \t 0.5865203997363215 0.635385662317276 0.6666666865348816\n",
      "16 \t 0.5804488464542057 0.6460057199001312 0.6666666865348816\n",
      "17 \t 0.5897576005562492 0.6487800925970078 0.6666666865348816\n",
      "18 \t 0.5783488672712574 0.6166915521025658 0.6666666865348816\n",
      "19 \t 0.5825702211131221 0.6476758420467377 0.6666666865348816\n",
      "20 \t 0.5867900589238042 0.6451581120491028 0.6666666865348816\n",
      "21 \t 0.5866432125153749 0.6332925111055374 0.6666666865348816\n",
      "22 \t 0.5752884875173154 0.6339678466320038 0.6666666865348816\n",
      "23 \t 0.5840320263219916 0.633753314614296 0.6666666865348816\n",
      "24 \t 0.5767088480617689 0.6115426197648048 0.6666666865348816\n",
      "25 \t 0.5865060933258223 0.6215127483010292 0.6666666865348816\n",
      "26 \t 0.5744695106278295 0.6291996911168098 0.6666666865348816\n",
      "27 \t 0.5726547655851945 0.6093658432364464 0.6666666865348816\n",
      "28 \t 0.5749465240084607 0.6172535866498947 0.6666666865348816\n",
      "29 \t 0.5616454754186713 0.6356857717037201 0.6666666865348816\n",
      "30 \t 0.5696832615396251 0.6146945953369141 0.6666666865348816\n",
      "31 \t 0.5562510918016019 0.611468032002449 0.6666666865348816\n",
      "32 \t 0.5572452920934429 0.5983296856284142 0.6666666865348816\n",
      "33 \t 0.5487409350664719 0.6278326064348221 0.6666666865348816\n",
      "34 \t 0.541022640855416 0.6072412878274918 0.6666666865348816\n",
      "35 \t 0.521972133413605 0.6052975803613663 0.6666666865348816\n",
      "36 \t 0.5176352566998937 0.5951081141829491 0.6666666865348816\n",
      "37 \t 0.478967463840609 0.5692217350006104 0.6666666865348816\n",
      "38 \t 0.4382806990457618 0.5262422487139702 0.6666666865348816\n",
      "39 \t 0.4023209615893986 0.5098559632897377 0.6666666865348816\n",
      "40 \t 0.3787050065786942 0.48779091984033585 0.6666666865348816\n",
      "41 \t 0.34731241445178573 0.4706193283200264 0.7666666507720947\n",
      "42 \t 0.3261355482365774 0.48312488198280334 0.8333333134651184\n",
      "43 \t 0.3103611164766809 0.39939410984516144 0.8999999761581421\n",
      "44 \t 0.3042865609345229 0.3944136053323746 0.8333333134651184\n",
      "45 \t 0.3229821120267329 0.40689629316329956 0.800000011920929\n",
      "46 \t 0.2973448355560717 0.4431426078081131 0.800000011920929\n",
      "47 \t 0.28879104587046994 0.46730854362249374 0.800000011920929\n",
      "48 \t 0.28092882506873296 0.36697444319725037 0.800000011920929\n",
      "49 \t 0.27614301507887634 0.5404941439628601 0.699999988079071\n",
      "50 \t 0.2778042425280032 0.3278013258241117 0.800000011920929\n",
      "51 \t 0.26848173627386923 0.4635230749845505 0.699999988079071\n",
      "52 \t 0.29386357797066803 0.5288612842559814 0.699999988079071\n",
      "53 \t 0.27321515766822774 0.33872876688838005 0.800000011920929\n",
      "54 \t 0.2694524490962858 0.36524319648742676 0.8333333134651184\n",
      "55 \t 0.26751405923910765 0.32445191964507103 0.800000011920929\n",
      "56 \t 0.26683226535501686 0.45231564342975616 0.699999988079071\n",
      "57 \t 0.26935501627462066 0.3264055512845516 0.8333333134651184\n",
      "58 \t 0.25926887146804645 0.3527206927537918 0.8333333134651184\n",
      "59 \t 0.2529412497077947 0.3840966708958149 0.800000011920929\n",
      "60 \t 0.2666543863065865 0.32741445302963257 0.800000011920929\n",
      "61 \t 0.26138945992874063 0.36473848298192024 0.800000011920929\n",
      "62 \t 0.2604331060555642 0.3948322758078575 0.800000011920929\n",
      "63 \t 0.2693139434508655 0.3637382425367832 0.800000011920929\n",
      "64 \t 0.25776479320357676 0.3280116841197014 0.8333333134651184\n",
      "65 \t 0.252036665627004 0.34563664719462395 0.8333333134651184\n",
      "66 \t 0.25581137447253516 0.3316176310181618 0.800000011920929\n",
      "67 \t 0.2552490495145321 0.32154449820518494 0.800000011920929\n",
      "68 \t 0.2889399366331813 0.8432018905878067 0.3333333432674408\n",
      "69 \t 0.3731813479376876 0.37660062313079834 0.800000011920929\n",
      "70 \t 0.26329040375497675 0.33243507891893387 0.8333333134651184\n",
      "71 \t 0.2520087408306806 0.34536416083574295 0.8333333134651184\n",
      "72 \t 0.2518952251614436 0.3219422847032547 0.8333333134651184\n",
      "73 \t 0.2575136560379811 0.31776322796940804 0.8333333134651184\n",
      "74 \t 0.25975202331724373 0.32419632375240326 0.8333333134651184\n",
      "75 \t 0.2565265548941882 0.33593011274933815 0.8333333134651184\n",
      "76 \t 0.26537570569907193 0.39679642766714096 0.800000011920929\n",
      "77 \t 0.2550197449796226 0.3214552663266659 0.8333333134651184\n",
      "78 \t 0.24942796531578768 0.31440385803580284 0.8333333134651184\n",
      "79 \t 0.25762058713513875 0.31835756450891495 0.8333333134651184\n",
      "80 \t 0.25735591400576674 0.4102124199271202 0.7666666507720947\n",
      "81 \t 0.25247667843232985 0.2982015833258629 0.800000011920929\n",
      "82 \t 0.2536316902741142 0.31338020414114 0.800000011920929\n",
      "83 \t 0.2572410197361656 0.33243436366319656 0.8333333134651184\n",
      "84 \t 0.24869132786989212 0.3487139046192169 0.8333333134651184\n",
      "85 \t 0.2536825398185655 0.4773482717573643 0.6666666865348816\n",
      "86 \t 0.27887702733278275 0.4009416475892067 0.7666666507720947\n",
      "87 \t 0.2635963583446067 0.3495979644358158 0.8333333134651184\n",
      "88 \t 0.2536810283427653 0.3247500881552696 0.8333333134651184\n",
      "89 \t 0.25802903017029166 0.33960695564746857 0.8333333134651184\n",
      "90 \t 0.24866058649090322 0.3109636716544628 0.8333333134651184\n",
      "91 \t 0.26546128482922265 0.48590871691703796 0.699999988079071\n",
      "92 \t 0.2637001139962155 0.2980767637491226 0.8333333134651184\n",
      "93 \t 0.24698358865292824 0.2998819723725319 0.800000011920929\n",
      "94 \t 0.25519347741552023 0.3158327229321003 0.8333333134651184\n",
      "95 \t 0.25593364109163697 0.3106461241841316 0.8333333134651184\n",
      "96 \t 0.2529868700582048 0.29779183492064476 0.8333333134651184\n",
      "97 \t 0.26163956350849377 0.4111175313591957 0.7666666507720947\n",
      "98 \t 0.28360575437545776 0.4742504134774208 0.699999988079071\n",
      "99 \t 0.2542747589557067 0.30160651355981827 0.800000011920929\n",
      "100 \t 0.28614518548483436 0.5427966415882111 0.6666666865348816\n",
      "101 \t 0.2870209009346107 0.4255461096763611 0.7333333492279053\n",
      "102 \t 0.25672329690955253 0.3243357986211777 0.8666666746139526\n",
      "103 \t 0.2472291834976362 0.30935942381620407 0.8666666746139526\n",
      "104 \t 0.2523555795196444 0.29233821853995323 0.8333333134651184\n",
      "105 \t 0.2522009442681852 0.32533400133252144 0.8333333134651184\n",
      "106 \t 0.24924770837811672 0.3189317137002945 0.8333333134651184\n",
      "107 \t 0.25275213886862213 0.2819269858300686 0.800000011920929\n",
      "108 \t 0.24535722123539966 0.29753377474844456 0.800000011920929\n",
      "109 \t 0.24760273046305645 0.290830098092556 0.8333333134651184\n",
      "110 \t 0.25167899352052936 0.36610622331500053 0.800000011920929\n",
      "111 \t 0.25962107405876333 0.28905094787478447 0.8666666746139526\n",
      "112 \t 0.2443324282117512 0.3468617871403694 0.8666666746139526\n",
      "113 \t 0.26229325474401854 0.35703369602560997 0.8333333134651184\n",
      "114 \t 0.24969302279793698 0.284016877412796 0.8333333134651184\n",
      "115 \t 0.24062131005136864 0.34552960842847824 0.8666666746139526\n",
      "116 \t 0.2459900199395159 0.2995036914944649 0.8333333134651184\n",
      "117 \t 0.2378179139417151 0.38304339349269867 0.8666666746139526\n",
      "118 \t 0.24203757731162984 0.35056841373443604 0.8666666746139526\n",
      "119 \t 0.2375366887199166 0.2824585372582078 0.8333333134651184\n",
      "120 \t 0.23849122177647508 0.28975222259759903 0.8666666746139526\n",
      "121 \t 0.24008790561524423 0.42402850976213813 0.8666666746139526\n",
      "122 \t 0.2635587701958645 0.47116562724113464 0.699999988079071\n",
      "123 \t 0.2689196567820466 0.3793196491897106 0.800000011920929\n",
      "124 \t 0.25582611581067677 0.27599229477345943 0.8666666746139526\n",
      "125 \t 0.27350848492072977 0.5618866384029388 0.6666666865348816\n",
      "126 \t 0.2741777958429378 0.401057917624712 0.7666666507720947\n",
      "127 \t 0.2453483244323212 0.29969607666134834 0.8666666746139526\n",
      "128 \t 0.24170830862029738 0.2994717210531235 0.8666666746139526\n",
      "129 \t 0.25088158476611844 0.29516225680708885 0.8666666746139526\n",
      "130 \t 0.2369541074351772 0.29508403688669205 0.8333333134651184\n",
      "131 \t 0.24268798238557318 0.36352839320898056 0.8666666746139526\n",
      "132 \t 0.24082535705731614 0.29458321724087 0.8666666746139526\n",
      "133 \t 0.2503684216543384 0.37812358886003494 0.800000011920929\n",
      "134 \t 0.25243126304374763 0.3281298354268074 0.8333333134651184\n",
      "135 \t 0.23368113113405264 0.34550702944397926 0.8666666746139526\n",
      "136 \t 0.23887153196593988 0.2897959351539612 0.8666666746139526\n",
      "137 \t 0.2335735092992368 0.3516780436038971 0.8666666746139526\n",
      "138 \t 0.2313086900698102 0.30548810958862305 0.8666666746139526\n",
      "139 \t 0.23028669085191644 0.3109130673110485 0.8333333134651184\n",
      "140 \t 0.24928213542570238 0.3032732978463173 0.8666666746139526\n",
      "141 \t 0.2419251953960275 0.3157537207007408 0.8333333134651184\n",
      "142 \t 0.27842126884902624 0.42395228147506714 0.699999988079071\n",
      "143 \t 0.34152846524248953 0.6873113960027695 0.5333333611488342\n",
      "144 \t 0.27979934588074684 0.3782250303775072 0.800000011920929\n",
      "145 \t 0.24369650658058084 0.2807256281375885 0.8666666746139526\n",
      "146 \t 0.2467554964773033 0.29577311873435974 0.8333333134651184\n",
      "147 \t 0.25542153061732004 0.34131869673728943 0.8333333134651184\n",
      "148 \t 0.24362523521742094 0.27506620809435844 0.8666666746139526\n",
      "149 \t 0.23659984303800308 0.2826938293874264 0.8666666746139526\n",
      "150 \t 0.23501175629865864 0.2890255004167557 0.8666666746139526\n",
      "151 \t 0.23366818658035735 0.2990047410130501 0.8666666746139526\n",
      "152 \t 0.2450484471881519 0.2634839378297329 0.8666666746139526\n",
      "153 \t 0.23085756535115448 0.3705708794295788 0.8666666746139526\n",
      "154 \t 0.23855421344911598 0.2851055283099413 0.8666666746139526\n",
      "155 \t 0.23451436651141747 0.28486595302820206 0.8666666746139526\n",
      "156 \t 0.23560929191096322 0.276379881426692 0.8666666746139526\n",
      "157 \t 0.23598361379750396 0.4047067314386368 0.8666666746139526\n",
      "158 \t 0.23927536412425662 0.30824844539165497 0.8333333134651184\n",
      "159 \t 0.23685008157854495 0.2935908120125532 0.8666666746139526\n",
      "160 \t 0.22587702407137208 0.4585221712477505 0.8666666746139526\n",
      "161 \t 0.2329318379456906 0.3832385540008545 0.800000011920929\n",
      "162 \t 0.2727179822066556 0.39409358613193035 0.800000011920929\n",
      "163 \t 0.24696459880341654 0.3486839458346367 0.8666666746139526\n",
      "164 \t 0.23755474874506827 0.2780208196491003 0.8333333134651184\n",
      "165 \t 0.22373852943596634 0.3253394067287445 0.8666666746139526\n",
      "166 \t 0.23249626013895738 0.3220892958343029 0.8666666746139526\n",
      "167 \t 0.22671170028574442 0.2662886828184128 0.8666666746139526\n",
      "168 \t 0.22449536615496743 0.26994621753692627 0.8333333134651184\n",
      "169 \t 0.2526956657352655 0.28793224319815636 0.8666666746139526\n",
      "170 \t 0.24885781012151553 0.27413742057979107 0.8666666746139526\n",
      "171 \t 0.2539343176126156 0.33149657398462296 0.8333333134651184\n",
      "172 \t 0.24333027043663288 0.24924564454704523 0.8666666746139526\n",
      "173 \t 0.22627499570017276 0.26878636330366135 0.8666666746139526\n",
      "174 \t 0.22899735913328503 0.3906175848096609 0.8666666746139526\n",
      "175 \t 0.24459095558394556 0.40815578773617744 0.7666666507720947\n",
      "176 \t 0.2647006484153478 0.4019007533788681 0.7666666507720947\n",
      "177 \t 0.25585244660792145 0.2508492898195982 0.8666666746139526\n",
      "178 \t 0.23508761353466823 0.25165414810180664 0.8666666746139526\n",
      "179 \t 0.2420925941804181 0.3159501999616623 0.8333333134651184\n",
      "180 \t 0.2752078862293907 0.45472242310643196 0.8666666746139526\n",
      "181 \t 0.2839670796757159 0.5604701638221741 0.6666666865348816\n",
      "182 \t 0.2861003625591326 0.4804641008377075 0.699999988079071\n",
      "183 \t 0.2556914806305228 0.31879545748233795 0.8333333134651184\n",
      "184 \t 0.237914412241915 0.25923170894384384 0.8666666746139526\n",
      "185 \t 0.22848680465603652 0.2520397584885359 0.8666666746139526\n",
      "186 \t 0.2222273236889716 0.2568763308227062 0.8666666746139526\n",
      "187 \t 0.22198292191909708 0.44900280970614403 0.8666666746139526\n",
      "188 \t 0.22478596898524658 0.2582019083201885 0.8666666746139526\n",
      "189 \t 0.21754537802189589 0.3806119579821825 0.8666666746139526\n",
      "190 \t 0.22871831486649488 0.2599887363612652 0.8666666746139526\n",
      "191 \t 0.22268630402243655 0.4277076981961727 0.8666666746139526\n",
      "192 \t 0.22227503715649896 0.27943747490644455 0.8666666746139526\n",
      "193 \t 0.2348928067671216 0.3123083673417568 0.8333333134651184\n",
      "194 \t 0.24635926893223886 0.2865410093218088 0.8666666746139526\n",
      "195 \t 0.22829117658345596 0.2641208693385124 0.8666666746139526\n",
      "196 \t 0.22034962297133778 0.42666018288582563 0.8666666746139526\n",
      "197 \t 0.24551552959272396 0.2813545223325491 0.8666666746139526\n",
      "198 \t 0.21883373494948383 0.31369375716894865 0.8666666746139526\n",
      "199 \t 0.22812293874828712 0.24494806118309498 0.8666666746139526\n",
      "200 \t 0.22202542796730995 0.2455415464937687 0.8666666746139526\n",
      "201 \t 0.2182963369211749 0.3785263141617179 0.8666666746139526\n",
      "202 \t 0.23148401418660322 0.24344829842448235 0.8666666746139526\n",
      "203 \t 0.2341530619432097 0.2352912798523903 0.8999999761581421\n",
      "204 \t 0.21777280403868013 0.2503727460280061 0.8666666746139526\n",
      "205 \t 0.22973406946529512 0.32136987149715424 0.8666666746139526\n",
      "206 \t 0.2184575064836637 0.3242827579379082 0.8666666746139526\n",
      "207 \t 0.21484028434623842 0.27716606110334396 0.8666666746139526\n",
      "208 \t 0.22073423846260362 0.23540773894637823 0.8666666746139526\n",
      "209 \t 0.21385023467566655 0.5330108739435673 0.8999999761581421\n",
      "210 \t 0.27049889739440836 0.7309871464967728 0.6000000238418579\n",
      "211 \t 0.29509865647465316 0.5355387479066849 0.699999988079071\n",
      "212 \t 0.2626003752584043 0.362472016364336 0.8333333134651184\n",
      "213 \t 0.22729056939968598 0.5273069944232702 0.8666666746139526\n",
      "214 \t 0.26237264210763184 0.5496351569890976 0.6666666865348816\n",
      "215 \t 0.28542157197776047 0.5054063051939011 0.699999988079071\n",
      "216 \t 0.2522235713575197 0.22990183532238007 0.9333333373069763\n",
      "217 \t 0.22058764012004045 0.23483582586050034 0.9333333373069763\n",
      "218 \t 0.22703927820143494 0.22570952400565147 0.8666666746139526\n",
      "219 \t 0.2163191805391208 0.2656623460352421 0.8666666746139526\n",
      "220 \t 0.2275769151342304 0.21843312121927738 0.8666666746139526\n",
      "221 \t 0.2175273649070574 0.25403039157390594 0.8666666746139526\n",
      "222 \t 0.2172761332830819 0.33258701767772436 0.8666666746139526\n",
      "223 \t 0.23325153918046018 0.29323333129286766 0.8666666746139526\n",
      "224 \t 0.24421887941982434 0.2943868413567543 0.8666666746139526\n",
      "225 \t 0.2460503114954285 0.3388087674975395 0.8333333134651184\n",
      "226 \t 0.22669174943281256 0.32466917857527733 0.8666666746139526\n",
      "227 \t 0.2393680165886231 0.271397048200015 0.8666666746139526\n",
      "228 \t 0.22630052041748297 0.24769378826022148 0.8666666746139526\n",
      "229 \t 0.24842127866071204 0.4519779607653618 0.7666666507720947\n",
      "230 \t 0.25555998251935386 0.2325082654133439 0.8999999761581421\n",
      "231 \t 0.23645578211416368 0.22780565172433853 0.8666666746139526\n",
      "232 \t 0.23491640162208807 0.3360109478235245 0.8333333134651184\n",
      "233 \t 0.21955918746433503 0.271278353407979 0.8666666746139526\n",
      "234 \t 0.21749776228756199 0.23631164245307446 0.9333333373069763\n",
      "235 \t 0.22014904232776683 0.23552352003753185 0.8666666746139526\n",
      "236 \t 0.21651292474859435 0.2268404383212328 0.9333333373069763\n",
      "237 \t 0.21518100462044062 0.2656075172126293 0.8666666746139526\n",
      "238 \t 0.2191569362969502 0.20886327791959047 0.8666666746139526\n",
      "239 \t 0.20877883143965964 0.31388956494629383 0.8666666746139526\n",
      "240 \t 0.21584004648131036 0.24663999117910862 0.8666666746139526\n",
      "241 \t 0.2173157118908737 0.24133791029453278 0.8999999761581421\n",
      "242 \t 0.21693018378446932 0.25770905055105686 0.8666666746139526\n",
      "243 \t 0.22658568343309604 0.38115388713777065 0.8666666746139526\n",
      "244 \t 0.24221517718093388 0.4327421486377716 0.7666666507720947\n",
      "245 \t 0.22837294512630804 0.37937888503074646 0.8666666746139526\n",
      "246 \t 0.2694148082265873 0.4358682855963707 0.7666666507720947\n",
      "247 \t 0.26473761843922344 0.25431428849697113 0.8666666746139526\n",
      "248 \t 0.24811340746996197 0.22177091287449002 0.8666666746139526\n",
      "249 \t 0.2363908789727999 0.27807316184043884 0.8666666746139526\n",
      "250 \t 0.2097131578332704 0.4192633144557476 0.8999999761581421\n"
     ]
    }
   ],
   "source": [
    "N_EPOCHS = 250\n",
    "\n",
    "model = TimeseriesClassifier()\n",
    "\n",
    "loss_function = nn.BCEWithLogitsLoss()\n",
    "\n",
    "optimizer = torch.optim.Adam(model.parameters(), lr=0.0001) # SGD = stochastic gradient descent\n",
    "\n",
    "for i in range(1, N_EPOCHS + 1):\n",
    "    all_losses = []\n",
    "    model.train()\n",
    "    for batch in train_dataloader:\n",
    "        optimizer.zero_grad()\n",
    "        X_batch, y_batch = batch\n",
    "\n",
    "        y_hat_batch = model(X_batch)\n",
    "\n",
    "        loss = loss_function(y_hat_batch, y_batch) # Compute loss\n",
    "\n",
    "        loss.backward()   # Calculate gradients\n",
    "        optimizer.step()   # Update weights using defined optimizer\n",
    "\n",
    "        all_losses.append(loss.item())\n",
    "    train_loss = np.mean(all_losses)\n",
    "\n",
    "    predictions = []\n",
    "    true_labels = []\n",
    "    losses = []\n",
    "\n",
    "    with torch.no_grad():\n",
    "        model.eval()\n",
    "        for batch in test_dataloader:\n",
    "            X_batch, y_batch = batch\n",
    "\n",
    "            y_hat_batch = model(X_batch)\n",
    "\n",
    "            loss = loss_function(y_hat_batch, y_batch)\n",
    "\n",
    "            losses.append(loss.item())\n",
    "            predictions.append(y_hat_batch)\n",
    "            true_labels.append(y_batch)\n",
    "\n",
    "    predictions = torch.cat(predictions)\n",
    "    true_labels = torch.cat(true_labels)\n",
    "    accuracy = ((predictions > 0) == true_labels).sum() / len(true_labels)\n",
    "\n",
    "    print(i, '\\t', train_loss, np.mean(losses), accuracy.item())"
   ]
  },
  {
   "cell_type": "markdown",
   "metadata": {
    "id": "j_OAU_xKaRYy"
   },
   "source": [
    "Let's plot all the test data and see what the model still got wrong. In the following code. Green timeseries are weekdays and blue timeseries are weekends. The transparent ones are correctly predicted, whereas the dotted ones are predicted wrongly. (So a blue dotted line means a weekend predicted as being a weekday and vice-versa)."
   ]
  },
  {
   "cell_type": "code",
   "execution_count": 30,
   "metadata": {
    "colab": {
     "base_uri": "https://localhost:8080/",
     "height": 430
    },
    "id": "-OwVAqSuajPf",
    "outputId": "6672aae5-b830-4263-c0d9-2d93a4e7f94d"
   },
   "outputs": [
    {
     "data": {
      "image/png": "[encoded data removed]",
      "text/plain": [
       "<Figure size 640x480 with 1 Axes>"
      ]
     },
     "metadata": {},
     "output_type": "display_data"
    }
   ],
   "source": [
    "preds = (model(X_test) > 0).detach().int().numpy()\n",
    "trues = y_test.numpy()\n",
    "\n",
    "for i in range(len(X_test)):\n",
    "    plt.plot(np.arange(24), X_test[i, :, 0].numpy(),\n",
    "             color = [\"blue\", \"green\"][int(trues[i])],\n",
    "             ls = [\":\", \"-\"][int(trues[i] == preds[i])],\n",
    "             alpha = [1, 0.1][int(trues[i] == preds[i])],\n",
    "            )"
   ]
  },
  {
   "cell_type": "code",
   "execution_count": 30,
   "metadata": {
    "id": "vQXDAGoUZGXh"
   },
   "outputs": [],
   "source": []
  }
 ],
 "metadata": {
  "colab": {
   "include_colab_link": true,
   "provenance": []
  },
  "kernelspec": {
   "display_name": "py12",
   "language": "python",
   "name": "python3"
  },
  "language_info": {
   "codemirror_mode": {
    "name": "ipython",
    "version": 3
   },
   "file_extension": ".py",
   "mimetype": "text/x-python",
   "name": "python",
   "nbconvert_exporter": "python",
   "pygments_lexer": "ipython3",
   "version": "undefined.undefined.undefined"
  },
  "orig_nbformat": 4
 },
 "nbformat": 4,
 "nbformat_minor": 0
}
